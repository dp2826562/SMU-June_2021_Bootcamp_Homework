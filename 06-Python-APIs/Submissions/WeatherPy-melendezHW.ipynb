{
 "cells": [
  {
   "cell_type": "markdown",
   "metadata": {},
   "source": [
    "# WeatherPy\n",
    "----\n",
    "\n",
    "#### Note\n",
    "* Instructions have been included for each segment. You do not have to follow them exactly, but they are included to help you think through the steps."
   ]
  },
  {
   "cell_type": "code",
   "execution_count": 1,
   "metadata": {
    "scrolled": true
   },
   "outputs": [],
   "source": [
    "# Dependencies and Setup\n",
    "import matplotlib.pyplot as plt\n",
    "import pandas as pd\n",
    "import numpy as np\n",
    "import requests\n",
    "import time\n",
    "from scipy.stats import linregress\n",
    "\n",
    "\n",
    "# Import API key\n",
    "from api_keys import weather_api_key, g_key\n",
    "\n",
    "\n",
    "# Incorporated citipy to determine city based on latitude and longitude\n",
    "from citipy import citipy\n",
    "\n",
    "\n",
    "# Output File (CSV)\n",
    "output_data_file = \"../output_data/cities_melendez.csv\"\n",
    "\n",
    "\n",
    "# Range of latitudes and longitudes\n",
    "lat_range = (-90, 90)\n",
    "lng_range = (-180, 180)\n"
   ]
  },
  {
   "cell_type": "code",
   "execution_count": 2,
   "metadata": {},
   "outputs": [
    {
     "data": {
      "text/plain": [
       "621"
      ]
     },
     "execution_count": 2,
     "metadata": {},
     "output_type": "execute_result"
    }
   ],
   "source": [
    "# List for holding lat_lngs and cities\n",
    "lat_lngs = []\n",
    "cities = []\n",
    "\n",
    "# Create a set of random lat and lng combinations\n",
    "lats = np.random.uniform(lat_range[0], lat_range[1], size=1500)\n",
    "lngs = np.random.uniform(lng_range[0], lng_range[1], size=1500)\n",
    "lat_lngs = zip(lats, lngs)# Identify nearest city for each lat, lng combination\n",
    "\n",
    "\n",
    "for lat_lng in lat_lngs:\n",
    "    city = citipy.nearest_city(lat_lng[0], lat_lng[1]).city_name    # If the city is unique, then add it to a our cities list\n",
    "    if city not in cities:\n",
    "        cities.append(city)\n",
    "        \n",
    "        \n",
    "# Print the city count to confirm sufficient count\n",
    "len(cities)\n"
   ]
  },
  {
   "cell_type": "markdown",
   "metadata": {},
   "source": [
    "## Generate Cities List"
   ]
  },
  {
   "cell_type": "code",
   "execution_count": null,
   "metadata": {},
   "outputs": [],
   "source": []
  },
  {
   "cell_type": "markdown",
   "metadata": {},
   "source": [
    "### Perform API Calls\n",
    "* Perform a weather check on each city using a series of successive API calls.\n",
    "* Include a print log of each city as it'sbeing processed (with the city number and city name).\n"
   ]
  },
  {
   "cell_type": "code",
   "execution_count": 3,
   "metadata": {
    "scrolled": true
   },
   "outputs": [
    {
     "data": {
      "text/plain": [
       "['vao', 'punta arenas', 'norman wells', 'kenai', 'belushya guba']"
      ]
     },
     "execution_count": 3,
     "metadata": {},
     "output_type": "execute_result"
    }
   ],
   "source": [
    "cities[0:5]"
   ]
  },
  {
   "cell_type": "code",
   "execution_count": 4,
   "metadata": {},
   "outputs": [
    {
     "data": {
      "text/plain": [
       "[-79.48514589203461, -79.99125884691576]"
      ]
     },
     "execution_count": 4,
     "metadata": {},
     "output_type": "execute_result"
    }
   ],
   "source": [
    "list(lat_lng)"
   ]
  },
  {
   "cell_type": "code",
   "execution_count": 5,
   "metadata": {},
   "outputs": [],
   "source": [
    "# for lat_lng in lat_lngs:\n",
    "#     print(lat_lng)"
   ]
  },
  {
   "cell_type": "code",
   "execution_count": 6,
   "metadata": {},
   "outputs": [
    {
     "data": {
      "text/plain": [
       "'http://api.openweathermap.org/data/2.5/weather?appid=2b6be0a3373ddc129ded8e4435cd8eae&units=imperial&q='"
      ]
     },
     "execution_count": 6,
     "metadata": {},
     "output_type": "execute_result"
    }
   ],
   "source": [
    "# Save config information.\n",
    "url = \"http://api.openweathermap.org/data/2.5/weather?\"\n",
    "units = \"imperial\"\n",
    "\n",
    "# Build partial query URL\n",
    "query_url = f\"{url}appid={weather_api_key}&units={units}&q=\"\n",
    "query_url"
   ]
  },
  {
   "cell_type": "code",
   "execution_count": 7,
   "metadata": {},
   "outputs": [
    {
     "name": "stdout",
     "output_type": "stream",
     "text": [
      "vao\n",
      "punta arenas\n",
      "norman wells\n",
      "kenai\n",
      "belushya guba\n",
      "hilo\n",
      "villazon\n",
      "port alfred\n",
      "mount isa\n",
      "busselton\n",
      "indramayu\n",
      "mataura\n",
      "bredasdorp\n",
      "yukhnov\n",
      "cape town\n",
      "felsberg\n",
      "tabou\n",
      "bluff\n",
      "donskoye\n",
      "dikson\n",
      "saint-philippe\n",
      "saldanha\n",
      "jamestown\n",
      "trebnje\n",
      "hobart\n",
      "miri\n",
      "pisco\n",
      "illoqqortoormiut\n",
      "hithadhoo\n",
      "baza\n",
      "rikitea\n",
      "namibe\n",
      "pokhara\n",
      "eirunepe\n",
      "ushuaia\n",
      "port elizabeth\n",
      "teguldet\n",
      "sorland\n",
      "desaguadero\n",
      "baykit\n",
      "prince rupert\n",
      "barrow\n",
      "nanortalik\n",
      "kapit\n",
      "porto novo\n",
      "airai\n",
      "velsk\n",
      "boma\n",
      "elko\n",
      "salinas\n",
      "minab\n",
      "chuy\n",
      "hermanus\n",
      "lebu\n",
      "saint anthony\n",
      "tuktoyaktuk\n",
      "ostrovnoy\n",
      "waddan\n",
      "tsihombe\n",
      "cap malheureux\n",
      "kaitangata\n",
      "thompson\n",
      "upernavik\n",
      "kasempa\n",
      "butaritari\n",
      "pattani\n",
      "khrebtovaya\n",
      "biak\n",
      "puerto ayora\n",
      "georgetown\n",
      "lompoc\n",
      "muros\n",
      "zaragoza\n",
      "taolanaro\n",
      "coquimbo\n",
      "saint george\n",
      "dingle\n",
      "sentyabrskiy\n",
      "albany\n",
      "qaanaaq\n",
      "salalah\n",
      "vaini\n",
      "sakakah\n",
      "avarua\n",
      "magdiwang\n",
      "chakia\n",
      "boa viagem\n",
      "khatanga\n",
      "torbay\n",
      "hay river\n",
      "richards bay\n",
      "gboko\n",
      "general roca\n",
      "kuito\n",
      "tasiilaq\n",
      "thai binh\n",
      "eureka\n",
      "zhigalovo\n",
      "laguna\n",
      "atuona\n",
      "sinnamary\n",
      "vanimo\n",
      "oriximina\n",
      "satitoa\n",
      "bambanglipuro\n",
      "cayenne\n",
      "anar darreh\n",
      "port lincoln\n",
      "carnarvon\n",
      "pevek\n",
      "sterling\n",
      "kapaa\n",
      "matara\n",
      "katsuura\n",
      "kahului\n",
      "villa rica\n",
      "grand river south east\n",
      "urusha\n",
      "saint-pierre\n",
      "husavik\n",
      "chikoy\n",
      "rawson\n",
      "porto belo\n",
      "liverpool\n",
      "harseni\n",
      "wanaka\n",
      "najran\n",
      "ngukurr\n",
      "yellowknife\n",
      "port-gentil\n",
      "burnie\n",
      "grand gaube\n",
      "tiksi\n",
      "egvekinot\n",
      "siderno\n",
      "maloshuyka\n",
      "ruidoso\n",
      "ponta do sol\n",
      "rolim de moura\n",
      "kandrian\n",
      "tautira\n",
      "puerto escondido\n",
      "macau\n",
      "barisal\n",
      "saleaula\n",
      "longlac\n",
      "cherskiy\n",
      "amderma\n",
      "tuscaloosa\n",
      "nikolskoye\n",
      "lakes entrance\n",
      "palmer\n",
      "bam\n",
      "ponta delgada\n",
      "esperance\n",
      "manuk mangkaw\n",
      "tilichiki\n",
      "conde\n",
      "hasaki\n",
      "sitka\n",
      "requena\n",
      "mahebourg\n",
      "east london\n",
      "isangel\n",
      "provideniya\n",
      "athboy\n",
      "tiznit\n",
      "wanning\n",
      "college\n",
      "sioux lookout\n",
      "pasighat\n",
      "lorengau\n",
      "liepaja\n",
      "mao\n",
      "quatre cocos\n",
      "fare\n",
      "susanville\n",
      "boende\n",
      "lagoa\n",
      "panalingaan\n",
      "tromso\n",
      "hihifo\n",
      "phonhong\n",
      "praia\n",
      "saskylakh\n",
      "asasa\n",
      "bouna\n",
      "hoquiam\n",
      "ninghai\n",
      "san ramon\n",
      "lolua\n",
      "carsamba\n",
      "camacha\n",
      "ahipara\n",
      "bethel\n",
      "great bend\n",
      "eyl\n",
      "bundaberg\n",
      "jutai\n",
      "mys shmidta\n",
      "seoul\n",
      "bilma\n",
      "san andres\n",
      "fortuna\n",
      "hofn\n",
      "kidal\n",
      "laiyang\n",
      "haibowan\n",
      "vigrestad\n",
      "constitucion\n",
      "klaksvik\n",
      "cozumel\n",
      "jalu\n",
      "victoria\n",
      "iqaluit\n",
      "maryborough\n",
      "geraldton\n",
      "ca mau\n",
      "talnakh\n",
      "chokurdakh\n",
      "marzuq\n",
      "mahibadhoo\n",
      "soc trang\n",
      "grindavik\n",
      "samana\n",
      "arraial do cabo\n",
      "attawapiskat\n",
      "karratha\n",
      "divnomorskoye\n",
      "batasan\n",
      "mar del plata\n",
      "dawei\n",
      "camacupa\n",
      "noumea\n",
      "new norfolk\n",
      "beloha\n",
      "yaan\n",
      "bengkulu\n",
      "ribeira grande\n",
      "samarai\n",
      "kyra\n",
      "alice springs\n",
      "ariquemes\n",
      "bathsheba\n",
      "den helder\n",
      "grand-santi\n",
      "waipawa\n",
      "kroya\n",
      "green river\n",
      "truth or consequences\n",
      "avera\n",
      "rosetta\n",
      "pangody\n",
      "gao\n",
      "clyde river\n",
      "chimbote\n",
      "tahta\n",
      "umzimvubu\n",
      "bokspits\n",
      "tunduru\n",
      "beringen\n",
      "luderitz\n",
      "vanderhoof\n",
      "igarapava\n",
      "bonavista\n",
      "bambous virieux\n",
      "los llanos de aridane\n",
      "russell\n",
      "zhuanghe\n",
      "taoudenni\n",
      "hudson bay\n",
      "kavieng\n",
      "bonthe\n",
      "el balyana\n",
      "lerwick\n",
      "bulalacao\n",
      "ekhabi\n",
      "deputatskiy\n",
      "linfen\n",
      "tharrawaddy\n",
      "ambon\n",
      "miramar\n",
      "longyearbyen\n",
      "antananarivo\n",
      "marquette\n",
      "karlskrona\n",
      "ternate\n",
      "chihuahua\n",
      "chardara\n",
      "rio gallegos\n",
      "boden\n",
      "uberlandia\n",
      "riverton\n",
      "adamovka\n",
      "bud\n",
      "kieta\n",
      "nizhneyansk\n",
      "lukovetskiy\n",
      "tamale\n",
      "umm kaddadah\n",
      "campo gobierno\n",
      "sobolevo\n",
      "jaque\n",
      "belomorsk\n",
      "aljezur\n",
      "roald\n",
      "funtua\n",
      "huarmey\n",
      "houma\n",
      "ituni\n",
      "praia da vitoria\n",
      "ust-nera\n",
      "nyurba\n",
      "dalby\n",
      "hualmay\n",
      "kruisfontein\n",
      "zhigansk\n",
      "champerico\n",
      "mayo\n",
      "necochea\n",
      "kayerkan\n",
      "la uribe\n",
      "barentsburg\n",
      "koslan\n",
      "chabahar\n",
      "houston\n",
      "barcelos\n",
      "kodiak\n",
      "gorno-chuyskiy\n",
      "paragominas\n",
      "leh\n",
      "winnemucca\n",
      "vestmanna\n",
      "talcahuano\n",
      "honningsvag\n",
      "yulara\n",
      "merrill\n",
      "gedo\n",
      "olafsvik\n",
      "kamenka\n",
      "saint-georges\n",
      "talara\n",
      "mataram\n",
      "agropoli\n",
      "aguimes\n",
      "harper\n",
      "calamar\n",
      "leningradskiy\n",
      "vinh\n",
      "qaqortoq\n",
      "muroto\n",
      "ouadda\n",
      "karamea\n",
      "hailey\n",
      "novikovo\n",
      "nacunday\n",
      "sur\n",
      "poronaysk\n",
      "tual\n",
      "marawi\n",
      "fukue\n",
      "la ciotat\n",
      "gizo\n",
      "higuey\n",
      "gryazovets\n",
      "san juan del sur\n",
      "lexington\n",
      "braganca\n",
      "birao\n",
      "srednekolymsk\n",
      "payson\n",
      "muscat\n",
      "acari\n",
      "zhucheng\n",
      "madaripur\n",
      "chicama\n",
      "barra do bugres\n",
      "acapulco\n",
      "jieshi\n",
      "inuvik\n",
      "terrace bay\n",
      "tanout\n",
      "sistranda\n",
      "chumikan\n",
      "kamloops\n",
      "kamina\n",
      "bubaque\n",
      "puqi\n",
      "teneguiban\n",
      "ballina\n",
      "pangnirtung\n",
      "college place\n",
      "terrell\n",
      "asau\n",
      "wanxian\n",
      "gazni\n",
      "gazanjyk\n",
      "byron bay\n",
      "balkanabat\n",
      "makakilo city\n",
      "ketchikan\n",
      "port hedland\n",
      "tres arroyos\n",
      "kill\n",
      "yeppoon\n",
      "ancud\n",
      "meulaboh\n",
      "bolungarvik\n",
      "kang\n",
      "aklavik\n",
      "armacao dos buzios\n",
      "manacapuru\n",
      "williams lake\n",
      "nelson bay\n",
      "manono\n",
      "kamenskoye\n",
      "fallon\n",
      "jiwani\n",
      "katherine\n",
      "loudi\n",
      "kununurra\n",
      "boyolangu\n",
      "roma\n",
      "uk\n",
      "fevralsk\n",
      "coihaique\n",
      "taltal\n",
      "castro\n",
      "tessalit\n",
      "emerald\n",
      "jinka\n",
      "mulchen\n",
      "vardo\n",
      "antsohihy\n",
      "cockburn town\n",
      "tingo maria\n",
      "alvaraes\n",
      "porto de moz\n",
      "borovoy\n",
      "copiapo\n",
      "dongying\n",
      "lavrentiya\n",
      "sao joao da barra\n",
      "narsaq\n",
      "batagay-alyta\n",
      "whitehorse\n",
      "alakurtti\n",
      "kindersley\n",
      "axim\n",
      "gardner\n",
      "viloco\n",
      "kibala\n",
      "maturin\n",
      "luganville\n",
      "buariki\n",
      "faanui\n",
      "healdsburg\n",
      "snezhnogorsk\n",
      "faya\n",
      "columbus\n",
      "hit\n",
      "wadi maliz\n",
      "jesup\n",
      "banda aceh\n",
      "togur\n",
      "lewistown\n",
      "sao filipe\n",
      "kavaratti\n",
      "flin flon\n",
      "xichang\n",
      "remerschen\n",
      "racale\n",
      "urdzhar\n",
      "tungor\n",
      "port augusta\n",
      "paratinga\n",
      "halalo\n",
      "genhe\n",
      "dondo\n",
      "kaihua\n",
      "price\n",
      "morehead\n",
      "dekoa\n",
      "maniitsoq\n",
      "rocha\n",
      "arlit\n",
      "kaya\n",
      "korla\n",
      "zadar\n",
      "baiyin\n",
      "grajau\n",
      "auki\n",
      "hobyo\n",
      "ginir\n",
      "eskasem\n",
      "tanete\n",
      "touros\n",
      "vila franca do campo\n",
      "volkach\n",
      "abu samrah\n",
      "muzhi\n",
      "san patricio\n",
      "pochutla\n",
      "timaru\n",
      "uyemskiy\n",
      "lubben\n",
      "puerto quijarro\n",
      "cape canaveral\n",
      "evensk\n",
      "athabasca\n",
      "ilulissat\n",
      "severo-kurilsk\n",
      "jupiter\n",
      "pasni\n",
      "novyy urengoy\n",
      "nizwa\n",
      "aloleng\n",
      "cidreira\n",
      "high prairie\n",
      "vredendal\n",
      "bagdarin\n",
      "hamilton\n",
      "arandis\n",
      "yasnyy\n",
      "toplita\n",
      "moose factory\n",
      "rungata\n",
      "awbari\n",
      "abalak\n",
      "progreso\n",
      "naron\n",
      "tuatapere\n",
      "kailua\n",
      "paamiut\n",
      "la ronge\n",
      "bhag\n",
      "tlahualilo\n",
      "tabiauea\n",
      "harnosand\n",
      "havre-saint-pierre\n",
      "adrar\n",
      "wajir\n",
      "gusau\n",
      "solnechnyy\n",
      "stepnyak\n",
      "milkovo\n",
      "santa isabel do rio negro\n",
      "atambua\n",
      "labuhan\n",
      "celendin\n",
      "perdoes\n",
      "guerrero negro\n",
      "carnot\n",
      "lobez\n",
      "prachuap khiri khan\n",
      "coelho neto\n",
      "booue\n",
      "luau\n",
      "cabo san lucas\n",
      "sopot\n",
      "codrington\n",
      "le port\n",
      "naze\n",
      "komsomolskiy\n",
      "villarrica\n",
      "gawler\n",
      "raudeberg\n",
      "mazatlan\n",
      "rabo de peixe\n",
      "odweyne\n",
      "yerbogachen\n",
      "tura\n",
      "ambilobe\n",
      "centralia\n",
      "luang prabang\n",
      "akdagmadeni\n",
      "destin\n",
      "poum\n",
      "san cristobal\n",
      "fort payne\n",
      "karapyshi\n",
      "sri aman\n",
      "bridgetown\n",
      "lososina\n",
      "tazovskiy\n",
      "bairiki\n",
      "ishinomaki\n",
      "labuan\n",
      "palabuhanratu\n",
      "methoni\n",
      "batagay\n",
      "pirovskoye\n",
      "louisbourg\n",
      "papasquiaro\n",
      "gasa\n",
      "urumqi\n",
      "miraflores\n",
      "aswan\n",
      "ayan\n",
      "maceio\n",
      "vestmannaeyjar\n",
      "borogontsy\n",
      "astoria\n",
      "sotik\n",
      "belmonte\n",
      "teapa\n",
      "catuday\n",
      "teya\n",
      "brae\n",
      "bargal\n",
      "bereda\n",
      "caraubas\n",
      "turukhansk\n",
      "kemijarvi\n",
      "sorong\n",
      "beroroha\n",
      "grootfontein\n",
      "demba\n",
      "lazaro cardenas\n",
      "ibra\n",
      "bangolo\n"
     ]
    }
   ],
   "source": [
    "# # Get latitude and temperature for cities\n",
    "# cities = []\n",
    "\n",
    "# set up lists to hold reponse info\n",
    "lats = []\n",
    "longs = []\n",
    "temperature = []\n",
    "windspeed = []\n",
    "pressures = []\n",
    "humiditys = []\n",
    "countries = []\n",
    "dates = []\n",
    "\n",
    "# Loop through the list of cities and perform a request for data on each\n",
    "for city in cities:\n",
    "    response = requests.get(query_url + city)\n",
    "    \n",
    "    if response.status_code == 200:    \n",
    "        weathercity_data = response.json()\n",
    "        \n",
    "        #print(weathercity_data)\n",
    "        \n",
    "        try: \n",
    "            # extracting all data points \n",
    "            lat = weathercity_data['coord']['lat']\n",
    "            lng = weathercity_data['coord']['lon']\n",
    "            temperatures = weathercity_data['main']['temp']\n",
    "            pressure = weathercity_data['main']['pressure']\n",
    "            humidity = weathercity_data['main']['humidity']\n",
    "            wind = weathercity_data['wind']['speed']\n",
    "            country = weathercity_data[\"sys\"][\"country\"]\n",
    "            date = weathercity_data[\"dt\"]\n",
    "            \n",
    "            \n",
    "            lats.append(lat)\n",
    "            longs.append(lng)\n",
    "            temperature.append(temperatures)\n",
    "            pressures.append(pressure)\n",
    "            humiditys.append(humidity)\n",
    "            windspeed.append(wind)\n",
    "            countries.append(country)\n",
    "            dates.append(date)\n",
    "    \n",
    "        except: \n",
    "            lats.append(np.nan)\n",
    "            longs.append(np.nan)\n",
    "            temperature.append(np.nan)\n",
    "            windspeed.append(np.nan)\n",
    "            pressures.append(np.nan)\n",
    "            humiditys.append(np.nan)\n",
    "            countries.append(\"\")\n",
    "            dates.append(np.nan)\n",
    "            \n",
    "    else:\n",
    "        lats.append(np.nan)\n",
    "        longs.append(np.nan)\n",
    "        temperature.append(np.nan)\n",
    "        windspeed.append(np.nan)\n",
    "        pressures.append(np.nan)\n",
    "        humiditys.append(np.nan)\n",
    "        countries.append(\"\")\n",
    "        dates.append(np.nan)\n",
    "        \n",
    "    print(city)\n",
    "    time.sleep(1)"
   ]
  },
  {
   "cell_type": "code",
   "execution_count": 8,
   "metadata": {},
   "outputs": [],
   "source": [
    "#weathercity_data[\"sys\"][\"country\"]"
   ]
  },
  {
   "cell_type": "code",
   "execution_count": 9,
   "metadata": {},
   "outputs": [],
   "source": [
    "#weathercity_data[\"dt\"]"
   ]
  },
  {
   "cell_type": "code",
   "execution_count": null,
   "metadata": {},
   "outputs": [],
   "source": []
  },
  {
   "cell_type": "markdown",
   "metadata": {},
   "source": [
    "### Convert Raw Data to DataFrame\n",
    "* Export the city data into a .csv.\n",
    "* Display the DataFrame"
   ]
  },
  {
   "cell_type": "code",
   "execution_count": 10,
   "metadata": {},
   "outputs": [
    {
     "data": {
      "text/html": [
       "<div>\n",
       "<style scoped>\n",
       "    .dataframe tbody tr th:only-of-type {\n",
       "        vertical-align: middle;\n",
       "    }\n",
       "\n",
       "    .dataframe tbody tr th {\n",
       "        vertical-align: top;\n",
       "    }\n",
       "\n",
       "    .dataframe thead th {\n",
       "        text-align: right;\n",
       "    }\n",
       "</style>\n",
       "<table border=\"1\" class=\"dataframe\">\n",
       "  <thead>\n",
       "    <tr style=\"text-align: right;\">\n",
       "      <th></th>\n",
       "      <th>City</th>\n",
       "      <th>Country</th>\n",
       "      <th>Latitude</th>\n",
       "      <th>Longitude</th>\n",
       "      <th>Temp</th>\n",
       "      <th>Wind</th>\n",
       "      <th>Pressure</th>\n",
       "      <th>Humidity</th>\n",
       "      <th>Date</th>\n",
       "    </tr>\n",
       "  </thead>\n",
       "  <tbody>\n",
       "    <tr>\n",
       "      <th>0</th>\n",
       "      <td>vao</td>\n",
       "      <td>NC</td>\n",
       "      <td>-22.6667</td>\n",
       "      <td>167.4833</td>\n",
       "      <td>69.48</td>\n",
       "      <td>12.26</td>\n",
       "      <td>1014.0</td>\n",
       "      <td>80.0</td>\n",
       "      <td>1.630935e+09</td>\n",
       "    </tr>\n",
       "    <tr>\n",
       "      <th>1</th>\n",
       "      <td>punta arenas</td>\n",
       "      <td>CL</td>\n",
       "      <td>-53.1500</td>\n",
       "      <td>-70.9167</td>\n",
       "      <td>42.91</td>\n",
       "      <td>8.05</td>\n",
       "      <td>1016.0</td>\n",
       "      <td>81.0</td>\n",
       "      <td>1.630936e+09</td>\n",
       "    </tr>\n",
       "    <tr>\n",
       "      <th>2</th>\n",
       "      <td>norman wells</td>\n",
       "      <td>CA</td>\n",
       "      <td>65.2820</td>\n",
       "      <td>-126.8329</td>\n",
       "      <td>44.64</td>\n",
       "      <td>4.61</td>\n",
       "      <td>1000.0</td>\n",
       "      <td>100.0</td>\n",
       "      <td>1.630936e+09</td>\n",
       "    </tr>\n",
       "    <tr>\n",
       "      <th>3</th>\n",
       "      <td>kenai</td>\n",
       "      <td>US</td>\n",
       "      <td>60.5544</td>\n",
       "      <td>-151.2583</td>\n",
       "      <td>48.33</td>\n",
       "      <td>3.44</td>\n",
       "      <td>1008.0</td>\n",
       "      <td>89.0</td>\n",
       "      <td>1.630936e+09</td>\n",
       "    </tr>\n",
       "    <tr>\n",
       "      <th>4</th>\n",
       "      <td>belushya guba</td>\n",
       "      <td></td>\n",
       "      <td>NaN</td>\n",
       "      <td>NaN</td>\n",
       "      <td>NaN</td>\n",
       "      <td>NaN</td>\n",
       "      <td>NaN</td>\n",
       "      <td>NaN</td>\n",
       "      <td>NaN</td>\n",
       "    </tr>\n",
       "    <tr>\n",
       "      <th>...</th>\n",
       "      <td>...</td>\n",
       "      <td>...</td>\n",
       "      <td>...</td>\n",
       "      <td>...</td>\n",
       "      <td>...</td>\n",
       "      <td>...</td>\n",
       "      <td>...</td>\n",
       "      <td>...</td>\n",
       "      <td>...</td>\n",
       "    </tr>\n",
       "    <tr>\n",
       "      <th>616</th>\n",
       "      <td>grootfontein</td>\n",
       "      <td>NA</td>\n",
       "      <td>-19.5667</td>\n",
       "      <td>18.1167</td>\n",
       "      <td>90.97</td>\n",
       "      <td>6.91</td>\n",
       "      <td>1019.0</td>\n",
       "      <td>11.0</td>\n",
       "      <td>1.630936e+09</td>\n",
       "    </tr>\n",
       "    <tr>\n",
       "      <th>617</th>\n",
       "      <td>demba</td>\n",
       "      <td>CD</td>\n",
       "      <td>-5.5100</td>\n",
       "      <td>22.2667</td>\n",
       "      <td>89.08</td>\n",
       "      <td>0.49</td>\n",
       "      <td>1005.0</td>\n",
       "      <td>30.0</td>\n",
       "      <td>1.630936e+09</td>\n",
       "    </tr>\n",
       "    <tr>\n",
       "      <th>618</th>\n",
       "      <td>lazaro cardenas</td>\n",
       "      <td>MX</td>\n",
       "      <td>17.9583</td>\n",
       "      <td>-102.2000</td>\n",
       "      <td>76.24</td>\n",
       "      <td>5.30</td>\n",
       "      <td>1013.0</td>\n",
       "      <td>90.0</td>\n",
       "      <td>1.630936e+09</td>\n",
       "    </tr>\n",
       "    <tr>\n",
       "      <th>619</th>\n",
       "      <td>ibra</td>\n",
       "      <td>OM</td>\n",
       "      <td>22.6906</td>\n",
       "      <td>58.5334</td>\n",
       "      <td>101.66</td>\n",
       "      <td>13.09</td>\n",
       "      <td>1002.0</td>\n",
       "      <td>21.0</td>\n",
       "      <td>1.630936e+09</td>\n",
       "    </tr>\n",
       "    <tr>\n",
       "      <th>620</th>\n",
       "      <td>bangolo</td>\n",
       "      <td>CI</td>\n",
       "      <td>7.0069</td>\n",
       "      <td>-7.4750</td>\n",
       "      <td>84.63</td>\n",
       "      <td>5.46</td>\n",
       "      <td>1011.0</td>\n",
       "      <td>68.0</td>\n",
       "      <td>1.630936e+09</td>\n",
       "    </tr>\n",
       "  </tbody>\n",
       "</table>\n",
       "<p>621 rows × 9 columns</p>\n",
       "</div>"
      ],
      "text/plain": [
       "                City Country  Latitude  Longitude    Temp   Wind  Pressure  \\\n",
       "0                vao      NC  -22.6667   167.4833   69.48  12.26    1014.0   \n",
       "1       punta arenas      CL  -53.1500   -70.9167   42.91   8.05    1016.0   \n",
       "2       norman wells      CA   65.2820  -126.8329   44.64   4.61    1000.0   \n",
       "3              kenai      US   60.5544  -151.2583   48.33   3.44    1008.0   \n",
       "4      belushya guba               NaN        NaN     NaN    NaN       NaN   \n",
       "..               ...     ...       ...        ...     ...    ...       ...   \n",
       "616     grootfontein      NA  -19.5667    18.1167   90.97   6.91    1019.0   \n",
       "617            demba      CD   -5.5100    22.2667   89.08   0.49    1005.0   \n",
       "618  lazaro cardenas      MX   17.9583  -102.2000   76.24   5.30    1013.0   \n",
       "619             ibra      OM   22.6906    58.5334  101.66  13.09    1002.0   \n",
       "620          bangolo      CI    7.0069    -7.4750   84.63   5.46    1011.0   \n",
       "\n",
       "     Humidity          Date  \n",
       "0        80.0  1.630935e+09  \n",
       "1        81.0  1.630936e+09  \n",
       "2       100.0  1.630936e+09  \n",
       "3        89.0  1.630936e+09  \n",
       "4         NaN           NaN  \n",
       "..        ...           ...  \n",
       "616      11.0  1.630936e+09  \n",
       "617      30.0  1.630936e+09  \n",
       "618      90.0  1.630936e+09  \n",
       "619      21.0  1.630936e+09  \n",
       "620      68.0  1.630936e+09  \n",
       "\n",
       "[621 rows x 9 columns]"
      ]
     },
     "execution_count": 10,
     "metadata": {},
     "output_type": "execute_result"
    }
   ],
   "source": [
    "weather_datatable = pd.DataFrame()\n",
    "\n",
    "weather_datatable[\"City\"] = cities\n",
    "weather_datatable[\"Country\"] = countries\n",
    "weather_datatable[\"Latitude\"] = lats\n",
    "weather_datatable[\"Longitude\"] = longs\n",
    "weather_datatable[\"Temp\"] = temperature\n",
    "weather_datatable[\"Wind\"] = windspeed\n",
    "weather_datatable[\"Pressure\"] = pressures\n",
    "weather_datatable[\"Humidity\"] = humiditys\n",
    "weather_datatable[\"Date\"] = dates\n",
    "\n",
    "weather_datatable"
   ]
  },
  {
   "cell_type": "code",
   "execution_count": null,
   "metadata": {},
   "outputs": [],
   "source": []
  },
  {
   "cell_type": "markdown",
   "metadata": {},
   "source": [
    "## Inspect the data and remove the cities where the humidity > 100%.\n",
    "----\n",
    "Skip this step if there are no cities that have humidity > 100%. "
   ]
  },
  {
   "cell_type": "code",
   "execution_count": 11,
   "metadata": {},
   "outputs": [],
   "source": [
    "# weather_datatable.to_csv(output_data_file, index=False)"
   ]
  },
  {
   "cell_type": "code",
   "execution_count": 12,
   "metadata": {},
   "outputs": [
    {
     "data": {
      "text/html": [
       "<div>\n",
       "<style scoped>\n",
       "    .dataframe tbody tr th:only-of-type {\n",
       "        vertical-align: middle;\n",
       "    }\n",
       "\n",
       "    .dataframe tbody tr th {\n",
       "        vertical-align: top;\n",
       "    }\n",
       "\n",
       "    .dataframe thead th {\n",
       "        text-align: right;\n",
       "    }\n",
       "</style>\n",
       "<table border=\"1\" class=\"dataframe\">\n",
       "  <thead>\n",
       "    <tr style=\"text-align: right;\">\n",
       "      <th></th>\n",
       "      <th>City</th>\n",
       "      <th>Country</th>\n",
       "      <th>Latitude</th>\n",
       "      <th>Longitude</th>\n",
       "      <th>Temp</th>\n",
       "      <th>Wind</th>\n",
       "      <th>Pressure</th>\n",
       "      <th>Humidity</th>\n",
       "      <th>Date</th>\n",
       "    </tr>\n",
       "  </thead>\n",
       "  <tbody>\n",
       "  </tbody>\n",
       "</table>\n",
       "</div>"
      ],
      "text/plain": [
       "Empty DataFrame\n",
       "Columns: [City, Country, Latitude, Longitude, Temp, Wind, Pressure, Humidity, Date]\n",
       "Index: []"
      ]
     },
     "execution_count": 12,
     "metadata": {},
     "output_type": "execute_result"
    }
   ],
   "source": [
    "#  Get the indices of cities that have humidity over 100%.\n",
    "mask = weather_datatable.Humidity > 100 \n",
    "weather_datatable.loc[mask]"
   ]
  },
  {
   "cell_type": "code",
   "execution_count": 13,
   "metadata": {},
   "outputs": [],
   "source": [
    "# Make a new DataFrame equal to the city data to drop all humidity outliers by index.\n",
    "# Passing \"inplace=False\" will make a copy of the city_data DataFrame, which we call \"clean_city_data\".\n"
   ]
  },
  {
   "cell_type": "code",
   "execution_count": null,
   "metadata": {},
   "outputs": [],
   "source": [
    "\n"
   ]
  },
  {
   "cell_type": "markdown",
   "metadata": {},
   "source": [
    "## Plotting the Data\n",
    "* Use proper labeling of the plots using plot titles (including date of analysis) and axes labels.\n",
    "* Save the plotted figures as .pngs."
   ]
  },
  {
   "cell_type": "markdown",
   "metadata": {},
   "source": [
    "## Latitude vs. Temperature Plot"
   ]
  },
  {
   "cell_type": "code",
   "execution_count": 37,
   "metadata": {},
   "outputs": [],
   "source": [
    "import statsmodels.api as sm\n",
    "from sklearn.linear_model import LinearRegression\n",
    "import seaborn as sn"
   ]
  },
  {
   "cell_type": "code",
   "execution_count": null,
   "metadata": {},
   "outputs": [],
   "source": []
  },
  {
   "cell_type": "code",
   "execution_count": 93,
   "metadata": {
    "scrolled": true
   },
   "outputs": [
    {
     "data": {
      "image/png": "[encoded data removed]",
      "text/plain": [
       "<Figure size 576x288 with 1 Axes>"
      ]
     },
     "metadata": {
      "needs_background": "light"
     },
     "output_type": "display_data"
    }
   ],
   "source": [
    "plt.figure(figsize=(8,4))\n",
    "plt.scatter(weather_datatable.Latitude, weather_datatable.Temp, color='green', edgecolor=\"black\")\n",
    "plt.xlabel(\"Latitude\")\n",
    "plt.ylabel(\"Temperature\")\n",
    "plt.title(\"Latitude VS Temperature\", fontsize=22, fontweight=\"bold\")\n",
    "plt.grid()\n",
    "plt.show()"
   ]
  },
  {
   "cell_type": "markdown",
   "metadata": {},
   "source": [
    "## Latitude vs. Humidity Plot"
   ]
  },
  {
   "cell_type": "code",
   "execution_count": 39,
   "metadata": {},
   "outputs": [
    {
     "data": {
      "image/png": "[encoded data removed]",
      "text/plain": [
       "<Figure size 720x432 with 1 Axes>"
      ]
     },
     "metadata": {
      "needs_background": "light"
     },
     "output_type": "display_data"
    }
   ],
   "source": [
    "plt.figure(figsize=(10,6))\n",
    "plt.scatter(weather_datatable.Latitude, weather_datatable.Humidity, color='green', edgecolor=\"black\")\n",
    "plt.xlabel(\"Latitude\")\n",
    "plt.ylabel(\"Humidity\")\n",
    "plt.title(\"Latitude VS Humidity\", fontsize=22, fontweight=\"bold\")\n",
    "plt.grid()\n",
    "plt.show()"
   ]
  },
  {
   "cell_type": "markdown",
   "metadata": {},
   "source": [
    "## Latitude vs. Cloudiness Plot"
   ]
  },
  {
   "cell_type": "code",
   "execution_count": 42,
   "metadata": {},
   "outputs": [
    {
     "data": {
      "image/png": "[encoded data removed]",
      "text/plain": [
       "<Figure size 720x432 with 1 Axes>"
      ]
     },
     "metadata": {
      "needs_background": "light"
     },
     "output_type": "display_data"
    }
   ],
   "source": [
    "plt.figure(figsize=(10,6))\n",
    "plt.scatter(weather_datatable.Latitude, weather_datatable.Pressure, color='green', edgecolor=\"black\")\n",
    "plt.xlabel(\"Latitude\")\n",
    "plt.ylabel(\"Pressure\")\n",
    "plt.title(\"Latitude VS Cloudiness\", fontsize=22, fontweight=\"bold\")\n",
    "plt.grid()\n",
    "plt.show()"
   ]
  },
  {
   "cell_type": "markdown",
   "metadata": {},
   "source": [
    "## Latitude vs. Wind Speed Plot"
   ]
  },
  {
   "cell_type": "code",
   "execution_count": 43,
   "metadata": {},
   "outputs": [
    {
     "data": {
      "image/png": "[encoded data removed]",
      "text/plain": [
       "<Figure size 720x432 with 1 Axes>"
      ]
     },
     "metadata": {
      "needs_background": "light"
     },
     "output_type": "display_data"
    }
   ],
   "source": [
    "plt.figure(figsize=(10,6))\n",
    "plt.scatter(weather_datatable.Latitude, weather_datatable.Wind, color='green', edgecolor=\"black\")\n",
    "plt.xlabel(\"Latitude\")\n",
    "plt.ylabel(\"Wind Speed\")\n",
    "plt.title(\"Latitude VS Wind Speed\", fontsize=22, fontweight=\"bold\")\n",
    "plt.grid()\n",
    "plt.show()"
   ]
  },
  {
   "cell_type": "markdown",
   "metadata": {},
   "source": [
    "## Linear Regression"
   ]
  },
  {
   "cell_type": "code",
   "execution_count": 44,
   "metadata": {},
   "outputs": [],
   "source": [
    "north_df = weather_datatable.loc[weather_datatable.Latitude >=0].reset_index(drop=True)\n",
    "south_df = weather_datatable.loc[weather_datatable.Latitude <=0].reset_index(drop=True)"
   ]
  },
  {
   "cell_type": "code",
   "execution_count": 45,
   "metadata": {},
   "outputs": [
    {
     "data": {
      "text/html": [
       "<div>\n",
       "<style scoped>\n",
       "    .dataframe tbody tr th:only-of-type {\n",
       "        vertical-align: middle;\n",
       "    }\n",
       "\n",
       "    .dataframe tbody tr th {\n",
       "        vertical-align: top;\n",
       "    }\n",
       "\n",
       "    .dataframe thead th {\n",
       "        text-align: right;\n",
       "    }\n",
       "</style>\n",
       "<table border=\"1\" class=\"dataframe\">\n",
       "  <thead>\n",
       "    <tr style=\"text-align: right;\">\n",
       "      <th></th>\n",
       "      <th>City</th>\n",
       "      <th>Country</th>\n",
       "      <th>Latitude</th>\n",
       "      <th>Longitude</th>\n",
       "      <th>Temp</th>\n",
       "      <th>Wind</th>\n",
       "      <th>Pressure</th>\n",
       "      <th>Humidity</th>\n",
       "      <th>Date</th>\n",
       "    </tr>\n",
       "  </thead>\n",
       "  <tbody>\n",
       "    <tr>\n",
       "      <th>0</th>\n",
       "      <td>norman wells</td>\n",
       "      <td>CA</td>\n",
       "      <td>65.2820</td>\n",
       "      <td>-126.8329</td>\n",
       "      <td>44.64</td>\n",
       "      <td>4.61</td>\n",
       "      <td>1000.0</td>\n",
       "      <td>100.0</td>\n",
       "      <td>1.630936e+09</td>\n",
       "    </tr>\n",
       "    <tr>\n",
       "      <th>1</th>\n",
       "      <td>kenai</td>\n",
       "      <td>US</td>\n",
       "      <td>60.5544</td>\n",
       "      <td>-151.2583</td>\n",
       "      <td>48.33</td>\n",
       "      <td>3.44</td>\n",
       "      <td>1008.0</td>\n",
       "      <td>89.0</td>\n",
       "      <td>1.630936e+09</td>\n",
       "    </tr>\n",
       "    <tr>\n",
       "      <th>2</th>\n",
       "      <td>hilo</td>\n",
       "      <td>US</td>\n",
       "      <td>19.7297</td>\n",
       "      <td>-155.0900</td>\n",
       "      <td>71.73</td>\n",
       "      <td>5.75</td>\n",
       "      <td>1015.0</td>\n",
       "      <td>81.0</td>\n",
       "      <td>1.630936e+09</td>\n",
       "    </tr>\n",
       "    <tr>\n",
       "      <th>3</th>\n",
       "      <td>yukhnov</td>\n",
       "      <td>RU</td>\n",
       "      <td>54.7444</td>\n",
       "      <td>35.2297</td>\n",
       "      <td>52.63</td>\n",
       "      <td>7.56</td>\n",
       "      <td>1024.0</td>\n",
       "      <td>57.0</td>\n",
       "      <td>1.630936e+09</td>\n",
       "    </tr>\n",
       "    <tr>\n",
       "      <th>4</th>\n",
       "      <td>felsberg</td>\n",
       "      <td>DE</td>\n",
       "      <td>51.1333</td>\n",
       "      <td>9.4167</td>\n",
       "      <td>76.59</td>\n",
       "      <td>5.75</td>\n",
       "      <td>1023.0</td>\n",
       "      <td>46.0</td>\n",
       "      <td>1.630936e+09</td>\n",
       "    </tr>\n",
       "  </tbody>\n",
       "</table>\n",
       "</div>"
      ],
      "text/plain": [
       "           City Country  Latitude  Longitude   Temp  Wind  Pressure  Humidity  \\\n",
       "0  norman wells      CA   65.2820  -126.8329  44.64  4.61    1000.0     100.0   \n",
       "1         kenai      US   60.5544  -151.2583  48.33  3.44    1008.0      89.0   \n",
       "2          hilo      US   19.7297  -155.0900  71.73  5.75    1015.0      81.0   \n",
       "3       yukhnov      RU   54.7444    35.2297  52.63  7.56    1024.0      57.0   \n",
       "4      felsberg      DE   51.1333     9.4167  76.59  5.75    1023.0      46.0   \n",
       "\n",
       "           Date  \n",
       "0  1.630936e+09  \n",
       "1  1.630936e+09  \n",
       "2  1.630936e+09  \n",
       "3  1.630936e+09  \n",
       "4  1.630936e+09  "
      ]
     },
     "execution_count": 45,
     "metadata": {},
     "output_type": "execute_result"
    }
   ],
   "source": [
    "north_df.head()\n"
   ]
  },
  {
   "cell_type": "code",
   "execution_count": 46,
   "metadata": {},
   "outputs": [
    {
     "data": {
      "text/html": [
       "<div>\n",
       "<style scoped>\n",
       "    .dataframe tbody tr th:only-of-type {\n",
       "        vertical-align: middle;\n",
       "    }\n",
       "\n",
       "    .dataframe tbody tr th {\n",
       "        vertical-align: top;\n",
       "    }\n",
       "\n",
       "    .dataframe thead th {\n",
       "        text-align: right;\n",
       "    }\n",
       "</style>\n",
       "<table border=\"1\" class=\"dataframe\">\n",
       "  <thead>\n",
       "    <tr style=\"text-align: right;\">\n",
       "      <th></th>\n",
       "      <th>City</th>\n",
       "      <th>Country</th>\n",
       "      <th>Latitude</th>\n",
       "      <th>Longitude</th>\n",
       "      <th>Temp</th>\n",
       "      <th>Wind</th>\n",
       "      <th>Pressure</th>\n",
       "      <th>Humidity</th>\n",
       "      <th>Date</th>\n",
       "    </tr>\n",
       "  </thead>\n",
       "  <tbody>\n",
       "    <tr>\n",
       "      <th>0</th>\n",
       "      <td>vao</td>\n",
       "      <td>NC</td>\n",
       "      <td>-22.6667</td>\n",
       "      <td>167.4833</td>\n",
       "      <td>69.48</td>\n",
       "      <td>12.26</td>\n",
       "      <td>1014.0</td>\n",
       "      <td>80.0</td>\n",
       "      <td>1.630935e+09</td>\n",
       "    </tr>\n",
       "    <tr>\n",
       "      <th>1</th>\n",
       "      <td>punta arenas</td>\n",
       "      <td>CL</td>\n",
       "      <td>-53.1500</td>\n",
       "      <td>-70.9167</td>\n",
       "      <td>42.91</td>\n",
       "      <td>8.05</td>\n",
       "      <td>1016.0</td>\n",
       "      <td>81.0</td>\n",
       "      <td>1.630936e+09</td>\n",
       "    </tr>\n",
       "    <tr>\n",
       "      <th>2</th>\n",
       "      <td>villazon</td>\n",
       "      <td>BO</td>\n",
       "      <td>-22.0866</td>\n",
       "      <td>-65.5942</td>\n",
       "      <td>54.19</td>\n",
       "      <td>5.48</td>\n",
       "      <td>1015.0</td>\n",
       "      <td>46.0</td>\n",
       "      <td>1.630936e+09</td>\n",
       "    </tr>\n",
       "    <tr>\n",
       "      <th>3</th>\n",
       "      <td>port alfred</td>\n",
       "      <td>ZA</td>\n",
       "      <td>-33.5906</td>\n",
       "      <td>26.8910</td>\n",
       "      <td>60.40</td>\n",
       "      <td>14.85</td>\n",
       "      <td>1025.0</td>\n",
       "      <td>66.0</td>\n",
       "      <td>1.630936e+09</td>\n",
       "    </tr>\n",
       "    <tr>\n",
       "      <th>4</th>\n",
       "      <td>mount isa</td>\n",
       "      <td>AU</td>\n",
       "      <td>-20.7333</td>\n",
       "      <td>139.5000</td>\n",
       "      <td>65.97</td>\n",
       "      <td>13.80</td>\n",
       "      <td>1023.0</td>\n",
       "      <td>16.0</td>\n",
       "      <td>1.630936e+09</td>\n",
       "    </tr>\n",
       "  </tbody>\n",
       "</table>\n",
       "</div>"
      ],
      "text/plain": [
       "           City Country  Latitude  Longitude   Temp   Wind  Pressure  \\\n",
       "0           vao      NC  -22.6667   167.4833  69.48  12.26    1014.0   \n",
       "1  punta arenas      CL  -53.1500   -70.9167  42.91   8.05    1016.0   \n",
       "2      villazon      BO  -22.0866   -65.5942  54.19   5.48    1015.0   \n",
       "3   port alfred      ZA  -33.5906    26.8910  60.40  14.85    1025.0   \n",
       "4     mount isa      AU  -20.7333   139.5000  65.97  13.80    1023.0   \n",
       "\n",
       "   Humidity          Date  \n",
       "0      80.0  1.630935e+09  \n",
       "1      81.0  1.630936e+09  \n",
       "2      46.0  1.630936e+09  \n",
       "3      66.0  1.630936e+09  \n",
       "4      16.0  1.630936e+09  "
      ]
     },
     "execution_count": 46,
     "metadata": {},
     "output_type": "execute_result"
    }
   ],
   "source": [
    "south_df.head()"
   ]
  },
  {
   "cell_type": "code",
   "execution_count": 47,
   "metadata": {},
   "outputs": [
    {
     "data": {
      "image/png": "[encoded data removed]",
      "text/plain": [
       "<Figure size 720x432 with 1 Axes>"
      ]
     },
     "metadata": {
      "needs_background": "light"
     },
     "output_type": "display_data"
    }
   ],
   "source": [
    "plt.figure(figsize=(10,6))\n",
    "plt.scatter(north_df.Latitude, north_df.Wind, color='green', edgecolor=\"black\")\n",
    "plt.xlabel(\"North Latitude\")\n",
    "plt.ylabel(\"Wind Speed\")\n",
    "plt.title(\"North Latitude VS Wind Speed\", fontsize=22, fontweight=\"bold\")\n",
    "plt.grid()\n",
    "plt.show()"
   ]
  },
  {
   "cell_type": "code",
   "execution_count": 48,
   "metadata": {},
   "outputs": [
    {
     "data": {
      "text/html": [
       "<div>\n",
       "<style scoped>\n",
       "    .dataframe tbody tr th:only-of-type {\n",
       "        vertical-align: middle;\n",
       "    }\n",
       "\n",
       "    .dataframe tbody tr th {\n",
       "        vertical-align: top;\n",
       "    }\n",
       "\n",
       "    .dataframe thead th {\n",
       "        text-align: right;\n",
       "    }\n",
       "</style>\n",
       "<table border=\"1\" class=\"dataframe\">\n",
       "  <thead>\n",
       "    <tr style=\"text-align: right;\">\n",
       "      <th></th>\n",
       "      <th>Latitude</th>\n",
       "      <th>Longitude</th>\n",
       "      <th>Temp</th>\n",
       "      <th>Wind</th>\n",
       "      <th>Pressure</th>\n",
       "      <th>Humidity</th>\n",
       "      <th>Date</th>\n",
       "    </tr>\n",
       "  </thead>\n",
       "  <tbody>\n",
       "    <tr>\n",
       "      <th>Latitude</th>\n",
       "      <td>1.000000</td>\n",
       "      <td>-0.052754</td>\n",
       "      <td>-0.774137</td>\n",
       "      <td>0.062122</td>\n",
       "      <td>0.028798</td>\n",
       "      <td>0.089662</td>\n",
       "      <td>-0.051238</td>\n",
       "    </tr>\n",
       "    <tr>\n",
       "      <th>Longitude</th>\n",
       "      <td>-0.052754</td>\n",
       "      <td>1.000000</td>\n",
       "      <td>0.099507</td>\n",
       "      <td>0.198497</td>\n",
       "      <td>-0.036456</td>\n",
       "      <td>-0.056320</td>\n",
       "      <td>0.106566</td>\n",
       "    </tr>\n",
       "    <tr>\n",
       "      <th>Temp</th>\n",
       "      <td>-0.774137</td>\n",
       "      <td>0.099507</td>\n",
       "      <td>1.000000</td>\n",
       "      <td>0.047364</td>\n",
       "      <td>-0.057381</td>\n",
       "      <td>-0.436538</td>\n",
       "      <td>0.093694</td>\n",
       "    </tr>\n",
       "    <tr>\n",
       "      <th>Wind</th>\n",
       "      <td>0.062122</td>\n",
       "      <td>0.198497</td>\n",
       "      <td>0.047364</td>\n",
       "      <td>1.000000</td>\n",
       "      <td>-0.236916</td>\n",
       "      <td>-0.105154</td>\n",
       "      <td>0.005390</td>\n",
       "    </tr>\n",
       "    <tr>\n",
       "      <th>Pressure</th>\n",
       "      <td>0.028798</td>\n",
       "      <td>-0.036456</td>\n",
       "      <td>-0.057381</td>\n",
       "      <td>-0.236916</td>\n",
       "      <td>1.000000</td>\n",
       "      <td>-0.050654</td>\n",
       "      <td>0.120011</td>\n",
       "    </tr>\n",
       "    <tr>\n",
       "      <th>Humidity</th>\n",
       "      <td>0.089662</td>\n",
       "      <td>-0.056320</td>\n",
       "      <td>-0.436538</td>\n",
       "      <td>-0.105154</td>\n",
       "      <td>-0.050654</td>\n",
       "      <td>1.000000</td>\n",
       "      <td>-0.138122</td>\n",
       "    </tr>\n",
       "    <tr>\n",
       "      <th>Date</th>\n",
       "      <td>-0.051238</td>\n",
       "      <td>0.106566</td>\n",
       "      <td>0.093694</td>\n",
       "      <td>0.005390</td>\n",
       "      <td>0.120011</td>\n",
       "      <td>-0.138122</td>\n",
       "      <td>1.000000</td>\n",
       "    </tr>\n",
       "  </tbody>\n",
       "</table>\n",
       "</div>"
      ],
      "text/plain": [
       "           Latitude  Longitude      Temp      Wind  Pressure  Humidity  \\\n",
       "Latitude   1.000000  -0.052754 -0.774137  0.062122  0.028798  0.089662   \n",
       "Longitude -0.052754   1.000000  0.099507  0.198497 -0.036456 -0.056320   \n",
       "Temp      -0.774137   0.099507  1.000000  0.047364 -0.057381 -0.436538   \n",
       "Wind       0.062122   0.198497  0.047364  1.000000 -0.236916 -0.105154   \n",
       "Pressure   0.028798  -0.036456 -0.057381 -0.236916  1.000000 -0.050654   \n",
       "Humidity   0.089662  -0.056320 -0.436538 -0.105154 -0.050654  1.000000   \n",
       "Date      -0.051238   0.106566  0.093694  0.005390  0.120011 -0.138122   \n",
       "\n",
       "               Date  \n",
       "Latitude  -0.051238  \n",
       "Longitude  0.106566  \n",
       "Temp       0.093694  \n",
       "Wind       0.005390  \n",
       "Pressure   0.120011  \n",
       "Humidity  -0.138122  \n",
       "Date       1.000000  "
      ]
     },
     "execution_count": 48,
     "metadata": {},
     "output_type": "execute_result"
    }
   ],
   "source": [
    "north_df.corr()"
   ]
  },
  {
   "cell_type": "code",
   "execution_count": 49,
   "metadata": {},
   "outputs": [
    {
     "data": {
      "image/png": "[encoded data removed]",
      "text/plain": [
       "<Figure size 720x432 with 1 Axes>"
      ]
     },
     "metadata": {
      "needs_background": "light"
     },
     "output_type": "display_data"
    }
   ],
   "source": [
    "plt.figure(figsize=(10,6))\n",
    "plt.scatter(south_df.Latitude, south_df.Wind, color='green', edgecolor=\"black\")\n",
    "plt.xlabel(\"South Latitude\")\n",
    "plt.ylabel(\"Wind Speed\")\n",
    "plt.title(\"South Latitude VS Wind Speed\", fontsize=22, fontweight=\"bold\")\n",
    "plt.grid()\n",
    "plt.show()"
   ]
  },
  {
   "cell_type": "code",
   "execution_count": 50,
   "metadata": {},
   "outputs": [],
   "source": [
    "import seaborn as sn\n",
    "# linear modelling\n",
    "import statsmodels.api as sm\n",
    "from scipy.stats import linregress\n",
    "from sklearn.linear_model import LinearRegression"
   ]
  },
  {
   "cell_type": "code",
   "execution_count": 51,
   "metadata": {},
   "outputs": [
    {
     "data": {
      "text/plain": [
       "Text(0.5, 1.0, 'Heatmap')"
      ]
     },
     "execution_count": 51,
     "metadata": {},
     "output_type": "execute_result"
    },
    {
     "data": {
      "image/png": "[encoded data removed]",
      "text/plain": [
       "<Figure size 432x288 with 2 Axes>"
      ]
     },
     "metadata": {
      "needs_background": "light"
     },
     "output_type": "display_data"
    }
   ],
   "source": [
    "# sn.heatmap(north_df, cmap=\"Greens\")\n",
    "sn.heatmap(north_df.corr())\n",
    "plt.title(\"Heatmap\", fontsize=22, fontweight=\"bold\")"
   ]
  },
  {
   "cell_type": "code",
   "execution_count": 94,
   "metadata": {},
   "outputs": [
    {
     "data": {
      "text/plain": [
       "Text(0.5, 1.0, 'Heatmap')"
      ]
     },
     "execution_count": 94,
     "metadata": {},
     "output_type": "execute_result"
    },
    {
     "data": {
      "image/png": "[encoded data removed]",
      "text/plain": [
       "<Figure size 432x288 with 2 Axes>"
      ]
     },
     "metadata": {
      "needs_background": "light"
     },
     "output_type": "display_data"
    }
   ],
   "source": [
    "# sn.heatmap(south_df, cmap=\"Greens\")\n",
    "sn.heatmap(south_df.corr())\n",
    "plt.title(\"Heatmap\", fontsize=22, fontweight=\"bold\")"
   ]
  },
  {
   "cell_type": "markdown",
   "metadata": {},
   "source": [
    "####  Northern Hemisphere - Max Temp vs. Latitude Linear Regression"
   ]
  },
  {
   "cell_type": "code",
   "execution_count": 62,
   "metadata": {},
   "outputs": [
    {
     "name": "stdout",
     "output_type": "stream",
     "text": [
      "The r-squared is: 0.5687696447059144\n",
      "The r-squared is: 0.5992880140000305\n"
     ]
    },
    {
     "data": {
      "image/png": "[encoded data removed]",
      "text/plain": [
       "<Figure size 432x288 with 1 Axes>"
      ]
     },
     "metadata": {
      "needs_background": "light"
     },
     "output_type": "display_data"
    }
   ],
   "source": [
    "x_values = north_df['Latitude']\n",
    "y_values = north_df['Temp']\n",
    "\n",
    "(slope, intercept, rvalue, pvalue, stderr) = linregress(x_values, y_values)\n",
    "regress_values = x_values * slope + intercept\n",
    "line_eq = \"y = \" + str(round(slope,2)) + \"x + \" + str(round(intercept,2))\n",
    "plt.scatter(x_values,y_values, color=\"green\")\n",
    "plt.plot(x_values,regress_values,\"r-\")\n",
    "plt.annotate(line_eq,(1,7),fontsize=15,color=\"black\")\n",
    "plt.xlabel('Latitude')\n",
    "plt.ylabel('Temperature')\n",
    "plt.title(\"Northern Hemisphere - Temperature VS Latitude\", fontsize=22, fontweight=\"bold\")\n",
    "print(f\"The r-squared is: {results.rsquared}\")\n",
    "print(f\"The r-squared is: {rvalue**2}\")\n",
    "plt.show()"
   ]
  },
  {
   "cell_type": "code",
   "execution_count": 61,
   "metadata": {},
   "outputs": [],
   "source": [
    "feature = north_df[[\"Latitude\"]]\n",
    "target = north_df[\"Temp\"]"
   ]
  },
  {
   "cell_type": "code",
   "execution_count": 53,
   "metadata": {},
   "outputs": [
    {
     "data": {
      "text/html": [
       "<table class=\"simpletable\">\n",
       "<caption>OLS Regression Results</caption>\n",
       "<tr>\n",
       "  <th>Dep. Variable:</th>          <td>Temp</td>       <th>  R-squared:         </th> <td>   0.569</td>\n",
       "</tr>\n",
       "<tr>\n",
       "  <th>Model:</th>                   <td>OLS</td>       <th>  Adj. R-squared:    </th> <td>   0.566</td>\n",
       "</tr>\n",
       "<tr>\n",
       "  <th>Method:</th>             <td>Least Squares</td>  <th>  F-statistic:       </th> <td>   224.2</td>\n",
       "</tr>\n",
       "<tr>\n",
       "  <th>Date:</th>             <td>Mon, 06 Sep 2021</td> <th>  Prob (F-statistic):</th> <td>7.19e-33</td>\n",
       "</tr>\n",
       "<tr>\n",
       "  <th>Time:</th>                 <td>09:07:58</td>     <th>  Log-Likelihood:    </th> <td> -638.25</td>\n",
       "</tr>\n",
       "<tr>\n",
       "  <th>No. Observations:</th>      <td>   172</td>      <th>  AIC:               </th> <td>   1281.</td>\n",
       "</tr>\n",
       "<tr>\n",
       "  <th>Df Residuals:</th>          <td>   170</td>      <th>  BIC:               </th> <td>   1287.</td>\n",
       "</tr>\n",
       "<tr>\n",
       "  <th>Df Model:</th>              <td>     1</td>      <th>                     </th>     <td> </td>   \n",
       "</tr>\n",
       "<tr>\n",
       "  <th>Covariance Type:</th>      <td>nonrobust</td>    <th>                     </th>     <td> </td>   \n",
       "</tr>\n",
       "</table>\n",
       "<table class=\"simpletable\">\n",
       "<tr>\n",
       "      <td></td>        <th>coef</th>     <th>std err</th>      <th>t</th>      <th>P>|t|</th>  <th>[0.025</th>    <th>0.975]</th>  \n",
       "</tr>\n",
       "<tr>\n",
       "  <th>const</th>    <td>   86.5081</td> <td>    1.373</td> <td>   63.012</td> <td> 0.000</td> <td>   83.798</td> <td>   89.218</td>\n",
       "</tr>\n",
       "<tr>\n",
       "  <th>Latitude</th> <td>    0.8378</td> <td>    0.056</td> <td>   14.974</td> <td> 0.000</td> <td>    0.727</td> <td>    0.948</td>\n",
       "</tr>\n",
       "</table>\n",
       "<table class=\"simpletable\">\n",
       "<tr>\n",
       "  <th>Omnibus:</th>       <td> 5.251</td> <th>  Durbin-Watson:     </th> <td>   2.004</td>\n",
       "</tr>\n",
       "<tr>\n",
       "  <th>Prob(Omnibus):</th> <td> 0.072</td> <th>  Jarque-Bera (JB):  </th> <td>   5.578</td>\n",
       "</tr>\n",
       "<tr>\n",
       "  <th>Skew:</th>          <td> 0.258</td> <th>  Prob(JB):          </th> <td>  0.0615</td>\n",
       "</tr>\n",
       "<tr>\n",
       "  <th>Kurtosis:</th>      <td> 3.716</td> <th>  Cond. No.          </th> <td>    44.4</td>\n",
       "</tr>\n",
       "</table><br/><br/>Notes:<br/>[1] Standard Errors assume that the covariance matrix of the errors is correctly specified."
      ],
      "text/plain": [
       "<class 'statsmodels.iolib.summary.Summary'>\n",
       "\"\"\"\n",
       "                            OLS Regression Results                            \n",
       "==============================================================================\n",
       "Dep. Variable:                   Temp   R-squared:                       0.569\n",
       "Model:                            OLS   Adj. R-squared:                  0.566\n",
       "Method:                 Least Squares   F-statistic:                     224.2\n",
       "Date:                Mon, 06 Sep 2021   Prob (F-statistic):           7.19e-33\n",
       "Time:                        09:07:58   Log-Likelihood:                -638.25\n",
       "No. Observations:                 172   AIC:                             1281.\n",
       "Df Residuals:                     170   BIC:                             1287.\n",
       "Df Model:                           1                                         \n",
       "Covariance Type:            nonrobust                                         \n",
       "==============================================================================\n",
       "                 coef    std err          t      P>|t|      [0.025      0.975]\n",
       "------------------------------------------------------------------------------\n",
       "const         86.5081      1.373     63.012      0.000      83.798      89.218\n",
       "Latitude       0.8378      0.056     14.974      0.000       0.727       0.948\n",
       "==============================================================================\n",
       "Omnibus:                        5.251   Durbin-Watson:                   2.004\n",
       "Prob(Omnibus):                  0.072   Jarque-Bera (JB):                5.578\n",
       "Skew:                           0.258   Prob(JB):                       0.0615\n",
       "Kurtosis:                       3.716   Cond. No.                         44.4\n",
       "==============================================================================\n",
       "\n",
       "Notes:\n",
       "[1] Standard Errors assume that the covariance matrix of the errors is correctly specified.\n",
       "\"\"\""
      ]
     },
     "execution_count": 53,
     "metadata": {},
     "output_type": "execute_result"
    }
   ],
   "source": [
    "In [41]:  # STATSMODELS\n",
    "X = sm.add_constant(feature)\n",
    "Y = target\n",
    "\n",
    "model = sm.OLS(Y,X)\n",
    "results = model.fit()\n",
    "results.summary()"
   ]
  },
  {
   "cell_type": "code",
   "execution_count": 54,
   "metadata": {},
   "outputs": [
    {
     "data": {
      "text/plain": [
       "array([0.83781722])"
      ]
     },
     "execution_count": 54,
     "metadata": {},
     "output_type": "execute_result"
    }
   ],
   "source": [
    "# SCIKIT_LEARN\n",
    "\n",
    "reg = LinearRegression()\n",
    "reg.fit(np.array(feature), np.array(target))\n",
    "reg.coef_"
   ]
  },
  {
   "cell_type": "code",
   "execution_count": 55,
   "metadata": {},
   "outputs": [
    {
     "data": {
      "text/plain": [
       "86.50807773317547"
      ]
     },
     "execution_count": 55,
     "metadata": {},
     "output_type": "execute_result"
    }
   ],
   "source": [
    "reg.intercept_"
   ]
  },
  {
   "cell_type": "code",
   "execution_count": 56,
   "metadata": {},
   "outputs": [],
   "source": [
    "feature = south_df[[\"Latitude\"]]\n",
    "target = south_df[\"Temp\"]"
   ]
  },
  {
   "cell_type": "code",
   "execution_count": 32,
   "metadata": {},
   "outputs": [
    {
     "data": {
      "text/html": [
       "<table class=\"simpletable\">\n",
       "<caption>OLS Regression Results</caption>\n",
       "<tr>\n",
       "  <th>Dep. Variable:</th>          <td>Temp</td>       <th>  R-squared:         </th> <td>   0.569</td>\n",
       "</tr>\n",
       "<tr>\n",
       "  <th>Model:</th>                   <td>OLS</td>       <th>  Adj. R-squared:    </th> <td>   0.566</td>\n",
       "</tr>\n",
       "<tr>\n",
       "  <th>Method:</th>             <td>Least Squares</td>  <th>  F-statistic:       </th> <td>   224.2</td>\n",
       "</tr>\n",
       "<tr>\n",
       "  <th>Date:</th>             <td>Mon, 06 Sep 2021</td> <th>  Prob (F-statistic):</th> <td>7.19e-33</td>\n",
       "</tr>\n",
       "<tr>\n",
       "  <th>Time:</th>                 <td>08:53:59</td>     <th>  Log-Likelihood:    </th> <td> -638.25</td>\n",
       "</tr>\n",
       "<tr>\n",
       "  <th>No. Observations:</th>      <td>   172</td>      <th>  AIC:               </th> <td>   1281.</td>\n",
       "</tr>\n",
       "<tr>\n",
       "  <th>Df Residuals:</th>          <td>   170</td>      <th>  BIC:               </th> <td>   1287.</td>\n",
       "</tr>\n",
       "<tr>\n",
       "  <th>Df Model:</th>              <td>     1</td>      <th>                     </th>     <td> </td>   \n",
       "</tr>\n",
       "<tr>\n",
       "  <th>Covariance Type:</th>      <td>nonrobust</td>    <th>                     </th>     <td> </td>   \n",
       "</tr>\n",
       "</table>\n",
       "<table class=\"simpletable\">\n",
       "<tr>\n",
       "      <td></td>        <th>coef</th>     <th>std err</th>      <th>t</th>      <th>P>|t|</th>  <th>[0.025</th>    <th>0.975]</th>  \n",
       "</tr>\n",
       "<tr>\n",
       "  <th>const</th>    <td>   86.5081</td> <td>    1.373</td> <td>   63.012</td> <td> 0.000</td> <td>   83.798</td> <td>   89.218</td>\n",
       "</tr>\n",
       "<tr>\n",
       "  <th>Latitude</th> <td>    0.8378</td> <td>    0.056</td> <td>   14.974</td> <td> 0.000</td> <td>    0.727</td> <td>    0.948</td>\n",
       "</tr>\n",
       "</table>\n",
       "<table class=\"simpletable\">\n",
       "<tr>\n",
       "  <th>Omnibus:</th>       <td> 5.251</td> <th>  Durbin-Watson:     </th> <td>   2.004</td>\n",
       "</tr>\n",
       "<tr>\n",
       "  <th>Prob(Omnibus):</th> <td> 0.072</td> <th>  Jarque-Bera (JB):  </th> <td>   5.578</td>\n",
       "</tr>\n",
       "<tr>\n",
       "  <th>Skew:</th>          <td> 0.258</td> <th>  Prob(JB):          </th> <td>  0.0615</td>\n",
       "</tr>\n",
       "<tr>\n",
       "  <th>Kurtosis:</th>      <td> 3.716</td> <th>  Cond. No.          </th> <td>    44.4</td>\n",
       "</tr>\n",
       "</table><br/><br/>Notes:<br/>[1] Standard Errors assume that the covariance matrix of the errors is correctly specified."
      ],
      "text/plain": [
       "<class 'statsmodels.iolib.summary.Summary'>\n",
       "\"\"\"\n",
       "                            OLS Regression Results                            \n",
       "==============================================================================\n",
       "Dep. Variable:                   Temp   R-squared:                       0.569\n",
       "Model:                            OLS   Adj. R-squared:                  0.566\n",
       "Method:                 Least Squares   F-statistic:                     224.2\n",
       "Date:                Mon, 06 Sep 2021   Prob (F-statistic):           7.19e-33\n",
       "Time:                        08:53:59   Log-Likelihood:                -638.25\n",
       "No. Observations:                 172   AIC:                             1281.\n",
       "Df Residuals:                     170   BIC:                             1287.\n",
       "Df Model:                           1                                         \n",
       "Covariance Type:            nonrobust                                         \n",
       "==============================================================================\n",
       "                 coef    std err          t      P>|t|      [0.025      0.975]\n",
       "------------------------------------------------------------------------------\n",
       "const         86.5081      1.373     63.012      0.000      83.798      89.218\n",
       "Latitude       0.8378      0.056     14.974      0.000       0.727       0.948\n",
       "==============================================================================\n",
       "Omnibus:                        5.251   Durbin-Watson:                   2.004\n",
       "Prob(Omnibus):                  0.072   Jarque-Bera (JB):                5.578\n",
       "Skew:                           0.258   Prob(JB):                       0.0615\n",
       "Kurtosis:                       3.716   Cond. No.                         44.4\n",
       "==============================================================================\n",
       "\n",
       "Notes:\n",
       "[1] Standard Errors assume that the covariance matrix of the errors is correctly specified.\n",
       "\"\"\""
      ]
     },
     "execution_count": 32,
     "metadata": {},
     "output_type": "execute_result"
    }
   ],
   "source": [
    "In [41]:  # STATSMODELS\n",
    "X = sm.add_constant(feature)\n",
    "Y = target\n",
    "\n",
    "model = sm.OLS(Y,X)\n",
    "results = model.fit()\n",
    "results.summary()"
   ]
  },
  {
   "cell_type": "code",
   "execution_count": 64,
   "metadata": {},
   "outputs": [
    {
     "ename": "ValueError",
     "evalue": "x and y must be the same size",
     "output_type": "error",
     "traceback": [
      "\u001b[0;31m---------------------------------------------------------------------------\u001b[0m",
      "\u001b[0;31mValueError\u001b[0m                                Traceback (most recent call last)",
      "\u001b[0;32m<ipython-input-64-f6c59134cb14>\u001b[0m in \u001b[0;36m<module>\u001b[0;34m\u001b[0m\n\u001b[1;32m      3\u001b[0m \u001b[0mplt\u001b[0m\u001b[0;34m.\u001b[0m\u001b[0mfigure\u001b[0m\u001b[0;34m(\u001b[0m\u001b[0mfigsize\u001b[0m\u001b[0;34m=\u001b[0m\u001b[0;34m(\u001b[0m\u001b[0;36m10\u001b[0m\u001b[0;34m,\u001b[0m\u001b[0;36m6\u001b[0m\u001b[0;34m)\u001b[0m\u001b[0;34m)\u001b[0m\u001b[0;34m\u001b[0m\u001b[0;34m\u001b[0m\u001b[0m\n\u001b[1;32m      4\u001b[0m \u001b[0;34m\u001b[0m\u001b[0m\n\u001b[0;32m----> 5\u001b[0;31m \u001b[0mplt\u001b[0m\u001b[0;34m.\u001b[0m\u001b[0mscatter\u001b[0m\u001b[0;34m(\u001b[0m\u001b[0mresults\u001b[0m\u001b[0;34m.\u001b[0m\u001b[0mfittedvalues\u001b[0m\u001b[0;34m,\u001b[0m \u001b[0mnorth_df\u001b[0m\u001b[0;34m.\u001b[0m\u001b[0mTemp\u001b[0m\u001b[0;34m)\u001b[0m\u001b[0;34m\u001b[0m\u001b[0;34m\u001b[0m\u001b[0m\n\u001b[0m\u001b[1;32m      6\u001b[0m \u001b[0;31m# plt.scatter(results.fittedvalues, north_df.Temp, color=\"green\")\u001b[0m\u001b[0;34m\u001b[0m\u001b[0;34m\u001b[0m\u001b[0;34m\u001b[0m\u001b[0m\n\u001b[1;32m      7\u001b[0m \u001b[0;34m\u001b[0m\u001b[0m\n",
      "\u001b[0;32m~/opt/anaconda3/lib/python3.8/site-packages/matplotlib/pyplot.py\u001b[0m in \u001b[0;36mscatter\u001b[0;34m(x, y, s, c, marker, cmap, norm, vmin, vmax, alpha, linewidths, verts, edgecolors, plotnonfinite, data, **kwargs)\u001b[0m\n\u001b[1;32m   2888\u001b[0m         \u001b[0mverts\u001b[0m\u001b[0;34m=\u001b[0m\u001b[0mcbook\u001b[0m\u001b[0;34m.\u001b[0m\u001b[0mdeprecation\u001b[0m\u001b[0;34m.\u001b[0m\u001b[0m_deprecated_parameter\u001b[0m\u001b[0;34m,\u001b[0m\u001b[0;34m\u001b[0m\u001b[0;34m\u001b[0m\u001b[0m\n\u001b[1;32m   2889\u001b[0m         edgecolors=None, *, plotnonfinite=False, data=None, **kwargs):\n\u001b[0;32m-> 2890\u001b[0;31m     __ret = gca().scatter(\n\u001b[0m\u001b[1;32m   2891\u001b[0m         \u001b[0mx\u001b[0m\u001b[0;34m,\u001b[0m \u001b[0my\u001b[0m\u001b[0;34m,\u001b[0m \u001b[0ms\u001b[0m\u001b[0;34m=\u001b[0m\u001b[0ms\u001b[0m\u001b[0;34m,\u001b[0m \u001b[0mc\u001b[0m\u001b[0;34m=\u001b[0m\u001b[0mc\u001b[0m\u001b[0;34m,\u001b[0m \u001b[0mmarker\u001b[0m\u001b[0;34m=\u001b[0m\u001b[0mmarker\u001b[0m\u001b[0;34m,\u001b[0m \u001b[0mcmap\u001b[0m\u001b[0;34m=\u001b[0m\u001b[0mcmap\u001b[0m\u001b[0;34m,\u001b[0m \u001b[0mnorm\u001b[0m\u001b[0;34m=\u001b[0m\u001b[0mnorm\u001b[0m\u001b[0;34m,\u001b[0m\u001b[0;34m\u001b[0m\u001b[0;34m\u001b[0m\u001b[0m\n\u001b[1;32m   2892\u001b[0m         \u001b[0mvmin\u001b[0m\u001b[0;34m=\u001b[0m\u001b[0mvmin\u001b[0m\u001b[0;34m,\u001b[0m \u001b[0mvmax\u001b[0m\u001b[0;34m=\u001b[0m\u001b[0mvmax\u001b[0m\u001b[0;34m,\u001b[0m \u001b[0malpha\u001b[0m\u001b[0;34m=\u001b[0m\u001b[0malpha\u001b[0m\u001b[0;34m,\u001b[0m \u001b[0mlinewidths\u001b[0m\u001b[0;34m=\u001b[0m\u001b[0mlinewidths\u001b[0m\u001b[0;34m,\u001b[0m\u001b[0;34m\u001b[0m\u001b[0;34m\u001b[0m\u001b[0m\n",
      "\u001b[0;32m~/opt/anaconda3/lib/python3.8/site-packages/matplotlib/__init__.py\u001b[0m in \u001b[0;36minner\u001b[0;34m(ax, data, *args, **kwargs)\u001b[0m\n\u001b[1;32m   1445\u001b[0m     \u001b[0;32mdef\u001b[0m \u001b[0minner\u001b[0m\u001b[0;34m(\u001b[0m\u001b[0max\u001b[0m\u001b[0;34m,\u001b[0m \u001b[0;34m*\u001b[0m\u001b[0margs\u001b[0m\u001b[0;34m,\u001b[0m \u001b[0mdata\u001b[0m\u001b[0;34m=\u001b[0m\u001b[0;32mNone\u001b[0m\u001b[0;34m,\u001b[0m \u001b[0;34m**\u001b[0m\u001b[0mkwargs\u001b[0m\u001b[0;34m)\u001b[0m\u001b[0;34m:\u001b[0m\u001b[0;34m\u001b[0m\u001b[0;34m\u001b[0m\u001b[0m\n\u001b[1;32m   1446\u001b[0m         \u001b[0;32mif\u001b[0m \u001b[0mdata\u001b[0m \u001b[0;32mis\u001b[0m \u001b[0;32mNone\u001b[0m\u001b[0;34m:\u001b[0m\u001b[0;34m\u001b[0m\u001b[0;34m\u001b[0m\u001b[0m\n\u001b[0;32m-> 1447\u001b[0;31m             \u001b[0;32mreturn\u001b[0m \u001b[0mfunc\u001b[0m\u001b[0;34m(\u001b[0m\u001b[0max\u001b[0m\u001b[0;34m,\u001b[0m \u001b[0;34m*\u001b[0m\u001b[0mmap\u001b[0m\u001b[0;34m(\u001b[0m\u001b[0msanitize_sequence\u001b[0m\u001b[0;34m,\u001b[0m \u001b[0margs\u001b[0m\u001b[0;34m)\u001b[0m\u001b[0;34m,\u001b[0m \u001b[0;34m**\u001b[0m\u001b[0mkwargs\u001b[0m\u001b[0;34m)\u001b[0m\u001b[0;34m\u001b[0m\u001b[0;34m\u001b[0m\u001b[0m\n\u001b[0m\u001b[1;32m   1448\u001b[0m \u001b[0;34m\u001b[0m\u001b[0m\n\u001b[1;32m   1449\u001b[0m         \u001b[0mbound\u001b[0m \u001b[0;34m=\u001b[0m \u001b[0mnew_sig\u001b[0m\u001b[0;34m.\u001b[0m\u001b[0mbind\u001b[0m\u001b[0;34m(\u001b[0m\u001b[0max\u001b[0m\u001b[0;34m,\u001b[0m \u001b[0;34m*\u001b[0m\u001b[0margs\u001b[0m\u001b[0;34m,\u001b[0m \u001b[0;34m**\u001b[0m\u001b[0mkwargs\u001b[0m\u001b[0;34m)\u001b[0m\u001b[0;34m\u001b[0m\u001b[0;34m\u001b[0m\u001b[0m\n",
      "\u001b[0;32m~/opt/anaconda3/lib/python3.8/site-packages/matplotlib/cbook/deprecation.py\u001b[0m in \u001b[0;36mwrapper\u001b[0;34m(*inner_args, **inner_kwargs)\u001b[0m\n\u001b[1;32m    409\u001b[0m                          \u001b[0;32melse\u001b[0m \u001b[0mdeprecation_addendum\u001b[0m\u001b[0;34m,\u001b[0m\u001b[0;34m\u001b[0m\u001b[0;34m\u001b[0m\u001b[0m\n\u001b[1;32m    410\u001b[0m                 **kwargs)\n\u001b[0;32m--> 411\u001b[0;31m         \u001b[0;32mreturn\u001b[0m \u001b[0mfunc\u001b[0m\u001b[0;34m(\u001b[0m\u001b[0;34m*\u001b[0m\u001b[0minner_args\u001b[0m\u001b[0;34m,\u001b[0m \u001b[0;34m**\u001b[0m\u001b[0minner_kwargs\u001b[0m\u001b[0;34m)\u001b[0m\u001b[0;34m\u001b[0m\u001b[0;34m\u001b[0m\u001b[0m\n\u001b[0m\u001b[1;32m    412\u001b[0m \u001b[0;34m\u001b[0m\u001b[0m\n\u001b[1;32m    413\u001b[0m     \u001b[0;32mreturn\u001b[0m \u001b[0mwrapper\u001b[0m\u001b[0;34m\u001b[0m\u001b[0;34m\u001b[0m\u001b[0m\n",
      "\u001b[0;32m~/opt/anaconda3/lib/python3.8/site-packages/matplotlib/axes/_axes.py\u001b[0m in \u001b[0;36mscatter\u001b[0;34m(self, x, y, s, c, marker, cmap, norm, vmin, vmax, alpha, linewidths, verts, edgecolors, plotnonfinite, **kwargs)\u001b[0m\n\u001b[1;32m   4439\u001b[0m         \u001b[0my\u001b[0m \u001b[0;34m=\u001b[0m \u001b[0mnp\u001b[0m\u001b[0;34m.\u001b[0m\u001b[0mma\u001b[0m\u001b[0;34m.\u001b[0m\u001b[0mravel\u001b[0m\u001b[0;34m(\u001b[0m\u001b[0my\u001b[0m\u001b[0;34m)\u001b[0m\u001b[0;34m\u001b[0m\u001b[0;34m\u001b[0m\u001b[0m\n\u001b[1;32m   4440\u001b[0m         \u001b[0;32mif\u001b[0m \u001b[0mx\u001b[0m\u001b[0;34m.\u001b[0m\u001b[0msize\u001b[0m \u001b[0;34m!=\u001b[0m \u001b[0my\u001b[0m\u001b[0;34m.\u001b[0m\u001b[0msize\u001b[0m\u001b[0;34m:\u001b[0m\u001b[0;34m\u001b[0m\u001b[0;34m\u001b[0m\u001b[0m\n\u001b[0;32m-> 4441\u001b[0;31m             \u001b[0;32mraise\u001b[0m \u001b[0mValueError\u001b[0m\u001b[0;34m(\u001b[0m\u001b[0;34m\"x and y must be the same size\"\u001b[0m\u001b[0;34m)\u001b[0m\u001b[0;34m\u001b[0m\u001b[0;34m\u001b[0m\u001b[0m\n\u001b[0m\u001b[1;32m   4442\u001b[0m \u001b[0;34m\u001b[0m\u001b[0m\n\u001b[1;32m   4443\u001b[0m         \u001b[0;32mif\u001b[0m \u001b[0ms\u001b[0m \u001b[0;32mis\u001b[0m \u001b[0;32mNone\u001b[0m\u001b[0;34m:\u001b[0m\u001b[0;34m\u001b[0m\u001b[0;34m\u001b[0m\u001b[0m\n",
      "\u001b[0;31mValueError\u001b[0m: x and y must be the same size"
     ]
    },
    {
     "data": {
      "image/png": "[encoded data removed]",
      "text/plain": [
       "<Figure size 720x432 with 1 Axes>"
      ]
     },
     "metadata": {
      "needs_background": "light"
     },
     "output_type": "display_data"
    }
   ],
   "source": [
    "# predicted vs actual\n",
    "\n",
    "plt.figure(figsize=(10,6))\n",
    "\n",
    "plt.scatter(results.fittedvalues, north_df.Temp)\n",
    "# plt.scatter(results.fittedvalues, north_df.Temp, color=\"green\")\n",
    "\n",
    "plt.xlabel(\"Predicted\")\n",
    "plt.ylabel(\"Actual\")\n",
    "\n",
    "plt.plot(north_df.Temp, north_df.Temp)\n",
    "\n",
    "plt.show()"
   ]
  },
  {
   "cell_type": "code",
   "execution_count": 66,
   "metadata": {},
   "outputs": [
    {
     "data": {
      "text/plain": [
       "493.4496066284204"
      ]
     },
     "execution_count": 66,
     "metadata": {},
     "output_type": "execute_result"
    }
   ],
   "source": [
    "#MSE\n",
    "np.mean((north_df.Temp - results.fittedvalues) **2)"
   ]
  },
  {
   "cell_type": "code",
   "execution_count": null,
   "metadata": {},
   "outputs": [],
   "source": []
  },
  {
   "cell_type": "code",
   "execution_count": null,
   "metadata": {},
   "outputs": [],
   "source": []
  },
  {
   "cell_type": "markdown",
   "metadata": {},
   "source": [
    "####  Southern Hemisphere - Max Temp vs. Latitude Linear Regression"
   ]
  },
  {
   "cell_type": "code",
   "execution_count": 71,
   "metadata": {},
   "outputs": [
    {
     "name": "stdout",
     "output_type": "stream",
     "text": [
      "The r-squared is: 0.5687696447059142\n"
     ]
    },
    {
     "data": {
      "image/png": "[encoded data removed]",
      "text/plain": [
       "<Figure size 432x288 with 1 Axes>"
      ]
     },
     "metadata": {
      "needs_background": "light"
     },
     "output_type": "display_data"
    }
   ],
   "source": [
    "x_values = south_df['Latitude']\n",
    "y_values = south_df['Temp']\n",
    "\n",
    "(slope, intercept, rvalue, pvalue, stderr) = linregress(x_values, y_values)\n",
    "regress_values = x_values * slope + intercept\n",
    "line_eq = \"y = \" + str(round(slope,2)) + \"x + \" + str(round(intercept,2))\n",
    "plt.scatter(x_values,y_values, color=\"green\")\n",
    "plt.plot(x_values,regress_values,\"r-\")\n",
    "plt.annotate(line_eq,(1,7),fontsize=15,color=\"black\")\n",
    "plt.xlabel('Latitude')\n",
    "plt.ylabel('Temperature')\n",
    "plt.title(\"Southern Hemisphere - Temperature VS Latitude\", fontsize=22, fontweight=\"bold\")\n",
    "# print(f\"The r-squared is: {results.rsquared}\")\n",
    "print(f\"The r-squared is: {rvalue**2}\")\n",
    "plt.show()"
   ]
  },
  {
   "cell_type": "code",
   "execution_count": 82,
   "metadata": {},
   "outputs": [
    {
     "data": {
      "text/html": [
       "<table class=\"simpletable\">\n",
       "<caption>OLS Regression Results</caption>\n",
       "<tr>\n",
       "  <th>Dep. Variable:</th>          <td>Temp</td>       <th>  R-squared:         </th> <td>   0.569</td>\n",
       "</tr>\n",
       "<tr>\n",
       "  <th>Model:</th>                   <td>OLS</td>       <th>  Adj. R-squared:    </th> <td>   0.566</td>\n",
       "</tr>\n",
       "<tr>\n",
       "  <th>Method:</th>             <td>Least Squares</td>  <th>  F-statistic:       </th> <td>   224.2</td>\n",
       "</tr>\n",
       "<tr>\n",
       "  <th>Date:</th>             <td>Mon, 06 Sep 2021</td> <th>  Prob (F-statistic):</th> <td>7.19e-33</td>\n",
       "</tr>\n",
       "<tr>\n",
       "  <th>Time:</th>                 <td>09:48:46</td>     <th>  Log-Likelihood:    </th> <td> -638.25</td>\n",
       "</tr>\n",
       "<tr>\n",
       "  <th>No. Observations:</th>      <td>   172</td>      <th>  AIC:               </th> <td>   1281.</td>\n",
       "</tr>\n",
       "<tr>\n",
       "  <th>Df Residuals:</th>          <td>   170</td>      <th>  BIC:               </th> <td>   1287.</td>\n",
       "</tr>\n",
       "<tr>\n",
       "  <th>Df Model:</th>              <td>     1</td>      <th>                     </th>     <td> </td>   \n",
       "</tr>\n",
       "<tr>\n",
       "  <th>Covariance Type:</th>      <td>nonrobust</td>    <th>                     </th>     <td> </td>   \n",
       "</tr>\n",
       "</table>\n",
       "<table class=\"simpletable\">\n",
       "<tr>\n",
       "      <td></td>        <th>coef</th>     <th>std err</th>      <th>t</th>      <th>P>|t|</th>  <th>[0.025</th>    <th>0.975]</th>  \n",
       "</tr>\n",
       "<tr>\n",
       "  <th>const</th>    <td>   86.5081</td> <td>    1.373</td> <td>   63.012</td> <td> 0.000</td> <td>   83.798</td> <td>   89.218</td>\n",
       "</tr>\n",
       "<tr>\n",
       "  <th>Latitude</th> <td>    0.8378</td> <td>    0.056</td> <td>   14.974</td> <td> 0.000</td> <td>    0.727</td> <td>    0.948</td>\n",
       "</tr>\n",
       "</table>\n",
       "<table class=\"simpletable\">\n",
       "<tr>\n",
       "  <th>Omnibus:</th>       <td> 5.251</td> <th>  Durbin-Watson:     </th> <td>   2.004</td>\n",
       "</tr>\n",
       "<tr>\n",
       "  <th>Prob(Omnibus):</th> <td> 0.072</td> <th>  Jarque-Bera (JB):  </th> <td>   5.578</td>\n",
       "</tr>\n",
       "<tr>\n",
       "  <th>Skew:</th>          <td> 0.258</td> <th>  Prob(JB):          </th> <td>  0.0615</td>\n",
       "</tr>\n",
       "<tr>\n",
       "  <th>Kurtosis:</th>      <td> 3.716</td> <th>  Cond. No.          </th> <td>    44.4</td>\n",
       "</tr>\n",
       "</table><br/><br/>Notes:<br/>[1] Standard Errors assume that the covariance matrix of the errors is correctly specified."
      ],
      "text/plain": [
       "<class 'statsmodels.iolib.summary.Summary'>\n",
       "\"\"\"\n",
       "                            OLS Regression Results                            \n",
       "==============================================================================\n",
       "Dep. Variable:                   Temp   R-squared:                       0.569\n",
       "Model:                            OLS   Adj. R-squared:                  0.566\n",
       "Method:                 Least Squares   F-statistic:                     224.2\n",
       "Date:                Mon, 06 Sep 2021   Prob (F-statistic):           7.19e-33\n",
       "Time:                        09:48:46   Log-Likelihood:                -638.25\n",
       "No. Observations:                 172   AIC:                             1281.\n",
       "Df Residuals:                     170   BIC:                             1287.\n",
       "Df Model:                           1                                         \n",
       "Covariance Type:            nonrobust                                         \n",
       "==============================================================================\n",
       "                 coef    std err          t      P>|t|      [0.025      0.975]\n",
       "------------------------------------------------------------------------------\n",
       "const         86.5081      1.373     63.012      0.000      83.798      89.218\n",
       "Latitude       0.8378      0.056     14.974      0.000       0.727       0.948\n",
       "==============================================================================\n",
       "Omnibus:                        5.251   Durbin-Watson:                   2.004\n",
       "Prob(Omnibus):                  0.072   Jarque-Bera (JB):                5.578\n",
       "Skew:                           0.258   Prob(JB):                       0.0615\n",
       "Kurtosis:                       3.716   Cond. No.                         44.4\n",
       "==============================================================================\n",
       "\n",
       "Notes:\n",
       "[1] Standard Errors assume that the covariance matrix of the errors is correctly specified.\n",
       "\"\"\""
      ]
     },
     "execution_count": 82,
     "metadata": {},
     "output_type": "execute_result"
    }
   ],
   "source": [
    "# Regression Latitude vs Temp - Southern Hemisphere\n",
    "feature = south_df[[\"Latitude\"]]\n",
    "target = south_df[\"Temp\"]\n",
    "\n",
    "# STATSMODELS\n",
    "X = sm.add_constant(feature)\n",
    "Y = target\n",
    "\n",
    "model = sm.OLS(Y,X)\n",
    "results = model.fit()\n",
    "results.summary()"
   ]
  },
  {
   "cell_type": "markdown",
   "metadata": {},
   "source": [
    "####  Northern Hemisphere - Humidity (%) vs. Latitude Linear Regression"
   ]
  },
  {
   "cell_type": "code",
   "execution_count": 72,
   "metadata": {},
   "outputs": [
    {
     "name": "stdout",
     "output_type": "stream",
     "text": [
      "The r-squared is: 0.008039239202616918\n"
     ]
    },
    {
     "data": {
      "image/png": "[encoded data removed]",
      "text/plain": [
       "<Figure size 432x288 with 1 Axes>"
      ]
     },
     "metadata": {
      "needs_background": "light"
     },
     "output_type": "display_data"
    }
   ],
   "source": [
    "x_values = north_df['Latitude']\n",
    "y_values = north_df['Humidity']\n",
    "\n",
    "(slope, intercept, rvalue, pvalue, stderr) = linregress(x_values, y_values)\n",
    "regress_values = x_values * slope + intercept\n",
    "line_eq = \"y = \" + str(round(slope,2)) + \"x + \" + str(round(intercept,2))\n",
    "plt.scatter(x_values,y_values, color=\"green\")\n",
    "plt.plot(x_values,regress_values,\"r-\")\n",
    "plt.annotate(line_eq,(1,7),fontsize=15,color=\"black\")\n",
    "plt.xlabel('Latitude')\n",
    "plt.ylabel('Humidity')\n",
    "plt.title(\"Northern Hemisphere - Humidity (%) vs. Latitude\", fontsize=22, fontweight=\"bold\")\n",
    "# print(f\"The r-squared is: {results.rsquared}\")\n",
    "print(f\"The r-squared is: {rvalue**2}\")\n",
    "plt.show()"
   ]
  },
  {
   "cell_type": "code",
   "execution_count": 83,
   "metadata": {},
   "outputs": [
    {
     "data": {
      "text/html": [
       "<table class=\"simpletable\">\n",
       "<caption>OLS Regression Results</caption>\n",
       "<tr>\n",
       "  <th>Dep. Variable:</th>        <td>Humidity</td>     <th>  R-squared:         </th> <td>   0.008</td>\n",
       "</tr>\n",
       "<tr>\n",
       "  <th>Model:</th>                   <td>OLS</td>       <th>  Adj. R-squared:    </th> <td>   0.006</td>\n",
       "</tr>\n",
       "<tr>\n",
       "  <th>Method:</th>             <td>Least Squares</td>  <th>  F-statistic:       </th> <td>   3.193</td>\n",
       "</tr>\n",
       "<tr>\n",
       "  <th>Date:</th>             <td>Mon, 06 Sep 2021</td> <th>  Prob (F-statistic):</th>  <td>0.0747</td> \n",
       "</tr>\n",
       "<tr>\n",
       "  <th>Time:</th>                 <td>09:49:51</td>     <th>  Log-Likelihood:    </th> <td> -1808.1</td>\n",
       "</tr>\n",
       "<tr>\n",
       "  <th>No. Observations:</th>      <td>   396</td>      <th>  AIC:               </th> <td>   3620.</td>\n",
       "</tr>\n",
       "<tr>\n",
       "  <th>Df Residuals:</th>          <td>   394</td>      <th>  BIC:               </th> <td>   3628.</td>\n",
       "</tr>\n",
       "<tr>\n",
       "  <th>Df Model:</th>              <td>     1</td>      <th>                     </th>     <td> </td>   \n",
       "</tr>\n",
       "<tr>\n",
       "  <th>Covariance Type:</th>      <td>nonrobust</td>    <th>                     </th>     <td> </td>   \n",
       "</tr>\n",
       "</table>\n",
       "<table class=\"simpletable\">\n",
       "<tr>\n",
       "      <td></td>        <th>coef</th>     <th>std err</th>      <th>t</th>      <th>P>|t|</th>  <th>[0.025</th>    <th>0.975]</th>  \n",
       "</tr>\n",
       "<tr>\n",
       "  <th>const</th>    <td>   65.1168</td> <td>    2.509</td> <td>   25.954</td> <td> 0.000</td> <td>   60.184</td> <td>   70.049</td>\n",
       "</tr>\n",
       "<tr>\n",
       "  <th>Latitude</th> <td>    0.1033</td> <td>    0.058</td> <td>    1.787</td> <td> 0.075</td> <td>   -0.010</td> <td>    0.217</td>\n",
       "</tr>\n",
       "</table>\n",
       "<table class=\"simpletable\">\n",
       "<tr>\n",
       "  <th>Omnibus:</th>       <td>44.848</td> <th>  Durbin-Watson:     </th> <td>   2.040</td>\n",
       "</tr>\n",
       "<tr>\n",
       "  <th>Prob(Omnibus):</th> <td> 0.000</td> <th>  Jarque-Bera (JB):  </th> <td>  58.504</td>\n",
       "</tr>\n",
       "<tr>\n",
       "  <th>Skew:</th>          <td>-0.941</td> <th>  Prob(JB):          </th> <td>1.98e-13</td>\n",
       "</tr>\n",
       "<tr>\n",
       "  <th>Kurtosis:</th>      <td> 2.940</td> <th>  Cond. No.          </th> <td>    93.0</td>\n",
       "</tr>\n",
       "</table><br/><br/>Notes:<br/>[1] Standard Errors assume that the covariance matrix of the errors is correctly specified."
      ],
      "text/plain": [
       "<class 'statsmodels.iolib.summary.Summary'>\n",
       "\"\"\"\n",
       "                            OLS Regression Results                            \n",
       "==============================================================================\n",
       "Dep. Variable:               Humidity   R-squared:                       0.008\n",
       "Model:                            OLS   Adj. R-squared:                  0.006\n",
       "Method:                 Least Squares   F-statistic:                     3.193\n",
       "Date:                Mon, 06 Sep 2021   Prob (F-statistic):             0.0747\n",
       "Time:                        09:49:51   Log-Likelihood:                -1808.1\n",
       "No. Observations:                 396   AIC:                             3620.\n",
       "Df Residuals:                     394   BIC:                             3628.\n",
       "Df Model:                           1                                         \n",
       "Covariance Type:            nonrobust                                         \n",
       "==============================================================================\n",
       "                 coef    std err          t      P>|t|      [0.025      0.975]\n",
       "------------------------------------------------------------------------------\n",
       "const         65.1168      2.509     25.954      0.000      60.184      70.049\n",
       "Latitude       0.1033      0.058      1.787      0.075      -0.010       0.217\n",
       "==============================================================================\n",
       "Omnibus:                       44.848   Durbin-Watson:                   2.040\n",
       "Prob(Omnibus):                  0.000   Jarque-Bera (JB):               58.504\n",
       "Skew:                          -0.941   Prob(JB):                     1.98e-13\n",
       "Kurtosis:                       2.940   Cond. No.                         93.0\n",
       "==============================================================================\n",
       "\n",
       "Notes:\n",
       "[1] Standard Errors assume that the covariance matrix of the errors is correctly specified.\n",
       "\"\"\""
      ]
     },
     "execution_count": 83,
     "metadata": {},
     "output_type": "execute_result"
    }
   ],
   "source": [
    "# Regression Latitude vs Humidity - Northern Hemisphere\n",
    "feature = north_df[[\"Latitude\"]]\n",
    "target = north_df[\"Humidity\"]\n",
    "\n",
    "# STATSMODELS\n",
    "X = sm.add_constant(feature)\n",
    "Y = target\n",
    "\n",
    "model = sm.OLS(Y,X)\n",
    "results = model.fit()\n",
    "results.summary()"
   ]
  },
  {
   "cell_type": "markdown",
   "metadata": {},
   "source": [
    "####  Southern Hemisphere - Humidity (%) vs. Latitude Linear Regression"
   ]
  },
  {
   "cell_type": "code",
   "execution_count": 73,
   "metadata": {},
   "outputs": [
    {
     "name": "stdout",
     "output_type": "stream",
     "text": [
      "The r-squared is: 0.027742329081400754\n"
     ]
    },
    {
     "data": {
      "image/png": "[encoded data removed]",
      "text/plain": [
       "<Figure size 432x288 with 1 Axes>"
      ]
     },
     "metadata": {
      "needs_background": "light"
     },
     "output_type": "display_data"
    }
   ],
   "source": [
    "x_values = south_df['Latitude']\n",
    "y_values = south_df['Humidity']\n",
    "\n",
    "(slope, intercept, rvalue, pvalue, stderr) = linregress(x_values, y_values)\n",
    "regress_values = x_values * slope + intercept\n",
    "line_eq = \"y = \" + str(round(slope,2)) + \"x + \" + str(round(intercept,2))\n",
    "plt.scatter(x_values,y_values, color=\"green\")\n",
    "plt.plot(x_values,regress_values,\"r-\")\n",
    "plt.annotate(line_eq,(1,7),fontsize=15,color=\"black\")\n",
    "plt.xlabel('Latitude')\n",
    "plt.ylabel('Humidity')\n",
    "plt.title(\"Southern Hemisphere - Humidity (%) vs. Latitude\", fontsize=22, fontweight=\"bold\")\n",
    "# print(f\"The r-squared is: {results.rsquared}\")\n",
    "print(f\"The r-squared is: {rvalue**2}\")\n",
    "plt.show()"
   ]
  },
  {
   "cell_type": "code",
   "execution_count": 80,
   "metadata": {},
   "outputs": [
    {
     "data": {
      "text/html": [
       "<table class=\"simpletable\">\n",
       "<caption>OLS Regression Results</caption>\n",
       "<tr>\n",
       "  <th>Dep. Variable:</th>        <td>Humidity</td>     <th>  R-squared:         </th> <td>   0.028</td>\n",
       "</tr>\n",
       "<tr>\n",
       "  <th>Model:</th>                   <td>OLS</td>       <th>  Adj. R-squared:    </th> <td>   0.022</td>\n",
       "</tr>\n",
       "<tr>\n",
       "  <th>Method:</th>             <td>Least Squares</td>  <th>  F-statistic:       </th> <td>   4.851</td>\n",
       "</tr>\n",
       "<tr>\n",
       "  <th>Date:</th>             <td>Mon, 06 Sep 2021</td> <th>  Prob (F-statistic):</th>  <td>0.0290</td> \n",
       "</tr>\n",
       "<tr>\n",
       "  <th>Time:</th>                 <td>09:45:27</td>     <th>  Log-Likelihood:    </th> <td> -783.06</td>\n",
       "</tr>\n",
       "<tr>\n",
       "  <th>No. Observations:</th>      <td>   172</td>      <th>  AIC:               </th> <td>   1570.</td>\n",
       "</tr>\n",
       "<tr>\n",
       "  <th>Df Residuals:</th>          <td>   170</td>      <th>  BIC:               </th> <td>   1576.</td>\n",
       "</tr>\n",
       "<tr>\n",
       "  <th>Df Model:</th>              <td>     1</td>      <th>                     </th>     <td> </td>   \n",
       "</tr>\n",
       "<tr>\n",
       "  <th>Covariance Type:</th>      <td>nonrobust</td>    <th>                     </th>     <td> </td>   \n",
       "</tr>\n",
       "</table>\n",
       "<table class=\"simpletable\">\n",
       "<tr>\n",
       "      <td></td>        <th>coef</th>     <th>std err</th>      <th>t</th>      <th>P>|t|</th>  <th>[0.025</th>    <th>0.975]</th>  \n",
       "</tr>\n",
       "<tr>\n",
       "  <th>const</th>    <td>   57.9597</td> <td>    3.186</td> <td>   18.191</td> <td> 0.000</td> <td>   51.670</td> <td>   64.249</td>\n",
       "</tr>\n",
       "<tr>\n",
       "  <th>Latitude</th> <td>   -0.2860</td> <td>    0.130</td> <td>   -2.202</td> <td> 0.029</td> <td>   -0.542</td> <td>   -0.030</td>\n",
       "</tr>\n",
       "</table>\n",
       "<table class=\"simpletable\">\n",
       "<tr>\n",
       "  <th>Omnibus:</th>       <td>14.371</td> <th>  Durbin-Watson:     </th> <td>   1.937</td>\n",
       "</tr>\n",
       "<tr>\n",
       "  <th>Prob(Omnibus):</th> <td> 0.001</td> <th>  Jarque-Bera (JB):  </th> <td>  13.710</td>\n",
       "</tr>\n",
       "<tr>\n",
       "  <th>Skew:</th>          <td>-0.629</td> <th>  Prob(JB):          </th> <td> 0.00105</td>\n",
       "</tr>\n",
       "<tr>\n",
       "  <th>Kurtosis:</th>      <td> 2.426</td> <th>  Cond. No.          </th> <td>    44.4</td>\n",
       "</tr>\n",
       "</table><br/><br/>Notes:<br/>[1] Standard Errors assume that the covariance matrix of the errors is correctly specified."
      ],
      "text/plain": [
       "<class 'statsmodels.iolib.summary.Summary'>\n",
       "\"\"\"\n",
       "                            OLS Regression Results                            \n",
       "==============================================================================\n",
       "Dep. Variable:               Humidity   R-squared:                       0.028\n",
       "Model:                            OLS   Adj. R-squared:                  0.022\n",
       "Method:                 Least Squares   F-statistic:                     4.851\n",
       "Date:                Mon, 06 Sep 2021   Prob (F-statistic):             0.0290\n",
       "Time:                        09:45:27   Log-Likelihood:                -783.06\n",
       "No. Observations:                 172   AIC:                             1570.\n",
       "Df Residuals:                     170   BIC:                             1576.\n",
       "Df Model:                           1                                         \n",
       "Covariance Type:            nonrobust                                         \n",
       "==============================================================================\n",
       "                 coef    std err          t      P>|t|      [0.025      0.975]\n",
       "------------------------------------------------------------------------------\n",
       "const         57.9597      3.186     18.191      0.000      51.670      64.249\n",
       "Latitude      -0.2860      0.130     -2.202      0.029      -0.542      -0.030\n",
       "==============================================================================\n",
       "Omnibus:                       14.371   Durbin-Watson:                   1.937\n",
       "Prob(Omnibus):                  0.001   Jarque-Bera (JB):               13.710\n",
       "Skew:                          -0.629   Prob(JB):                      0.00105\n",
       "Kurtosis:                       2.426   Cond. No.                         44.4\n",
       "==============================================================================\n",
       "\n",
       "Notes:\n",
       "[1] Standard Errors assume that the covariance matrix of the errors is correctly specified.\n",
       "\"\"\""
      ]
     },
     "execution_count": 80,
     "metadata": {},
     "output_type": "execute_result"
    }
   ],
   "source": [
    "# Regression Latitude vs Humidity - Southern Hemisphere\n",
    "feature = south_df[[\"Latitude\"]]\n",
    "target = south_df[\"Humidity\"]\n",
    "\n",
    "# STATSMODELS\n",
    "X = sm.add_constant(feature)\n",
    "Y = target\n",
    "\n",
    "model = sm.OLS(Y,X)\n",
    "results = model.fit()\n",
    "results.summary()\n"
   ]
  },
  {
   "cell_type": "markdown",
   "metadata": {},
   "source": [
    "####  Northern Hemisphere - Cloudiness (%) vs. Latitude Linear Regression"
   ]
  },
  {
   "cell_type": "code",
   "execution_count": 74,
   "metadata": {},
   "outputs": [
    {
     "name": "stdout",
     "output_type": "stream",
     "text": [
      "The r-squared is: 0.0008293481199383216\n"
     ]
    },
    {
     "data": {
      "image/png": "[encoded data removed]",
      "text/plain": [
       "<Figure size 432x288 with 1 Axes>"
      ]
     },
     "metadata": {
      "needs_background": "light"
     },
     "output_type": "display_data"
    }
   ],
   "source": [
    "x_values = north_df['Latitude']\n",
    "y_values = north_df['Pressure']\n",
    "\n",
    "(slope, intercept, rvalue, pvalue, stderr) = linregress(x_values, y_values)\n",
    "regress_values = x_values * slope + intercept\n",
    "line_eq = \"y = \" + str(round(slope,2)) + \"x + \" + str(round(intercept,2))\n",
    "plt.scatter(x_values,y_values, color=\"green\")\n",
    "plt.plot(x_values,regress_values,\"r-\")\n",
    "plt.annotate(line_eq,(1,7),fontsize=15,color=\"black\")\n",
    "plt.xlabel('Latitude')\n",
    "plt.ylabel('Pressure')\n",
    "plt.title(\"Northern Hemisphere - Cloudiness (%) vs. Latitude\", fontsize=22, fontweight=\"bold\")\n",
    "# print(f\"The r-squared is: {results.rsquared}\")\n",
    "print(f\"The r-squared is: {rvalue**2}\")\n",
    "plt.show()"
   ]
  },
  {
   "cell_type": "code",
   "execution_count": 84,
   "metadata": {},
   "outputs": [
    {
     "data": {
      "text/html": [
       "<table class=\"simpletable\">\n",
       "<caption>OLS Regression Results</caption>\n",
       "<tr>\n",
       "  <th>Dep. Variable:</th>        <td>Pressure</td>     <th>  R-squared:         </th> <td>   0.001</td>\n",
       "</tr>\n",
       "<tr>\n",
       "  <th>Model:</th>                   <td>OLS</td>       <th>  Adj. R-squared:    </th> <td>  -0.002</td>\n",
       "</tr>\n",
       "<tr>\n",
       "  <th>Method:</th>             <td>Least Squares</td>  <th>  F-statistic:       </th> <td>  0.3270</td>\n",
       "</tr>\n",
       "<tr>\n",
       "  <th>Date:</th>             <td>Mon, 06 Sep 2021</td> <th>  Prob (F-statistic):</th>  <td> 0.568</td> \n",
       "</tr>\n",
       "<tr>\n",
       "  <th>Time:</th>                 <td>09:51:11</td>     <th>  Log-Likelihood:    </th> <td> -1333.0</td>\n",
       "</tr>\n",
       "<tr>\n",
       "  <th>No. Observations:</th>      <td>   396</td>      <th>  AIC:               </th> <td>   2670.</td>\n",
       "</tr>\n",
       "<tr>\n",
       "  <th>Df Residuals:</th>          <td>   394</td>      <th>  BIC:               </th> <td>   2678.</td>\n",
       "</tr>\n",
       "<tr>\n",
       "  <th>Df Model:</th>              <td>     1</td>      <th>                     </th>     <td> </td>   \n",
       "</tr>\n",
       "<tr>\n",
       "  <th>Covariance Type:</th>      <td>nonrobust</td>    <th>                     </th>     <td> </td>   \n",
       "</tr>\n",
       "</table>\n",
       "<table class=\"simpletable\">\n",
       "<tr>\n",
       "      <td></td>        <th>coef</th>     <th>std err</th>      <th>t</th>      <th>P>|t|</th>  <th>[0.025</th>    <th>0.975]</th>  \n",
       "</tr>\n",
       "<tr>\n",
       "  <th>const</th>    <td> 1012.1178</td> <td>    0.756</td> <td> 1339.054</td> <td> 0.000</td> <td> 1010.632</td> <td> 1013.604</td>\n",
       "</tr>\n",
       "<tr>\n",
       "  <th>Latitude</th> <td>    0.0100</td> <td>    0.017</td> <td>    0.572</td> <td> 0.568</td> <td>   -0.024</td> <td>    0.044</td>\n",
       "</tr>\n",
       "</table>\n",
       "<table class=\"simpletable\">\n",
       "<tr>\n",
       "  <th>Omnibus:</th>       <td>232.745</td> <th>  Durbin-Watson:     </th> <td>   1.890</td>\n",
       "</tr>\n",
       "<tr>\n",
       "  <th>Prob(Omnibus):</th> <td> 0.000</td>  <th>  Jarque-Bera (JB):  </th> <td>4582.020</td>\n",
       "</tr>\n",
       "<tr>\n",
       "  <th>Skew:</th>          <td>-2.068</td>  <th>  Prob(JB):          </th> <td>    0.00</td>\n",
       "</tr>\n",
       "<tr>\n",
       "  <th>Kurtosis:</th>      <td>19.143</td>  <th>  Cond. No.          </th> <td>    93.0</td>\n",
       "</tr>\n",
       "</table><br/><br/>Notes:<br/>[1] Standard Errors assume that the covariance matrix of the errors is correctly specified."
      ],
      "text/plain": [
       "<class 'statsmodels.iolib.summary.Summary'>\n",
       "\"\"\"\n",
       "                            OLS Regression Results                            \n",
       "==============================================================================\n",
       "Dep. Variable:               Pressure   R-squared:                       0.001\n",
       "Model:                            OLS   Adj. R-squared:                 -0.002\n",
       "Method:                 Least Squares   F-statistic:                    0.3270\n",
       "Date:                Mon, 06 Sep 2021   Prob (F-statistic):              0.568\n",
       "Time:                        09:51:11   Log-Likelihood:                -1333.0\n",
       "No. Observations:                 396   AIC:                             2670.\n",
       "Df Residuals:                     394   BIC:                             2678.\n",
       "Df Model:                           1                                         \n",
       "Covariance Type:            nonrobust                                         \n",
       "==============================================================================\n",
       "                 coef    std err          t      P>|t|      [0.025      0.975]\n",
       "------------------------------------------------------------------------------\n",
       "const       1012.1178      0.756   1339.054      0.000    1010.632    1013.604\n",
       "Latitude       0.0100      0.017      0.572      0.568      -0.024       0.044\n",
       "==============================================================================\n",
       "Omnibus:                      232.745   Durbin-Watson:                   1.890\n",
       "Prob(Omnibus):                  0.000   Jarque-Bera (JB):             4582.020\n",
       "Skew:                          -2.068   Prob(JB):                         0.00\n",
       "Kurtosis:                      19.143   Cond. No.                         93.0\n",
       "==============================================================================\n",
       "\n",
       "Notes:\n",
       "[1] Standard Errors assume that the covariance matrix of the errors is correctly specified.\n",
       "\"\"\""
      ]
     },
     "execution_count": 84,
     "metadata": {},
     "output_type": "execute_result"
    }
   ],
   "source": [
    "# Regression Latitude vs Pressure - Northern Hemisphere\n",
    "feature = north_df[[\"Latitude\"]]\n",
    "target = north_df[\"Pressure\"]\n",
    "\n",
    "# STATSMODELS\n",
    "X = sm.add_constant(feature)\n",
    "Y = target\n",
    "\n",
    "model = sm.OLS(Y,X)\n",
    "results = model.fit()\n",
    "results.summary()"
   ]
  },
  {
   "cell_type": "markdown",
   "metadata": {},
   "source": [
    "####  Southern Hemisphere - Cloudiness (%) vs. Latitude Linear Regression"
   ]
  },
  {
   "cell_type": "code",
   "execution_count": 75,
   "metadata": {},
   "outputs": [
    {
     "name": "stdout",
     "output_type": "stream",
     "text": [
      "The r-squared is: 0.08837805863863755\n"
     ]
    },
    {
     "data": {
      "image/png": "[encoded data removed]",
      "text/plain": [
       "<Figure size 432x288 with 1 Axes>"
      ]
     },
     "metadata": {
      "needs_background": "light"
     },
     "output_type": "display_data"
    }
   ],
   "source": [
    "x_values = south_df['Latitude']\n",
    "y_values = south_df['Pressure']\n",
    "\n",
    "(slope, intercept, rvalue, pvalue, stderr) = linregress(x_values, y_values)\n",
    "regress_values = x_values * slope + intercept\n",
    "line_eq = \"y = \" + str(round(slope,2)) + \"x + \" + str(round(intercept,2))\n",
    "plt.scatter(x_values,y_values, color=\"green\")\n",
    "plt.plot(x_values,regress_values,\"r-\")\n",
    "plt.annotate(line_eq,(1,7),fontsize=15,color=\"black\")\n",
    "plt.xlabel('Latitude')\n",
    "plt.ylabel('Pressure')\n",
    "plt.title(\"Southern Hemisphere - Cloudiness (%) vs. Latitude\", fontsize=22, fontweight=\"bold\")\n",
    "# print(f\"The r-squared is: {results.rsquared}\")\n",
    "print(f\"The r-squared is: {rvalue**2}\")\n",
    "plt.show()"
   ]
  },
  {
   "cell_type": "code",
   "execution_count": 85,
   "metadata": {},
   "outputs": [
    {
     "data": {
      "text/html": [
       "<table class=\"simpletable\">\n",
       "<caption>OLS Regression Results</caption>\n",
       "<tr>\n",
       "  <th>Dep. Variable:</th>        <td>Pressure</td>     <th>  R-squared:         </th> <td>   0.088</td>\n",
       "</tr>\n",
       "<tr>\n",
       "  <th>Model:</th>                   <td>OLS</td>       <th>  Adj. R-squared:    </th> <td>   0.083</td>\n",
       "</tr>\n",
       "<tr>\n",
       "  <th>Method:</th>             <td>Least Squares</td>  <th>  F-statistic:       </th> <td>   16.48</td>\n",
       "</tr>\n",
       "<tr>\n",
       "  <th>Date:</th>             <td>Mon, 06 Sep 2021</td> <th>  Prob (F-statistic):</th> <td>7.48e-05</td>\n",
       "</tr>\n",
       "<tr>\n",
       "  <th>Time:</th>                 <td>09:51:39</td>     <th>  Log-Likelihood:    </th> <td> -565.10</td>\n",
       "</tr>\n",
       "<tr>\n",
       "  <th>No. Observations:</th>      <td>   172</td>      <th>  AIC:               </th> <td>   1134.</td>\n",
       "</tr>\n",
       "<tr>\n",
       "  <th>Df Residuals:</th>          <td>   170</td>      <th>  BIC:               </th> <td>   1141.</td>\n",
       "</tr>\n",
       "<tr>\n",
       "  <th>Df Model:</th>              <td>     1</td>      <th>                     </th>     <td> </td>   \n",
       "</tr>\n",
       "<tr>\n",
       "  <th>Covariance Type:</th>      <td>nonrobust</td>    <th>                     </th>     <td> </td>   \n",
       "</tr>\n",
       "</table>\n",
       "<table class=\"simpletable\">\n",
       "<tr>\n",
       "      <td></td>        <th>coef</th>     <th>std err</th>      <th>t</th>      <th>P>|t|</th>  <th>[0.025</th>    <th>0.975]</th>  \n",
       "</tr>\n",
       "<tr>\n",
       "  <th>const</th>    <td> 1013.4002</td> <td>    0.897</td> <td> 1129.376</td> <td> 0.000</td> <td> 1011.629</td> <td> 1015.171</td>\n",
       "</tr>\n",
       "<tr>\n",
       "  <th>Latitude</th> <td>   -0.1485</td> <td>    0.037</td> <td>   -4.060</td> <td> 0.000</td> <td>   -0.221</td> <td>   -0.076</td>\n",
       "</tr>\n",
       "</table>\n",
       "<table class=\"simpletable\">\n",
       "<tr>\n",
       "  <th>Omnibus:</th>       <td>25.787</td> <th>  Durbin-Watson:     </th> <td>   2.126</td>\n",
       "</tr>\n",
       "<tr>\n",
       "  <th>Prob(Omnibus):</th> <td> 0.000</td> <th>  Jarque-Bera (JB):  </th> <td>  51.078</td>\n",
       "</tr>\n",
       "<tr>\n",
       "  <th>Skew:</th>          <td>-0.700</td> <th>  Prob(JB):          </th> <td>8.10e-12</td>\n",
       "</tr>\n",
       "<tr>\n",
       "  <th>Kurtosis:</th>      <td> 5.273</td> <th>  Cond. No.          </th> <td>    44.4</td>\n",
       "</tr>\n",
       "</table><br/><br/>Notes:<br/>[1] Standard Errors assume that the covariance matrix of the errors is correctly specified."
      ],
      "text/plain": [
       "<class 'statsmodels.iolib.summary.Summary'>\n",
       "\"\"\"\n",
       "                            OLS Regression Results                            \n",
       "==============================================================================\n",
       "Dep. Variable:               Pressure   R-squared:                       0.088\n",
       "Model:                            OLS   Adj. R-squared:                  0.083\n",
       "Method:                 Least Squares   F-statistic:                     16.48\n",
       "Date:                Mon, 06 Sep 2021   Prob (F-statistic):           7.48e-05\n",
       "Time:                        09:51:39   Log-Likelihood:                -565.10\n",
       "No. Observations:                 172   AIC:                             1134.\n",
       "Df Residuals:                     170   BIC:                             1141.\n",
       "Df Model:                           1                                         \n",
       "Covariance Type:            nonrobust                                         \n",
       "==============================================================================\n",
       "                 coef    std err          t      P>|t|      [0.025      0.975]\n",
       "------------------------------------------------------------------------------\n",
       "const       1013.4002      0.897   1129.376      0.000    1011.629    1015.171\n",
       "Latitude      -0.1485      0.037     -4.060      0.000      -0.221      -0.076\n",
       "==============================================================================\n",
       "Omnibus:                       25.787   Durbin-Watson:                   2.126\n",
       "Prob(Omnibus):                  0.000   Jarque-Bera (JB):               51.078\n",
       "Skew:                          -0.700   Prob(JB):                     8.10e-12\n",
       "Kurtosis:                       5.273   Cond. No.                         44.4\n",
       "==============================================================================\n",
       "\n",
       "Notes:\n",
       "[1] Standard Errors assume that the covariance matrix of the errors is correctly specified.\n",
       "\"\"\""
      ]
     },
     "execution_count": 85,
     "metadata": {},
     "output_type": "execute_result"
    }
   ],
   "source": [
    "# Regression Latitude vs Pressure - Southern Hemisphere\n",
    "feature = south_df[[\"Latitude\"]]\n",
    "target = south_df[\"Pressure\"]\n",
    "\n",
    "# STATSMODELS\n",
    "X = sm.add_constant(feature)\n",
    "Y = target\n",
    "\n",
    "model = sm.OLS(Y,X)\n",
    "results = model.fit()\n",
    "results.summary()"
   ]
  },
  {
   "cell_type": "markdown",
   "metadata": {},
   "source": [
    "####  Northern Hemisphere - Wind Speed (mph) vs. Latitude Linear Regression"
   ]
  },
  {
   "cell_type": "code",
   "execution_count": 77,
   "metadata": {},
   "outputs": [
    {
     "name": "stdout",
     "output_type": "stream",
     "text": [
      "The r-squared is: 0.0038591732448271555\n"
     ]
    },
    {
     "data": {
      "image/png": "[encoded data removed]",
      "text/plain": [
       "<Figure size 432x288 with 1 Axes>"
      ]
     },
     "metadata": {
      "needs_background": "light"
     },
     "output_type": "display_data"
    }
   ],
   "source": [
    "x_values = north_df['Latitude']\n",
    "y_values = north_df['Wind']\n",
    "\n",
    "(slope, intercept, rvalue, pvalue, stderr) = linregress(x_values, y_values)\n",
    "regress_values = x_values * slope + intercept\n",
    "line_eq = \"y = \" + str(round(slope,2)) + \"x + \" + str(round(intercept,2))\n",
    "plt.scatter(x_values,y_values, color=\"green\")\n",
    "plt.plot(x_values,regress_values,\"r-\")\n",
    "plt.annotate(line_eq,(1,7),fontsize=15,color=\"black\")\n",
    "plt.xlabel('Latitude')\n",
    "plt.ylabel('Wind Speed')\n",
    "plt.title(\"Northern Hemisphere - Wind Speed (mph) vs. Latitude\", fontsize=22, fontweight=\"bold\")\n",
    "# print(f\"The r-squared is: {results.rsquared}\")\n",
    "print(f\"The r-squared is: {rvalue**2}\")\n",
    "plt.show()"
   ]
  },
  {
   "cell_type": "code",
   "execution_count": 88,
   "metadata": {},
   "outputs": [
    {
     "data": {
      "text/html": [
       "<table class=\"simpletable\">\n",
       "<caption>OLS Regression Results</caption>\n",
       "<tr>\n",
       "  <th>Dep. Variable:</th>          <td>Wind</td>       <th>  R-squared:         </th> <td>   0.004</td>\n",
       "</tr>\n",
       "<tr>\n",
       "  <th>Model:</th>                   <td>OLS</td>       <th>  Adj. R-squared:    </th> <td>   0.001</td>\n",
       "</tr>\n",
       "<tr>\n",
       "  <th>Method:</th>             <td>Least Squares</td>  <th>  F-statistic:       </th> <td>   1.526</td>\n",
       "</tr>\n",
       "<tr>\n",
       "  <th>Date:</th>             <td>Mon, 06 Sep 2021</td> <th>  Prob (F-statistic):</th>  <td> 0.217</td> \n",
       "</tr>\n",
       "<tr>\n",
       "  <th>Time:</th>                 <td>09:52:47</td>     <th>  Log-Likelihood:    </th> <td> -1212.1</td>\n",
       "</tr>\n",
       "<tr>\n",
       "  <th>No. Observations:</th>      <td>   396</td>      <th>  AIC:               </th> <td>   2428.</td>\n",
       "</tr>\n",
       "<tr>\n",
       "  <th>Df Residuals:</th>          <td>   394</td>      <th>  BIC:               </th> <td>   2436.</td>\n",
       "</tr>\n",
       "<tr>\n",
       "  <th>Df Model:</th>              <td>     1</td>      <th>                     </th>     <td> </td>   \n",
       "</tr>\n",
       "<tr>\n",
       "  <th>Covariance Type:</th>      <td>nonrobust</td>    <th>                     </th>     <td> </td>   \n",
       "</tr>\n",
       "</table>\n",
       "<table class=\"simpletable\">\n",
       "<tr>\n",
       "      <td></td>        <th>coef</th>     <th>std err</th>      <th>t</th>      <th>P>|t|</th>  <th>[0.025</th>    <th>0.975]</th>  \n",
       "</tr>\n",
       "<tr>\n",
       "  <th>const</th>    <td>    6.4810</td> <td>    0.557</td> <td>   11.634</td> <td> 0.000</td> <td>    5.386</td> <td>    7.576</td>\n",
       "</tr>\n",
       "<tr>\n",
       "  <th>Latitude</th> <td>    0.0159</td> <td>    0.013</td> <td>    1.235</td> <td> 0.217</td> <td>   -0.009</td> <td>    0.041</td>\n",
       "</tr>\n",
       "</table>\n",
       "<table class=\"simpletable\">\n",
       "<tr>\n",
       "  <th>Omnibus:</th>       <td>76.773</td> <th>  Durbin-Watson:     </th> <td>   1.995</td>\n",
       "</tr>\n",
       "<tr>\n",
       "  <th>Prob(Omnibus):</th> <td> 0.000</td> <th>  Jarque-Bera (JB):  </th> <td> 127.098</td>\n",
       "</tr>\n",
       "<tr>\n",
       "  <th>Skew:</th>          <td> 1.148</td> <th>  Prob(JB):          </th> <td>2.52e-28</td>\n",
       "</tr>\n",
       "<tr>\n",
       "  <th>Kurtosis:</th>      <td> 4.559</td> <th>  Cond. No.          </th> <td>    93.0</td>\n",
       "</tr>\n",
       "</table><br/><br/>Notes:<br/>[1] Standard Errors assume that the covariance matrix of the errors is correctly specified."
      ],
      "text/plain": [
       "<class 'statsmodels.iolib.summary.Summary'>\n",
       "\"\"\"\n",
       "                            OLS Regression Results                            \n",
       "==============================================================================\n",
       "Dep. Variable:                   Wind   R-squared:                       0.004\n",
       "Model:                            OLS   Adj. R-squared:                  0.001\n",
       "Method:                 Least Squares   F-statistic:                     1.526\n",
       "Date:                Mon, 06 Sep 2021   Prob (F-statistic):              0.217\n",
       "Time:                        09:52:47   Log-Likelihood:                -1212.1\n",
       "No. Observations:                 396   AIC:                             2428.\n",
       "Df Residuals:                     394   BIC:                             2436.\n",
       "Df Model:                           1                                         \n",
       "Covariance Type:            nonrobust                                         \n",
       "==============================================================================\n",
       "                 coef    std err          t      P>|t|      [0.025      0.975]\n",
       "------------------------------------------------------------------------------\n",
       "const          6.4810      0.557     11.634      0.000       5.386       7.576\n",
       "Latitude       0.0159      0.013      1.235      0.217      -0.009       0.041\n",
       "==============================================================================\n",
       "Omnibus:                       76.773   Durbin-Watson:                   1.995\n",
       "Prob(Omnibus):                  0.000   Jarque-Bera (JB):              127.098\n",
       "Skew:                           1.148   Prob(JB):                     2.52e-28\n",
       "Kurtosis:                       4.559   Cond. No.                         93.0\n",
       "==============================================================================\n",
       "\n",
       "Notes:\n",
       "[1] Standard Errors assume that the covariance matrix of the errors is correctly specified.\n",
       "\"\"\""
      ]
     },
     "execution_count": 88,
     "metadata": {},
     "output_type": "execute_result"
    }
   ],
   "source": [
    "# Regression Latitude vs Wind Speed - Northern Hemisphere\n",
    "feature = north_df[[\"Latitude\"]]\n",
    "target = north_df[\"Wind\"]\n",
    "\n",
    "# STATSMODELS\n",
    "X = sm.add_constant(feature)\n",
    "Y = target\n",
    "\n",
    "model = sm.OLS(Y,X)\n",
    "results = model.fit()\n",
    "results.summary()"
   ]
  },
  {
   "cell_type": "markdown",
   "metadata": {},
   "source": [
    "####  Southern Hemisphere - Wind Speed (mph) vs. Latitude Linear Regression"
   ]
  },
  {
   "cell_type": "code",
   "execution_count": 78,
   "metadata": {},
   "outputs": [
    {
     "name": "stdout",
     "output_type": "stream",
     "text": [
      "The r-squared is: 0.009248133060631422\n"
     ]
    },
    {
     "data": {
      "image/png": "[encoded data removed]",
      "text/plain": [
       "<Figure size 432x288 with 1 Axes>"
      ]
     },
     "metadata": {
      "needs_background": "light"
     },
     "output_type": "display_data"
    }
   ],
   "source": [
    "x_values = south_df['Latitude']\n",
    "y_values = south_df['Wind']\n",
    "\n",
    "(slope, intercept, rvalue, pvalue, stderr) = linregress(x_values, y_values)\n",
    "regress_values = x_values * slope + intercept\n",
    "line_eq = \"y = \" + str(round(slope,2)) + \"x + \" + str(round(intercept,2))\n",
    "plt.scatter(x_values,y_values, color=\"green\")\n",
    "plt.plot(x_values,regress_values,\"r-\")\n",
    "plt.annotate(line_eq,(1,7),fontsize=15,color=\"black\")\n",
    "plt.xlabel('Latitude')\n",
    "plt.ylabel('Wind Speed')\n",
    "plt.title(\"Southern Hemisphere - Wind Speed (mph) vs. Latitude\", fontsize=22, fontweight=\"bold\")\n",
    "# print(f\"The r-squared is: {results.rsquared}\")\n",
    "print(f\"The r-squared is: {rvalue**2}\")\n",
    "plt.show()"
   ]
  },
  {
   "cell_type": "code",
   "execution_count": 89,
   "metadata": {},
   "outputs": [
    {
     "data": {
      "text/html": [
       "<table class=\"simpletable\">\n",
       "<caption>OLS Regression Results</caption>\n",
       "<tr>\n",
       "  <th>Dep. Variable:</th>          <td>Wind</td>       <th>  R-squared:         </th> <td>   0.009</td>\n",
       "</tr>\n",
       "<tr>\n",
       "  <th>Model:</th>                   <td>OLS</td>       <th>  Adj. R-squared:    </th> <td>   0.003</td>\n",
       "</tr>\n",
       "<tr>\n",
       "  <th>Method:</th>             <td>Least Squares</td>  <th>  F-statistic:       </th> <td>   1.587</td>\n",
       "</tr>\n",
       "<tr>\n",
       "  <th>Date:</th>             <td>Mon, 06 Sep 2021</td> <th>  Prob (F-statistic):</th>  <td> 0.210</td> \n",
       "</tr>\n",
       "<tr>\n",
       "  <th>Time:</th>                 <td>09:53:16</td>     <th>  Log-Likelihood:    </th> <td> -530.02</td>\n",
       "</tr>\n",
       "<tr>\n",
       "  <th>No. Observations:</th>      <td>   172</td>      <th>  AIC:               </th> <td>   1064.</td>\n",
       "</tr>\n",
       "<tr>\n",
       "  <th>Df Residuals:</th>          <td>   170</td>      <th>  BIC:               </th> <td>   1070.</td>\n",
       "</tr>\n",
       "<tr>\n",
       "  <th>Df Model:</th>              <td>     1</td>      <th>                     </th>     <td> </td>   \n",
       "</tr>\n",
       "<tr>\n",
       "  <th>Covariance Type:</th>      <td>nonrobust</td>    <th>                     </th>     <td> </td>   \n",
       "</tr>\n",
       "</table>\n",
       "<table class=\"simpletable\">\n",
       "<tr>\n",
       "      <td></td>        <th>coef</th>     <th>std err</th>      <th>t</th>      <th>P>|t|</th>  <th>[0.025</th>    <th>0.975]</th>  \n",
       "</tr>\n",
       "<tr>\n",
       "  <th>const</th>    <td>    8.0187</td> <td>    0.732</td> <td>   10.958</td> <td> 0.000</td> <td>    6.574</td> <td>    9.463</td>\n",
       "</tr>\n",
       "<tr>\n",
       "  <th>Latitude</th> <td>   -0.0376</td> <td>    0.030</td> <td>   -1.260</td> <td> 0.210</td> <td>   -0.096</td> <td>    0.021</td>\n",
       "</tr>\n",
       "</table>\n",
       "<table class=\"simpletable\">\n",
       "<tr>\n",
       "  <th>Omnibus:</th>       <td>34.065</td> <th>  Durbin-Watson:     </th> <td>   2.098</td>\n",
       "</tr>\n",
       "<tr>\n",
       "  <th>Prob(Omnibus):</th> <td> 0.000</td> <th>  Jarque-Bera (JB):  </th> <td>  53.730</td>\n",
       "</tr>\n",
       "<tr>\n",
       "  <th>Skew:</th>          <td> 1.038</td> <th>  Prob(JB):          </th> <td>2.15e-12</td>\n",
       "</tr>\n",
       "<tr>\n",
       "  <th>Kurtosis:</th>      <td> 4.786</td> <th>  Cond. No.          </th> <td>    44.4</td>\n",
       "</tr>\n",
       "</table><br/><br/>Notes:<br/>[1] Standard Errors assume that the covariance matrix of the errors is correctly specified."
      ],
      "text/plain": [
       "<class 'statsmodels.iolib.summary.Summary'>\n",
       "\"\"\"\n",
       "                            OLS Regression Results                            \n",
       "==============================================================================\n",
       "Dep. Variable:                   Wind   R-squared:                       0.009\n",
       "Model:                            OLS   Adj. R-squared:                  0.003\n",
       "Method:                 Least Squares   F-statistic:                     1.587\n",
       "Date:                Mon, 06 Sep 2021   Prob (F-statistic):              0.210\n",
       "Time:                        09:53:16   Log-Likelihood:                -530.02\n",
       "No. Observations:                 172   AIC:                             1064.\n",
       "Df Residuals:                     170   BIC:                             1070.\n",
       "Df Model:                           1                                         \n",
       "Covariance Type:            nonrobust                                         \n",
       "==============================================================================\n",
       "                 coef    std err          t      P>|t|      [0.025      0.975]\n",
       "------------------------------------------------------------------------------\n",
       "const          8.0187      0.732     10.958      0.000       6.574       9.463\n",
       "Latitude      -0.0376      0.030     -1.260      0.210      -0.096       0.021\n",
       "==============================================================================\n",
       "Omnibus:                       34.065   Durbin-Watson:                   2.098\n",
       "Prob(Omnibus):                  0.000   Jarque-Bera (JB):               53.730\n",
       "Skew:                           1.038   Prob(JB):                     2.15e-12\n",
       "Kurtosis:                       4.786   Cond. No.                         44.4\n",
       "==============================================================================\n",
       "\n",
       "Notes:\n",
       "[1] Standard Errors assume that the covariance matrix of the errors is correctly specified.\n",
       "\"\"\""
      ]
     },
     "execution_count": 89,
     "metadata": {},
     "output_type": "execute_result"
    }
   ],
   "source": [
    "# Regression Latitude vs Wind Speed - Southern Hemisphere\n",
    "feature = south_df[[\"Latitude\"]]\n",
    "target = south_df[\"Wind\"]\n",
    "\n",
    "# STATSMODELS\n",
    "X = sm.add_constant(feature)\n",
    "Y = target\n",
    "\n",
    "model = sm.OLS(Y,X)\n",
    "results = model.fit()\n",
    "results.summary()"
   ]
  },
  {
   "cell_type": "code",
   "execution_count": null,
   "metadata": {},
   "outputs": [],
   "source": []
  }
 ],
 "metadata": {
  "anaconda-cloud": {},
  "kernel_info": {
   "name": "python3"
  },
  "kernelspec": {
   "display_name": "Python 3",
   "language": "python",
   "name": "python3"
  },
  "language_info": {
   "codemirror_mode": {
    "name": "ipython",
    "version": 3
   },
   "file_extension": ".py",
   "mimetype": "text/x-python",
   "name": "python",
   "nbconvert_exporter": "python",
   "pygments_lexer": "ipython3",
   "version": "3.8.8"
  },
  "latex_envs": {
   "LaTeX_envs_menu_present": true,
   "autoclose": false,
   "autocomplete": true,
   "bibliofile": "biblio.bib",
   "cite_by": "apalike",
   "current_citInitial": 1,
   "eqLabelWithNumbers": true,
   "eqNumInitial": 1,
   "hotkeys": {
    "equation": "Ctrl-E",
    "itemize": "Ctrl-I"
   },
   "labels_anchors": false,
   "latex_user_defs": false,
   "report_style_numbering": false,
   "user_envs_cfg": false
  },
  "nteract": {
   "version": "0.12.3"
  }
 },
 "nbformat": 4,
 "nbformat_minor": 2
}
