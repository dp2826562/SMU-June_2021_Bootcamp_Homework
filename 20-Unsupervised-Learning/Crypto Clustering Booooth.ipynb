{
 "cells": [
  {
   "cell_type": "code",
   "execution_count": 1,
   "id": "0f721fdb",
   "metadata": {},
   "outputs": [
    {
     "name": "stderr",
     "output_type": "stream",
     "text": [
      "C:\\Users\\abooth\\AppData\\Local\\Continuum\\anaconda3\\lib\\site-packages\\numpy\\_distributor_init.py:32: UserWarning: loaded more than 1 DLL from .libs:\n",
      "C:\\Users\\abooth\\AppData\\Local\\Continuum\\anaconda3\\lib\\site-packages\\numpy\\.libs\\libopenblas.WCDJNK7YVMPZQ2ME2ZZHJJRJ3JIKNDB7.gfortran-win_amd64.dll\n",
      "C:\\Users\\abooth\\AppData\\Local\\Continuum\\anaconda3\\lib\\site-packages\\numpy\\.libs\\libopenblas.XWYDX2IKJW2NMTWSFYNGFUWKQU3LYTCZ.gfortran-win_amd64.dll\n",
      "  stacklevel=1)\n"
     ]
    }
   ],
   "source": [
    "import pandas as pd\n",
    "import numpy as np\n",
    "import matplotlib.pyplot as plt"
   ]
  },
  {
   "cell_type": "code",
   "execution_count": 2,
   "id": "25cceb66",
   "metadata": {},
   "outputs": [
    {
     "data": {
      "text/html": [
       "<div>\n",
       "<style scoped>\n",
       "    .dataframe tbody tr th:only-of-type {\n",
       "        vertical-align: middle;\n",
       "    }\n",
       "\n",
       "    .dataframe tbody tr th {\n",
       "        vertical-align: top;\n",
       "    }\n",
       "\n",
       "    .dataframe thead th {\n",
       "        text-align: right;\n",
       "    }\n",
       "</style>\n",
       "<table border=\"1\" class=\"dataframe\">\n",
       "  <thead>\n",
       "    <tr style=\"text-align: right;\">\n",
       "      <th></th>\n",
       "      <th>Unnamed: 0</th>\n",
       "      <th>CoinName</th>\n",
       "      <th>Algorithm</th>\n",
       "      <th>IsTrading</th>\n",
       "      <th>ProofType</th>\n",
       "      <th>TotalCoinsMined</th>\n",
       "      <th>TotalCoinSupply</th>\n",
       "    </tr>\n",
       "  </thead>\n",
       "  <tbody>\n",
       "    <tr>\n",
       "      <th>0</th>\n",
       "      <td>42</td>\n",
       "      <td>42 Coin</td>\n",
       "      <td>Scrypt</td>\n",
       "      <td>True</td>\n",
       "      <td>PoW/PoS</td>\n",
       "      <td>4.199995e+01</td>\n",
       "      <td>42</td>\n",
       "    </tr>\n",
       "    <tr>\n",
       "      <th>1</th>\n",
       "      <td>365</td>\n",
       "      <td>365Coin</td>\n",
       "      <td>X11</td>\n",
       "      <td>True</td>\n",
       "      <td>PoW/PoS</td>\n",
       "      <td>NaN</td>\n",
       "      <td>2300000000</td>\n",
       "    </tr>\n",
       "    <tr>\n",
       "      <th>2</th>\n",
       "      <td>404</td>\n",
       "      <td>404Coin</td>\n",
       "      <td>Scrypt</td>\n",
       "      <td>True</td>\n",
       "      <td>PoW/PoS</td>\n",
       "      <td>1.055185e+09</td>\n",
       "      <td>532000000</td>\n",
       "    </tr>\n",
       "    <tr>\n",
       "      <th>3</th>\n",
       "      <td>611</td>\n",
       "      <td>SixEleven</td>\n",
       "      <td>SHA-256</td>\n",
       "      <td>True</td>\n",
       "      <td>PoW</td>\n",
       "      <td>NaN</td>\n",
       "      <td>611000</td>\n",
       "    </tr>\n",
       "    <tr>\n",
       "      <th>4</th>\n",
       "      <td>808</td>\n",
       "      <td>808</td>\n",
       "      <td>SHA-256</td>\n",
       "      <td>True</td>\n",
       "      <td>PoW/PoS</td>\n",
       "      <td>0.000000e+00</td>\n",
       "      <td>0</td>\n",
       "    </tr>\n",
       "  </tbody>\n",
       "</table>\n",
       "</div>"
      ],
      "text/plain": [
       "  Unnamed: 0   CoinName Algorithm  IsTrading ProofType  TotalCoinsMined  \\\n",
       "0         42    42 Coin    Scrypt       True   PoW/PoS     4.199995e+01   \n",
       "1        365    365Coin       X11       True   PoW/PoS              NaN   \n",
       "2        404    404Coin    Scrypt       True   PoW/PoS     1.055185e+09   \n",
       "3        611  SixEleven   SHA-256       True       PoW              NaN   \n",
       "4        808        808   SHA-256       True   PoW/PoS     0.000000e+00   \n",
       "\n",
       "  TotalCoinSupply  \n",
       "0              42  \n",
       "1      2300000000  \n",
       "2       532000000  \n",
       "3          611000  \n",
       "4               0  "
      ]
     },
     "execution_count": 2,
     "metadata": {},
     "output_type": "execute_result"
    }
   ],
   "source": [
    "df = pd.read_csv(\"crypto_data.csv\")\n",
    "df.head()"
   ]
  },
  {
   "cell_type": "code",
   "execution_count": 3,
   "id": "840859d0",
   "metadata": {},
   "outputs": [
    {
     "name": "stdout",
     "output_type": "stream",
     "text": [
      "<class 'pandas.core.frame.DataFrame'>\n",
      "RangeIndex: 1252 entries, 0 to 1251\n",
      "Data columns (total 7 columns):\n",
      " #   Column           Non-Null Count  Dtype  \n",
      "---  ------           --------------  -----  \n",
      " 0   Unnamed: 0       1252 non-null   object \n",
      " 1   CoinName         1252 non-null   object \n",
      " 2   Algorithm        1252 non-null   object \n",
      " 3   IsTrading        1252 non-null   bool   \n",
      " 4   ProofType        1252 non-null   object \n",
      " 5   TotalCoinsMined  744 non-null    float64\n",
      " 6   TotalCoinSupply  1252 non-null   object \n",
      "dtypes: bool(1), float64(1), object(5)\n",
      "memory usage: 60.0+ KB\n"
     ]
    }
   ],
   "source": [
    "df.info()"
   ]
  },
  {
   "cell_type": "code",
   "execution_count": 4,
   "id": "73ff890a",
   "metadata": {},
   "outputs": [
    {
     "data": {
      "text/plain": [
       "True     1144\n",
       "False     108\n",
       "Name: IsTrading, dtype: int64"
      ]
     },
     "execution_count": 4,
     "metadata": {},
     "output_type": "execute_result"
    }
   ],
   "source": [
    "df.IsTrading.value_counts()"
   ]
  },
  {
   "cell_type": "code",
   "execution_count": 5,
   "id": "a03ae67f",
   "metadata": {},
   "outputs": [
    {
     "data": {
      "text/plain": [
       "Scrypt              424\n",
       "X11                 197\n",
       "SHA-256             131\n",
       "X13                  57\n",
       "PoS                  44\n",
       "                   ... \n",
       "Stanford Folding      1\n",
       "VBFT                  1\n",
       "YescryptR16           1\n",
       "IMesh                 1\n",
       "TRC10                 1\n",
       "Name: Algorithm, Length: 95, dtype: int64"
      ]
     },
     "execution_count": 5,
     "metadata": {},
     "output_type": "execute_result"
    }
   ],
   "source": [
    "df.Algorithm.value_counts()"
   ]
  },
  {
   "cell_type": "code",
   "execution_count": 6,
   "id": "26658f3b",
   "metadata": {},
   "outputs": [
    {
     "data": {
      "text/plain": [
       "PoW                                      535\n",
       "PoW/PoS                                  468\n",
       "PoS                                      185\n",
       "DPoS                                      21\n",
       "PoS/PoW                                    5\n",
       "PoA                                        3\n",
       "PoC                                        3\n",
       "LPoS                                       2\n",
       "PoW/PoS                                    2\n",
       "DPoW                                       1\n",
       "DPOS                                       1\n",
       "Limited Confidence Proof-of-Activity       1\n",
       "HPoW                                       1\n",
       "Zero-Knowledge Proof                       1\n",
       "Pos                                        1\n",
       "PoS/LPoS                                   1\n",
       "PoW/DPoW                                   1\n",
       "POS / MN                                   1\n",
       "POBh                                       1\n",
       "Proof of Trust                             1\n",
       "DPoC                                       1\n",
       "PoW + Hive                                 1\n",
       " PoW/PoS                                   1\n",
       "PoW and PoS                                1\n",
       "Proof of Stake                             1\n",
       "Proof of Authority                         1\n",
       "TPoS                                       1\n",
       "PoW/PoW                                    1\n",
       "DPoS/LPoS                                  1\n",
       "dPoW/PoW                                   1\n",
       "PoW/PoS/PoC                                1\n",
       "PoW/nPoS                                   1\n",
       "PoS/PoB                                    1\n",
       "PoB/PoS                                    1\n",
       "PoST                                       1\n",
       "PoS/PoW/PoT                                1\n",
       "DPoI                                       1\n",
       "Name: ProofType, dtype: int64"
      ]
     },
     "execution_count": 6,
     "metadata": {},
     "output_type": "execute_result"
    }
   ],
   "source": [
    "df.ProofType.value_counts()"
   ]
  },
  {
   "cell_type": "code",
   "execution_count": 7,
   "id": "1aa700ab",
   "metadata": {},
   "outputs": [
    {
     "data": {
      "text/html": [
       "<div>\n",
       "<style scoped>\n",
       "    .dataframe tbody tr th:only-of-type {\n",
       "        vertical-align: middle;\n",
       "    }\n",
       "\n",
       "    .dataframe tbody tr th {\n",
       "        vertical-align: top;\n",
       "    }\n",
       "\n",
       "    .dataframe thead th {\n",
       "        text-align: right;\n",
       "    }\n",
       "</style>\n",
       "<table border=\"1\" class=\"dataframe\">\n",
       "  <thead>\n",
       "    <tr style=\"text-align: right;\">\n",
       "      <th></th>\n",
       "      <th>TotalCoinsMined</th>\n",
       "    </tr>\n",
       "  </thead>\n",
       "  <tbody>\n",
       "    <tr>\n",
       "      <th>count</th>\n",
       "      <td>7.440000e+02</td>\n",
       "    </tr>\n",
       "    <tr>\n",
       "      <th>mean</th>\n",
       "      <td>3.883103e+09</td>\n",
       "    </tr>\n",
       "    <tr>\n",
       "      <th>std</th>\n",
       "      <td>3.867263e+10</td>\n",
       "    </tr>\n",
       "    <tr>\n",
       "      <th>min</th>\n",
       "      <td>-5.917978e+09</td>\n",
       "    </tr>\n",
       "    <tr>\n",
       "      <th>25%</th>\n",
       "      <td>6.322164e+05</td>\n",
       "    </tr>\n",
       "    <tr>\n",
       "      <th>50%</th>\n",
       "      <td>1.340427e+07</td>\n",
       "    </tr>\n",
       "    <tr>\n",
       "      <th>75%</th>\n",
       "      <td>9.399895e+07</td>\n",
       "    </tr>\n",
       "    <tr>\n",
       "      <th>max</th>\n",
       "      <td>9.899887e+11</td>\n",
       "    </tr>\n",
       "  </tbody>\n",
       "</table>\n",
       "</div>"
      ],
      "text/plain": [
       "       TotalCoinsMined\n",
       "count     7.440000e+02\n",
       "mean      3.883103e+09\n",
       "std       3.867263e+10\n",
       "min      -5.917978e+09\n",
       "25%       6.322164e+05\n",
       "50%       1.340427e+07\n",
       "75%       9.399895e+07\n",
       "max       9.899887e+11"
      ]
     },
     "execution_count": 7,
     "metadata": {},
     "output_type": "execute_result"
    }
   ],
   "source": [
    "df.describe()"
   ]
  },
  {
   "cell_type": "code",
   "execution_count": 8,
   "id": "5c213b38",
   "metadata": {},
   "outputs": [
    {
     "ename": "ValueError",
     "evalue": "Unable to parse string \"20 000 000\" at position 427",
     "output_type": "error",
     "traceback": [
      "\u001b[1;31m---------------------------------------------------------------------------\u001b[0m",
      "\u001b[1;31mValueError\u001b[0m                                Traceback (most recent call last)",
      "\u001b[1;32m~\\AppData\\Local\\Continuum\\anaconda3\\lib\\site-packages\\pandas\\_libs\\lib.pyx\u001b[0m in \u001b[0;36mpandas._libs.lib.maybe_convert_numeric\u001b[1;34m()\u001b[0m\n",
      "\u001b[1;31mValueError\u001b[0m: Unable to parse string \"20 000 000\"",
      "\nDuring handling of the above exception, another exception occurred:\n",
      "\u001b[1;31mValueError\u001b[0m                                Traceback (most recent call last)",
      "\u001b[1;32m<ipython-input-8-96bf9de60f1c>\u001b[0m in \u001b[0;36m<module>\u001b[1;34m\u001b[0m\n\u001b[1;32m----> 1\u001b[1;33m \u001b[0mpd\u001b[0m\u001b[1;33m.\u001b[0m\u001b[0mto_numeric\u001b[0m\u001b[1;33m(\u001b[0m\u001b[0mdf\u001b[0m\u001b[1;33m.\u001b[0m\u001b[0mTotalCoinSupply\u001b[0m\u001b[1;33m)\u001b[0m\u001b[1;33m\u001b[0m\u001b[1;33m\u001b[0m\u001b[0m\n\u001b[0m",
      "\u001b[1;32m~\\AppData\\Local\\Continuum\\anaconda3\\lib\\site-packages\\pandas\\core\\tools\\numeric.py\u001b[0m in \u001b[0;36mto_numeric\u001b[1;34m(arg, errors, downcast)\u001b[0m\n\u001b[0;32m    182\u001b[0m         \u001b[1;32mtry\u001b[0m\u001b[1;33m:\u001b[0m\u001b[1;33m\u001b[0m\u001b[1;33m\u001b[0m\u001b[0m\n\u001b[0;32m    183\u001b[0m             values, _ = lib.maybe_convert_numeric(\n\u001b[1;32m--> 184\u001b[1;33m                 \u001b[0mvalues\u001b[0m\u001b[1;33m,\u001b[0m \u001b[0mset\u001b[0m\u001b[1;33m(\u001b[0m\u001b[1;33m)\u001b[0m\u001b[1;33m,\u001b[0m \u001b[0mcoerce_numeric\u001b[0m\u001b[1;33m=\u001b[0m\u001b[0mcoerce_numeric\u001b[0m\u001b[1;33m\u001b[0m\u001b[1;33m\u001b[0m\u001b[0m\n\u001b[0m\u001b[0;32m    185\u001b[0m             )\n\u001b[0;32m    186\u001b[0m         \u001b[1;32mexcept\u001b[0m \u001b[1;33m(\u001b[0m\u001b[0mValueError\u001b[0m\u001b[1;33m,\u001b[0m \u001b[0mTypeError\u001b[0m\u001b[1;33m)\u001b[0m\u001b[1;33m:\u001b[0m\u001b[1;33m\u001b[0m\u001b[1;33m\u001b[0m\u001b[0m\n",
      "\u001b[1;32m~\\AppData\\Local\\Continuum\\anaconda3\\lib\\site-packages\\pandas\\_libs\\lib.pyx\u001b[0m in \u001b[0;36mpandas._libs.lib.maybe_convert_numeric\u001b[1;34m()\u001b[0m\n",
      "\u001b[1;31mValueError\u001b[0m: Unable to parse string \"20 000 000\" at position 427"
     ]
    }
   ],
   "source": [
    "pd.to_numeric(df.TotalCoinSupply)"
   ]
  },
  {
   "cell_type": "code",
   "execution_count": null,
   "id": "70d862f0",
   "metadata": {},
   "outputs": [],
   "source": []
  },
  {
   "cell_type": "markdown",
   "id": "eed1c014",
   "metadata": {},
   "source": [
    "# Data Preparation"
   ]
  },
  {
   "cell_type": "code",
   "execution_count": 21,
   "id": "edf1e0d6",
   "metadata": {},
   "outputs": [
    {
     "name": "stdout",
     "output_type": "stream",
     "text": [
      "<class 'pandas.core.frame.DataFrame'>\n",
      "RangeIndex: 1144 entries, 0 to 1143\n",
      "Data columns (total 7 columns):\n",
      " #   Column           Non-Null Count  Dtype  \n",
      "---  ------           --------------  -----  \n",
      " 0   Unnamed: 0       1144 non-null   object \n",
      " 1   CoinName         1144 non-null   object \n",
      " 2   Algorithm        1144 non-null   object \n",
      " 3   IsTrading        1144 non-null   bool   \n",
      " 4   ProofType        1144 non-null   object \n",
      " 5   TotalCoinsMined  685 non-null    float64\n",
      " 6   TotalCoinSupply  1144 non-null   object \n",
      "dtypes: bool(1), float64(1), object(5)\n",
      "memory usage: 54.9+ KB\n"
     ]
    }
   ],
   "source": [
    "df_sub = df.copy()\n",
    "\n",
    "df_sub = df_sub.loc[df_sub.IsTrading == True].reset_index(drop=True)\n",
    "\n",
    "df_sub.info()"
   ]
  },
  {
   "cell_type": "code",
   "execution_count": 22,
   "id": "3d80a459",
   "metadata": {},
   "outputs": [
    {
     "name": "stdout",
     "output_type": "stream",
     "text": [
      "<class 'pandas.core.frame.DataFrame'>\n",
      "RangeIndex: 685 entries, 0 to 684\n",
      "Data columns (total 7 columns):\n",
      " #   Column           Non-Null Count  Dtype  \n",
      "---  ------           --------------  -----  \n",
      " 0   Unnamed: 0       685 non-null    object \n",
      " 1   CoinName         685 non-null    object \n",
      " 2   Algorithm        685 non-null    object \n",
      " 3   IsTrading        685 non-null    bool   \n",
      " 4   ProofType        685 non-null    object \n",
      " 5   TotalCoinsMined  685 non-null    float64\n",
      " 6   TotalCoinSupply  685 non-null    object \n",
      "dtypes: bool(1), float64(1), object(5)\n",
      "memory usage: 32.9+ KB\n"
     ]
    }
   ],
   "source": [
    "df_sub = df_sub.dropna(how=\"any\").reset_index(drop=True)\n",
    "df_sub.info()"
   ]
  },
  {
   "cell_type": "code",
   "execution_count": 23,
   "id": "4baf3d05",
   "metadata": {},
   "outputs": [
    {
     "data": {
      "text/html": [
       "<div>\n",
       "<style scoped>\n",
       "    .dataframe tbody tr th:only-of-type {\n",
       "        vertical-align: middle;\n",
       "    }\n",
       "\n",
       "    .dataframe tbody tr th {\n",
       "        vertical-align: top;\n",
       "    }\n",
       "\n",
       "    .dataframe thead th {\n",
       "        text-align: right;\n",
       "    }\n",
       "</style>\n",
       "<table border=\"1\" class=\"dataframe\">\n",
       "  <thead>\n",
       "    <tr style=\"text-align: right;\">\n",
       "      <th></th>\n",
       "      <th>Unnamed: 0</th>\n",
       "      <th>CoinName</th>\n",
       "      <th>Algorithm</th>\n",
       "      <th>IsTrading</th>\n",
       "      <th>ProofType</th>\n",
       "      <th>TotalCoinsMined</th>\n",
       "      <th>TotalCoinSupply</th>\n",
       "    </tr>\n",
       "  </thead>\n",
       "  <tbody>\n",
       "    <tr>\n",
       "      <th>667</th>\n",
       "      <td>FIII</td>\n",
       "      <td>Fiii</td>\n",
       "      <td>SHA3-256</td>\n",
       "      <td>True</td>\n",
       "      <td>DPoC</td>\n",
       "      <td>-5.917978e+09</td>\n",
       "      <td>5000000000</td>\n",
       "    </tr>\n",
       "    <tr>\n",
       "      <th>408</th>\n",
       "      <td>LBTC</td>\n",
       "      <td>LiteBitcoin</td>\n",
       "      <td>Scrypt</td>\n",
       "      <td>True</td>\n",
       "      <td>PoW</td>\n",
       "      <td>0.000000e+00</td>\n",
       "      <td>1000000000</td>\n",
       "    </tr>\n",
       "    <tr>\n",
       "      <th>101</th>\n",
       "      <td>RIPO</td>\n",
       "      <td>RipOffCoin</td>\n",
       "      <td>Scrypt</td>\n",
       "      <td>True</td>\n",
       "      <td>PoW</td>\n",
       "      <td>0.000000e+00</td>\n",
       "      <td>12000000</td>\n",
       "    </tr>\n",
       "    <tr>\n",
       "      <th>291</th>\n",
       "      <td>BASH</td>\n",
       "      <td>LuckChain</td>\n",
       "      <td>Scrypt</td>\n",
       "      <td>True</td>\n",
       "      <td>PoW/PoS</td>\n",
       "      <td>0.000000e+00</td>\n",
       "      <td>1000000000</td>\n",
       "    </tr>\n",
       "    <tr>\n",
       "      <th>287</th>\n",
       "      <td>CSH</td>\n",
       "      <td>CashOut</td>\n",
       "      <td>SHA-256</td>\n",
       "      <td>True</td>\n",
       "      <td>PoW</td>\n",
       "      <td>0.000000e+00</td>\n",
       "      <td>100000000</td>\n",
       "    </tr>\n",
       "    <tr>\n",
       "      <th>...</th>\n",
       "      <td>...</td>\n",
       "      <td>...</td>\n",
       "      <td>...</td>\n",
       "      <td>...</td>\n",
       "      <td>...</td>\n",
       "      <td>...</td>\n",
       "      <td>...</td>\n",
       "    </tr>\n",
       "    <tr>\n",
       "      <th>571</th>\n",
       "      <td>QWC</td>\n",
       "      <td>Qwertycoin</td>\n",
       "      <td>CryptoNight Heavy</td>\n",
       "      <td>True</td>\n",
       "      <td>PoW</td>\n",
       "      <td>9.955311e+10</td>\n",
       "      <td>184470000000</td>\n",
       "    </tr>\n",
       "    <tr>\n",
       "      <th>407</th>\n",
       "      <td>NYC</td>\n",
       "      <td>NewYorkCoin</td>\n",
       "      <td>Scrypt</td>\n",
       "      <td>True</td>\n",
       "      <td>PoW</td>\n",
       "      <td>1.430067e+11</td>\n",
       "      <td>0</td>\n",
       "    </tr>\n",
       "    <tr>\n",
       "      <th>395</th>\n",
       "      <td>GCN</td>\n",
       "      <td>gCn Coin</td>\n",
       "      <td>Scrypt</td>\n",
       "      <td>True</td>\n",
       "      <td>PoW</td>\n",
       "      <td>1.630551e+11</td>\n",
       "      <td>200000000000</td>\n",
       "    </tr>\n",
       "    <tr>\n",
       "      <th>136</th>\n",
       "      <td>BCN</td>\n",
       "      <td>ByteCoin</td>\n",
       "      <td>CryptoNight</td>\n",
       "      <td>True</td>\n",
       "      <td>PoW</td>\n",
       "      <td>1.840668e+11</td>\n",
       "      <td>184467440735</td>\n",
       "    </tr>\n",
       "    <tr>\n",
       "      <th>678</th>\n",
       "      <td>BTT</td>\n",
       "      <td>BitTorrent</td>\n",
       "      <td>TRC10</td>\n",
       "      <td>True</td>\n",
       "      <td>DPoS</td>\n",
       "      <td>9.899887e+11</td>\n",
       "      <td>990000000000</td>\n",
       "    </tr>\n",
       "  </tbody>\n",
       "</table>\n",
       "<p>685 rows × 7 columns</p>\n",
       "</div>"
      ],
      "text/plain": [
       "    Unnamed: 0     CoinName          Algorithm  IsTrading ProofType  \\\n",
       "667       FIII         Fiii           SHA3-256       True      DPoC   \n",
       "408       LBTC  LiteBitcoin             Scrypt       True       PoW   \n",
       "101       RIPO   RipOffCoin             Scrypt       True       PoW   \n",
       "291       BASH    LuckChain             Scrypt       True   PoW/PoS   \n",
       "287        CSH      CashOut            SHA-256       True       PoW   \n",
       "..         ...          ...                ...        ...       ...   \n",
       "571        QWC   Qwertycoin  CryptoNight Heavy       True       PoW   \n",
       "407        NYC  NewYorkCoin             Scrypt       True       PoW   \n",
       "395        GCN     gCn Coin             Scrypt       True       PoW   \n",
       "136        BCN     ByteCoin        CryptoNight       True       PoW   \n",
       "678        BTT   BitTorrent              TRC10       True      DPoS   \n",
       "\n",
       "     TotalCoinsMined TotalCoinSupply  \n",
       "667    -5.917978e+09      5000000000  \n",
       "408     0.000000e+00      1000000000  \n",
       "101     0.000000e+00        12000000  \n",
       "291     0.000000e+00      1000000000  \n",
       "287     0.000000e+00       100000000  \n",
       "..               ...             ...  \n",
       "571     9.955311e+10    184470000000  \n",
       "407     1.430067e+11               0  \n",
       "395     1.630551e+11    200000000000  \n",
       "136     1.840668e+11    184467440735  \n",
       "678     9.899887e+11    990000000000  \n",
       "\n",
       "[685 rows x 7 columns]"
      ]
     },
     "execution_count": 23,
     "metadata": {},
     "output_type": "execute_result"
    }
   ],
   "source": [
    "df_sub.sort_values(by=\"TotalCoinsMined\")"
   ]
  },
  {
   "cell_type": "code",
   "execution_count": 24,
   "id": "8842bc3f",
   "metadata": {},
   "outputs": [
    {
     "name": "stdout",
     "output_type": "stream",
     "text": [
      "<class 'pandas.core.frame.DataFrame'>\n",
      "RangeIndex: 532 entries, 0 to 531\n",
      "Data columns (total 7 columns):\n",
      " #   Column           Non-Null Count  Dtype  \n",
      "---  ------           --------------  -----  \n",
      " 0   Unnamed: 0       532 non-null    object \n",
      " 1   CoinName         532 non-null    object \n",
      " 2   Algorithm        532 non-null    object \n",
      " 3   IsTrading        532 non-null    bool   \n",
      " 4   ProofType        532 non-null    object \n",
      " 5   TotalCoinsMined  532 non-null    float64\n",
      " 6   TotalCoinSupply  532 non-null    object \n",
      "dtypes: bool(1), float64(1), object(5)\n",
      "memory usage: 25.6+ KB\n"
     ]
    }
   ],
   "source": [
    "mask = df_sub.TotalCoinsMined > 0\n",
    "df_sub = df_sub.loc[mask].reset_index(drop=True)\n",
    "df_sub.info()"
   ]
  },
  {
   "cell_type": "code",
   "execution_count": 25,
   "id": "246710db",
   "metadata": {},
   "outputs": [
    {
     "name": "stdout",
     "output_type": "stream",
     "text": [
      "<class 'pandas.core.frame.DataFrame'>\n",
      "RangeIndex: 532 entries, 0 to 531\n",
      "Data columns (total 7 columns):\n",
      " #   Column           Non-Null Count  Dtype  \n",
      "---  ------           --------------  -----  \n",
      " 0   Unnamed: 0       532 non-null    object \n",
      " 1   CoinName         532 non-null    object \n",
      " 2   Algorithm        532 non-null    object \n",
      " 3   IsTrading        532 non-null    bool   \n",
      " 4   ProofType        532 non-null    object \n",
      " 5   TotalCoinsMined  532 non-null    float64\n",
      " 6   TotalCoinSupply  532 non-null    float64\n",
      "dtypes: bool(1), float64(2), object(4)\n",
      "memory usage: 25.6+ KB\n"
     ]
    }
   ],
   "source": [
    "df_sub[\"TotalCoinSupply\"] = pd.to_numeric(df_sub.TotalCoinSupply)\n",
    "df_sub.info()"
   ]
  },
  {
   "cell_type": "code",
   "execution_count": 26,
   "id": "e7d84c19",
   "metadata": {},
   "outputs": [
    {
     "data": {
      "text/plain": [
       "['PoW',\n",
       " 'PoW/PoS',\n",
       " 'PoS',\n",
       " 'DPoS',\n",
       " 'PoC',\n",
       " 'PoS/PoW',\n",
       " 'POBh',\n",
       " 'LPoS',\n",
       " 'Proof of Trust',\n",
       " 'Pos',\n",
       " 'DPOS',\n",
       " 'Zero-Knowledge Proof',\n",
       " 'HPoW',\n",
       " 'PoA',\n",
       " 'PoW + Hive',\n",
       " 'PoW/PoS ',\n",
       " 'PoW and PoS',\n",
       " 'Proof of Authority',\n",
       " 'TPoS',\n",
       " 'PoW/PoW',\n",
       " 'dPoW/PoW',\n",
       " 'PoW/nPoS',\n",
       " 'PoST',\n",
       " 'PoS/PoW/PoT',\n",
       " 'PoS/LPoS']"
      ]
     },
     "execution_count": 26,
     "metadata": {},
     "output_type": "execute_result"
    }
   ],
   "source": [
    "[x for x in df_sub.ProofType.value_counts().index]"
   ]
  },
  {
   "cell_type": "code",
   "execution_count": 27,
   "id": "fc57a3ea",
   "metadata": {},
   "outputs": [],
   "source": [
    "df_sub.loc[df_sub.ProofType == \"PoW/PoS \", \"ProofType\"] = \"PoW/PoS\"\n",
    "df_sub.loc[df_sub.ProofType == \"Pos\", \"ProofType\"] = \"PoS\"\n",
    "df_sub.loc[df_sub.ProofType == \"Proof of Authority\", \"ProofType\"] = \"PoA\"\n",
    "df_sub.loc[df_sub.ProofType == \"PoW and PoS\", \"ProofType\"] = \"PoW/PoS\"\n",
    "df_sub.loc[df_sub.ProofType == \"Proof of Trust\", \"ProofType\"] = \"PoT\""
   ]
  },
  {
   "cell_type": "code",
   "execution_count": 28,
   "id": "3dde10bb",
   "metadata": {},
   "outputs": [
    {
     "data": {
      "text/plain": [
       "['PoW',\n",
       " 'PoW/PoS',\n",
       " 'PoS',\n",
       " 'DPoS',\n",
       " 'PoC',\n",
       " 'PoA',\n",
       " 'PoS/PoW',\n",
       " 'PoW + Hive',\n",
       " 'LPoS',\n",
       " 'PoT',\n",
       " 'DPOS',\n",
       " 'Zero-Knowledge Proof',\n",
       " 'HPoW',\n",
       " 'PoS/PoW/PoT',\n",
       " 'POBh',\n",
       " 'PoST',\n",
       " 'TPoS',\n",
       " 'PoW/PoW',\n",
       " 'dPoW/PoW',\n",
       " 'PoW/nPoS',\n",
       " 'PoS/LPoS']"
      ]
     },
     "execution_count": 28,
     "metadata": {},
     "output_type": "execute_result"
    }
   ],
   "source": [
    "[x for x in df_sub.ProofType.value_counts().index]"
   ]
  },
  {
   "cell_type": "code",
   "execution_count": 29,
   "id": "e031f809",
   "metadata": {},
   "outputs": [
    {
     "data": {
      "text/html": [
       "<div>\n",
       "<style scoped>\n",
       "    .dataframe tbody tr th:only-of-type {\n",
       "        vertical-align: middle;\n",
       "    }\n",
       "\n",
       "    .dataframe tbody tr th {\n",
       "        vertical-align: top;\n",
       "    }\n",
       "\n",
       "    .dataframe thead th {\n",
       "        text-align: right;\n",
       "    }\n",
       "</style>\n",
       "<table border=\"1\" class=\"dataframe\">\n",
       "  <thead>\n",
       "    <tr style=\"text-align: right;\">\n",
       "      <th></th>\n",
       "      <th>Algorithm</th>\n",
       "      <th>ProofType</th>\n",
       "      <th>TotalCoinsMined</th>\n",
       "      <th>TotalCoinSupply</th>\n",
       "    </tr>\n",
       "  </thead>\n",
       "  <tbody>\n",
       "    <tr>\n",
       "      <th>0</th>\n",
       "      <td>Scrypt</td>\n",
       "      <td>PoW/PoS</td>\n",
       "      <td>4.199995e+01</td>\n",
       "      <td>4.200000e+01</td>\n",
       "    </tr>\n",
       "    <tr>\n",
       "      <th>1</th>\n",
       "      <td>Scrypt</td>\n",
       "      <td>PoW/PoS</td>\n",
       "      <td>1.055185e+09</td>\n",
       "      <td>5.320000e+08</td>\n",
       "    </tr>\n",
       "    <tr>\n",
       "      <th>2</th>\n",
       "      <td>X13</td>\n",
       "      <td>PoW/PoS</td>\n",
       "      <td>2.927942e+10</td>\n",
       "      <td>3.141593e+11</td>\n",
       "    </tr>\n",
       "    <tr>\n",
       "      <th>3</th>\n",
       "      <td>SHA-256</td>\n",
       "      <td>PoW</td>\n",
       "      <td>1.792718e+07</td>\n",
       "      <td>2.100000e+07</td>\n",
       "    </tr>\n",
       "    <tr>\n",
       "      <th>4</th>\n",
       "      <td>Ethash</td>\n",
       "      <td>PoW</td>\n",
       "      <td>1.076842e+08</td>\n",
       "      <td>0.000000e+00</td>\n",
       "    </tr>\n",
       "  </tbody>\n",
       "</table>\n",
       "</div>"
      ],
      "text/plain": [
       "  Algorithm ProofType  TotalCoinsMined  TotalCoinSupply\n",
       "0    Scrypt   PoW/PoS     4.199995e+01     4.200000e+01\n",
       "1    Scrypt   PoW/PoS     1.055185e+09     5.320000e+08\n",
       "2       X13   PoW/PoS     2.927942e+10     3.141593e+11\n",
       "3   SHA-256       PoW     1.792718e+07     2.100000e+07\n",
       "4    Ethash       PoW     1.076842e+08     0.000000e+00"
      ]
     },
     "execution_count": 29,
     "metadata": {},
     "output_type": "execute_result"
    }
   ],
   "source": [
    "coin_sub = df_sub.CoinName\n",
    "\n",
    "df_sub.drop([\"Unnamed: 0\", \"CoinName\", \"IsTrading\"], axis=1, inplace=True)\n",
    "df_sub.head()"
   ]
  },
  {
   "cell_type": "code",
   "execution_count": 30,
   "id": "359a0eff",
   "metadata": {},
   "outputs": [
    {
     "data": {
      "text/html": [
       "<div>\n",
       "<style scoped>\n",
       "    .dataframe tbody tr th:only-of-type {\n",
       "        vertical-align: middle;\n",
       "    }\n",
       "\n",
       "    .dataframe tbody tr th {\n",
       "        vertical-align: top;\n",
       "    }\n",
       "\n",
       "    .dataframe thead th {\n",
       "        text-align: right;\n",
       "    }\n",
       "</style>\n",
       "<table border=\"1\" class=\"dataframe\">\n",
       "  <thead>\n",
       "    <tr style=\"text-align: right;\">\n",
       "      <th></th>\n",
       "      <th>TotalCoinsMined</th>\n",
       "      <th>TotalCoinSupply</th>\n",
       "      <th>Algorithm_1GB AES Pattern Search</th>\n",
       "      <th>Algorithm_536</th>\n",
       "      <th>Algorithm_Argon2d</th>\n",
       "      <th>Algorithm_BLAKE256</th>\n",
       "      <th>Algorithm_Blake</th>\n",
       "      <th>Algorithm_Blake2S</th>\n",
       "      <th>Algorithm_Blake2b</th>\n",
       "      <th>Algorithm_C11</th>\n",
       "      <th>...</th>\n",
       "      <th>ProofType_PoST</th>\n",
       "      <th>ProofType_PoT</th>\n",
       "      <th>ProofType_PoW</th>\n",
       "      <th>ProofType_PoW + Hive</th>\n",
       "      <th>ProofType_PoW/PoS</th>\n",
       "      <th>ProofType_PoW/PoW</th>\n",
       "      <th>ProofType_PoW/nPoS</th>\n",
       "      <th>ProofType_TPoS</th>\n",
       "      <th>ProofType_Zero-Knowledge Proof</th>\n",
       "      <th>ProofType_dPoW/PoW</th>\n",
       "    </tr>\n",
       "  </thead>\n",
       "  <tbody>\n",
       "    <tr>\n",
       "      <th>0</th>\n",
       "      <td>4.199995e+01</td>\n",
       "      <td>4.200000e+01</td>\n",
       "      <td>0</td>\n",
       "      <td>0</td>\n",
       "      <td>0</td>\n",
       "      <td>0</td>\n",
       "      <td>0</td>\n",
       "      <td>0</td>\n",
       "      <td>0</td>\n",
       "      <td>0</td>\n",
       "      <td>...</td>\n",
       "      <td>0</td>\n",
       "      <td>0</td>\n",
       "      <td>0</td>\n",
       "      <td>0</td>\n",
       "      <td>1</td>\n",
       "      <td>0</td>\n",
       "      <td>0</td>\n",
       "      <td>0</td>\n",
       "      <td>0</td>\n",
       "      <td>0</td>\n",
       "    </tr>\n",
       "    <tr>\n",
       "      <th>1</th>\n",
       "      <td>1.055185e+09</td>\n",
       "      <td>5.320000e+08</td>\n",
       "      <td>0</td>\n",
       "      <td>0</td>\n",
       "      <td>0</td>\n",
       "      <td>0</td>\n",
       "      <td>0</td>\n",
       "      <td>0</td>\n",
       "      <td>0</td>\n",
       "      <td>0</td>\n",
       "      <td>...</td>\n",
       "      <td>0</td>\n",
       "      <td>0</td>\n",
       "      <td>0</td>\n",
       "      <td>0</td>\n",
       "      <td>1</td>\n",
       "      <td>0</td>\n",
       "      <td>0</td>\n",
       "      <td>0</td>\n",
       "      <td>0</td>\n",
       "      <td>0</td>\n",
       "    </tr>\n",
       "    <tr>\n",
       "      <th>2</th>\n",
       "      <td>2.927942e+10</td>\n",
       "      <td>3.141593e+11</td>\n",
       "      <td>0</td>\n",
       "      <td>0</td>\n",
       "      <td>0</td>\n",
       "      <td>0</td>\n",
       "      <td>0</td>\n",
       "      <td>0</td>\n",
       "      <td>0</td>\n",
       "      <td>0</td>\n",
       "      <td>...</td>\n",
       "      <td>0</td>\n",
       "      <td>0</td>\n",
       "      <td>0</td>\n",
       "      <td>0</td>\n",
       "      <td>1</td>\n",
       "      <td>0</td>\n",
       "      <td>0</td>\n",
       "      <td>0</td>\n",
       "      <td>0</td>\n",
       "      <td>0</td>\n",
       "    </tr>\n",
       "    <tr>\n",
       "      <th>3</th>\n",
       "      <td>1.792718e+07</td>\n",
       "      <td>2.100000e+07</td>\n",
       "      <td>0</td>\n",
       "      <td>0</td>\n",
       "      <td>0</td>\n",
       "      <td>0</td>\n",
       "      <td>0</td>\n",
       "      <td>0</td>\n",
       "      <td>0</td>\n",
       "      <td>0</td>\n",
       "      <td>...</td>\n",
       "      <td>0</td>\n",
       "      <td>0</td>\n",
       "      <td>1</td>\n",
       "      <td>0</td>\n",
       "      <td>0</td>\n",
       "      <td>0</td>\n",
       "      <td>0</td>\n",
       "      <td>0</td>\n",
       "      <td>0</td>\n",
       "      <td>0</td>\n",
       "    </tr>\n",
       "    <tr>\n",
       "      <th>4</th>\n",
       "      <td>1.076842e+08</td>\n",
       "      <td>0.000000e+00</td>\n",
       "      <td>0</td>\n",
       "      <td>0</td>\n",
       "      <td>0</td>\n",
       "      <td>0</td>\n",
       "      <td>0</td>\n",
       "      <td>0</td>\n",
       "      <td>0</td>\n",
       "      <td>0</td>\n",
       "      <td>...</td>\n",
       "      <td>0</td>\n",
       "      <td>0</td>\n",
       "      <td>1</td>\n",
       "      <td>0</td>\n",
       "      <td>0</td>\n",
       "      <td>0</td>\n",
       "      <td>0</td>\n",
       "      <td>0</td>\n",
       "      <td>0</td>\n",
       "      <td>0</td>\n",
       "    </tr>\n",
       "  </tbody>\n",
       "</table>\n",
       "<p>5 rows × 94 columns</p>\n",
       "</div>"
      ],
      "text/plain": [
       "   TotalCoinsMined  TotalCoinSupply  Algorithm_1GB AES Pattern Search  \\\n",
       "0     4.199995e+01     4.200000e+01                                 0   \n",
       "1     1.055185e+09     5.320000e+08                                 0   \n",
       "2     2.927942e+10     3.141593e+11                                 0   \n",
       "3     1.792718e+07     2.100000e+07                                 0   \n",
       "4     1.076842e+08     0.000000e+00                                 0   \n",
       "\n",
       "   Algorithm_536  Algorithm_Argon2d  Algorithm_BLAKE256  Algorithm_Blake  \\\n",
       "0              0                  0                   0                0   \n",
       "1              0                  0                   0                0   \n",
       "2              0                  0                   0                0   \n",
       "3              0                  0                   0                0   \n",
       "4              0                  0                   0                0   \n",
       "\n",
       "   Algorithm_Blake2S  Algorithm_Blake2b  Algorithm_C11  ...  ProofType_PoST  \\\n",
       "0                  0                  0              0  ...               0   \n",
       "1                  0                  0              0  ...               0   \n",
       "2                  0                  0              0  ...               0   \n",
       "3                  0                  0              0  ...               0   \n",
       "4                  0                  0              0  ...               0   \n",
       "\n",
       "   ProofType_PoT  ProofType_PoW  ProofType_PoW + Hive  ProofType_PoW/PoS  \\\n",
       "0              0              0                     0                  1   \n",
       "1              0              0                     0                  1   \n",
       "2              0              0                     0                  1   \n",
       "3              0              1                     0                  0   \n",
       "4              0              1                     0                  0   \n",
       "\n",
       "   ProofType_PoW/PoW  ProofType_PoW/nPoS  ProofType_TPoS  \\\n",
       "0                  0                   0               0   \n",
       "1                  0                   0               0   \n",
       "2                  0                   0               0   \n",
       "3                  0                   0               0   \n",
       "4                  0                   0               0   \n",
       "\n",
       "   ProofType_Zero-Knowledge Proof  ProofType_dPoW/PoW  \n",
       "0                               0                   0  \n",
       "1                               0                   0  \n",
       "2                               0                   0  \n",
       "3                               0                   0  \n",
       "4                               0                   0  \n",
       "\n",
       "[5 rows x 94 columns]"
      ]
     },
     "execution_count": 30,
     "metadata": {},
     "output_type": "execute_result"
    }
   ],
   "source": [
    "df_sub2 = pd.get_dummies(df_sub)\n",
    "df_sub2.head()"
   ]
  },
  {
   "cell_type": "code",
   "execution_count": null,
   "id": "a78e0e60",
   "metadata": {},
   "outputs": [],
   "source": []
  },
  {
   "cell_type": "code",
   "execution_count": 31,
   "id": "48a85d08",
   "metadata": {},
   "outputs": [],
   "source": [
    "from sklearn.preprocessing import StandardScaler"
   ]
  },
  {
   "cell_type": "code",
   "execution_count": 32,
   "id": "a7e1d712",
   "metadata": {},
   "outputs": [],
   "source": [
    "scaler = StandardScaler()\n",
    "scaler = scaler.fit(df_sub2.loc[:, [\"TotalCoinsMined\", \"TotalCoinSupply\"]])\n",
    "# scaler = scaler.fit(df_sub)"
   ]
  },
  {
   "cell_type": "code",
   "execution_count": 33,
   "id": "19522e3c",
   "metadata": {},
   "outputs": [
    {
     "data": {
      "text/html": [
       "<div>\n",
       "<style scoped>\n",
       "    .dataframe tbody tr th:only-of-type {\n",
       "        vertical-align: middle;\n",
       "    }\n",
       "\n",
       "    .dataframe tbody tr th {\n",
       "        vertical-align: top;\n",
       "    }\n",
       "\n",
       "    .dataframe thead th {\n",
       "        text-align: right;\n",
       "    }\n",
       "</style>\n",
       "<table border=\"1\" class=\"dataframe\">\n",
       "  <thead>\n",
       "    <tr style=\"text-align: right;\">\n",
       "      <th></th>\n",
       "      <th>TotalCoinsMined</th>\n",
       "      <th>TotalCoinSupply</th>\n",
       "      <th>Algorithm_1GB AES Pattern Search</th>\n",
       "      <th>Algorithm_536</th>\n",
       "      <th>Algorithm_Argon2d</th>\n",
       "      <th>Algorithm_BLAKE256</th>\n",
       "      <th>Algorithm_Blake</th>\n",
       "      <th>Algorithm_Blake2S</th>\n",
       "      <th>Algorithm_Blake2b</th>\n",
       "      <th>Algorithm_C11</th>\n",
       "      <th>...</th>\n",
       "      <th>ProofType_PoST</th>\n",
       "      <th>ProofType_PoT</th>\n",
       "      <th>ProofType_PoW</th>\n",
       "      <th>ProofType_PoW + Hive</th>\n",
       "      <th>ProofType_PoW/PoS</th>\n",
       "      <th>ProofType_PoW/PoW</th>\n",
       "      <th>ProofType_PoW/nPoS</th>\n",
       "      <th>ProofType_TPoS</th>\n",
       "      <th>ProofType_Zero-Knowledge Proof</th>\n",
       "      <th>ProofType_dPoW/PoW</th>\n",
       "    </tr>\n",
       "  </thead>\n",
       "  <tbody>\n",
       "    <tr>\n",
       "      <th>0</th>\n",
       "      <td>-0.117108</td>\n",
       "      <td>-0.152870</td>\n",
       "      <td>0</td>\n",
       "      <td>0</td>\n",
       "      <td>0</td>\n",
       "      <td>0</td>\n",
       "      <td>0</td>\n",
       "      <td>0</td>\n",
       "      <td>0</td>\n",
       "      <td>0</td>\n",
       "      <td>...</td>\n",
       "      <td>0</td>\n",
       "      <td>0</td>\n",
       "      <td>0</td>\n",
       "      <td>0</td>\n",
       "      <td>1</td>\n",
       "      <td>0</td>\n",
       "      <td>0</td>\n",
       "      <td>0</td>\n",
       "      <td>0</td>\n",
       "      <td>0</td>\n",
       "    </tr>\n",
       "    <tr>\n",
       "      <th>1</th>\n",
       "      <td>-0.093970</td>\n",
       "      <td>-0.145009</td>\n",
       "      <td>0</td>\n",
       "      <td>0</td>\n",
       "      <td>0</td>\n",
       "      <td>0</td>\n",
       "      <td>0</td>\n",
       "      <td>0</td>\n",
       "      <td>0</td>\n",
       "      <td>0</td>\n",
       "      <td>...</td>\n",
       "      <td>0</td>\n",
       "      <td>0</td>\n",
       "      <td>0</td>\n",
       "      <td>0</td>\n",
       "      <td>1</td>\n",
       "      <td>0</td>\n",
       "      <td>0</td>\n",
       "      <td>0</td>\n",
       "      <td>0</td>\n",
       "      <td>0</td>\n",
       "    </tr>\n",
       "    <tr>\n",
       "      <th>2</th>\n",
       "      <td>0.524946</td>\n",
       "      <td>4.489424</td>\n",
       "      <td>0</td>\n",
       "      <td>0</td>\n",
       "      <td>0</td>\n",
       "      <td>0</td>\n",
       "      <td>0</td>\n",
       "      <td>0</td>\n",
       "      <td>0</td>\n",
       "      <td>0</td>\n",
       "      <td>...</td>\n",
       "      <td>0</td>\n",
       "      <td>0</td>\n",
       "      <td>0</td>\n",
       "      <td>0</td>\n",
       "      <td>1</td>\n",
       "      <td>0</td>\n",
       "      <td>0</td>\n",
       "      <td>0</td>\n",
       "      <td>0</td>\n",
       "      <td>0</td>\n",
       "    </tr>\n",
       "    <tr>\n",
       "      <th>3</th>\n",
       "      <td>-0.116715</td>\n",
       "      <td>-0.152560</td>\n",
       "      <td>0</td>\n",
       "      <td>0</td>\n",
       "      <td>0</td>\n",
       "      <td>0</td>\n",
       "      <td>0</td>\n",
       "      <td>0</td>\n",
       "      <td>0</td>\n",
       "      <td>0</td>\n",
       "      <td>...</td>\n",
       "      <td>0</td>\n",
       "      <td>0</td>\n",
       "      <td>1</td>\n",
       "      <td>0</td>\n",
       "      <td>0</td>\n",
       "      <td>0</td>\n",
       "      <td>0</td>\n",
       "      <td>0</td>\n",
       "      <td>0</td>\n",
       "      <td>0</td>\n",
       "    </tr>\n",
       "    <tr>\n",
       "      <th>4</th>\n",
       "      <td>-0.114747</td>\n",
       "      <td>-0.152870</td>\n",
       "      <td>0</td>\n",
       "      <td>0</td>\n",
       "      <td>0</td>\n",
       "      <td>0</td>\n",
       "      <td>0</td>\n",
       "      <td>0</td>\n",
       "      <td>0</td>\n",
       "      <td>0</td>\n",
       "      <td>...</td>\n",
       "      <td>0</td>\n",
       "      <td>0</td>\n",
       "      <td>1</td>\n",
       "      <td>0</td>\n",
       "      <td>0</td>\n",
       "      <td>0</td>\n",
       "      <td>0</td>\n",
       "      <td>0</td>\n",
       "      <td>0</td>\n",
       "      <td>0</td>\n",
       "    </tr>\n",
       "  </tbody>\n",
       "</table>\n",
       "<p>5 rows × 94 columns</p>\n",
       "</div>"
      ],
      "text/plain": [
       "   TotalCoinsMined  TotalCoinSupply  Algorithm_1GB AES Pattern Search  \\\n",
       "0        -0.117108        -0.152870                                 0   \n",
       "1        -0.093970        -0.145009                                 0   \n",
       "2         0.524946         4.489424                                 0   \n",
       "3        -0.116715        -0.152560                                 0   \n",
       "4        -0.114747        -0.152870                                 0   \n",
       "\n",
       "   Algorithm_536  Algorithm_Argon2d  Algorithm_BLAKE256  Algorithm_Blake  \\\n",
       "0              0                  0                   0                0   \n",
       "1              0                  0                   0                0   \n",
       "2              0                  0                   0                0   \n",
       "3              0                  0                   0                0   \n",
       "4              0                  0                   0                0   \n",
       "\n",
       "   Algorithm_Blake2S  Algorithm_Blake2b  Algorithm_C11  ...  ProofType_PoST  \\\n",
       "0                  0                  0              0  ...               0   \n",
       "1                  0                  0              0  ...               0   \n",
       "2                  0                  0              0  ...               0   \n",
       "3                  0                  0              0  ...               0   \n",
       "4                  0                  0              0  ...               0   \n",
       "\n",
       "   ProofType_PoT  ProofType_PoW  ProofType_PoW + Hive  ProofType_PoW/PoS  \\\n",
       "0              0              0                     0                  1   \n",
       "1              0              0                     0                  1   \n",
       "2              0              0                     0                  1   \n",
       "3              0              1                     0                  0   \n",
       "4              0              1                     0                  0   \n",
       "\n",
       "   ProofType_PoW/PoW  ProofType_PoW/nPoS  ProofType_TPoS  \\\n",
       "0                  0                   0               0   \n",
       "1                  0                   0               0   \n",
       "2                  0                   0               0   \n",
       "3                  0                   0               0   \n",
       "4                  0                   0               0   \n",
       "\n",
       "   ProofType_Zero-Knowledge Proof  ProofType_dPoW/PoW  \n",
       "0                               0                   0  \n",
       "1                               0                   0  \n",
       "2                               0                   0  \n",
       "3                               0                   0  \n",
       "4                               0                   0  \n",
       "\n",
       "[5 rows x 94 columns]"
      ]
     },
     "execution_count": 33,
     "metadata": {},
     "output_type": "execute_result"
    }
   ],
   "source": [
    "df_sub3 = df_sub2.copy()\n",
    "\n",
    "df_sub3.loc[:, [\"TotalCoinsMined\", \"TotalCoinSupply\"]] = scaler.transform(df_sub2.loc[:, [\"TotalCoinsMined\", \"TotalCoinSupply\"]])\n",
    "df_sub3.head()"
   ]
  },
  {
   "cell_type": "code",
   "execution_count": 34,
   "id": "f6826f22",
   "metadata": {},
   "outputs": [],
   "source": [
    "# df_sub2 = scaler.transform(df_sub)\n",
    "# df_sub2 = pd.DataFrame(df_sub2, columns = df_sub.columns)\n",
    "# df_sub2.head()"
   ]
  },
  {
   "cell_type": "code",
   "execution_count": null,
   "id": "5c8cc3e0",
   "metadata": {},
   "outputs": [],
   "source": []
  },
  {
   "cell_type": "code",
   "execution_count": 35,
   "id": "d51da698",
   "metadata": {},
   "outputs": [],
   "source": [
    "from sklearn.manifold import TSNE"
   ]
  },
  {
   "cell_type": "code",
   "execution_count": 36,
   "id": "d414eeb3",
   "metadata": {},
   "outputs": [
    {
     "data": {
      "text/plain": [
       "(532, 2)"
      ]
     },
     "execution_count": 36,
     "metadata": {},
     "output_type": "execute_result"
    }
   ],
   "source": [
    "tsne = TSNE(learning_rate=35)\n",
    "# Reduce dimensions\n",
    "tsne_features = tsne.fit_transform(df_sub3)\n",
    "tsne_features.shape"
   ]
  },
  {
   "cell_type": "code",
   "execution_count": 37,
   "id": "46d7d4b1",
   "metadata": {},
   "outputs": [
    {
     "data": {
      "image/png": "[encoded data removed]",
      "text/plain": [
       "<Figure size 640x480 with 1 Axes>"
      ]
     },
     "metadata": {},
     "output_type": "display_data"
    }
   ],
   "source": [
    "# Visualize the clusters\n",
    "plt.scatter(tsne_features[:,0], tsne_features[:,1])\n",
    "plt.show()"
   ]
  },
  {
   "cell_type": "code",
   "execution_count": null,
   "id": "827d91f3",
   "metadata": {},
   "outputs": [],
   "source": []
  },
  {
   "cell_type": "markdown",
   "id": "7bbdd691",
   "metadata": {},
   "source": [
    "# PCA"
   ]
  },
  {
   "cell_type": "code",
   "execution_count": 38,
   "id": "85b92515",
   "metadata": {},
   "outputs": [],
   "source": [
    "from sklearn.decomposition import PCA"
   ]
  },
  {
   "cell_type": "code",
   "execution_count": 39,
   "id": "d59f0c6d",
   "metadata": {},
   "outputs": [
    {
     "name": "stdout",
     "output_type": "stream",
     "text": [
      "[4.86144130e-01 1.12847212e-01 8.45960792e-02 7.32508093e-02\n",
      " 5.77306595e-02 3.17660063e-02 1.97031162e-02 9.52271975e-03\n",
      " 8.92066253e-03 8.21403709e-03 7.70118235e-03 6.28819177e-03\n",
      " 5.84877136e-03 5.28749132e-03 4.91337373e-03 4.80729200e-03\n",
      " 3.99735722e-03 3.58612184e-03 3.08181848e-03 2.57597086e-03\n",
      " 2.14115526e-03 2.14115526e-03 2.14114718e-03 2.14049574e-03\n",
      " 2.12771942e-03 2.04914070e-03 1.84226967e-03 1.74607547e-03\n",
      " 1.70605685e-03 1.60585516e-03 1.60125900e-03 1.52901629e-03\n",
      " 1.47672963e-03 1.36767814e-03 1.26603922e-03 1.07747272e-03\n",
      " 1.07057763e-03 1.07057763e-03 1.07057763e-03 1.07057763e-03\n",
      " 1.07057763e-03 1.06898100e-03 1.06334477e-03 1.05790525e-03\n",
      " 1.02509486e-03 9.85277904e-04 7.99635191e-04 7.04929971e-04\n",
      " 5.35288814e-04 5.35288814e-04 5.35288814e-04 5.35288814e-04\n",
      " 5.35288814e-04 5.35288814e-04 5.35288814e-04 5.35288814e-04\n",
      " 5.35288814e-04 5.35288814e-04 5.35288814e-04 5.35288814e-04\n",
      " 5.35288814e-04 5.35288814e-04 5.35288814e-04 5.35288814e-04\n",
      " 5.35288814e-04 5.35288814e-04 5.35288814e-04 5.35288814e-04\n",
      " 5.35288814e-04 5.35288814e-04 5.35288814e-04 5.35288814e-04\n",
      " 5.35288814e-04 5.35288814e-04 5.35288814e-04 5.35288814e-04\n",
      " 5.34605597e-04 5.21392327e-04 5.17054371e-04 5.06909805e-04\n",
      " 4.90621330e-04 4.67458692e-04 3.23589751e-04 3.11159448e-04\n",
      " 2.76757307e-04 2.09423542e-04 5.26154807e-05 9.58750246e-32\n",
      " 1.48182956e-33 2.22789192e-34 8.54585478e-36 4.67062374e-36\n",
      " 4.87064994e-37 8.99384858e-38]\n",
      "1.0\n"
     ]
    }
   ],
   "source": [
    "pca = PCA()\n",
    "pca.fit(df_sub3)\n",
    "print(pca.explained_variance_ratio_)\n",
    "print(np.sum(pca.explained_variance_ratio_))"
   ]
  },
  {
   "cell_type": "code",
   "execution_count": 40,
   "id": "da2bb7dc",
   "metadata": {},
   "outputs": [
    {
     "data": {
      "image/png": "[encoded data removed]",
      "text/plain": [
       "<Figure size 640x480 with 1 Axes>"
      ]
     },
     "metadata": {},
     "output_type": "display_data"
    }
   ],
   "source": [
    "plt.plot(range(len(pca.explained_variance_ratio_)), pca.explained_variance_ratio_)\n",
    "plt.show()"
   ]
  },
  {
   "cell_type": "code",
   "execution_count": 41,
   "id": "12719a45",
   "metadata": {},
   "outputs": [
    {
     "data": {
      "image/png": "[encoded data removed]",
      "text/plain": [
       "<Figure size 640x480 with 1 Axes>"
      ]
     },
     "metadata": {},
     "output_type": "display_data"
    }
   ],
   "source": [
    "plt.plot(range(10), pca.explained_variance_ratio_[0:10])\n",
    "plt.show()"
   ]
  },
  {
   "cell_type": "code",
   "execution_count": 42,
   "id": "ae96b1a0",
   "metadata": {},
   "outputs": [
    {
     "data": {
      "text/plain": [
       "0.9003966141784739"
      ]
     },
     "execution_count": 42,
     "metadata": {},
     "output_type": "execute_result"
    }
   ],
   "source": [
    "np.sum(pca.explained_variance_ratio_[0:11])"
   ]
  },
  {
   "cell_type": "code",
   "execution_count": null,
   "id": "bf4f756a",
   "metadata": {},
   "outputs": [],
   "source": []
  },
  {
   "cell_type": "code",
   "execution_count": 119,
   "id": "3a93efc6",
   "metadata": {},
   "outputs": [
    {
     "name": "stdout",
     "output_type": "stream",
     "text": [
      "[0.48614413 0.11284721 0.08459608 0.07325081 0.05773066 0.03176601\n",
      " 0.01970312 0.00952272 0.00892066 0.00821404 0.00770118]\n",
      "0.9003966141784739\n"
     ]
    }
   ],
   "source": [
    "pca = PCA(n_components=0.90)\n",
    "pca.fit(df_sub3)\n",
    "print(pca.explained_variance_ratio_)\n",
    "print(np.sum(pca.explained_variance_ratio_))"
   ]
  },
  {
   "cell_type": "code",
   "execution_count": 120,
   "id": "29f309f9",
   "metadata": {},
   "outputs": [
    {
     "name": "stdout",
     "output_type": "stream",
     "text": [
      "11\n"
     ]
    }
   ],
   "source": [
    "print(len(pca.explained_variance_ratio_))"
   ]
  },
  {
   "cell_type": "code",
   "execution_count": 121,
   "id": "a639e341",
   "metadata": {},
   "outputs": [
    {
     "data": {
      "text/html": [
       "<div>\n",
       "<style scoped>\n",
       "    .dataframe tbody tr th:only-of-type {\n",
       "        vertical-align: middle;\n",
       "    }\n",
       "\n",
       "    .dataframe tbody tr th {\n",
       "        vertical-align: top;\n",
       "    }\n",
       "\n",
       "    .dataframe thead th {\n",
       "        text-align: right;\n",
       "    }\n",
       "</style>\n",
       "<table border=\"1\" class=\"dataframe\">\n",
       "  <thead>\n",
       "    <tr style=\"text-align: right;\">\n",
       "      <th></th>\n",
       "      <th>PCA1</th>\n",
       "      <th>PCA2</th>\n",
       "      <th>PCA3</th>\n",
       "      <th>PCA4</th>\n",
       "      <th>PCA5</th>\n",
       "      <th>PCA6</th>\n",
       "      <th>PCA7</th>\n",
       "      <th>PCA8</th>\n",
       "      <th>PCA9</th>\n",
       "      <th>PCA10</th>\n",
       "      <th>PCA11</th>\n",
       "    </tr>\n",
       "  </thead>\n",
       "  <tbody>\n",
       "    <tr>\n",
       "      <th>0</th>\n",
       "      <td>-0.209691</td>\n",
       "      <td>-0.808170</td>\n",
       "      <td>0.168907</td>\n",
       "      <td>-0.663340</td>\n",
       "      <td>-0.004221</td>\n",
       "      <td>-0.025304</td>\n",
       "      <td>0.002418</td>\n",
       "      <td>-0.012781</td>\n",
       "      <td>-0.046990</td>\n",
       "      <td>-0.021372</td>\n",
       "      <td>-0.007774</td>\n",
       "    </tr>\n",
       "    <tr>\n",
       "      <th>1</th>\n",
       "      <td>-0.187805</td>\n",
       "      <td>-0.810617</td>\n",
       "      <td>0.158472</td>\n",
       "      <td>-0.664012</td>\n",
       "      <td>-0.004872</td>\n",
       "      <td>-0.025161</td>\n",
       "      <td>0.002526</td>\n",
       "      <td>-0.013793</td>\n",
       "      <td>-0.047109</td>\n",
       "      <td>-0.021429</td>\n",
       "      <td>-0.007660</td>\n",
       "    </tr>\n",
       "    <tr>\n",
       "      <th>2</th>\n",
       "      <td>3.529267</td>\n",
       "      <td>-0.317246</td>\n",
       "      <td>2.910638</td>\n",
       "      <td>0.416936</td>\n",
       "      <td>-0.203725</td>\n",
       "      <td>-0.261915</td>\n",
       "      <td>-0.282133</td>\n",
       "      <td>-0.137953</td>\n",
       "      <td>0.753249</td>\n",
       "      <td>0.347229</td>\n",
       "      <td>-0.241091</td>\n",
       "    </tr>\n",
       "    <tr>\n",
       "      <th>3</th>\n",
       "      <td>-0.179927</td>\n",
       "      <td>0.699969</td>\n",
       "      <td>-0.165025</td>\n",
       "      <td>0.220439</td>\n",
       "      <td>-0.285466</td>\n",
       "      <td>-0.616501</td>\n",
       "      <td>0.622780</td>\n",
       "      <td>-0.016936</td>\n",
       "      <td>0.028175</td>\n",
       "      <td>0.008040</td>\n",
       "      <td>-0.026113</td>\n",
       "    </tr>\n",
       "    <tr>\n",
       "      <th>4</th>\n",
       "      <td>-0.173063</td>\n",
       "      <td>0.693041</td>\n",
       "      <td>-0.152954</td>\n",
       "      <td>0.115317</td>\n",
       "      <td>-0.215415</td>\n",
       "      <td>-0.104622</td>\n",
       "      <td>-0.242670</td>\n",
       "      <td>0.010629</td>\n",
       "      <td>0.111604</td>\n",
       "      <td>-0.125831</td>\n",
       "      <td>0.059776</td>\n",
       "    </tr>\n",
       "  </tbody>\n",
       "</table>\n",
       "</div>"
      ],
      "text/plain": [
       "       PCA1      PCA2      PCA3      PCA4      PCA5      PCA6      PCA7  \\\n",
       "0 -0.209691 -0.808170  0.168907 -0.663340 -0.004221 -0.025304  0.002418   \n",
       "1 -0.187805 -0.810617  0.158472 -0.664012 -0.004872 -0.025161  0.002526   \n",
       "2  3.529267 -0.317246  2.910638  0.416936 -0.203725 -0.261915 -0.282133   \n",
       "3 -0.179927  0.699969 -0.165025  0.220439 -0.285466 -0.616501  0.622780   \n",
       "4 -0.173063  0.693041 -0.152954  0.115317 -0.215415 -0.104622 -0.242670   \n",
       "\n",
       "       PCA8      PCA9     PCA10     PCA11  \n",
       "0 -0.012781 -0.046990 -0.021372 -0.007774  \n",
       "1 -0.013793 -0.047109 -0.021429 -0.007660  \n",
       "2 -0.137953  0.753249  0.347229 -0.241091  \n",
       "3 -0.016936  0.028175  0.008040 -0.026113  \n",
       "4  0.010629  0.111604 -0.125831  0.059776  "
      ]
     },
     "execution_count": 121,
     "metadata": {},
     "output_type": "execute_result"
    }
   ],
   "source": [
    "df_pca = pca.transform(df_sub3)\n",
    "df_pca = pd.DataFrame(df_pca, columns = [\"PCA\"+ str(x) for x in range(1, len(pca.explained_variance_ratio_) + 1)])\n",
    "df_pca.head()"
   ]
  },
  {
   "cell_type": "code",
   "execution_count": null,
   "id": "a48e8019",
   "metadata": {},
   "outputs": [],
   "source": []
  },
  {
   "cell_type": "code",
   "execution_count": 122,
   "id": "ace74b22",
   "metadata": {},
   "outputs": [
    {
     "data": {
      "text/plain": [
       "(532, 2)"
      ]
     },
     "execution_count": 122,
     "metadata": {},
     "output_type": "execute_result"
    }
   ],
   "source": [
    "tsne = TSNE(learning_rate=35)\n",
    "# Reduce dimensions\n",
    "tsne_features = tsne.fit_transform(df_pca)\n",
    "tsne_features.shape"
   ]
  },
  {
   "cell_type": "code",
   "execution_count": 123,
   "id": "17ee67c5",
   "metadata": {},
   "outputs": [
    {
     "data": {
      "image/png": "[encoded data removed]",
      "text/plain": [
       "<Figure size 640x480 with 1 Axes>"
      ]
     },
     "metadata": {},
     "output_type": "display_data"
    }
   ],
   "source": [
    "# Visualize the clusters\n",
    "plt.scatter(tsne_features[:,0], tsne_features[:,1])\n",
    "plt.show()"
   ]
  },
  {
   "cell_type": "code",
   "execution_count": null,
   "id": "b55ecdbe",
   "metadata": {},
   "outputs": [],
   "source": []
  },
  {
   "cell_type": "markdown",
   "id": "d8cf2ed2",
   "metadata": {},
   "source": [
    "# running kmeans with PCA"
   ]
  },
  {
   "cell_type": "code",
   "execution_count": 124,
   "id": "8b4d129f",
   "metadata": {},
   "outputs": [],
   "source": [
    "from sklearn.cluster import KMeans"
   ]
  },
  {
   "cell_type": "code",
   "execution_count": 125,
   "id": "e5db4ba3",
   "metadata": {},
   "outputs": [
    {
     "name": "stderr",
     "output_type": "stream",
     "text": [
      "C:\\Users\\abooth\\AppData\\Local\\Continuum\\anaconda3\\lib\\site-packages\\sklearn\\cluster\\_kmeans.py:882: UserWarning:\n",
      "\n",
      "KMeans is known to have a memory leak on Windows with MKL, when there are less chunks than available threads. You can avoid it by setting the environment variable OMP_NUM_THREADS=3.\n",
      "\n",
      "C:\\Users\\abooth\\AppData\\Local\\Continuum\\anaconda3\\lib\\site-packages\\matplotlib\\cbook\\__init__.py:1402: FutureWarning:\n",
      "\n",
      "Support for multi-dimensional indexing (e.g. `obj[:, None]`) is deprecated and will be removed in a future version.  Convert to a numpy array before indexing instead.\n",
      "\n",
      "C:\\Users\\abooth\\AppData\\Local\\Continuum\\anaconda3\\lib\\site-packages\\matplotlib\\axes\\_base.py:276: FutureWarning:\n",
      "\n",
      "Support for multi-dimensional indexing (e.g. `obj[:, None]`) is deprecated and will be removed in a future version.  Convert to a numpy array before indexing instead.\n",
      "\n",
      "C:\\Users\\abooth\\AppData\\Local\\Continuum\\anaconda3\\lib\\site-packages\\matplotlib\\axes\\_base.py:278: FutureWarning:\n",
      "\n",
      "Support for multi-dimensional indexing (e.g. `obj[:, None]`) is deprecated and will be removed in a future version.  Convert to a numpy array before indexing instead.\n",
      "\n"
     ]
    },
    {
     "data": {
      "image/png": "[encoded data removed]",
      "text/plain": [
       "<Figure size 640x480 with 1 Axes>"
      ]
     },
     "metadata": {},
     "output_type": "display_data"
    }
   ],
   "source": [
    "# Finding the best value for k\n",
    "inertia = []\n",
    "k = list(range(1, 20))\n",
    "\n",
    "# Calculate the inertia for the range of k values\n",
    "for i in k:\n",
    "    km = KMeans(n_clusters=i, random_state=0)\n",
    "    km.fit(df_pca)\n",
    "    inertia.append(km.inertia_)\n",
    "\n",
    "# Creating the Elbow Curve\n",
    "elbow_data = {\"k\": k, \"inertia\": inertia}\n",
    "df_elbow = pd.DataFrame(elbow_data)\n",
    "\n",
    "plt.plot(df_elbow['k'], df_elbow['inertia'])\n",
    "plt.xticks(list(range(20)))\n",
    "plt.title('Elbow Curve')\n",
    "plt.xlabel('Number of clusters')\n",
    "plt.ylabel('Inertia')\n",
    "plt.show()"
   ]
  },
  {
   "cell_type": "code",
   "execution_count": 126,
   "id": "9c209919",
   "metadata": {},
   "outputs": [
    {
     "data": {
      "text/html": [
       "<div>\n",
       "<style scoped>\n",
       "    .dataframe tbody tr th:only-of-type {\n",
       "        vertical-align: middle;\n",
       "    }\n",
       "\n",
       "    .dataframe tbody tr th {\n",
       "        vertical-align: top;\n",
       "    }\n",
       "\n",
       "    .dataframe thead th {\n",
       "        text-align: right;\n",
       "    }\n",
       "</style>\n",
       "<table border=\"1\" class=\"dataframe\">\n",
       "  <thead>\n",
       "    <tr style=\"text-align: right;\">\n",
       "      <th></th>\n",
       "      <th>PCA1</th>\n",
       "      <th>PCA2</th>\n",
       "      <th>PCA3</th>\n",
       "      <th>PCA4</th>\n",
       "      <th>PCA5</th>\n",
       "      <th>PCA6</th>\n",
       "      <th>PCA7</th>\n",
       "      <th>PCA8</th>\n",
       "      <th>PCA9</th>\n",
       "      <th>PCA10</th>\n",
       "      <th>PCA11</th>\n",
       "      <th>class</th>\n",
       "    </tr>\n",
       "  </thead>\n",
       "  <tbody>\n",
       "    <tr>\n",
       "      <th>0</th>\n",
       "      <td>-0.209691</td>\n",
       "      <td>-0.808170</td>\n",
       "      <td>0.168907</td>\n",
       "      <td>-0.663340</td>\n",
       "      <td>-0.004221</td>\n",
       "      <td>-0.025304</td>\n",
       "      <td>0.002418</td>\n",
       "      <td>-0.012781</td>\n",
       "      <td>-0.046990</td>\n",
       "      <td>-0.021372</td>\n",
       "      <td>-0.007774</td>\n",
       "      <td>0</td>\n",
       "    </tr>\n",
       "    <tr>\n",
       "      <th>1</th>\n",
       "      <td>-0.187805</td>\n",
       "      <td>-0.810617</td>\n",
       "      <td>0.158472</td>\n",
       "      <td>-0.664012</td>\n",
       "      <td>-0.004872</td>\n",
       "      <td>-0.025161</td>\n",
       "      <td>0.002526</td>\n",
       "      <td>-0.013793</td>\n",
       "      <td>-0.047109</td>\n",
       "      <td>-0.021429</td>\n",
       "      <td>-0.007660</td>\n",
       "      <td>0</td>\n",
       "    </tr>\n",
       "    <tr>\n",
       "      <th>2</th>\n",
       "      <td>3.529267</td>\n",
       "      <td>-0.317246</td>\n",
       "      <td>2.910638</td>\n",
       "      <td>0.416936</td>\n",
       "      <td>-0.203725</td>\n",
       "      <td>-0.261915</td>\n",
       "      <td>-0.282133</td>\n",
       "      <td>-0.137953</td>\n",
       "      <td>0.753249</td>\n",
       "      <td>0.347229</td>\n",
       "      <td>-0.241091</td>\n",
       "      <td>2</td>\n",
       "    </tr>\n",
       "    <tr>\n",
       "      <th>3</th>\n",
       "      <td>-0.179927</td>\n",
       "      <td>0.699969</td>\n",
       "      <td>-0.165025</td>\n",
       "      <td>0.220439</td>\n",
       "      <td>-0.285466</td>\n",
       "      <td>-0.616501</td>\n",
       "      <td>0.622780</td>\n",
       "      <td>-0.016936</td>\n",
       "      <td>0.028175</td>\n",
       "      <td>0.008040</td>\n",
       "      <td>-0.026113</td>\n",
       "      <td>5</td>\n",
       "    </tr>\n",
       "    <tr>\n",
       "      <th>4</th>\n",
       "      <td>-0.173063</td>\n",
       "      <td>0.693041</td>\n",
       "      <td>-0.152954</td>\n",
       "      <td>0.115317</td>\n",
       "      <td>-0.215415</td>\n",
       "      <td>-0.104622</td>\n",
       "      <td>-0.242670</td>\n",
       "      <td>0.010629</td>\n",
       "      <td>0.111604</td>\n",
       "      <td>-0.125831</td>\n",
       "      <td>0.059776</td>\n",
       "      <td>5</td>\n",
       "    </tr>\n",
       "  </tbody>\n",
       "</table>\n",
       "</div>"
      ],
      "text/plain": [
       "       PCA1      PCA2      PCA3      PCA4      PCA5      PCA6      PCA7  \\\n",
       "0 -0.209691 -0.808170  0.168907 -0.663340 -0.004221 -0.025304  0.002418   \n",
       "1 -0.187805 -0.810617  0.158472 -0.664012 -0.004872 -0.025161  0.002526   \n",
       "2  3.529267 -0.317246  2.910638  0.416936 -0.203725 -0.261915 -0.282133   \n",
       "3 -0.179927  0.699969 -0.165025  0.220439 -0.285466 -0.616501  0.622780   \n",
       "4 -0.173063  0.693041 -0.152954  0.115317 -0.215415 -0.104622 -0.242670   \n",
       "\n",
       "       PCA8      PCA9     PCA10     PCA11  class  \n",
       "0 -0.012781 -0.046990 -0.021372 -0.007774      0  \n",
       "1 -0.013793 -0.047109 -0.021429 -0.007660      0  \n",
       "2 -0.137953  0.753249  0.347229 -0.241091      2  \n",
       "3 -0.016936  0.028175  0.008040 -0.026113      5  \n",
       "4  0.010629  0.111604 -0.125831  0.059776      5  "
      ]
     },
     "execution_count": 126,
     "metadata": {},
     "output_type": "execute_result"
    }
   ],
   "source": [
    "# Predicting clusters with k=6\n",
    "\n",
    "# Initialize the k-means model\n",
    "model = KMeans(n_clusters=6, random_state=0)\n",
    "\n",
    "# Fit the model\n",
    "model.fit(df_pca)\n",
    "\n",
    "# Predict clusters\n",
    "predictions = model.predict(df_pca)\n",
    "\n",
    "# Add the predicted class column to the dataframe\n",
    "df_pca[\"class\"] = model.labels_\n",
    "df_pca.head()"
   ]
  },
  {
   "cell_type": "code",
   "execution_count": 127,
   "id": "afad6902",
   "metadata": {},
   "outputs": [
    {
     "data": {
      "image/png": "[encoded data removed]",
      "text/plain": [
       "<Figure size 640x480 with 1 Axes>"
      ]
     },
     "metadata": {},
     "output_type": "display_data"
    }
   ],
   "source": [
    "# Visualize the clusters\n",
    "plt.scatter(tsne_features[:,0], tsne_features[:,1], c=df_pca[\"class\"])\n",
    "plt.show()"
   ]
  },
  {
   "cell_type": "code",
   "execution_count": 128,
   "id": "2a74d6eb",
   "metadata": {},
   "outputs": [
    {
     "data": {
      "text/plain": [
       "5    229\n",
       "0    182\n",
       "3    109\n",
       "2     10\n",
       "4      1\n",
       "1      1\n",
       "Name: class, dtype: int64"
      ]
     },
     "execution_count": 128,
     "metadata": {},
     "output_type": "execute_result"
    }
   ],
   "source": [
    "df_pca[\"class\"].value_counts()"
   ]
  },
  {
   "cell_type": "code",
   "execution_count": null,
   "id": "4e204c21",
   "metadata": {},
   "outputs": [],
   "source": []
  },
  {
   "cell_type": "code",
   "execution_count": 129,
   "id": "3f196809",
   "metadata": {},
   "outputs": [
    {
     "data": {
      "text/html": [
       "<div>\n",
       "<style scoped>\n",
       "    .dataframe tbody tr th:only-of-type {\n",
       "        vertical-align: middle;\n",
       "    }\n",
       "\n",
       "    .dataframe tbody tr th {\n",
       "        vertical-align: top;\n",
       "    }\n",
       "\n",
       "    .dataframe thead th {\n",
       "        text-align: right;\n",
       "    }\n",
       "</style>\n",
       "<table border=\"1\" class=\"dataframe\">\n",
       "  <thead>\n",
       "    <tr style=\"text-align: right;\">\n",
       "      <th></th>\n",
       "      <th>Algorithm</th>\n",
       "      <th>ProofType</th>\n",
       "      <th>TotalCoinsMined</th>\n",
       "      <th>TotalCoinSupply</th>\n",
       "    </tr>\n",
       "  </thead>\n",
       "  <tbody>\n",
       "    <tr>\n",
       "      <th>0</th>\n",
       "      <td>Scrypt</td>\n",
       "      <td>PoW/PoS</td>\n",
       "      <td>4.199995e+01</td>\n",
       "      <td>4.200000e+01</td>\n",
       "    </tr>\n",
       "    <tr>\n",
       "      <th>1</th>\n",
       "      <td>Scrypt</td>\n",
       "      <td>PoW/PoS</td>\n",
       "      <td>1.055185e+09</td>\n",
       "      <td>5.320000e+08</td>\n",
       "    </tr>\n",
       "    <tr>\n",
       "      <th>2</th>\n",
       "      <td>X13</td>\n",
       "      <td>PoW/PoS</td>\n",
       "      <td>2.927942e+10</td>\n",
       "      <td>3.141593e+11</td>\n",
       "    </tr>\n",
       "    <tr>\n",
       "      <th>3</th>\n",
       "      <td>SHA-256</td>\n",
       "      <td>PoW</td>\n",
       "      <td>1.792718e+07</td>\n",
       "      <td>2.100000e+07</td>\n",
       "    </tr>\n",
       "    <tr>\n",
       "      <th>4</th>\n",
       "      <td>Ethash</td>\n",
       "      <td>PoW</td>\n",
       "      <td>1.076842e+08</td>\n",
       "      <td>0.000000e+00</td>\n",
       "    </tr>\n",
       "  </tbody>\n",
       "</table>\n",
       "</div>"
      ],
      "text/plain": [
       "  Algorithm ProofType  TotalCoinsMined  TotalCoinSupply\n",
       "0    Scrypt   PoW/PoS     4.199995e+01     4.200000e+01\n",
       "1    Scrypt   PoW/PoS     1.055185e+09     5.320000e+08\n",
       "2       X13   PoW/PoS     2.927942e+10     3.141593e+11\n",
       "3   SHA-256       PoW     1.792718e+07     2.100000e+07\n",
       "4    Ethash       PoW     1.076842e+08     0.000000e+00"
      ]
     },
     "execution_count": 129,
     "metadata": {},
     "output_type": "execute_result"
    }
   ],
   "source": [
    "df_sub.head()"
   ]
  },
  {
   "cell_type": "code",
   "execution_count": 130,
   "id": "24fea7bd",
   "metadata": {},
   "outputs": [],
   "source": [
    "classes = df_pca[\"class\"]\n",
    "df_pca[\"coin\"] = coin_sub"
   ]
  },
  {
   "cell_type": "code",
   "execution_count": null,
   "id": "d89bee96",
   "metadata": {},
   "outputs": [],
   "source": []
  },
  {
   "cell_type": "code",
   "execution_count": 131,
   "id": "0ec7c259",
   "metadata": {},
   "outputs": [
    {
     "data": {
      "text/html": [
       "<div>\n",
       "<style scoped>\n",
       "    .dataframe tbody tr th:only-of-type {\n",
       "        vertical-align: middle;\n",
       "    }\n",
       "\n",
       "    .dataframe tbody tr th {\n",
       "        vertical-align: top;\n",
       "    }\n",
       "\n",
       "    .dataframe thead th {\n",
       "        text-align: right;\n",
       "    }\n",
       "</style>\n",
       "<table border=\"1\" class=\"dataframe\">\n",
       "  <thead>\n",
       "    <tr style=\"text-align: right;\">\n",
       "      <th></th>\n",
       "      <th>Algorithm</th>\n",
       "      <th>ProofType</th>\n",
       "      <th>TotalCoinsMined</th>\n",
       "      <th>TotalCoinSupply</th>\n",
       "      <th>coin</th>\n",
       "      <th>class</th>\n",
       "    </tr>\n",
       "  </thead>\n",
       "  <tbody>\n",
       "    <tr>\n",
       "      <th>0</th>\n",
       "      <td>Scrypt</td>\n",
       "      <td>PoW/PoS</td>\n",
       "      <td>4.199995e+01</td>\n",
       "      <td>4.200000e+01</td>\n",
       "      <td>42 Coin</td>\n",
       "      <td>0</td>\n",
       "    </tr>\n",
       "    <tr>\n",
       "      <th>1</th>\n",
       "      <td>Scrypt</td>\n",
       "      <td>PoW/PoS</td>\n",
       "      <td>1.055185e+09</td>\n",
       "      <td>5.320000e+08</td>\n",
       "      <td>404Coin</td>\n",
       "      <td>0</td>\n",
       "    </tr>\n",
       "    <tr>\n",
       "      <th>2</th>\n",
       "      <td>X13</td>\n",
       "      <td>PoW/PoS</td>\n",
       "      <td>2.927942e+10</td>\n",
       "      <td>3.141593e+11</td>\n",
       "      <td>EliteCoin</td>\n",
       "      <td>2</td>\n",
       "    </tr>\n",
       "    <tr>\n",
       "      <th>3</th>\n",
       "      <td>SHA-256</td>\n",
       "      <td>PoW</td>\n",
       "      <td>1.792718e+07</td>\n",
       "      <td>2.100000e+07</td>\n",
       "      <td>Bitcoin</td>\n",
       "      <td>5</td>\n",
       "    </tr>\n",
       "    <tr>\n",
       "      <th>4</th>\n",
       "      <td>Ethash</td>\n",
       "      <td>PoW</td>\n",
       "      <td>1.076842e+08</td>\n",
       "      <td>0.000000e+00</td>\n",
       "      <td>Ethereum</td>\n",
       "      <td>5</td>\n",
       "    </tr>\n",
       "  </tbody>\n",
       "</table>\n",
       "</div>"
      ],
      "text/plain": [
       "  Algorithm ProofType  TotalCoinsMined  TotalCoinSupply       coin  class\n",
       "0    Scrypt   PoW/PoS     4.199995e+01     4.200000e+01    42 Coin      0\n",
       "1    Scrypt   PoW/PoS     1.055185e+09     5.320000e+08    404Coin      0\n",
       "2       X13   PoW/PoS     2.927942e+10     3.141593e+11  EliteCoin      2\n",
       "3   SHA-256       PoW     1.792718e+07     2.100000e+07    Bitcoin      5\n",
       "4    Ethash       PoW     1.076842e+08     0.000000e+00   Ethereum      5"
      ]
     },
     "execution_count": 131,
     "metadata": {},
     "output_type": "execute_result"
    }
   ],
   "source": [
    "preds = df_sub.copy()\n",
    "preds[\"coin\"] = coin_sub\n",
    "preds[\"class\"] = classes\n",
    "\n",
    "preds.head()"
   ]
  },
  {
   "cell_type": "code",
   "execution_count": 132,
   "id": "4100b55c",
   "metadata": {},
   "outputs": [
    {
     "data": {
      "text/html": [
       "<div>\n",
       "<style scoped>\n",
       "    .dataframe tbody tr th:only-of-type {\n",
       "        vertical-align: middle;\n",
       "    }\n",
       "\n",
       "    .dataframe tbody tr th {\n",
       "        vertical-align: top;\n",
       "    }\n",
       "\n",
       "    .dataframe thead th {\n",
       "        text-align: right;\n",
       "    }\n",
       "</style>\n",
       "<table border=\"1\" class=\"dataframe\">\n",
       "  <thead>\n",
       "    <tr style=\"text-align: right;\">\n",
       "      <th></th>\n",
       "      <th>TotalCoinsMined</th>\n",
       "      <th>TotalCoinSupply</th>\n",
       "    </tr>\n",
       "    <tr>\n",
       "      <th>class</th>\n",
       "      <th></th>\n",
       "      <th></th>\n",
       "    </tr>\n",
       "  </thead>\n",
       "  <tbody>\n",
       "    <tr>\n",
       "      <th>0</th>\n",
       "      <td>2.492499e+09</td>\n",
       "      <td>3.204951e+09</td>\n",
       "    </tr>\n",
       "    <tr>\n",
       "      <th>1</th>\n",
       "      <td>9.899887e+11</td>\n",
       "      <td>9.900000e+11</td>\n",
       "    </tr>\n",
       "    <tr>\n",
       "      <th>2</th>\n",
       "      <td>8.841782e+10</td>\n",
       "      <td>1.720409e+11</td>\n",
       "    </tr>\n",
       "    <tr>\n",
       "      <th>3</th>\n",
       "      <td>1.649582e+09</td>\n",
       "      <td>3.587962e+09</td>\n",
       "    </tr>\n",
       "    <tr>\n",
       "      <th>4</th>\n",
       "      <td>5.313984e+10</td>\n",
       "      <td>1.000000e+12</td>\n",
       "    </tr>\n",
       "    <tr>\n",
       "      <th>5</th>\n",
       "      <td>1.224351e+09</td>\n",
       "      <td>3.575834e+09</td>\n",
       "    </tr>\n",
       "  </tbody>\n",
       "</table>\n",
       "</div>"
      ],
      "text/plain": [
       "       TotalCoinsMined  TotalCoinSupply\n",
       "class                                  \n",
       "0         2.492499e+09     3.204951e+09\n",
       "1         9.899887e+11     9.900000e+11\n",
       "2         8.841782e+10     1.720409e+11\n",
       "3         1.649582e+09     3.587962e+09\n",
       "4         5.313984e+10     1.000000e+12\n",
       "5         1.224351e+09     3.575834e+09"
      ]
     },
     "execution_count": 132,
     "metadata": {},
     "output_type": "execute_result"
    }
   ],
   "source": [
    "preds.groupby(\"class\").mean()"
   ]
  },
  {
   "cell_type": "code",
   "execution_count": 133,
   "id": "2e48b813",
   "metadata": {},
   "outputs": [
    {
     "data": {
      "text/html": [
       "<div>\n",
       "<style scoped>\n",
       "    .dataframe tbody tr th:only-of-type {\n",
       "        vertical-align: middle;\n",
       "    }\n",
       "\n",
       "    .dataframe tbody tr th {\n",
       "        vertical-align: top;\n",
       "    }\n",
       "\n",
       "    .dataframe thead th {\n",
       "        text-align: right;\n",
       "    }\n",
       "</style>\n",
       "<table border=\"1\" class=\"dataframe\">\n",
       "  <thead>\n",
       "    <tr style=\"text-align: right;\">\n",
       "      <th></th>\n",
       "      <th>Algorithm</th>\n",
       "      <th>ProofType</th>\n",
       "      <th>TotalCoinsMined</th>\n",
       "      <th>TotalCoinSupply</th>\n",
       "      <th>coin</th>\n",
       "    </tr>\n",
       "    <tr>\n",
       "      <th>class</th>\n",
       "      <th></th>\n",
       "      <th></th>\n",
       "      <th></th>\n",
       "      <th></th>\n",
       "      <th></th>\n",
       "    </tr>\n",
       "  </thead>\n",
       "  <tbody>\n",
       "    <tr>\n",
       "      <th>0</th>\n",
       "      <td>182</td>\n",
       "      <td>182</td>\n",
       "      <td>182</td>\n",
       "      <td>182</td>\n",
       "      <td>182</td>\n",
       "    </tr>\n",
       "    <tr>\n",
       "      <th>1</th>\n",
       "      <td>1</td>\n",
       "      <td>1</td>\n",
       "      <td>1</td>\n",
       "      <td>1</td>\n",
       "      <td>1</td>\n",
       "    </tr>\n",
       "    <tr>\n",
       "      <th>2</th>\n",
       "      <td>10</td>\n",
       "      <td>10</td>\n",
       "      <td>10</td>\n",
       "      <td>10</td>\n",
       "      <td>10</td>\n",
       "    </tr>\n",
       "    <tr>\n",
       "      <th>3</th>\n",
       "      <td>109</td>\n",
       "      <td>109</td>\n",
       "      <td>109</td>\n",
       "      <td>109</td>\n",
       "      <td>109</td>\n",
       "    </tr>\n",
       "    <tr>\n",
       "      <th>4</th>\n",
       "      <td>1</td>\n",
       "      <td>1</td>\n",
       "      <td>1</td>\n",
       "      <td>1</td>\n",
       "      <td>1</td>\n",
       "    </tr>\n",
       "    <tr>\n",
       "      <th>5</th>\n",
       "      <td>229</td>\n",
       "      <td>229</td>\n",
       "      <td>229</td>\n",
       "      <td>229</td>\n",
       "      <td>229</td>\n",
       "    </tr>\n",
       "  </tbody>\n",
       "</table>\n",
       "</div>"
      ],
      "text/plain": [
       "       Algorithm  ProofType  TotalCoinsMined  TotalCoinSupply  coin\n",
       "class                                                              \n",
       "0            182        182              182              182   182\n",
       "1              1          1                1                1     1\n",
       "2             10         10               10               10    10\n",
       "3            109        109              109              109   109\n",
       "4              1          1                1                1     1\n",
       "5            229        229              229              229   229"
      ]
     },
     "execution_count": 133,
     "metadata": {},
     "output_type": "execute_result"
    }
   ],
   "source": [
    "preds.groupby(\"class\").count()"
   ]
  },
  {
   "cell_type": "code",
   "execution_count": 139,
   "id": "8277b306",
   "metadata": {},
   "outputs": [
    {
     "data": {
      "text/html": [
       "<div>\n",
       "<style scoped>\n",
       "    .dataframe tbody tr th:only-of-type {\n",
       "        vertical-align: middle;\n",
       "    }\n",
       "\n",
       "    .dataframe tbody tr th {\n",
       "        vertical-align: top;\n",
       "    }\n",
       "\n",
       "    .dataframe thead th {\n",
       "        text-align: right;\n",
       "    }\n",
       "</style>\n",
       "<table border=\"1\" class=\"dataframe\">\n",
       "  <thead>\n",
       "    <tr style=\"text-align: right;\">\n",
       "      <th></th>\n",
       "      <th>Algorithm</th>\n",
       "      <th>ProofType</th>\n",
       "      <th>TotalCoinsMined</th>\n",
       "      <th>TotalCoinSupply</th>\n",
       "      <th>coin</th>\n",
       "      <th>class</th>\n",
       "    </tr>\n",
       "  </thead>\n",
       "  <tbody>\n",
       "    <tr>\n",
       "      <th>525</th>\n",
       "      <td>TRC10</td>\n",
       "      <td>DPoS</td>\n",
       "      <td>9.899887e+11</td>\n",
       "      <td>9.900000e+11</td>\n",
       "      <td>BitTorrent</td>\n",
       "      <td>1</td>\n",
       "    </tr>\n",
       "  </tbody>\n",
       "</table>\n",
       "</div>"
      ],
      "text/plain": [
       "    Algorithm ProofType  TotalCoinsMined  TotalCoinSupply        coin  class\n",
       "525     TRC10      DPoS     9.899887e+11     9.900000e+11  BitTorrent      1"
      ]
     },
     "execution_count": 139,
     "metadata": {},
     "output_type": "execute_result"
    }
   ],
   "source": [
    "preds.loc[preds[\"class\"] == 1]"
   ]
  },
  {
   "cell_type": "code",
   "execution_count": 135,
   "id": "b5711a9e",
   "metadata": {},
   "outputs": [
    {
     "data": {
      "text/html": [
       "<div>\n",
       "<style scoped>\n",
       "    .dataframe tbody tr th:only-of-type {\n",
       "        vertical-align: middle;\n",
       "    }\n",
       "\n",
       "    .dataframe tbody tr th {\n",
       "        vertical-align: top;\n",
       "    }\n",
       "\n",
       "    .dataframe thead th {\n",
       "        text-align: right;\n",
       "    }\n",
       "</style>\n",
       "<table border=\"1\" class=\"dataframe\">\n",
       "  <thead>\n",
       "    <tr style=\"text-align: right;\">\n",
       "      <th></th>\n",
       "      <th>Algorithm</th>\n",
       "      <th>ProofType</th>\n",
       "      <th>TotalCoinsMined</th>\n",
       "      <th>TotalCoinSupply</th>\n",
       "      <th>coin</th>\n",
       "      <th>class</th>\n",
       "    </tr>\n",
       "  </thead>\n",
       "  <tbody>\n",
       "    <tr>\n",
       "      <th>370</th>\n",
       "      <td>CryptoNight</td>\n",
       "      <td>PoW</td>\n",
       "      <td>5.313984e+10</td>\n",
       "      <td>1.000000e+12</td>\n",
       "      <td>TurtleCoin</td>\n",
       "      <td>4</td>\n",
       "    </tr>\n",
       "  </tbody>\n",
       "</table>\n",
       "</div>"
      ],
      "text/plain": [
       "       Algorithm ProofType  TotalCoinsMined  TotalCoinSupply        coin  \\\n",
       "370  CryptoNight       PoW     5.313984e+10     1.000000e+12  TurtleCoin   \n",
       "\n",
       "     class  \n",
       "370      4  "
      ]
     },
     "execution_count": 135,
     "metadata": {},
     "output_type": "execute_result"
    }
   ],
   "source": [
    "preds.loc[preds[\"class\"] == 4]"
   ]
  },
  {
   "cell_type": "code",
   "execution_count": 136,
   "id": "052432c5",
   "metadata": {},
   "outputs": [
    {
     "data": {
      "text/html": [
       "<div>\n",
       "<style scoped>\n",
       "    .dataframe tbody tr th:only-of-type {\n",
       "        vertical-align: middle;\n",
       "    }\n",
       "\n",
       "    .dataframe tbody tr th {\n",
       "        vertical-align: top;\n",
       "    }\n",
       "\n",
       "    .dataframe thead th {\n",
       "        text-align: right;\n",
       "    }\n",
       "</style>\n",
       "<table border=\"1\" class=\"dataframe\">\n",
       "  <thead>\n",
       "    <tr style=\"text-align: right;\">\n",
       "      <th></th>\n",
       "      <th>Algorithm</th>\n",
       "      <th>ProofType</th>\n",
       "      <th>TotalCoinsMined</th>\n",
       "      <th>TotalCoinSupply</th>\n",
       "      <th>coin</th>\n",
       "      <th>class</th>\n",
       "    </tr>\n",
       "  </thead>\n",
       "  <tbody>\n",
       "    <tr>\n",
       "      <th>525</th>\n",
       "      <td>TRC10</td>\n",
       "      <td>DPoS</td>\n",
       "      <td>9.899887e+11</td>\n",
       "      <td>9.900000e+11</td>\n",
       "      <td>BitTorrent</td>\n",
       "      <td>1</td>\n",
       "    </tr>\n",
       "    <tr>\n",
       "      <th>98</th>\n",
       "      <td>CryptoNight</td>\n",
       "      <td>PoW</td>\n",
       "      <td>1.840668e+11</td>\n",
       "      <td>1.844674e+11</td>\n",
       "      <td>ByteCoin</td>\n",
       "      <td>2</td>\n",
       "    </tr>\n",
       "    <tr>\n",
       "      <th>294</th>\n",
       "      <td>Scrypt</td>\n",
       "      <td>PoW</td>\n",
       "      <td>1.630551e+11</td>\n",
       "      <td>2.000000e+11</td>\n",
       "      <td>gCn Coin</td>\n",
       "      <td>2</td>\n",
       "    </tr>\n",
       "    <tr>\n",
       "      <th>305</th>\n",
       "      <td>Scrypt</td>\n",
       "      <td>PoW</td>\n",
       "      <td>1.430067e+11</td>\n",
       "      <td>0.000000e+00</td>\n",
       "      <td>NewYorkCoin</td>\n",
       "      <td>2</td>\n",
       "    </tr>\n",
       "    <tr>\n",
       "      <th>443</th>\n",
       "      <td>CryptoNight Heavy</td>\n",
       "      <td>PoW</td>\n",
       "      <td>9.955311e+10</td>\n",
       "      <td>1.844700e+11</td>\n",
       "      <td>Qwertycoin</td>\n",
       "      <td>2</td>\n",
       "    </tr>\n",
       "    <tr>\n",
       "      <th>...</th>\n",
       "      <td>...</td>\n",
       "      <td>...</td>\n",
       "      <td>...</td>\n",
       "      <td>...</td>\n",
       "      <td>...</td>\n",
       "      <td>...</td>\n",
       "    </tr>\n",
       "    <tr>\n",
       "      <th>415</th>\n",
       "      <td>CryptoNight</td>\n",
       "      <td>PoW</td>\n",
       "      <td>8.430000e+04</td>\n",
       "      <td>6.000005e+08</td>\n",
       "      <td>PlatinCoin</td>\n",
       "      <td>5</td>\n",
       "    </tr>\n",
       "    <tr>\n",
       "      <th>29</th>\n",
       "      <td>Scrypt</td>\n",
       "      <td>PoW/PoS</td>\n",
       "      <td>4.257948e+04</td>\n",
       "      <td>5.000000e+05</td>\n",
       "      <td>BitBar</td>\n",
       "      <td>0</td>\n",
       "    </tr>\n",
       "    <tr>\n",
       "      <th>77</th>\n",
       "      <td>X11</td>\n",
       "      <td>PoW/PoS</td>\n",
       "      <td>1.177000e+03</td>\n",
       "      <td>1.000000e+03</td>\n",
       "      <td>SyncCoin</td>\n",
       "      <td>0</td>\n",
       "    </tr>\n",
       "    <tr>\n",
       "      <th>21</th>\n",
       "      <td>Scrypt</td>\n",
       "      <td>PoW</td>\n",
       "      <td>8.800000e+01</td>\n",
       "      <td>3.840000e+11</td>\n",
       "      <td>MoonCoin</td>\n",
       "      <td>2</td>\n",
       "    </tr>\n",
       "    <tr>\n",
       "      <th>0</th>\n",
       "      <td>Scrypt</td>\n",
       "      <td>PoW/PoS</td>\n",
       "      <td>4.199995e+01</td>\n",
       "      <td>4.200000e+01</td>\n",
       "      <td>42 Coin</td>\n",
       "      <td>0</td>\n",
       "    </tr>\n",
       "  </tbody>\n",
       "</table>\n",
       "<p>532 rows × 6 columns</p>\n",
       "</div>"
      ],
      "text/plain": [
       "             Algorithm ProofType  TotalCoinsMined  TotalCoinSupply  \\\n",
       "525              TRC10      DPoS     9.899887e+11     9.900000e+11   \n",
       "98         CryptoNight       PoW     1.840668e+11     1.844674e+11   \n",
       "294             Scrypt       PoW     1.630551e+11     2.000000e+11   \n",
       "305             Scrypt       PoW     1.430067e+11     0.000000e+00   \n",
       "443  CryptoNight Heavy       PoW     9.955311e+10     1.844700e+11   \n",
       "..                 ...       ...              ...              ...   \n",
       "415        CryptoNight       PoW     8.430000e+04     6.000005e+08   \n",
       "29              Scrypt   PoW/PoS     4.257948e+04     5.000000e+05   \n",
       "77                 X11   PoW/PoS     1.177000e+03     1.000000e+03   \n",
       "21              Scrypt       PoW     8.800000e+01     3.840000e+11   \n",
       "0               Scrypt   PoW/PoS     4.199995e+01     4.200000e+01   \n",
       "\n",
       "            coin  class  \n",
       "525   BitTorrent      1  \n",
       "98      ByteCoin      2  \n",
       "294     gCn Coin      2  \n",
       "305  NewYorkCoin      2  \n",
       "443   Qwertycoin      2  \n",
       "..           ...    ...  \n",
       "415   PlatinCoin      5  \n",
       "29        BitBar      0  \n",
       "77      SyncCoin      0  \n",
       "21      MoonCoin      2  \n",
       "0        42 Coin      0  \n",
       "\n",
       "[532 rows x 6 columns]"
      ]
     },
     "execution_count": 136,
     "metadata": {},
     "output_type": "execute_result"
    }
   ],
   "source": [
    "preds.sort_values(by=\"TotalCoinsMined\", ascending=False)"
   ]
  },
  {
   "cell_type": "code",
   "execution_count": null,
   "id": "0e8f598a",
   "metadata": {},
   "outputs": [],
   "source": []
  },
  {
   "cell_type": "code",
   "execution_count": 137,
   "id": "9e887ad2",
   "metadata": {},
   "outputs": [
    {
     "data": {
      "text/html": [
       "<div>\n",
       "<style scoped>\n",
       "    .dataframe tbody tr th:only-of-type {\n",
       "        vertical-align: middle;\n",
       "    }\n",
       "\n",
       "    .dataframe tbody tr th {\n",
       "        vertical-align: top;\n",
       "    }\n",
       "\n",
       "    .dataframe thead th {\n",
       "        text-align: right;\n",
       "    }\n",
       "</style>\n",
       "<table border=\"1\" class=\"dataframe\">\n",
       "  <thead>\n",
       "    <tr style=\"text-align: right;\">\n",
       "      <th></th>\n",
       "      <th>Algorithm</th>\n",
       "      <th>ProofType</th>\n",
       "      <th>TotalCoinsMined</th>\n",
       "      <th>TotalCoinSupply</th>\n",
       "      <th>coin</th>\n",
       "      <th>class</th>\n",
       "    </tr>\n",
       "  </thead>\n",
       "  <tbody>\n",
       "    <tr>\n",
       "      <th>3</th>\n",
       "      <td>SHA-256</td>\n",
       "      <td>PoW</td>\n",
       "      <td>1.792718e+07</td>\n",
       "      <td>2.100000e+07</td>\n",
       "      <td>Bitcoin</td>\n",
       "      <td>5</td>\n",
       "    </tr>\n",
       "    <tr>\n",
       "      <th>4</th>\n",
       "      <td>Ethash</td>\n",
       "      <td>PoW</td>\n",
       "      <td>1.076842e+08</td>\n",
       "      <td>0.000000e+00</td>\n",
       "      <td>Ethereum</td>\n",
       "      <td>5</td>\n",
       "    </tr>\n",
       "    <tr>\n",
       "      <th>5</th>\n",
       "      <td>Scrypt</td>\n",
       "      <td>PoW</td>\n",
       "      <td>6.303924e+07</td>\n",
       "      <td>8.400000e+07</td>\n",
       "      <td>Litecoin</td>\n",
       "      <td>5</td>\n",
       "    </tr>\n",
       "    <tr>\n",
       "      <th>7</th>\n",
       "      <td>CryptoNight-V7</td>\n",
       "      <td>PoW</td>\n",
       "      <td>1.720114e+07</td>\n",
       "      <td>0.000000e+00</td>\n",
       "      <td>Monero</td>\n",
       "      <td>5</td>\n",
       "    </tr>\n",
       "    <tr>\n",
       "      <th>8</th>\n",
       "      <td>Ethash</td>\n",
       "      <td>PoW</td>\n",
       "      <td>1.133597e+08</td>\n",
       "      <td>2.100000e+08</td>\n",
       "      <td>Ethereum Classic</td>\n",
       "      <td>5</td>\n",
       "    </tr>\n",
       "    <tr>\n",
       "      <th>9</th>\n",
       "      <td>Equihash</td>\n",
       "      <td>PoW</td>\n",
       "      <td>7.383056e+06</td>\n",
       "      <td>2.100000e+07</td>\n",
       "      <td>ZCash</td>\n",
       "      <td>5</td>\n",
       "    </tr>\n",
       "    <tr>\n",
       "      <th>11</th>\n",
       "      <td>Multiple</td>\n",
       "      <td>PoW</td>\n",
       "      <td>1.140622e+10</td>\n",
       "      <td>2.100000e+10</td>\n",
       "      <td>DigiByte</td>\n",
       "      <td>5</td>\n",
       "    </tr>\n",
       "    <tr>\n",
       "      <th>14</th>\n",
       "      <td>Scrypt</td>\n",
       "      <td>PoW</td>\n",
       "      <td>5.768310e+06</td>\n",
       "      <td>2.100000e+07</td>\n",
       "      <td>ProsperCoin</td>\n",
       "      <td>5</td>\n",
       "    </tr>\n",
       "    <tr>\n",
       "      <th>16</th>\n",
       "      <td>X11</td>\n",
       "      <td>PoW</td>\n",
       "      <td>1.114973e+07</td>\n",
       "      <td>2.000000e+07</td>\n",
       "      <td>Spreadcoin</td>\n",
       "      <td>5</td>\n",
       "    </tr>\n",
       "    <tr>\n",
       "      <th>17</th>\n",
       "      <td>Scrypt</td>\n",
       "      <td>PoW</td>\n",
       "      <td>1.220580e+07</td>\n",
       "      <td>6.400000e+07</td>\n",
       "      <td>Argentum</td>\n",
       "      <td>5</td>\n",
       "    </tr>\n",
       "  </tbody>\n",
       "</table>\n",
       "</div>"
      ],
      "text/plain": [
       "         Algorithm ProofType  TotalCoinsMined  TotalCoinSupply  \\\n",
       "3          SHA-256       PoW     1.792718e+07     2.100000e+07   \n",
       "4           Ethash       PoW     1.076842e+08     0.000000e+00   \n",
       "5           Scrypt       PoW     6.303924e+07     8.400000e+07   \n",
       "7   CryptoNight-V7       PoW     1.720114e+07     0.000000e+00   \n",
       "8           Ethash       PoW     1.133597e+08     2.100000e+08   \n",
       "9         Equihash       PoW     7.383056e+06     2.100000e+07   \n",
       "11        Multiple       PoW     1.140622e+10     2.100000e+10   \n",
       "14          Scrypt       PoW     5.768310e+06     2.100000e+07   \n",
       "16             X11       PoW     1.114973e+07     2.000000e+07   \n",
       "17          Scrypt       PoW     1.220580e+07     6.400000e+07   \n",
       "\n",
       "                coin  class  \n",
       "3            Bitcoin      5  \n",
       "4           Ethereum      5  \n",
       "5           Litecoin      5  \n",
       "7             Monero      5  \n",
       "8   Ethereum Classic      5  \n",
       "9              ZCash      5  \n",
       "11          DigiByte      5  \n",
       "14       ProsperCoin      5  \n",
       "16        Spreadcoin      5  \n",
       "17          Argentum      5  "
      ]
     },
     "execution_count": 137,
     "metadata": {},
     "output_type": "execute_result"
    }
   ],
   "source": [
    "preds.loc[preds[\"class\"] == 5].head(10)"
   ]
  },
  {
   "cell_type": "code",
   "execution_count": 140,
   "id": "ab2443db",
   "metadata": {},
   "outputs": [
    {
     "data": {
      "text/html": [
       "<div>\n",
       "<style scoped>\n",
       "    .dataframe tbody tr th:only-of-type {\n",
       "        vertical-align: middle;\n",
       "    }\n",
       "\n",
       "    .dataframe tbody tr th {\n",
       "        vertical-align: top;\n",
       "    }\n",
       "\n",
       "    .dataframe thead th {\n",
       "        text-align: right;\n",
       "    }\n",
       "</style>\n",
       "<table border=\"1\" class=\"dataframe\">\n",
       "  <thead>\n",
       "    <tr style=\"text-align: right;\">\n",
       "      <th></th>\n",
       "      <th>Algorithm</th>\n",
       "      <th>ProofType</th>\n",
       "      <th>TotalCoinsMined</th>\n",
       "      <th>TotalCoinSupply</th>\n",
       "      <th>coin</th>\n",
       "      <th>class</th>\n",
       "    </tr>\n",
       "  </thead>\n",
       "  <tbody>\n",
       "    <tr>\n",
       "      <th>278</th>\n",
       "      <td>Blake2b</td>\n",
       "      <td>PoW</td>\n",
       "      <td>133248297.0</td>\n",
       "      <td>340282367.0</td>\n",
       "      <td>Nano</td>\n",
       "      <td>5</td>\n",
       "    </tr>\n",
       "  </tbody>\n",
       "</table>\n",
       "</div>"
      ],
      "text/plain": [
       "    Algorithm ProofType  TotalCoinsMined  TotalCoinSupply  coin  class\n",
       "278   Blake2b       PoW      133248297.0      340282367.0  Nano      5"
      ]
     },
     "execution_count": 140,
     "metadata": {},
     "output_type": "execute_result"
    }
   ],
   "source": [
    "preds.loc[preds.coin == \"Nano\"]"
   ]
  },
  {
   "cell_type": "code",
   "execution_count": null,
   "id": "de549c4e",
   "metadata": {},
   "outputs": [],
   "source": []
  },
  {
   "cell_type": "code",
   "execution_count": null,
   "id": "b75eef97",
   "metadata": {},
   "outputs": [],
   "source": []
  },
  {
   "cell_type": "code",
   "execution_count": 138,
   "id": "4b55ee53",
   "metadata": {},
   "outputs": [
    {
     "data": {
      "application/vnd.plotly.v1+json": {
       "config": {
        "plotlyServerURL": "https://plot.ly"
       },
       "data": [
        {
         "customdata": [
          [
           "42 Coin"
          ],
          [
           "404Coin"
          ],
          [
           "EliteCoin"
          ],
          [
           "Bitcoin"
          ],
          [
           "Ethereum"
          ],
          [
           "Litecoin"
          ],
          [
           "Dash"
          ],
          [
           "Monero"
          ],
          [
           "Ethereum Classic"
          ],
          [
           "ZCash"
          ],
          [
           "Bitshares"
          ],
          [
           "DigiByte"
          ],
          [
           "BitcoinDark"
          ],
          [
           "PayCoin"
          ],
          [
           "ProsperCoin"
          ],
          [
           "KoboCoin"
          ],
          [
           "Spreadcoin"
          ],
          [
           "Argentum"
          ],
          [
           "Aurora Coin"
          ],
          [
           "BlueCoin"
          ],
          [
           "MyriadCoin"
          ],
          [
           "MoonCoin"
          ],
          [
           "ZetaCoin"
          ],
          [
           "SexCoin"
          ],
          [
           "Quatloo"
          ],
          [
           "EnergyCoin"
          ],
          [
           "QuarkCoin"
          ],
          [
           "Riecoin"
          ],
          [
           "Digitalcoin "
          ],
          [
           "BitBar"
          ],
          [
           "Catcoin"
          ],
          [
           "CryptoBullion"
          ],
          [
           "CannaCoin"
          ],
          [
           "CryptCoin"
          ],
          [
           "CasinoCoin"
          ],
          [
           "Diamond"
          ],
          [
           "Verge"
          ],
          [
           "DevCoin"
          ],
          [
           "EarthCoin"
          ],
          [
           "E-Gulden"
          ],
          [
           "Einsteinium"
          ],
          [
           "Emerald"
          ],
          [
           "Exclusive Coin"
          ],
          [
           "FlutterCoin"
          ],
          [
           "Franko"
          ],
          [
           "FeatherCoin"
          ],
          [
           "GrandCoin"
          ],
          [
           "GlobalCoin"
          ],
          [
           "GoldCoin"
          ],
          [
           "HoboNickels"
          ],
          [
           "HyperStake"
          ],
          [
           "Infinite Coin"
          ],
          [
           "IOCoin"
          ],
          [
           "IXcoin"
          ],
          [
           "KrugerCoin"
          ],
          [
           "LuckyCoin"
          ],
          [
           "Litebar "
          ],
          [
           "MaxCoin"
          ],
          [
           "MegaCoin"
          ],
          [
           "MediterraneanCoin"
          ],
          [
           "MintCoin"
          ],
          [
           "MinCoin"
          ],
          [
           "MazaCoin"
          ],
          [
           "Nautilus Coin"
          ],
          [
           "NavCoin"
          ],
          [
           "NobleCoin"
          ],
          [
           "Namecoin"
          ],
          [
           "NyanCoin"
          ],
          [
           "OpalCoin"
          ],
          [
           "Orbitcoin"
          ],
          [
           "PotCoin"
          ],
          [
           "PhoenixCoin"
          ],
          [
           "Reddcoin"
          ],
          [
           "RonPaulCoin"
          ],
          [
           "StableCoin"
          ],
          [
           "SmartCoin"
          ],
          [
           "SuperCoin"
          ],
          [
           "SyncCoin"
          ],
          [
           "SysCoin"
          ],
          [
           "TeslaCoin"
          ],
          [
           "TigerCoin"
          ],
          [
           "TittieCoin"
          ],
          [
           "TorCoin"
          ],
          [
           "TerraCoin"
          ],
          [
           "UnbreakableCoin"
          ],
          [
           "Unobtanium"
          ],
          [
           "UroCoin"
          ],
          [
           "UnitaryStatus Dollar"
          ],
          [
           "UltraCoin"
          ],
          [
           "ViaCoin"
          ],
          [
           "VeriCoin"
          ],
          [
           "Vertcoin"
          ],
          [
           "WorldCoin"
          ],
          [
           "X11 Coin"
          ],
          [
           "Crypti"
          ],
          [
           "JouleCoin"
          ],
          [
           "StealthCoin"
          ],
          [
           "ZCC Coin"
          ],
          [
           "ByteCoin"
          ],
          [
           "DigitalNote "
          ],
          [
           "BurstCoin"
          ],
          [
           "StorjCoin"
          ],
          [
           "MonaCoin"
          ],
          [
           "Neutron"
          ],
          [
           "FairCoin"
          ],
          [
           "Gulden"
          ],
          [
           "RubyCoin"
          ],
          [
           "PesetaCoin"
          ],
          [
           "Kore"
          ],
          [
           "Wild Beast Coin"
          ],
          [
           "Dnotes"
          ],
          [
           "Flo"
          ],
          [
           "8BIT Coin"
          ],
          [
           "Sativa Coin"
          ],
          [
           "ArtByte"
          ],
          [
           "Folding Coin"
          ],
          [
           "Ucoin"
          ],
          [
           "Unitus"
          ],
          [
           "CypherPunkCoin"
          ],
          [
           "OmniCron"
          ],
          [
           "Vtorrent"
          ],
          [
           "GreenCoin"
          ],
          [
           "Cryptonite"
          ],
          [
           "MasterCoin"
          ],
          [
           "SoonCoin"
          ],
          [
           "1Credit"
          ],
          [
           "IslaCoin"
          ],
          [
           "Nexus"
          ],
          [
           "MarsCoin "
          ],
          [
           "Crypto"
          ],
          [
           "Anarchists Prime"
          ],
          [
           "Droidz"
          ],
          [
           "BowsCoin"
          ],
          [
           "Squall Coin"
          ],
          [
           "Song Coin"
          ],
          [
           "BitZeny"
          ],
          [
           "Diggits"
          ],
          [
           "Expanse"
          ],
          [
           "Paycon"
          ],
          [
           "Siacoin"
          ],
          [
           "Emercoin"
          ],
          [
           "EverGreenCoin"
          ],
          [
           "MindCoin"
          ],
          [
           "I0coin"
          ],
          [
           "Decred"
          ],
          [
           "Revolution VR"
          ],
          [
           "HOdlcoin"
          ],
          [
           "EDRCoin"
          ],
          [
           "Hitcoin"
          ],
          [
           "Gamecredits"
          ],
          [
           "DubaiCoin"
          ],
          [
           "CarpeDiemCoin"
          ],
          [
           "PWR Coin"
          ],
          [
           "BillaryCoin"
          ],
          [
           "GPU Coin"
          ],
          [
           "Adzcoin"
          ],
          [
           "SoilCoin"
          ],
          [
           "YoCoin"
          ],
          [
           "SibCoin"
          ],
          [
           "EuropeCoin"
          ],
          [
           "ZeitCoin"
          ],
          [
           "SwingCoin"
          ],
          [
           "SafeExchangeCoin"
          ],
          [
           "Nebuchadnezzar"
          ],
          [
           "Francs"
          ],
          [
           "BolivarCoin"
          ],
          [
           "Ratecoin"
          ],
          [
           "Revenu"
          ],
          [
           "Clockcoin"
          ],
          [
           "VIP Tokens"
          ],
          [
           "BitSend"
          ],
          [
           "Omni"
          ],
          [
           "Let it Ride"
          ],
          [
           "PutinCoin"
          ],
          [
           "iBankCoin"
          ],
          [
           "Frankywillcoin"
          ],
          [
           "MudraCoin"
          ],
          [
           "PizzaCoin"
          ],
          [
           "Lutetium Coin"
          ],
          [
           "Komodo"
          ],
          [
           "GoldBlocks"
          ],
          [
           "CarterCoin"
          ],
          [
           "Karbo"
          ],
          [
           "BitTokens"
          ],
          [
           "ZayedCoin"
          ],
          [
           "MustangCoin"
          ],
          [
           "ZoneCoin"
          ],
          [
           "Circuits of Value"
          ],
          [
           "RootCoin"
          ],
          [
           "DopeCoin"
          ],
          [
           "BitCurrency"
          ],
          [
           "DollarCoin"
          ],
          [
           "Swiscoin"
          ],
          [
           "Shilling"
          ],
          [
           "BuzzCoin"
          ],
          [
           "Opair"
          ],
          [
           "PesoBit"
          ],
          [
           "Halloween Coin"
          ],
          [
           "ZCoin"
          ],
          [
           "CoffeeCoin"
          ],
          [
           "RoyalCoin"
          ],
          [
           "GanjaCoin V2"
          ],
          [
           "TeamUP"
          ],
          [
           "LanaCoin"
          ],
          [
           "Elementrem"
          ],
          [
           "ZClassic"
          ],
          [
           "ARK"
          ],
          [
           "InsaneCoin"
          ],
          [
           "KiloCoin"
          ],
          [
           "ArtexCoin"
          ],
          [
           "EmberCoin"
          ],
          [
           "XenixCoin"
          ],
          [
           "FreeCoin"
          ],
          [
           "PLNCoin"
          ],
          [
           "AquariusCoin"
          ],
          [
           "Kurrent"
          ],
          [
           "Creatio"
          ],
          [
           "Eternity"
          ],
          [
           "Eurocoin"
          ],
          [
           "BitcoinFast"
          ],
          [
           "Stakenet"
          ],
          [
           "BitConnect Coin"
          ],
          [
           "MoneyCoin"
          ],
          [
           "Enigma"
          ],
          [
           "Cannabis Industry Coin"
          ],
          [
           "Russiacoin"
          ],
          [
           "PandaCoin"
          ],
          [
           "GameUnits"
          ],
          [
           "GAKHcoin"
          ],
          [
           "Allsafe"
          ],
          [
           "LiteCreed"
          ],
          [
           "OsmiumCoin"
          ],
          [
           "Bikercoins"
          ],
          [
           "HexxCoin"
          ],
          [
           "Klingon Empire Darsek"
          ],
          [
           "Internet of People"
          ],
          [
           "KushCoin"
          ],
          [
           "Printerium"
          ],
          [
           "PacCoin"
          ],
          [
           "Impeach"
          ],
          [
           "Citadel"
          ],
          [
           "Zilbercoin"
          ],
          [
           "FirstCoin"
          ],
          [
           "BeaverCoin"
          ],
          [
           "FindCoin"
          ],
          [
           "VaultCoin"
          ],
          [
           "Zero"
          ],
          [
           "OpenChat"
          ],
          [
           "Canada eCoin"
          ],
          [
           "Zoin"
          ],
          [
           "RenosCoin"
          ],
          [
           "DubaiCoin"
          ],
          [
           "VirtacoinPlus"
          ],
          [
           "TajCoin"
          ],
          [
           "Impact"
          ],
          [
           "EB3coin"
          ],
          [
           "Atmos"
          ],
          [
           "HappyCoin"
          ],
          [
           "Coinonat"
          ],
          [
           "MacronCoin"
          ],
          [
           "Condensate"
          ],
          [
           "Independent Money System"
          ],
          [
           "ArgusCoin"
          ],
          [
           "LomoCoin"
          ],
          [
           "ProCurrency"
          ],
          [
           "GoldReserve"
          ],
          [
           "BenjiRolls"
          ],
          [
           "GrowthCoin"
          ],
          [
           "ILCoin"
          ],
          [
           "Phreak"
          ],
          [
           "Degas Coin"
          ],
          [
           "HTML5 Coin"
          ],
          [
           "Ultimate Secure Cash"
          ],
          [
           "EquiTrader"
          ],
          [
           "QTUM"
          ],
          [
           "Quantum Resistant Ledger"
          ],
          [
           "Espers"
          ],
          [
           "Dynamic"
          ],
          [
           "Nano"
          ],
          [
           "ChanCoin"
          ],
          [
           "Dinastycoin"
          ],
          [
           "Denarius"
          ],
          [
           "DigitalPrice"
          ],
          [
           "Virta Unique Coin"
          ],
          [
           "Bitcoin Planet"
          ],
          [
           "Unify"
          ],
          [
           "BritCoin"
          ],
          [
           "SocialCoin"
          ],
          [
           "ArcticCoin"
          ],
          [
           "DAS"
          ],
          [
           "Linda"
          ],
          [
           "LeviarCoin"
          ],
          [
           "DeepOnion"
          ],
          [
           "Bitcore"
          ],
          [
           "gCn Coin"
          ],
          [
           "SmartCash"
          ],
          [
           "Signatum"
          ],
          [
           "Onix"
          ],
          [
           "Cream"
          ],
          [
           "Bitcoin Cash"
          ],
          [
           "Monoeci"
          ],
          [
           "Draftcoin"
          ],
          [
           "Vechain"
          ],
          [
           "Sojourn Coin"
          ],
          [
           "Stakecoin"
          ],
          [
           "NewYorkCoin"
          ],
          [
           "FrazCoin"
          ],
          [
           "Kronecoin"
          ],
          [
           "AdCoin"
          ],
          [
           "Linx"
          ],
          [
           "CoinonatX"
          ],
          [
           "Ethereum Dark"
          ],
          [
           "Sumokoin"
          ],
          [
           "Obsidian"
          ],
          [
           "Cardano"
          ],
          [
           "Regalcoin"
          ],
          [
           "BitcoinZ"
          ],
          [
           "TrezarCoin"
          ],
          [
           "Elements"
          ],
          [
           "TerraNovaCoin"
          ],
          [
           "VIVO Coin"
          ],
          [
           "Rupee"
          ],
          [
           "Bitcoin Gold"
          ],
          [
           "WomenCoin"
          ],
          [
           "Theresa May Coin"
          ],
          [
           "NamoCoin"
          ],
          [
           "LUXCoin"
          ],
          [
           "Pirl"
          ],
          [
           "Xios"
          ],
          [
           "Bitcloud 2.0"
          ],
          [
           "eBoost"
          ],
          [
           "KekCoin"
          ],
          [
           "BlackholeCoin"
          ],
          [
           "Infinity Economics"
          ],
          [
           "Pura"
          ],
          [
           "Innova"
          ],
          [
           "Ellaism"
          ],
          [
           "GoByte"
          ],
          [
           "Magnet"
          ],
          [
           "Lamden Tau"
          ],
          [
           "Electra"
          ],
          [
           "Bitcoin Diamond"
          ],
          [
           "SHIELD"
          ],
          [
           "Cash & Back Coin"
          ],
          [
           "UltraNote"
          ],
          [
           "BitCoal"
          ],
          [
           "DaxxCoin"
          ],
          [
           "Bulwark"
          ],
          [
           "Kalkulus"
          ],
          [
           "AC3"
          ],
          [
           "Lethean"
          ],
          [
           "GermanCoin"
          ],
          [
           "LiteCoin Ultra"
          ],
          [
           "PopularCoin"
          ],
          [
           "PhantomX"
          ],
          [
           "Photon"
          ],
          [
           "Sucre"
          ],
          [
           "SparksPay"
          ],
          [
           "Digiwage"
          ],
          [
           "GunCoin"
          ],
          [
           "IrishCoin"
          ],
          [
           "Trollcoin"
          ],
          [
           "Litecoin Plus"
          ],
          [
           "Monkey Project"
          ],
          [
           "Pioneer Coin"
          ],
          [
           "UnitedBitcoin"
          ],
          [
           "Interzone"
          ],
          [
           "TokenPay"
          ],
          [
           "1717 Masonic Commemorative Token"
          ],
          [
           "My Big Coin"
          ],
          [
           "TurtleCoin"
          ],
          [
           "MUNcoin"
          ],
          [
           "Unified Society USDEX"
          ],
          [
           "Niobio Cash"
          ],
          [
           "ShareChain"
          ],
          [
           "Travelflex"
          ],
          [
           "KREDS"
          ],
          [
           "Tokyo Coin"
          ],
          [
           "BiblePay"
          ],
          [
           "LitecoinCash"
          ],
          [
           "BitFlip"
          ],
          [
           "LottoCoin"
          ],
          [
           "Crypto Improvement Fund"
          ],
          [
           "Stipend"
          ],
          [
           "Poa Network"
          ],
          [
           "Pushi"
          ],
          [
           "Ellerium"
          ],
          [
           "Velox"
          ],
          [
           "Ontology"
          ],
          [
           "Callisto Network"
          ],
          [
           "BitTube"
          ],
          [
           "Poseidon"
          ],
          [
           "Aidos Kuneen"
          ],
          [
           "Bitspace"
          ],
          [
           "Briacoin"
          ],
          [
           "Ignition"
          ],
          [
           "Bitrolium"
          ],
          [
           "MedicCoin"
          ],
          [
           "Alpenschillling"
          ],
          [
           "Bitcoin Green"
          ],
          [
           "Deviant Coin"
          ],
          [
           "Abjcoin"
          ],
          [
           "Semux"
          ],
          [
           "FuturoCoin"
          ],
          [
           "Carebit"
          ],
          [
           "Zealium"
          ],
          [
           "Monero Classic"
          ],
          [
           "Proton"
          ],
          [
           "iDealCash"
          ],
          [
           "Jumpcoin"
          ],
          [
           "Infinex"
          ],
          [
           "Bitcoin Incognito"
          ],
          [
           "KEYCO"
          ],
          [
           "HollyWoodCoin"
          ],
          [
           "GINcoin"
          ],
          [
           "PlatinCoin"
          ],
          [
           "Loki"
          ],
          [
           "Newton Coin"
          ],
          [
           "Swisscoin"
          ],
          [
           "Xt3ch"
          ],
          [
           "MassGrid"
          ],
          [
           "TheVig"
          ],
          [
           "PluraCoin"
          ],
          [
           "EmaratCoin"
          ],
          [
           "Dekado"
          ],
          [
           "Lynx"
          ],
          [
           "Poseidon Quark"
          ],
          [
           "BitcoinWSpectrum"
          ],
          [
           "Muse"
          ],
          [
           "Motion"
          ],
          [
           "PlusOneCoin"
          ],
          [
           "Axe"
          ],
          [
           "Trivechain"
          ],
          [
           "Dystem"
          ],
          [
           "Giant"
          ],
          [
           "Peony Coin"
          ],
          [
           "Absolute Coin"
          ],
          [
           "Vitae"
          ],
          [
           "HexCoin"
          ],
          [
           "TPCash"
          ],
          [
           "Webchain"
          ],
          [
           "Ryo"
          ],
          [
           "Urals Coin"
          ],
          [
           "Qwertycoin"
          ],
          [
           "ARENON"
          ],
          [
           "EUNO"
          ],
          [
           "MMOCoin"
          ],
          [
           "Ketan"
          ],
          [
           "Project Pai"
          ],
          [
           "XDNA"
          ],
          [
           "PAXEX"
          ],
          [
           "Azart"
          ],
          [
           "ThunderStake"
          ],
          [
           "Kcash"
          ],
          [
           "Xchange"
          ],
          [
           "Acute Angle Cloud"
          ],
          [
           "CrypticCoin"
          ],
          [
           "Bettex coin"
          ],
          [
           "Actinium"
          ],
          [
           "Bitcoin SV"
          ],
          [
           "BitMoney"
          ],
          [
           "Junson Ming Chan Coin"
          ],
          [
           "FREDEnergy"
          ],
          [
           "HerbCoin"
          ],
          [
           "Universal Molecule"
          ],
          [
           "Lithium"
          ],
          [
           "PirateCash"
          ],
          [
           "Exosis"
          ],
          [
           "Block-Logic"
          ],
          [
           "Oduwa"
          ],
          [
           "Beam"
          ],
          [
           "Galilel"
          ],
          [
           "Bithereum"
          ],
          [
           "Crypto Sports"
          ],
          [
           "Credit"
          ],
          [
           "SLICE"
          ],
          [
           "Dash Platinum"
          ],
          [
           "Nasdacoin"
          ],
          [
           "Beetle Coin"
          ],
          [
           "Titan Coin"
          ],
          [
           "Award"
          ],
          [
           "BLAST"
          ],
          [
           "Bitcoin Rhodium"
          ],
          [
           "GlobalToken"
          ],
          [
           "Insane Coin"
          ],
          [
           "ALAX"
          ],
          [
           "LiteDoge"
          ],
          [
           "SolarCoin"
          ],
          [
           "TruckCoin"
          ],
          [
           "UFO Coin"
          ],
          [
           "OrangeCoin"
          ],
          [
           "BlakeCoin"
          ],
          [
           "BitstarCoin"
          ],
          [
           "NeosCoin"
          ],
          [
           "HyperCoin"
          ],
          [
           "PinkCoin"
          ],
          [
           "Crypto Escudo"
          ],
          [
           "AudioCoin"
          ],
          [
           "IncaKoin"
          ],
          [
           "Piggy Coin"
          ],
          [
           "Crown Coin"
          ],
          [
           "Genstake"
          ],
          [
           "SmileyCoin"
          ],
          [
           "XiaoMiCoin"
          ],
          [
           "Groestlcoin"
          ],
          [
           "CapriCoin"
          ],
          [
           " ClubCoin"
          ],
          [
           "Radium"
          ],
          [
           "Bata"
          ],
          [
           "Pakcoin"
          ],
          [
           "Creditbit "
          ],
          [
           "OKCash"
          ],
          [
           "Lisk"
          ],
          [
           "HiCoin"
          ],
          [
           "WhiteCoin"
          ],
          [
           "FriendshipCoin"
          ],
          [
           "JoinCoin"
          ],
          [
           "Triangles Coin"
          ],
          [
           "Vollar"
          ],
          [
           "EOS"
          ],
          [
           "Reality Clash"
          ],
          [
           "Oxycoin"
          ],
          [
           "TigerCash"
          ],
          [
           "Waves"
          ],
          [
           "Particl"
          ],
          [
           "BitTorrent"
          ],
          [
           "Nxt"
          ],
          [
           "ZEPHYR"
          ],
          [
           "Gapcoin"
          ],
          [
           "Beldex"
          ],
          [
           "Horizen"
          ],
          [
           "BitcoinPlus"
          ]
         ],
         "hovertemplate": "PCA1=%{x}<br>PCA2=%{y}<br>PCA3=%{z}<br>coin=%{customdata[0]}<br>class=%{marker.color}<extra></extra>",
         "legendgroup": "",
         "marker": {
          "color": [
           0,
           0,
           2,
           5,
           5,
           5,
           0,
           5,
           5,
           5,
           3,
           5,
           0,
           3,
           5,
           0,
           5,
           5,
           0,
           0,
           5,
           2,
           5,
           5,
           5,
           0,
           5,
           5,
           5,
           0,
           5,
           0,
           5,
           5,
           0,
           0,
           5,
           5,
           5,
           5,
           5,
           5,
           3,
           0,
           5,
           5,
           5,
           5,
           5,
           0,
           3,
           2,
           0,
           5,
           5,
           5,
           5,
           0,
           5,
           5,
           3,
           5,
           0,
           3,
           0,
           5,
           5,
           5,
           0,
           0,
           0,
           0,
           0,
           5,
           5,
           5,
           3,
           0,
           5,
           3,
           5,
           3,
           0,
           5,
           5,
           5,
           5,
           0,
           0,
           5,
           0,
           5,
           5,
           0,
           3,
           5,
           0,
           0,
           2,
           5,
           3,
           3,
           5,
           0,
           0,
           5,
           3,
           5,
           0,
           5,
           3,
           5,
           0,
           0,
           5,
           5,
           3,
           5,
           5,
           5,
           0,
           5,
           5,
           5,
           5,
           5,
           0,
           3,
           5,
           5,
           5,
           0,
           5,
           3,
           5,
           5,
           3,
           5,
           0,
           5,
           0,
           0,
           5,
           5,
           0,
           5,
           5,
           0,
           0,
           5,
           0,
           5,
           0,
           0,
           3,
           5,
           5,
           5,
           5,
           0,
           3,
           0,
           0,
           3,
           5,
           5,
           0,
           0,
           0,
           0,
           0,
           5,
           3,
           0,
           0,
           0,
           3,
           5,
           3,
           3,
           0,
           0,
           5,
           0,
           5,
           0,
           0,
           5,
           0,
           5,
           3,
           5,
           0,
           5,
           0,
           3,
           0,
           0,
           5,
           3,
           3,
           0,
           3,
           0,
           5,
           5,
           3,
           0,
           5,
           5,
           0,
           0,
           3,
           0,
           0,
           5,
           3,
           0,
           0,
           0,
           3,
           0,
           0,
           0,
           5,
           0,
           3,
           0,
           0,
           3,
           0,
           5,
           5,
           5,
           0,
           0,
           0,
           0,
           5,
           0,
           5,
           3,
           0,
           5,
           3,
           5,
           5,
           0,
           5,
           5,
           3,
           5,
           0,
           0,
           0,
           5,
           3,
           0,
           5,
           3,
           0,
           0,
           0,
           0,
           3,
           0,
           5,
           3,
           5,
           3,
           0,
           0,
           3,
           5,
           3,
           5,
           0,
           5,
           5,
           5,
           5,
           0,
           5,
           0,
           0,
           5,
           0,
           5,
           5,
           5,
           0,
           5,
           0,
           5,
           2,
           5,
           3,
           5,
           0,
           5,
           0,
           3,
           2,
           5,
           3,
           2,
           5,
           5,
           5,
           5,
           0,
           0,
           5,
           3,
           3,
           0,
           5,
           0,
           5,
           0,
           5,
           3,
           5,
           0,
           0,
           0,
           0,
           5,
           0,
           0,
           5,
           3,
           0,
           3,
           5,
           5,
           5,
           5,
           0,
           3,
           0,
           0,
           5,
           0,
           5,
           5,
           5,
           3,
           3,
           5,
           5,
           0,
           0,
           5,
           0,
           5,
           5,
           5,
           3,
           5,
           5,
           0,
           0,
           3,
           5,
           5,
           5,
           3,
           3,
           0,
           4,
           5,
           0,
           5,
           5,
           5,
           5,
           3,
           3,
           3,
           5,
           5,
           5,
           0,
           3,
           0,
           0,
           3,
           3,
           5,
           5,
           5,
           5,
           0,
           0,
           0,
           5,
           3,
           5,
           3,
           3,
           0,
           3,
           5,
           0,
           3,
           5,
           3,
           0,
           5,
           5,
           3,
           5,
           3,
           5,
           5,
           5,
           2,
           0,
           3,
           5,
           0,
           5,
           0,
           3,
           2,
           3,
           3,
           3,
           5,
           5,
           5,
           0,
           3,
           0,
           3,
           0,
           3,
           5,
           0,
           5,
           5,
           5,
           2,
           3,
           0,
           3,
           3,
           5,
           0,
           3,
           5,
           0,
           3,
           5,
           3,
           5,
           3,
           5,
           5,
           3,
           3,
           5,
           0,
           5,
           5,
           3,
           5,
           5,
           0,
           5,
           0,
           5,
           3,
           0,
           5,
           3,
           0,
           0,
           0,
           0,
           5,
           5,
           5,
           0,
           3,
           0,
           5,
           0,
           5,
           0,
           5,
           0,
           3,
           0,
           0,
           5,
           0,
           0,
           0,
           5,
           0,
           5,
           0,
           5,
           0,
           0,
           3,
           5,
           5,
           3,
           0,
           3,
           3,
           0,
           0,
           5,
           0,
           5,
           3,
           5,
           3,
           3,
           3,
           3,
           1,
           3,
           3,
           0,
           5,
           5,
           3
          ],
          "coloraxis": "coloraxis",
          "symbol": "circle"
         },
         "mode": "markers",
         "name": "",
         "scene": "scene",
         "showlegend": false,
         "type": "scatter3d",
         "x": [
          -0.20969117386529873,
          -0.18780482627892023,
          3.5292672875394673,
          -0.17992673208252916,
          -0.1730629970628272,
          -0.17696376516642043,
          -0.21790470080640376,
          -0.17383998752269073,
          -0.1707839276749675,
          -0.17469619468479244,
          -0.11235146147400389,
          0.22174427890515827,
          -0.21104889299047516,
          -0.1987736106600977,
          -0.17850773721422725,
          -0.19916764773649667,
          -0.18701775599943576,
          -0.17795940286427264,
          -0.20923545715577282,
          -0.1998541941814676,
          -0.1269513817480197,
          3.8279631368848497,
          -0.17601675156507313,
          -0.17421144525243334,
          -0.17765881907686726,
          -0.2077860429489704,
          -0.16939999122699503,
          -0.17237773206976767,
          -0.17779584747648894,
          -0.2096852986214353,
          -0.17848526431047368,
          -0.2096646540949699,
          -0.17860622939831233,
          -0.18713387516918534,
          0.8514303913470438,
          -0.2047994343163961,
          0.24538898916017327,
          0.3293349564139478,
          0.1561633435582563,
          -0.17827332169507917,
          -0.17229967614685673,
          -0.17818042949980806,
          -0.19535483430858772,
          -0.1788814730802376,
          -0.17868122832611227,
          -0.1683457896389507,
          -0.150305931768535,
          -0.17706907687027418,
          -0.17741740574311607,
          -0.20705711735980492,
          -0.18008028173537657,
          2.1690438146824085,
          -0.21777126070089808,
          -0.1798777785495778,
          -0.17370211406153002,
          -0.1783082803504447,
          -0.1787849743554162,
          -0.2024925425631553,
          -0.17778728541408867,
          -0.1706672403821814,
          0.13216818954142676,
          -0.1786219590582234,
          -0.16107193690627447,
          -0.19706320372809874,
          -0.20102226966662184,
          0.01432766968143639,
          -0.17997612838682878,
          -0.1701181660786923,
          -0.20181072699438743,
          -0.2058679445636178,
          -0.20186149979216872,
          -0.2075236498928721,
          0.2441423534524123,
          -0.1785799428382708,
          -0.17583270214963265,
          -0.17788570379896074,
          -0.20528040336308936,
          -0.2182740404465685,
          -0.16243670758012568,
          -0.1903362577137154,
          -0.17925885292200305,
          -0.1431262136928003,
          -0.21814755944338063,
          -0.1796300792016901,
          -0.1795533692857682,
          -0.1804176640618064,
          -0.1873803608267207,
          -0.17598340489902384,
          -0.2078700528568482,
          -0.1782177692722903,
          -0.18554266639933545,
          -0.17231728912185706,
          -0.17419503924146287,
          -0.2181090747017175,
          -0.19107410257661467,
          -0.17934705028827327,
          -0.20153303917674953,
          -0.1969658208769297,
          4.620178880059954,
          0.057116527117820406,
          -0.12910619640813115,
          -0.1860539568335745,
          -0.1766635812040515,
          -0.20998322513862755,
          -0.20407280102498626,
          -0.15486139157198817,
          -0.19706167081521883,
          -0.1749511248564021,
          -0.20188884069518115,
          -0.17878591933015614,
          -0.18956166074181055,
          -0.17478936746201815,
          -0.2096684513456203,
          -0.20183115316184397,
          -0.1561125875053734,
          -0.15178764429145514,
          -0.20581508001735502,
          -0.17294782644886703,
          -0.1736987654516529,
          -0.17862400163753858,
          -0.20930283613456882,
          -0.0031003834215763623,
          -0.1431822439627899,
          -0.17880010305792826,
          -0.18001132871552333,
          0.7811427474467895,
          -0.2182506354899725,
          -0.17902789880578632,
          -0.1865558972089535,
          -0.17305697644125084,
          -0.1796341328339138,
          -0.20410642739457904,
          -0.18693434276536902,
          -0.19482534672444377,
          -0.17611830279298343,
          -0.1750369906480994,
          -0.1948909837085049,
          -0.17439116979840488,
          -0.20116692427066643,
          0.33939114334065806,
          -0.20019747226183726,
          -0.2027312154721747,
          -0.186986454652884,
          -0.17987920081968037,
          -0.20255309624042261,
          -0.17337394508129492,
          -0.1723494216028998,
          -0.21101203542593155,
          0.22899086823167317,
          -0.1768585432056636,
          -0.2111094383901818,
          0.38178810289378456,
          -0.049328878749645935,
          -0.20911362415992288,
          -0.194549355034916,
          -0.1858242164453122,
          -0.17335898824721233,
          -0.17704967243527459,
          -0.17286477154433275,
          -0.2141061751381389,
          1.40786601117554,
          -0.21081326656415464,
          -0.1295286913330188,
          -0.19492445577484654,
          -0.17850574809007153,
          -0.18692681464043492,
          -0.21540845349761675,
          -0.2089559088404892,
          -0.20556242564850402,
          -0.20298277337888418,
          -0.21644615274768417,
          -0.17880018158127187,
          -0.1915428218206544,
          -0.17623507158332374,
          -0.20915851481949535,
          -0.2070996454624569,
          -0.1876724314360706,
          -0.18711686163735924,
          -0.18903905859031112,
          -0.17836285388188014,
          -0.21751140913754113,
          -0.2080838420808256,
          -0.153921943648,
          -0.21107006232968123,
          -0.18022513367859191,
          -0.21823258528771294,
          -0.209432082801158,
          -0.14595368464597158,
          -0.20966114358288176,
          -0.1749204148803037,
          -0.19485696146244255,
          -0.1801713987340582,
          -0.14334758371468984,
          -0.17833099133645564,
          0.30754565965383696,
          -0.19352450648744499,
          -0.20917220693343344,
          -0.19852510720214198,
          -0.1736120753838855,
          -0.192723108756587,
          -0.1897719090693468,
          -0.20169768490149206,
          -0.19202618047729605,
          -0.10915102877159873,
          -0.1740509294255239,
          -0.1747235883647558,
          -0.15149385289549155,
          -0.21767707486158852,
          -0.07143406251627149,
          -0.16942556818114637,
          1.23405848731352,
          -0.21817420900217244,
          -0.1941469969274615,
          -0.20902447256902562,
          -0.20921501162473716,
          -0.1840700388916438,
          -0.19492445577484654,
          -0.21755404834428638,
          -0.21089749412388864,
          -0.20903344515791955,
          -0.1926606779789611,
          -0.20922747359043006,
          -0.20273301552653994,
          -0.21820928559618624,
          -0.1539131223553873,
          -0.20805893508630413,
          0.6652489643225444,
          -0.20950176362080972,
          -0.20960524530393668,
          -0.19434248221806577,
          -0.20338177740725777,
          -0.17877399488826182,
          -0.15374167087371257,
          -0.17382280422696914,
          -0.2041030071196223,
          -0.21104017399566347,
          -0.21808885813072124,
          -0.20929947667036003,
          0.8643460617092291,
          -0.20945754460395202,
          -0.17200611283788195,
          -0.19686338063038064,
          -0.20684049251332856,
          -0.17873287046658237,
          -0.18946028471038615,
          -0.17649433233712503,
          -0.17474507492680205,
          -0.1837758800409053,
          -0.17622705171347244,
          -0.17344996487205483,
          -0.19656520209133213,
          -0.17332508936100974,
          -0.2170268648203243,
          -0.20371778904478996,
          -0.21541362764376268,
          -0.13608660341158066,
          -0.19257146910538678,
          -0.21689746597155873,
          -0.17367854398563953,
          -0.18505463903627417,
          -0.21117340889088915,
          -0.2093867245457645,
          -0.20937497619721296,
          -0.19924911339250992,
          0.5850408874822018,
          -0.21759086654351004,
          -0.17813163199426765,
          -0.17204488661759715,
          -0.133937565693205,
          -0.19495340025055127,
          -0.2082649167742305,
          1.3653150381703159,
          -0.19684187489260288,
          -0.17785320824837442,
          -0.18989824990374937,
          -0.17194192948638382,
          0.6713835331891089,
          -0.17307640275817088,
          -0.16738929046688777,
          -0.17278436833738858,
          -0.105266430084029,
          -0.20504483551487387,
          -0.185811633501127,
          -0.20298723263589472,
          -0.20336551362715458,
          -0.17833429717510116,
          -0.20140308186600078,
          -0.17795358074283854,
          -0.18636983073522667,
          -0.18716123766339374,
          0.45204921806541254,
          -0.153364693895341,
          -0.20150887573367104,
          -0.17288776316170615,
          4.432299756484718,
          -0.08664366202958722,
          -0.18896028489179376,
          -0.1740252558257352,
          -0.20273810938138123,
          -0.1799256729571702,
          -0.21798028275935302,
          -0.1970119685244535,
          1.5863736759129539,
          -0.0692482741474821,
          -0.19473808396477285,
          2.035066355992487,
          -0.17845724257117412,
          -0.17766947300483665,
          -0.17726732171605897,
          -0.17725076024862726,
          -0.2088852062426192,
          -0.2095823307151065,
          -0.15308138763673726,
          -0.19102253763787788,
          0.679810817289554,
          -0.2178799133769623,
          0.12477104987793472,
          -0.1989559915083962,
          -0.12677443532866808,
          -0.20950934861824563,
          -0.17473590238563336,
          -0.19203038028061445,
          -0.1745441822834675,
          0.801366677193083,
          -0.20882993275896716,
          -0.1840145059483973,
          -0.20369436711921385,
          -0.17160318495195254,
          -0.20943877494749086,
          -0.20430817522759856,
          -0.17622478230832483,
          -0.1916594860383224,
          -0.20928356120296196,
          0.03414791492164479,
          -0.18103452665596326,
          -0.1745138826229244,
          -0.17161096281244995,
          -0.1746600210893672,
          -0.2161801754199982,
          -0.14479613358580423,
          0.5474623778544658,
          -0.197012869410674,
          -0.15961153356639526,
          -0.2057819358459778,
          1.0312712784427187,
          -0.15394729233940088,
          -0.06232293093506407,
          -0.19251081589214222,
          -0.19419064422444776,
          -0.18041680147099803,
          -0.1568463836047746,
          0.38805968594046064,
          -0.2079956862455263,
          -0.06527485582744887,
          -0.21705301222150053,
          1.2328486543992498,
          -0.18712698193857083,
          -0.1747415158846791,
          -0.1929870782379976,
          -0.16522379748528881,
          -0.17744423856730834,
          -0.1911506782870998,
          -0.20961066578367288,
          -0.20577805805257146,
          -0.18702781246505334,
          -0.17990077511505112,
          -0.17318306935854164,
          -0.1919123995206546,
          -0.19335447808148312,
          -0.2092326343457296,
          11.10283008730398,
          -0.17313494397192772,
          -0.2036347635678516,
          -0.14856804882439464,
          0.08033679211536086,
          -0.17105535939233582,
          -0.15254165032608116,
          -0.17792399202771128,
          -0.09873529754317638,
          -0.16191900215457453,
          -0.17820610642148316,
          0.23758319579111695,
          -0.1789107974103222,
          -0.2041065693709165,
          -0.1730445794693454,
          -0.21797965100051647,
          -0.20387757940420487,
          -0.19579280868218324,
          -0.17153725165335917,
          -0.1030736848070498,
          -0.14247382690253058,
          -0.17853402542262917,
          -0.17273442289872484,
          -0.2044785903107319,
          -0.2096467806936502,
          -0.20962070246096223,
          -0.1731945575801334,
          -0.18812732432854076,
          -0.17039898030581077,
          -0.19169865136322517,
          -0.1941858705498159,
          -0.20922518552278194,
          -0.15242890977624887,
          -0.1858633014651551,
          -0.20262031490015864,
          -0.19443656026828965,
          -0.15370743757477662,
          -0.192137817605205,
          -0.13450936541855962,
          -0.17379344309979275,
          -0.17360306084240618,
          -0.1806785632282386,
          -0.17318266675518454,
          -0.19661200174713217,
          -0.17373481757657475,
          -0.14788548263944346,
          -0.16788583014571387,
          2.40504707599574,
          0.05464483315717774,
          -0.19690528324189235,
          -0.16952252022632028,
          -0.20266598264507216,
          -0.13504238868429097,
          -0.20848031317109425,
          -0.18959850393536465,
          1.981840960932669,
          -0.18783746327381637,
          -0.19714860050639943,
          -0.1925377719709138,
          -0.17365303973379567,
          -0.1730296703164854,
          -0.18710263344108424,
          -0.20345127570336985,
          -0.1943330593271376,
          -0.20672509749865534,
          -0.021335042097901488,
          -0.20410680534652376,
          -0.19259581193990877,
          -0.17856357227755343,
          -0.19917319775436146,
          -0.1556050194317674,
          -0.17238601462132466,
          -0.17121561928319448,
          3.296250813035489,
          -0.20519320890969436,
          -0.21727598605206253,
          -0.1931013001004958,
          -0.19310716116725493,
          -0.1260012636353096,
          -0.20049199277511887,
          -0.2049522390421017,
          -0.18706054240607295,
          -0.005464274226896622,
          -0.1549700565989058,
          -0.17281475126736623,
          -0.15463527704306398,
          -0.030165121766586648,
          -0.19167467601015975,
          -0.17286497049251848,
          -0.17992572056116451,
          0.5413290361370748,
          0.06036097165317151,
          -0.04093424380627059,
          -0.2057603637910545,
          -0.17256192606855775,
          -0.17317464717004702,
          -0.192391744437033,
          -0.17315736352654004,
          -0.17701779670060336,
          -0.20924328335561265,
          -0.1717349951861968,
          -0.2063890962659108,
          -0.17431797920400063,
          -0.1944923644600116,
          1.0480080514691235,
          -0.1725537703314055,
          -0.2058487721177751,
          -0.20849661171786876,
          -0.1962132127143226,
          -0.1381758250419197,
          -0.21365293400330396,
          -0.17894602688675648,
          -0.17113031499149534,
          -0.17736052382428272,
          -0.21759296445005513,
          -0.12855792174862313,
          0.39266135278364117,
          0.8456509418708156,
          -0.2145187857251222,
          -0.07413498938106904,
          -0.20754955221226523,
          -0.10028138186920367,
          -0.20880650443426882,
          -0.19880262196149517,
          -0.20954207459861365,
          -0.20630172951976058,
          -0.15630341450344265,
          -0.08494810904974762,
          0.06840853420823277,
          -0.20018842120696165,
          -0.1796292814193428,
          -0.20860580170731433,
          0.8008888614498861,
          -0.1992582337436124,
          -0.1717909441007242,
          -0.21298641443362193,
          -0.20641751602780972,
          -0.1952896961780797,
          -0.1786857669216064,
          -0.17583832734586735,
          -0.19419695193674302,
          -0.20904673897237355,
          -0.1509466719305228,
          0.06176641763012381,
          -0.2026595870850194,
          -0.20531198183610305,
          -0.17387503078863253,
          -0.20204193077883165,
          -0.14989698754234304,
          -0.13867419359872868,
          -0.1740954414050063,
          -0.13709764589578458,
          -0.17317444422622638,
          -0.1780105189909576,
          -0.1952089582745009,
          25.530755352675882,
          -0.15805306935985816,
          -0.1087242473789925,
          -0.2068514475502605,
          -0.12436221309772799,
          -0.17469753407929775,
          -0.197470092251841
         ],
         "y": [
          -0.8081703563629159,
          -0.8106167449261195,
          -0.3172464198649266,
          0.6999688016244493,
          0.693040785045272,
          0.5560279621164017,
          -0.7562869249902886,
          0.6835766957923077,
          0.6933659475275503,
          0.700172387489424,
          -0.12523317164618766,
          0.6876701116418985,
          -0.6642364737914634,
          -0.08846739792550289,
          0.5561050045546797,
          -0.7069642234757091,
          0.6079623374162053,
          0.556155010668443,
          -0.8081999471141756,
          -0.8101668080883043,
          0.6871703649248958,
          1.1832785772505887,
          0.6997333874447227,
          0.5560920330486182,
          0.5562290417431673,
          -0.8085570099168358,
          0.6484701487650638,
          0.6670969635300327,
          0.5560624233056698,
          -0.8081696734275944,
          0.5561004435953838,
          -0.808171987815498,
          0.5560955111211484,
          0.6079784022513299,
          -0.23090095510450967,
          -0.6971469700269407,
          0.6661981754928962,
          0.675304287453874,
          0.5387418713193592,
          0.5560574290542952,
          0.5558908034619064,
          0.5560798371376573,
          -0.1313554162526175,
          -0.1706042960546322,
          0.5561035898441089,
          0.6801214579068532,
          0.5556312662484848,
          0.555996821645862,
          0.5560759398847012,
          -0.8082548291697189,
          -0.18575002871788746,
          0.41942169781456834,
          -0.7563140071553853,
          0.6999588663230911,
          0.5560465056712804,
          0.5560607730524015,
          0.5560875638919348,
          -0.7004996030082645,
          0.5560375569936604,
          0.670782970751635,
          -0.2992559597878534,
          0.5560869254027586,
          -0.6653876073875069,
          -0.2323765345097327,
          -0.7385788302881255,
          0.5731544344929905,
          0.6999788267878972,
          0.5555876230399577,
          -0.7384188099446064,
          -0.6840348576337091,
          -0.8081840017971443,
          -0.8082426664580346,
          -0.9002775567258388,
          0.5561196589542986,
          0.5564210731583193,
          0.5560920404863688,
          -0.18063557042371478,
          -0.7562944841862662,
          0.6996712452574682,
          -0.09932168182257238,
          0.6999308237220851,
          -0.1263029906039134,
          -0.7562826478180921,
          0.6999873656283697,
          0.7001143347186456,
          0.6999906050329521,
          0.6079609095956645,
          -0.8090098880696955,
          -0.808164860708008,
          0.556053656465451,
          -0.1692474344567215,
          0.6698760958126055,
          0.5561465466675961,
          -0.7563073378982383,
          -0.09954703255276169,
          0.6999411768316149,
          -0.7384751677187111,
          -0.8070020233202198,
          0.4639837304147082,
          0.7356484096718389,
          -0.06170682789266335,
          -0.12095734595131606,
          0.5560462595931122,
          -0.6642802094610476,
          -0.6973108722925913,
          0.5575287847045134,
          -0.23243753665220354,
          0.5559285184221692,
          -0.7383579445885499,
          0.556092549444387,
          -0.23208419612679318,
          0.5558717353304764,
          -0.8081749681402326,
          -0.7383771544694493,
          0.5552320457824585,
          0.6699523583176722,
          -0.18045203599339962,
          0.6890035325188668,
          0.6704519200190188,
          0.556062475897494,
          -0.8081741512882598,
          0.5579365683117055,
          0.6713653180800447,
          0.5560878941369629,
          0.699985970825363,
          0.7063527621909443,
          -0.7562992380601397,
          -0.06100551049732736,
          0.6079173643402039,
          0.680374294725384,
          0.7000322999805958,
          -0.7001977208024566,
          0.6079491593813594,
          -0.11732136645727152,
          0.55632989747322,
          0.5562595805532873,
          -0.23250298657791504,
          0.6933737583762798,
          -0.7383619225559144,
          0.5693041627375004,
          -0.6627703408770065,
          -0.7074551874095395,
          0.6079409807282107,
          0.6999591549780917,
          -0.6967457930246611,
          0.5557720196434768,
          0.6706807558225496,
          -0.6642439541711008,
          -0.7474797552682967,
          0.5560066069286026,
          -0.6642673222725725,
          0.6670078970858261,
          -0.747099062348659,
          -0.8081300307624616,
          -0.23211825407009598,
          0.6079601675451167,
          0.677067133198983,
          0.5563617982710237,
          0.6705672792605986,
          -0.7556999911937256,
          -0.18681547637302012,
          -0.6642167772144847,
          -0.1737961081986936,
          -0.1313677433575581,
          0.5561008498636838,
          0.6079626354838779,
          -0.7565947451387548,
          -0.663908335059138,
          -0.6634632243165071,
          -0.7155768444846567,
          -0.7561440768062443,
          0.5560878987080649,
          -0.12285445806071148,
          -0.8074584150374376,
          -0.8081121677255926,
          -0.8083212177504996,
          -0.1622420069486352,
          0.6080012062278632,
          -0.18146741068165792,
          -0.024424888519739608,
          -0.7562617172513606,
          -0.8081589812994436,
          0.7410070525624693,
          -0.6642359283862943,
          0.6999871121757879,
          -0.7562916484431599,
          -0.8081441692063088,
          0.6880261601974406,
          -0.8081764512778262,
          0.5560483715251962,
          -0.2328849906050903,
          0.6999795909807385,
          -0.1661589319499879,
          0.5561028922399716,
          -0.7392517617140442,
          -0.1314493147593526,
          -0.8082756827870642,
          -0.7546761210104038,
          0.6803232588374454,
          -0.13173949547757466,
          -0.1625567303937608,
          -0.7003305567893012,
          -0.13090193066376085,
          -0.7015465007118283,
          0.6933395863253707,
          0.7001779471385308,
          -0.06972998699794984,
          -0.7563031145944649,
          0.5718051423202078,
          0.6061924131621141,
          -1.0266454585205462,
          -0.7563002953062172,
          -0.13141300179284168,
          -0.808161102837376,
          -0.8081094537998578,
          0.6081442933782069,
          -0.1313677433575581,
          -0.7562155535573659,
          -0.6642747027355512,
          -0.8081800623064918,
          -0.11713631530305661,
          -0.8081594384696623,
          -0.8071419215162206,
          -0.7562888752203865,
          0.7410465231478206,
          -0.8079614827600865,
          -0.28548352715862096,
          -0.8081600351519965,
          -0.8081753585469499,
          -0.1395672700595653,
          -0.6937534768989654,
          0.5560904529926067,
          0.7410267303961694,
          0.6803204579113696,
          -0.8074290002898402,
          -0.6642419943347081,
          -0.7562969846076469,
          -0.8081748331040002,
          0.7696082112941331,
          -0.8081355007152979,
          0.6838984374218273,
          -0.23227147588452088,
          -0.8083363038955941,
          0.5560845287057755,
          -0.16257487107211346,
          0.6095025405353894,
          0.700167303952675,
          -0.8096789708090075,
          0.5559384592382405,
          0.6802860496825253,
          -0.23240916362592748,
          0.6705790070451376,
          -0.7561725077774781,
          -0.7001568842937669,
          -0.7564624103464898,
          0.5624206704996222,
          -0.13150661366542596,
          -0.7561987697545075,
          0.6488445415096127,
          -0.13194548280101068,
          -0.7558600920581191,
          -0.8081525791687991,
          -0.8081272516731782,
          -0.8065386206225325,
          0.03373196515505769,
          -0.7562831009842577,
          0.5560831384908639,
          -0.23001280421478545,
          0.6999338358125671,
          -0.13132435906009945,
          -0.8080659666548932,
          -0.6882054655388451,
          -0.08815582425565559,
          0.5561634660035463,
          -0.12293878914810862,
          0.6835853319034568,
          -0.6901075889711711,
          0.6705199349507088,
          0.6734335303429189,
          0.6705735146213044,
          0.7385967071566009,
          -0.7154584205830672,
          0.608017629643606,
          -0.7154634097360951,
          -0.7033893723008164,
          0.5560633405470194,
          -0.7383890133118878,
          0.556195089946726,
          0.6079808782113959,
          0.6079873314629454,
          -0.7549234842239545,
          0.7410590002529956,
          -0.7384091848502118,
          0.6705606559667437,
          0.3704438972402067,
          0.6683940737552048,
          -0.12173155197392725,
          0.6093765313715844,
          -0.7035167063230882,
          0.6999685866710234,
          -0.7563184454644664,
          -0.23238233457795868,
          -0.09077488040465802,
          0.5732370238810857,
          -0.1312495271202471,
          0.10677314886005664,
          0.5560910054884423,
          0.5561711881436714,
          0.5561495858995126,
          0.5561462246881771,
          -0.8081529378324188,
          -0.808176692480494,
          0.7411323700954144,
          -0.12242949244369171,
          -0.1296163034154665,
          -0.7562732007368728,
          0.7180864350297707,
          -0.6839514090735236,
          0.6024124954327671,
          -0.8081482430414921,
          0.6802592988502709,
          -0.11857747870557826,
          0.7001415360079011,
          -0.9195935316377134,
          -0.6643942427260803,
          -0.7152629249661862,
          -0.700708702828021,
          0.6771845617978975,
          -0.8081428110103515,
          -0.7151467867616726,
          0.5559379986540357,
          -0.1216208073864473,
          -0.8081976123363495,
          -0.1020276564157928,
          0.6079858457789525,
          0.6802817569501737,
          0.6937963667410241,
          0.6802619032154466,
          -0.756179302938615,
          -0.0696826924392515,
          -0.7556903389649899,
          -0.7386048448831127,
          0.6887725363059137,
          -0.8081760428174528,
          0.8192643987058297,
          0.7410215746506997,
          0.7080755858587819,
          -0.13963976899060684,
          -0.1395793311900985,
          0.608610674329938,
          0.6838768267825575,
          -0.7419365709799809,
          -0.8079518134021128,
          0.5518001541418203,
          -0.7563547506082586,
          0.7199698807801844,
          0.6079837550281179,
          0.6802379321855971,
          -0.13944850029192843,
          0.6801030005031027,
          0.556050456160715,
          -0.8085573271960464,
          -0.8081716919712452,
          -0.18045579874781678,
          0.6079756313858374,
          0.6999604052351015,
          0.6672605400703774,
          -0.12281133431594803,
          -0.09506427442375802,
          -0.8081508890934848,
          2.207360762549421,
          0.6705944228053978,
          -0.8085292976083984,
          0.7411432827403477,
          0.5410026835959292,
          0.676862172525862,
          0.6696735631725839,
          -0.16196989442294277,
          -0.05462413209042927,
          -0.05821741340112929,
          0.5561150562911688,
          0.5406234463896913,
          0.6081174756685561,
          -0.6970025317015657,
          -0.058244602169320925,
          -0.7562604605974004,
          -0.7012135737106787,
          -0.23222993406890644,
          -0.12202991341297946,
          0.7032176347237508,
          0.7423970956941035,
          0.5561103398442266,
          0.6705444965693989,
          -0.7154233025162726,
          -0.8081681133069704,
          -0.808165903999447,
          0.7000514232130839,
          -0.23237530002993526,
          0.6807161753092745,
          -0.12161282954782525,
          -0.1312625745941194,
          -0.8081524008597718,
          -0.06714515614560722,
          0.6080281158488343,
          -0.71548934428495,
          -0.13124170411140515,
          0.7409950260813123,
          -0.1184793672616115,
          -0.8042163916100874,
          0.6487656387087363,
          0.6803369263101458,
          -0.06233606788875656,
          0.670609420183912,
          -0.23243127289758994,
          0.6803072840210277,
          0.7419950169275489,
          0.6739244217356156,
          0.9117995925818013,
          -0.8235582242959777,
          -0.23230423249331592,
          0.6704291915015967,
          -0.7103471317530479,
          0.7408888577024619,
          -0.8081010219640765,
          -0.1315855499531792,
          -0.2639999443159192,
          -0.1385056086224001,
          -0.08846800454378283,
          -0.12367516327795212,
          0.6699124497096678,
          0.6705895619539393,
          0.6079833145991381,
          -0.6943384465231415,
          -0.13954667652512462,
          -0.7153871402267167,
          -0.20478518300531948,
          -0.6943156445657177,
          -0.1396029290577371,
          0.5561204823196003,
          -0.8065540279832952,
          0.6864400752858166,
          0.670711677636075,
          0.6632455933549087,
          0.6622476571537017,
          -0.18044696236465316,
          -0.7563094972410747,
          -0.2322660509766932,
          -0.13102388178548022,
          0.6968227374854472,
          -0.6964074608268137,
          -0.1803270735057215,
          0.6079897760306671,
          -0.7821011289630552,
          -0.06028667312791953,
          0.6700346092884887,
          -0.05910063765486334,
          0.6992680290817944,
          -0.1254316837661564,
          0.6804064431523118,
          0.6999685963324308,
          -0.011815699378243205,
          -0.2345484742500704,
          0.7483462754055908,
          -0.7153997043638313,
          0.6772581799506884,
          0.6770828628079242,
          -0.08815051186791183,
          0.6706155726106995,
          0.5561739636879169,
          -0.8081824867551075,
          0.7004783906411826,
          -0.7154032504206979,
          0.7001327095482939,
          -0.13954296501690225,
          -0.7828509699293031,
          0.6705946380920554,
          -0.1804463233537226,
          -0.8080977141134651,
          -0.7011186494226839,
          -0.7050557935856356,
          -0.7556569424947319,
          0.699931056468944,
          0.6258877481241977,
          0.6999993757822078,
          -0.7563201851149269,
          -0.07110280242122817,
          -0.7991353592528067,
          0.7161416287500304,
          -0.7570566308324608,
          0.6747446565430563,
          -0.8078548084184205,
          0.6884512068602968,
          -0.8081463892612851,
          -0.08842962655181096,
          -0.808200616770484,
          -0.7568488174831114,
          0.5552707748305737,
          -0.7941020208772029,
          -0.7203232302657467,
          -0.7562140406842629,
          0.699987203715479,
          -0.8083343719688132,
          0.5448035989024824,
          -0.8087873641291325,
          0.6670566435400496,
          -0.7565874251795175,
          -0.8082345990015651,
          -0.131334877360434,
          0.5560811204913588,
          0.5561671474343409,
          -0.11704949748815967,
          -0.6643314861454108,
          -0.06971006080814983,
          -0.24742460767825006,
          -0.8084721459195862,
          -0.6839361434080784,
          0.6892022148582758,
          -0.7383714361588073,
          0.6737129934670177,
          -0.07280065833032011,
          0.693342177513808,
          -0.07312062454296785,
          -0.08995874037158584,
          -0.057729880268093337,
          -0.13135263575539488,
          -1.567916404168482,
          -0.06916615326977864,
          -0.037414013420540515,
          -0.8078089418098163,
          0.7402225077458703,
          0.7001726593245142,
          -0.23235089501363568
         ],
         "z": [
          0.16890661583499694,
          0.15847194304681597,
          2.9106378035909244,
          -0.16502538553664833,
          -0.15295367813199892,
          -0.09033466728126686,
          0.11731702958775392,
          -0.14888749785988803,
          -0.15088659096659135,
          -0.15375242178927495,
          -0.09445353197095077,
          -0.10876464835509193,
          0.09438851215232992,
          -0.1094868802738014,
          -0.09011810903976734,
          0.12199092340087268,
          -0.14188849448613966,
          -0.08977427878269047,
          0.16880543958109204,
          0.15933912230128083,
          -0.15719634565574514,
          3.845830512783631,
          -0.16579301882327965,
          -0.08962540729544614,
          -0.08933227585612606,
          0.16705367569439883,
          -0.1466927673230533,
          -0.14433662448848356,
          -0.09025634606723076,
          0.16891110002360904,
          -0.0901399662915868,
          0.16890122039528696,
          -0.0901826486271923,
          -0.14181635377646185,
          -0.1938111086023007,
          0.11469667241461524,
          -0.22243369419639153,
          -0.23239199308454023,
          -0.14066709818790843,
          -0.0903461026755074,
          -0.09046910297889092,
          -0.09021206468787935,
          -0.09907026143626528,
          -0.006854593143976926,
          -0.09014854720031291,
          -0.14833522382436606,
          -0.08899714249913396,
          -0.09051782200739074,
          -0.0901332264145179,
          0.16879255967696263,
          -0.11166255669904575,
          -0.5256666248865592,
          0.11718724511393434,
          -0.16507299797289174,
          -0.08980622139065714,
          -0.09033250039328984,
          -0.09024930076467236,
          0.11557334664921994,
          -0.09039045177047285,
          -0.1435375412489669,
          -0.35533001646957524,
          -0.09023140171079032,
          0.09468038221739451,
          -0.03478796541306154,
          0.13030368263278205,
          0.027880950350080775,
          -0.16497734245891046,
          -0.09183186554271867,
          0.13107053993573056,
          0.11050588922087756,
          0.16985887870170147,
          0.1687975406647188,
          -0.2724940068318652,
          -0.09004788151043651,
          -0.0880485652168821,
          -0.09010706181993682,
          -0.08715279995651229,
          0.11722750070971048,
          -0.16435061842014723,
          -0.09692405967654241,
          -0.16514435838814423,
          -0.08921811403111445,
          0.11730845099590577,
          -0.16488553944647305,
          -0.1641849983996235,
          -0.16497117519494156,
          -0.14194379673290355,
          0.16876015293577304,
          0.1691752511562823,
          -0.09035933588241112,
          -0.0003418086657210392,
          -0.14566599382305806,
          -0.08932680004377214,
          0.11717922653889791,
          -0.09824629532542731,
          -0.16509961868705672,
          0.13080045945908775,
          0.1769285471552689,
          -0.9690207228940155,
          -0.08986863349536768,
          -0.060924355677744034,
          -0.08471569398830736,
          -0.09019580769714781,
          0.09429037742477601,
          0.1139005992840753,
          -0.07927526191780487,
          -0.035119506816886685,
          -0.09061160585490699,
          0.1313912977319516,
          -0.09022231217714742,
          -0.0322147167133086,
          -0.09089919776556342,
          0.16888451494881154,
          0.13129439322526856,
          -0.09192943868019578,
          -0.14557365392410787,
          -0.0862247975233255,
          -0.15325732795615313,
          -0.14527561691214574,
          -0.0903646309996551,
          0.16893688928217446,
          -0.05716179481594869,
          -0.13674333332977304,
          -0.09024948819492948,
          -0.16494310645377103,
          0.8527706150475673,
          0.11720471654024527,
          -0.05378993939755793,
          -0.14207251780264496,
          -0.14733994235186731,
          -0.16464170850191912,
          0.11573776690781322,
          -0.14194922391935172,
          -0.05219138416053118,
          -0.0885818398201299,
          -0.08882247796333363,
          -0.035190860269083836,
          -0.15131702306813588,
          0.1314643078958978,
          -0.6474581604668236,
          0.10378426890641673,
          0.11885377575489793,
          -0.14200053300414522,
          -0.1650716146663049,
          0.11796499579280173,
          -0.09125591071061864,
          -0.14431598726714798,
          0.09435266431181424,
          0.22380022449147788,
          -0.09043700665487076,
          0.09421281418414401,
          -0.27063289065555496,
          -0.03543971496734679,
          0.16920163157302073,
          -0.0330538171929078,
          -0.14174382176684877,
          -0.14663203145984646,
          -0.08853045910919904,
          -0.14500199795203153,
          0.12100688431951243,
          0.4233886463886303,
          0.09452651684809253,
          -0.01186669535530261,
          -0.0990808762149556,
          -0.09014044234157674,
          -0.1418749511278224,
          0.11597029724841139,
          0.09644738902765546,
          0.09931287939162022,
          0.11584066549166276,
          0.11828508331608714,
          -0.09024947363072744,
          -0.09049001105829296,
          0.17716439325827338,
          0.16929288933010067,
          0.16842594930337318,
          -0.07034330648343075,
          -0.14169011052534128,
          -0.08954728183012901,
          -0.0635647419618996,
          0.11750567503061178,
          0.16917919685732893,
          -0.08839434124851615,
          0.09438870288083728,
          -0.16496492936407725,
          0.1172483568396051,
          0.16908299386789968,
          -0.15503355278610634,
          0.16887740738442358,
          -0.0899557936183356,
          -0.03726381749612998,
          -0.1649987865442797,
          0.02204175523479711,
          -0.0901064248784866,
          0.028354221105727707,
          -0.09934094527549392,
          0.16840186530103501,
          0.1286175804713394,
          -0.14768407576335654,
          -0.10081394534638602,
          -0.07233007952521467,
          0.11533167238396624,
          -0.09616772603601471,
          0.17877439205130666,
          -0.15145825232223437,
          -0.15372577856738484,
          -0.09442452304704167,
          0.11725882888637179,
          0.009299862658413913,
          -0.14920737729933342,
          -1.2481237371154548,
          0.11720898652149289,
          -0.09922507623500654,
          0.16904434291741818,
          0.16930024149784775,
          -0.14051253457657642,
          -0.0990808762149556,
          0.11775113282656931,
          0.09420046356245981,
          0.16894006106605416,
          -0.05222106312950492,
          0.16902678067996962,
          0.1754116728875437,
          0.11726649279072358,
          -0.08817853550580637,
          0.17025650039391824,
          -0.2105458138129737,
          0.16898757639816275,
          0.16889067814220013,
          -0.0897847435892173,
          0.11432629232440539,
          -0.09023214982571592,
          -0.08826369534152732,
          -0.14773311812585285,
          0.17367087288856609,
          0.09435963334668832,
          0.11723818028228337,
          0.16893362185149458,
          0.875009171920738,
          0.16912679688912735,
          -0.14689737899141003,
          -0.03419043791584138,
          0.16837788263002287,
          -0.09025897592453931,
          -0.07238787839001841,
          -0.1321329289030555,
          -0.1537864753173705,
          0.1640999487018451,
          -0.09072481952345955,
          -0.1478713580411228,
          -0.03490012137868075,
          -0.14499878318054238,
          0.11805433846550278,
          0.11601141683051411,
          0.11668928310798701,
          -0.050210794019022856,
          -0.09952760555544919,
          0.11792848453698364,
          -0.14263630847897862,
          -0.10092881164938598,
          0.12052070783814897,
          0.16904320520185181,
          0.16918248161081267,
          0.17914928818801754,
          0.657816744272103,
          0.11737896897406734,
          -0.0901877138921838,
          -0.018653608100935606,
          -0.15918636123961086,
          -0.09884873797877711,
          0.16966129100982666,
          0.42910850253787663,
          -0.10753922731051249,
          -0.08971437480280763,
          -0.0907330178592527,
          -0.148591697645246,
          0.28607784040932893,
          -0.1452877673976875,
          -0.14761982072442353,
          -0.14495743840702296,
          -0.09512356852578963,
          0.11621434319288906,
          -0.1414296812726086,
          0.11645696269517455,
          0.11748810650636148,
          -0.09032194862570822,
          0.13128602247700247,
          -0.08955555603199546,
          -0.1417027228312894,
          -0.14177138208270804,
          0.5452283147328206,
          -0.08803878348370825,
          0.1311624558794523,
          -0.14504110427872294,
          -0.49530546031182277,
          -0.12661211136036885,
          -0.08931572317882004,
          -0.13249449729275173,
          0.11687789018795187,
          -0.1650264156469506,
          0.11713570589035337,
          -0.03481279046258604,
          -0.00018378543347612815,
          0.01737328977019054,
          -0.0984135583426503,
          -2.2434790485688474,
          -0.09018761903724548,
          -0.08964829252060462,
          -0.08971304802939219,
          -0.08972915579045967,
          0.1691070037197788,
          0.16888642803406917,
          -0.08760264155878343,
          -0.08952031112369442,
          -0.017768120921793484,
          0.11739491456890211,
          -0.017071967076301656,
          0.11186585632670565,
          -0.16417179818561164,
          0.1690507099610243,
          -0.14842335925626743,
          -0.0903355376530775,
          -0.1539002697653032,
          -0.3044862455547666,
          0.09382143728532658,
          0.12003456347255388,
          0.11574034295902041,
          -0.1457632445995741,
          0.16908950268087794,
          0.11542429804648728,
          -0.09072702675757294,
          -0.08906823720389086,
          0.1688118301533101,
          -0.15269440147280974,
          -0.140976250267385,
          -0.14827212065552123,
          -0.14865430578315755,
          -0.1483992481442092,
          0.11812838586854467,
          -0.09328925496394906,
          -0.003921587037962692,
          0.1306878418628618,
          -0.15276514669580607,
          0.1693881924704656,
          0.4925641495330519,
          -0.0883186903163486,
          -0.05667328389505593,
          -0.08735752566063108,
          -0.0898304285839594,
          -0.1374973186245342,
          -0.14502746298306377,
          0.6074648344457397,
          0.17031737629592775,
          -0.09868396226808437,
          0.11705983603548063,
          0.32821452277982477,
          -0.14178634055840653,
          -0.14854029156254728,
          -0.08896115548885596,
          -0.14802630613702533,
          -0.09027532999933013,
          0.16923284510903774,
          0.16890990712087817,
          -0.08624040658998115,
          -0.14181751750949353,
          -0.1650676438962576,
          -0.14419945941565854,
          -0.09030394674775921,
          -0.0958037513256129,
          0.16907259739544314,
          9.361702043071938,
          -0.14488975625523956,
          0.16774861336720154,
          -0.08695159799891988,
          -0.13831318392057368,
          -0.14744464479035252,
          -0.14417482403568718,
          -0.06758548228864279,
          -0.02740953366144451,
          -0.05538432394428124,
          -0.09002390183072068,
          -0.11976056521007804,
          -0.13998199876788192,
          0.11492617406571068,
          -0.054868124344882946,
          0.11745112250975258,
          0.11946794634096203,
          -0.033824172973514935,
          -0.08864468925651417,
          -0.08843425521096882,
          -0.07933414980135968,
          -0.09009254100471391,
          -0.14510891391310288,
          0.11647955725807908,
          0.16892463398176583,
          0.168940067510691,
          -0.15421338625036887,
          -0.03360975905062573,
          -0.14512607759142676,
          -0.08902994446745562,
          -0.09841211809555546,
          0.16906535263523276,
          -0.08924172275092923,
          -0.1413794287679414,
          0.11378267715861698,
          -0.09833148545950707,
          -0.08843162203299865,
          -0.08982669961715294,
          0.20026542896883798,
          -0.14308046162367855,
          -0.1476147512015501,
          -0.050503628717601994,
          -0.1448143567241959,
          -0.03502649163811542,
          -0.14778704163616208,
          -0.08223020555132278,
          -0.14214848107435482,
          1.1758917120193824,
          0.11987860921955844,
          -0.03437406861229876,
          -0.14531367160660003,
          0.11865492344721087,
          -0.0865620015421987,
          0.16944241448140937,
          -0.0843623328838114,
          -0.23080883565103108,
          -0.08315839994536423,
          -0.10927714050214449,
          -0.09301595048946401,
          -0.14565403796651832,
          -0.14490235876110674,
          -0.14178554361713916,
          0.11368533065214868,
          -0.08967151631538745,
          0.11380034749703123,
          0.13829750289706433,
          0.11373401999876522,
          -0.0897496763355575,
          -0.09004125769919777,
          0.17907545228153024,
          -0.13092524049871368,
          -0.14415238249540027,
          -0.13836336808389318,
          0.24849884820820833,
          -0.08611567882488522,
          0.11727670143112282,
          -0.03366772770925342,
          -0.09697263813391474,
          -0.1750647140463448,
          0.11871381107925372,
          -0.08543210708695428,
          -0.141744886874406,
          0.33745063797819375,
          -0.06041691964187768,
          -0.14487980916461593,
          -0.05923788882472462,
          -0.1397225003947506,
          -0.08434724932664492,
          -0.147133756731133,
          -0.16502636934708198,
          0.6296168828354772,
          -0.34551684988398074,
          -0.03366943981707967,
          0.11385849760429177,
          -0.14533714114128138,
          -0.14637087999655168,
          -0.0974468273501842,
          -0.1447775105069601,
          -0.08954776382613729,
          0.16889936663975358,
          -0.15170009986003138,
          0.11375678663556862,
          -0.15391861468896229,
          -0.08967221724881248,
          0.4714829757877014,
          -0.14434937751727447,
          -0.08619814802918675,
          0.16945826652460985,
          0.12098896220846947,
          0.15588497754111164,
          0.12130041199243578,
          -0.1651020811964746,
          -0.12785047481390344,
          -0.16452268721549523,
          0.11717702270477262,
          -0.0988832809677394,
          0.2970091770531615,
          0.9144615308120536,
          0.11357510191824377,
          -0.1652243629699179,
          0.17090339775353286,
          -0.07499115427687963,
          0.16915293401501705,
          -0.10928527504809919,
          0.16876160033066784,
          0.11578248958357239,
          -0.09174383944493487,
          0.26176696202661454,
          -0.17398611845555817,
          0.12003599233739425,
          -0.16488631537333379,
          0.16815695697044486,
          -0.023178701101032085,
          0.1669189565006953,
          -0.14447896514880956,
          0.11632763382124228,
          0.1689864272274089,
          -0.09895002705540923,
          -0.09027133523448033,
          -0.08943020370540052,
          -0.051950641810337324,
          0.09413429737906437,
          -0.09424442489625222,
          -0.08268998393466048,
          0.1681872617172207,
          0.11111560442465263,
          -0.15229840838032768,
          0.13129785766363836,
          -0.1248407643701255,
          -0.10944281772322091,
          -0.1514499964158958,
          -0.11097617542930699,
          -0.11424106294312916,
          -0.05485644025365449,
          -0.09903601617743824,
          -4.878986440040643,
          -0.06937771826450459,
          -0.12019700996044798,
          0.17124435139329153,
          -0.0887855814469722,
          -0.15375111908788358,
          -0.03470187553763011
         ]
        }
       ],
       "layout": {
        "coloraxis": {
         "colorbar": {
          "title": {
           "text": "class"
          }
         },
         "colorscale": [
          [
           0,
           "#0d0887"
          ],
          [
           0.1111111111111111,
           "#46039f"
          ],
          [
           0.2222222222222222,
           "#7201a8"
          ],
          [
           0.3333333333333333,
           "#9c179e"
          ],
          [
           0.4444444444444444,
           "#bd3786"
          ],
          [
           0.5555555555555556,
           "#d8576b"
          ],
          [
           0.6666666666666666,
           "#ed7953"
          ],
          [
           0.7777777777777778,
           "#fb9f3a"
          ],
          [
           0.8888888888888888,
           "#fdca26"
          ],
          [
           1,
           "#f0f921"
          ]
         ]
        },
        "legend": {
         "tracegroupgap": 0
        },
        "margin": {
         "t": 60
        },
        "scene": {
         "domain": {
          "x": [
           0,
           1
          ],
          "y": [
           0,
           1
          ]
         },
         "xaxis": {
          "title": {
           "text": "PCA1"
          }
         },
         "yaxis": {
          "title": {
           "text": "PCA2"
          }
         },
         "zaxis": {
          "title": {
           "text": "PCA3"
          }
         }
        },
        "template": {
         "data": {
          "bar": [
           {
            "error_x": {
             "color": "#2a3f5f"
            },
            "error_y": {
             "color": "#2a3f5f"
            },
            "marker": {
             "line": {
              "color": "#E5ECF6",
              "width": 0.5
             }
            },
            "type": "bar"
           }
          ],
          "barpolar": [
           {
            "marker": {
             "line": {
              "color": "#E5ECF6",
              "width": 0.5
             }
            },
            "type": "barpolar"
           }
          ],
          "carpet": [
           {
            "aaxis": {
             "endlinecolor": "#2a3f5f",
             "gridcolor": "white",
             "linecolor": "white",
             "minorgridcolor": "white",
             "startlinecolor": "#2a3f5f"
            },
            "baxis": {
             "endlinecolor": "#2a3f5f",
             "gridcolor": "white",
             "linecolor": "white",
             "minorgridcolor": "white",
             "startlinecolor": "#2a3f5f"
            },
            "type": "carpet"
           }
          ],
          "choropleth": [
           {
            "colorbar": {
             "outlinewidth": 0,
             "ticks": ""
            },
            "type": "choropleth"
           }
          ],
          "contour": [
           {
            "colorbar": {
             "outlinewidth": 0,
             "ticks": ""
            },
            "colorscale": [
             [
              0,
              "#0d0887"
             ],
             [
              0.1111111111111111,
              "#46039f"
             ],
             [
              0.2222222222222222,
              "#7201a8"
             ],
             [
              0.3333333333333333,
              "#9c179e"
             ],
             [
              0.4444444444444444,
              "#bd3786"
             ],
             [
              0.5555555555555556,
              "#d8576b"
             ],
             [
              0.6666666666666666,
              "#ed7953"
             ],
             [
              0.7777777777777778,
              "#fb9f3a"
             ],
             [
              0.8888888888888888,
              "#fdca26"
             ],
             [
              1,
              "#f0f921"
             ]
            ],
            "type": "contour"
           }
          ],
          "contourcarpet": [
           {
            "colorbar": {
             "outlinewidth": 0,
             "ticks": ""
            },
            "type": "contourcarpet"
           }
          ],
          "heatmap": [
           {
            "colorbar": {
             "outlinewidth": 0,
             "ticks": ""
            },
            "colorscale": [
             [
              0,
              "#0d0887"
             ],
             [
              0.1111111111111111,
              "#46039f"
             ],
             [
              0.2222222222222222,
              "#7201a8"
             ],
             [
              0.3333333333333333,
              "#9c179e"
             ],
             [
              0.4444444444444444,
              "#bd3786"
             ],
             [
              0.5555555555555556,
              "#d8576b"
             ],
             [
              0.6666666666666666,
              "#ed7953"
             ],
             [
              0.7777777777777778,
              "#fb9f3a"
             ],
             [
              0.8888888888888888,
              "#fdca26"
             ],
             [
              1,
              "#f0f921"
             ]
            ],
            "type": "heatmap"
           }
          ],
          "heatmapgl": [
           {
            "colorbar": {
             "outlinewidth": 0,
             "ticks": ""
            },
            "colorscale": [
             [
              0,
              "#0d0887"
             ],
             [
              0.1111111111111111,
              "#46039f"
             ],
             [
              0.2222222222222222,
              "#7201a8"
             ],
             [
              0.3333333333333333,
              "#9c179e"
             ],
             [
              0.4444444444444444,
              "#bd3786"
             ],
             [
              0.5555555555555556,
              "#d8576b"
             ],
             [
              0.6666666666666666,
              "#ed7953"
             ],
             [
              0.7777777777777778,
              "#fb9f3a"
             ],
             [
              0.8888888888888888,
              "#fdca26"
             ],
             [
              1,
              "#f0f921"
             ]
            ],
            "type": "heatmapgl"
           }
          ],
          "histogram": [
           {
            "marker": {
             "colorbar": {
              "outlinewidth": 0,
              "ticks": ""
             }
            },
            "type": "histogram"
           }
          ],
          "histogram2d": [
           {
            "colorbar": {
             "outlinewidth": 0,
             "ticks": ""
            },
            "colorscale": [
             [
              0,
              "#0d0887"
             ],
             [
              0.1111111111111111,
              "#46039f"
             ],
             [
              0.2222222222222222,
              "#7201a8"
             ],
             [
              0.3333333333333333,
              "#9c179e"
             ],
             [
              0.4444444444444444,
              "#bd3786"
             ],
             [
              0.5555555555555556,
              "#d8576b"
             ],
             [
              0.6666666666666666,
              "#ed7953"
             ],
             [
              0.7777777777777778,
              "#fb9f3a"
             ],
             [
              0.8888888888888888,
              "#fdca26"
             ],
             [
              1,
              "#f0f921"
             ]
            ],
            "type": "histogram2d"
           }
          ],
          "histogram2dcontour": [
           {
            "colorbar": {
             "outlinewidth": 0,
             "ticks": ""
            },
            "colorscale": [
             [
              0,
              "#0d0887"
             ],
             [
              0.1111111111111111,
              "#46039f"
             ],
             [
              0.2222222222222222,
              "#7201a8"
             ],
             [
              0.3333333333333333,
              "#9c179e"
             ],
             [
              0.4444444444444444,
              "#bd3786"
             ],
             [
              0.5555555555555556,
              "#d8576b"
             ],
             [
              0.6666666666666666,
              "#ed7953"
             ],
             [
              0.7777777777777778,
              "#fb9f3a"
             ],
             [
              0.8888888888888888,
              "#fdca26"
             ],
             [
              1,
              "#f0f921"
             ]
            ],
            "type": "histogram2dcontour"
           }
          ],
          "mesh3d": [
           {
            "colorbar": {
             "outlinewidth": 0,
             "ticks": ""
            },
            "type": "mesh3d"
           }
          ],
          "parcoords": [
           {
            "line": {
             "colorbar": {
              "outlinewidth": 0,
              "ticks": ""
             }
            },
            "type": "parcoords"
           }
          ],
          "pie": [
           {
            "automargin": true,
            "type": "pie"
           }
          ],
          "scatter": [
           {
            "marker": {
             "colorbar": {
              "outlinewidth": 0,
              "ticks": ""
             }
            },
            "type": "scatter"
           }
          ],
          "scatter3d": [
           {
            "line": {
             "colorbar": {
              "outlinewidth": 0,
              "ticks": ""
             }
            },
            "marker": {
             "colorbar": {
              "outlinewidth": 0,
              "ticks": ""
             }
            },
            "type": "scatter3d"
           }
          ],
          "scattercarpet": [
           {
            "marker": {
             "colorbar": {
              "outlinewidth": 0,
              "ticks": ""
             }
            },
            "type": "scattercarpet"
           }
          ],
          "scattergeo": [
           {
            "marker": {
             "colorbar": {
              "outlinewidth": 0,
              "ticks": ""
             }
            },
            "type": "scattergeo"
           }
          ],
          "scattergl": [
           {
            "marker": {
             "colorbar": {
              "outlinewidth": 0,
              "ticks": ""
             }
            },
            "type": "scattergl"
           }
          ],
          "scattermapbox": [
           {
            "marker": {
             "colorbar": {
              "outlinewidth": 0,
              "ticks": ""
             }
            },
            "type": "scattermapbox"
           }
          ],
          "scatterpolar": [
           {
            "marker": {
             "colorbar": {
              "outlinewidth": 0,
              "ticks": ""
             }
            },
            "type": "scatterpolar"
           }
          ],
          "scatterpolargl": [
           {
            "marker": {
             "colorbar": {
              "outlinewidth": 0,
              "ticks": ""
             }
            },
            "type": "scatterpolargl"
           }
          ],
          "scatterternary": [
           {
            "marker": {
             "colorbar": {
              "outlinewidth": 0,
              "ticks": ""
             }
            },
            "type": "scatterternary"
           }
          ],
          "surface": [
           {
            "colorbar": {
             "outlinewidth": 0,
             "ticks": ""
            },
            "colorscale": [
             [
              0,
              "#0d0887"
             ],
             [
              0.1111111111111111,
              "#46039f"
             ],
             [
              0.2222222222222222,
              "#7201a8"
             ],
             [
              0.3333333333333333,
              "#9c179e"
             ],
             [
              0.4444444444444444,
              "#bd3786"
             ],
             [
              0.5555555555555556,
              "#d8576b"
             ],
             [
              0.6666666666666666,
              "#ed7953"
             ],
             [
              0.7777777777777778,
              "#fb9f3a"
             ],
             [
              0.8888888888888888,
              "#fdca26"
             ],
             [
              1,
              "#f0f921"
             ]
            ],
            "type": "surface"
           }
          ],
          "table": [
           {
            "cells": {
             "fill": {
              "color": "#EBF0F8"
             },
             "line": {
              "color": "white"
             }
            },
            "header": {
             "fill": {
              "color": "#C8D4E3"
             },
             "line": {
              "color": "white"
             }
            },
            "type": "table"
           }
          ]
         },
         "layout": {
          "annotationdefaults": {
           "arrowcolor": "#2a3f5f",
           "arrowhead": 0,
           "arrowwidth": 1
          },
          "autotypenumbers": "strict",
          "coloraxis": {
           "colorbar": {
            "outlinewidth": 0,
            "ticks": ""
           }
          },
          "colorscale": {
           "diverging": [
            [
             0,
             "#8e0152"
            ],
            [
             0.1,
             "#c51b7d"
            ],
            [
             0.2,
             "#de77ae"
            ],
            [
             0.3,
             "#f1b6da"
            ],
            [
             0.4,
             "#fde0ef"
            ],
            [
             0.5,
             "#f7f7f7"
            ],
            [
             0.6,
             "#e6f5d0"
            ],
            [
             0.7,
             "#b8e186"
            ],
            [
             0.8,
             "#7fbc41"
            ],
            [
             0.9,
             "#4d9221"
            ],
            [
             1,
             "#276419"
            ]
           ],
           "sequential": [
            [
             0,
             "#0d0887"
            ],
            [
             0.1111111111111111,
             "#46039f"
            ],
            [
             0.2222222222222222,
             "#7201a8"
            ],
            [
             0.3333333333333333,
             "#9c179e"
            ],
            [
             0.4444444444444444,
             "#bd3786"
            ],
            [
             0.5555555555555556,
             "#d8576b"
            ],
            [
             0.6666666666666666,
             "#ed7953"
            ],
            [
             0.7777777777777778,
             "#fb9f3a"
            ],
            [
             0.8888888888888888,
             "#fdca26"
            ],
            [
             1,
             "#f0f921"
            ]
           ],
           "sequentialminus": [
            [
             0,
             "#0d0887"
            ],
            [
             0.1111111111111111,
             "#46039f"
            ],
            [
             0.2222222222222222,
             "#7201a8"
            ],
            [
             0.3333333333333333,
             "#9c179e"
            ],
            [
             0.4444444444444444,
             "#bd3786"
            ],
            [
             0.5555555555555556,
             "#d8576b"
            ],
            [
             0.6666666666666666,
             "#ed7953"
            ],
            [
             0.7777777777777778,
             "#fb9f3a"
            ],
            [
             0.8888888888888888,
             "#fdca26"
            ],
            [
             1,
             "#f0f921"
            ]
           ]
          },
          "colorway": [
           "#636efa",
           "#EF553B",
           "#00cc96",
           "#ab63fa",
           "#FFA15A",
           "#19d3f3",
           "#FF6692",
           "#B6E880",
           "#FF97FF",
           "#FECB52"
          ],
          "font": {
           "color": "#2a3f5f"
          },
          "geo": {
           "bgcolor": "white",
           "lakecolor": "white",
           "landcolor": "#E5ECF6",
           "showlakes": true,
           "showland": true,
           "subunitcolor": "white"
          },
          "hoverlabel": {
           "align": "left"
          },
          "hovermode": "closest",
          "mapbox": {
           "style": "light"
          },
          "paper_bgcolor": "white",
          "plot_bgcolor": "#E5ECF6",
          "polar": {
           "angularaxis": {
            "gridcolor": "white",
            "linecolor": "white",
            "ticks": ""
           },
           "bgcolor": "#E5ECF6",
           "radialaxis": {
            "gridcolor": "white",
            "linecolor": "white",
            "ticks": ""
           }
          },
          "scene": {
           "xaxis": {
            "backgroundcolor": "#E5ECF6",
            "gridcolor": "white",
            "gridwidth": 2,
            "linecolor": "white",
            "showbackground": true,
            "ticks": "",
            "zerolinecolor": "white"
           },
           "yaxis": {
            "backgroundcolor": "#E5ECF6",
            "gridcolor": "white",
            "gridwidth": 2,
            "linecolor": "white",
            "showbackground": true,
            "ticks": "",
            "zerolinecolor": "white"
           },
           "zaxis": {
            "backgroundcolor": "#E5ECF6",
            "gridcolor": "white",
            "gridwidth": 2,
            "linecolor": "white",
            "showbackground": true,
            "ticks": "",
            "zerolinecolor": "white"
           }
          },
          "shapedefaults": {
           "line": {
            "color": "#2a3f5f"
           }
          },
          "ternary": {
           "aaxis": {
            "gridcolor": "white",
            "linecolor": "white",
            "ticks": ""
           },
           "baxis": {
            "gridcolor": "white",
            "linecolor": "white",
            "ticks": ""
           },
           "bgcolor": "#E5ECF6",
           "caxis": {
            "gridcolor": "white",
            "linecolor": "white",
            "ticks": ""
           }
          },
          "title": {
           "x": 0.05
          },
          "xaxis": {
           "automargin": true,
           "gridcolor": "white",
           "linecolor": "white",
           "ticks": "",
           "title": {
            "standoff": 15
           },
           "zerolinecolor": "white",
           "zerolinewidth": 2
          },
          "yaxis": {
           "automargin": true,
           "gridcolor": "white",
           "linecolor": "white",
           "ticks": "",
           "title": {
            "standoff": 15
           },
           "zerolinecolor": "white",
           "zerolinewidth": 2
          }
         }
        }
       }
      },
      "text/html": [
       "<div>                            <div id=\"f3edb841-211f-443d-ac2e-020cbe001399\" class=\"plotly-graph-div\" style=\"height:525px; width:100%;\"></div>            <script type=\"text/javascript\">                require([\"plotly\"], function(Plotly) {                    window.PLOTLYENV=window.PLOTLYENV || {};                                    if (document.getElementById(\"f3edb841-211f-443d-ac2e-020cbe001399\")) {                    Plotly.newPlot(                        \"f3edb841-211f-443d-ac2e-020cbe001399\",                        [{\"customdata\": [[\"42 Coin\"], [\"404Coin\"], [\"EliteCoin\"], [\"Bitcoin\"], [\"Ethereum\"], [\"Litecoin\"], [\"Dash\"], [\"Monero\"], [\"Ethereum Classic\"], [\"ZCash\"], [\"Bitshares\"], [\"DigiByte\"], [\"BitcoinDark\"], [\"PayCoin\"], [\"ProsperCoin\"], [\"KoboCoin\"], [\"Spreadcoin\"], [\"Argentum\"], [\"Aurora Coin\"], [\"BlueCoin\"], [\"MyriadCoin\"], [\"MoonCoin\"], [\"ZetaCoin\"], [\"SexCoin\"], [\"Quatloo\"], [\"EnergyCoin\"], [\"QuarkCoin\"], [\"Riecoin\"], [\"Digitalcoin \"], [\"BitBar\"], [\"Catcoin\"], [\"CryptoBullion\"], [\"CannaCoin\"], [\"CryptCoin\"], [\"CasinoCoin\"], [\"Diamond\"], [\"Verge\"], [\"DevCoin\"], [\"EarthCoin\"], [\"E-Gulden\"], [\"Einsteinium\"], [\"Emerald\"], [\"Exclusive Coin\"], [\"FlutterCoin\"], [\"Franko\"], [\"FeatherCoin\"], [\"GrandCoin\"], [\"GlobalCoin\"], [\"GoldCoin\"], [\"HoboNickels\"], [\"HyperStake\"], [\"Infinite Coin\"], [\"IOCoin\"], [\"IXcoin\"], [\"KrugerCoin\"], [\"LuckyCoin\"], [\"Litebar \"], [\"MaxCoin\"], [\"MegaCoin\"], [\"MediterraneanCoin\"], [\"MintCoin\"], [\"MinCoin\"], [\"MazaCoin\"], [\"Nautilus Coin\"], [\"NavCoin\"], [\"NobleCoin\"], [\"Namecoin\"], [\"NyanCoin\"], [\"OpalCoin\"], [\"Orbitcoin\"], [\"PotCoin\"], [\"PhoenixCoin\"], [\"Reddcoin\"], [\"RonPaulCoin\"], [\"StableCoin\"], [\"SmartCoin\"], [\"SuperCoin\"], [\"SyncCoin\"], [\"SysCoin\"], [\"TeslaCoin\"], [\"TigerCoin\"], [\"TittieCoin\"], [\"TorCoin\"], [\"TerraCoin\"], [\"UnbreakableCoin\"], [\"Unobtanium\"], [\"UroCoin\"], [\"UnitaryStatus Dollar\"], [\"UltraCoin\"], [\"ViaCoin\"], [\"VeriCoin\"], [\"Vertcoin\"], [\"WorldCoin\"], [\"X11 Coin\"], [\"Crypti\"], [\"JouleCoin\"], [\"StealthCoin\"], [\"ZCC Coin\"], [\"ByteCoin\"], [\"DigitalNote \"], [\"BurstCoin\"], [\"StorjCoin\"], [\"MonaCoin\"], [\"Neutron\"], [\"FairCoin\"], [\"Gulden\"], [\"RubyCoin\"], [\"PesetaCoin\"], [\"Kore\"], [\"Wild Beast Coin\"], [\"Dnotes\"], [\"Flo\"], [\"8BIT Coin\"], [\"Sativa Coin\"], [\"ArtByte\"], [\"Folding Coin\"], [\"Ucoin\"], [\"Unitus\"], [\"CypherPunkCoin\"], [\"OmniCron\"], [\"Vtorrent\"], [\"GreenCoin\"], [\"Cryptonite\"], [\"MasterCoin\"], [\"SoonCoin\"], [\"1Credit\"], [\"IslaCoin\"], [\"Nexus\"], [\"MarsCoin \"], [\"Crypto\"], [\"Anarchists Prime\"], [\"Droidz\"], [\"BowsCoin\"], [\"Squall Coin\"], [\"Song Coin\"], [\"BitZeny\"], [\"Diggits\"], [\"Expanse\"], [\"Paycon\"], [\"Siacoin\"], [\"Emercoin\"], [\"EverGreenCoin\"], [\"MindCoin\"], [\"I0coin\"], [\"Decred\"], [\"Revolution VR\"], [\"HOdlcoin\"], [\"EDRCoin\"], [\"Hitcoin\"], [\"Gamecredits\"], [\"DubaiCoin\"], [\"CarpeDiemCoin\"], [\"PWR Coin\"], [\"BillaryCoin\"], [\"GPU Coin\"], [\"Adzcoin\"], [\"SoilCoin\"], [\"YoCoin\"], [\"SibCoin\"], [\"EuropeCoin\"], [\"ZeitCoin\"], [\"SwingCoin\"], [\"SafeExchangeCoin\"], [\"Nebuchadnezzar\"], [\"Francs\"], [\"BolivarCoin\"], [\"Ratecoin\"], [\"Revenu\"], [\"Clockcoin\"], [\"VIP Tokens\"], [\"BitSend\"], [\"Omni\"], [\"Let it Ride\"], [\"PutinCoin\"], [\"iBankCoin\"], [\"Frankywillcoin\"], [\"MudraCoin\"], [\"PizzaCoin\"], [\"Lutetium Coin\"], [\"Komodo\"], [\"GoldBlocks\"], [\"CarterCoin\"], [\"Karbo\"], [\"BitTokens\"], [\"ZayedCoin\"], [\"MustangCoin\"], [\"ZoneCoin\"], [\"Circuits of Value\"], [\"RootCoin\"], [\"DopeCoin\"], [\"BitCurrency\"], [\"DollarCoin\"], [\"Swiscoin\"], [\"Shilling\"], [\"BuzzCoin\"], [\"Opair\"], [\"PesoBit\"], [\"Halloween Coin\"], [\"ZCoin\"], [\"CoffeeCoin\"], [\"RoyalCoin\"], [\"GanjaCoin V2\"], [\"TeamUP\"], [\"LanaCoin\"], [\"Elementrem\"], [\"ZClassic\"], [\"ARK\"], [\"InsaneCoin\"], [\"KiloCoin\"], [\"ArtexCoin\"], [\"EmberCoin\"], [\"XenixCoin\"], [\"FreeCoin\"], [\"PLNCoin\"], [\"AquariusCoin\"], [\"Kurrent\"], [\"Creatio\"], [\"Eternity\"], [\"Eurocoin\"], [\"BitcoinFast\"], [\"Stakenet\"], [\"BitConnect Coin\"], [\"MoneyCoin\"], [\"Enigma\"], [\"Cannabis Industry Coin\"], [\"Russiacoin\"], [\"PandaCoin\"], [\"GameUnits\"], [\"GAKHcoin\"], [\"Allsafe\"], [\"LiteCreed\"], [\"OsmiumCoin\"], [\"Bikercoins\"], [\"HexxCoin\"], [\"Klingon Empire Darsek\"], [\"Internet of People\"], [\"KushCoin\"], [\"Printerium\"], [\"PacCoin\"], [\"Impeach\"], [\"Citadel\"], [\"Zilbercoin\"], [\"FirstCoin\"], [\"BeaverCoin\"], [\"FindCoin\"], [\"VaultCoin\"], [\"Zero\"], [\"OpenChat\"], [\"Canada eCoin\"], [\"Zoin\"], [\"RenosCoin\"], [\"DubaiCoin\"], [\"VirtacoinPlus\"], [\"TajCoin\"], [\"Impact\"], [\"EB3coin\"], [\"Atmos\"], [\"HappyCoin\"], [\"Coinonat\"], [\"MacronCoin\"], [\"Condensate\"], [\"Independent Money System\"], [\"ArgusCoin\"], [\"LomoCoin\"], [\"ProCurrency\"], [\"GoldReserve\"], [\"BenjiRolls\"], [\"GrowthCoin\"], [\"ILCoin\"], [\"Phreak\"], [\"Degas Coin\"], [\"HTML5 Coin\"], [\"Ultimate Secure Cash\"], [\"EquiTrader\"], [\"QTUM\"], [\"Quantum Resistant Ledger\"], [\"Espers\"], [\"Dynamic\"], [\"Nano\"], [\"ChanCoin\"], [\"Dinastycoin\"], [\"Denarius\"], [\"DigitalPrice\"], [\"Virta Unique Coin\"], [\"Bitcoin Planet\"], [\"Unify\"], [\"BritCoin\"], [\"SocialCoin\"], [\"ArcticCoin\"], [\"DAS\"], [\"Linda\"], [\"LeviarCoin\"], [\"DeepOnion\"], [\"Bitcore\"], [\"gCn Coin\"], [\"SmartCash\"], [\"Signatum\"], [\"Onix\"], [\"Cream\"], [\"Bitcoin Cash\"], [\"Monoeci\"], [\"Draftcoin\"], [\"Vechain\"], [\"Sojourn Coin\"], [\"Stakecoin\"], [\"NewYorkCoin\"], [\"FrazCoin\"], [\"Kronecoin\"], [\"AdCoin\"], [\"Linx\"], [\"CoinonatX\"], [\"Ethereum Dark\"], [\"Sumokoin\"], [\"Obsidian\"], [\"Cardano\"], [\"Regalcoin\"], [\"BitcoinZ\"], [\"TrezarCoin\"], [\"Elements\"], [\"TerraNovaCoin\"], [\"VIVO Coin\"], [\"Rupee\"], [\"Bitcoin Gold\"], [\"WomenCoin\"], [\"Theresa May Coin\"], [\"NamoCoin\"], [\"LUXCoin\"], [\"Pirl\"], [\"Xios\"], [\"Bitcloud 2.0\"], [\"eBoost\"], [\"KekCoin\"], [\"BlackholeCoin\"], [\"Infinity Economics\"], [\"Pura\"], [\"Innova\"], [\"Ellaism\"], [\"GoByte\"], [\"Magnet\"], [\"Lamden Tau\"], [\"Electra\"], [\"Bitcoin Diamond\"], [\"SHIELD\"], [\"Cash & Back Coin\"], [\"UltraNote\"], [\"BitCoal\"], [\"DaxxCoin\"], [\"Bulwark\"], [\"Kalkulus\"], [\"AC3\"], [\"Lethean\"], [\"GermanCoin\"], [\"LiteCoin Ultra\"], [\"PopularCoin\"], [\"PhantomX\"], [\"Photon\"], [\"Sucre\"], [\"SparksPay\"], [\"Digiwage\"], [\"GunCoin\"], [\"IrishCoin\"], [\"Trollcoin\"], [\"Litecoin Plus\"], [\"Monkey Project\"], [\"Pioneer Coin\"], [\"UnitedBitcoin\"], [\"Interzone\"], [\"TokenPay\"], [\"1717 Masonic Commemorative Token\"], [\"My Big Coin\"], [\"TurtleCoin\"], [\"MUNcoin\"], [\"Unified Society USDEX\"], [\"Niobio Cash\"], [\"ShareChain\"], [\"Travelflex\"], [\"KREDS\"], [\"Tokyo Coin\"], [\"BiblePay\"], [\"LitecoinCash\"], [\"BitFlip\"], [\"LottoCoin\"], [\"Crypto Improvement Fund\"], [\"Stipend\"], [\"Poa Network\"], [\"Pushi\"], [\"Ellerium\"], [\"Velox\"], [\"Ontology\"], [\"Callisto Network\"], [\"BitTube\"], [\"Poseidon\"], [\"Aidos Kuneen\"], [\"Bitspace\"], [\"Briacoin\"], [\"Ignition\"], [\"Bitrolium\"], [\"MedicCoin\"], [\"Alpenschillling\"], [\"Bitcoin Green\"], [\"Deviant Coin\"], [\"Abjcoin\"], [\"Semux\"], [\"FuturoCoin\"], [\"Carebit\"], [\"Zealium\"], [\"Monero Classic\"], [\"Proton\"], [\"iDealCash\"], [\"Jumpcoin\"], [\"Infinex\"], [\"Bitcoin Incognito\"], [\"KEYCO\"], [\"HollyWoodCoin\"], [\"GINcoin\"], [\"PlatinCoin\"], [\"Loki\"], [\"Newton Coin\"], [\"Swisscoin\"], [\"Xt3ch\"], [\"MassGrid\"], [\"TheVig\"], [\"PluraCoin\"], [\"EmaratCoin\"], [\"Dekado\"], [\"Lynx\"], [\"Poseidon Quark\"], [\"BitcoinWSpectrum\"], [\"Muse\"], [\"Motion\"], [\"PlusOneCoin\"], [\"Axe\"], [\"Trivechain\"], [\"Dystem\"], [\"Giant\"], [\"Peony Coin\"], [\"Absolute Coin\"], [\"Vitae\"], [\"HexCoin\"], [\"TPCash\"], [\"Webchain\"], [\"Ryo\"], [\"Urals Coin\"], [\"Qwertycoin\"], [\"ARENON\"], [\"EUNO\"], [\"MMOCoin\"], [\"Ketan\"], [\"Project Pai\"], [\"XDNA\"], [\"PAXEX\"], [\"Azart\"], [\"ThunderStake\"], [\"Kcash\"], [\"Xchange\"], [\"Acute Angle Cloud\"], [\"CrypticCoin\"], [\"Bettex coin\"], [\"Actinium\"], [\"Bitcoin SV\"], [\"BitMoney\"], [\"Junson Ming Chan Coin\"], [\"FREDEnergy\"], [\"HerbCoin\"], [\"Universal Molecule\"], [\"Lithium\"], [\"PirateCash\"], [\"Exosis\"], [\"Block-Logic\"], [\"Oduwa\"], [\"Beam\"], [\"Galilel\"], [\"Bithereum\"], [\"Crypto Sports\"], [\"Credit\"], [\"SLICE\"], [\"Dash Platinum\"], [\"Nasdacoin\"], [\"Beetle Coin\"], [\"Titan Coin\"], [\"Award\"], [\"BLAST\"], [\"Bitcoin Rhodium\"], [\"GlobalToken\"], [\"Insane Coin\"], [\"ALAX\"], [\"LiteDoge\"], [\"SolarCoin\"], [\"TruckCoin\"], [\"UFO Coin\"], [\"OrangeCoin\"], [\"BlakeCoin\"], [\"BitstarCoin\"], [\"NeosCoin\"], [\"HyperCoin\"], [\"PinkCoin\"], [\"Crypto Escudo\"], [\"AudioCoin\"], [\"IncaKoin\"], [\"Piggy Coin\"], [\"Crown Coin\"], [\"Genstake\"], [\"SmileyCoin\"], [\"XiaoMiCoin\"], [\"Groestlcoin\"], [\"CapriCoin\"], [\" ClubCoin\"], [\"Radium\"], [\"Bata\"], [\"Pakcoin\"], [\"Creditbit \"], [\"OKCash\"], [\"Lisk\"], [\"HiCoin\"], [\"WhiteCoin\"], [\"FriendshipCoin\"], [\"JoinCoin\"], [\"Triangles Coin\"], [\"Vollar\"], [\"EOS\"], [\"Reality Clash\"], [\"Oxycoin\"], [\"TigerCash\"], [\"Waves\"], [\"Particl\"], [\"BitTorrent\"], [\"Nxt\"], [\"ZEPHYR\"], [\"Gapcoin\"], [\"Beldex\"], [\"Horizen\"], [\"BitcoinPlus\"]], \"hovertemplate\": \"PCA1=%{x}<br>PCA2=%{y}<br>PCA3=%{z}<br>coin=%{customdata[0]}<br>class=%{marker.color}<extra></extra>\", \"legendgroup\": \"\", \"marker\": {\"color\": [0, 0, 2, 5, 5, 5, 0, 5, 5, 5, 3, 5, 0, 3, 5, 0, 5, 5, 0, 0, 5, 2, 5, 5, 5, 0, 5, 5, 5, 0, 5, 0, 5, 5, 0, 0, 5, 5, 5, 5, 5, 5, 3, 0, 5, 5, 5, 5, 5, 0, 3, 2, 0, 5, 5, 5, 5, 0, 5, 5, 3, 5, 0, 3, 0, 5, 5, 5, 0, 0, 0, 0, 0, 5, 5, 5, 3, 0, 5, 3, 5, 3, 0, 5, 5, 5, 5, 0, 0, 5, 0, 5, 5, 0, 3, 5, 0, 0, 2, 5, 3, 3, 5, 0, 0, 5, 3, 5, 0, 5, 3, 5, 0, 0, 5, 5, 3, 5, 5, 5, 0, 5, 5, 5, 5, 5, 0, 3, 5, 5, 5, 0, 5, 3, 5, 5, 3, 5, 0, 5, 0, 0, 5, 5, 0, 5, 5, 0, 0, 5, 0, 5, 0, 0, 3, 5, 5, 5, 5, 0, 3, 0, 0, 3, 5, 5, 0, 0, 0, 0, 0, 5, 3, 0, 0, 0, 3, 5, 3, 3, 0, 0, 5, 0, 5, 0, 0, 5, 0, 5, 3, 5, 0, 5, 0, 3, 0, 0, 5, 3, 3, 0, 3, 0, 5, 5, 3, 0, 5, 5, 0, 0, 3, 0, 0, 5, 3, 0, 0, 0, 3, 0, 0, 0, 5, 0, 3, 0, 0, 3, 0, 5, 5, 5, 0, 0, 0, 0, 5, 0, 5, 3, 0, 5, 3, 5, 5, 0, 5, 5, 3, 5, 0, 0, 0, 5, 3, 0, 5, 3, 0, 0, 0, 0, 3, 0, 5, 3, 5, 3, 0, 0, 3, 5, 3, 5, 0, 5, 5, 5, 5, 0, 5, 0, 0, 5, 0, 5, 5, 5, 0, 5, 0, 5, 2, 5, 3, 5, 0, 5, 0, 3, 2, 5, 3, 2, 5, 5, 5, 5, 0, 0, 5, 3, 3, 0, 5, 0, 5, 0, 5, 3, 5, 0, 0, 0, 0, 5, 0, 0, 5, 3, 0, 3, 5, 5, 5, 5, 0, 3, 0, 0, 5, 0, 5, 5, 5, 3, 3, 5, 5, 0, 0, 5, 0, 5, 5, 5, 3, 5, 5, 0, 0, 3, 5, 5, 5, 3, 3, 0, 4, 5, 0, 5, 5, 5, 5, 3, 3, 3, 5, 5, 5, 0, 3, 0, 0, 3, 3, 5, 5, 5, 5, 0, 0, 0, 5, 3, 5, 3, 3, 0, 3, 5, 0, 3, 5, 3, 0, 5, 5, 3, 5, 3, 5, 5, 5, 2, 0, 3, 5, 0, 5, 0, 3, 2, 3, 3, 3, 5, 5, 5, 0, 3, 0, 3, 0, 3, 5, 0, 5, 5, 5, 2, 3, 0, 3, 3, 5, 0, 3, 5, 0, 3, 5, 3, 5, 3, 5, 5, 3, 3, 5, 0, 5, 5, 3, 5, 5, 0, 5, 0, 5, 3, 0, 5, 3, 0, 0, 0, 0, 5, 5, 5, 0, 3, 0, 5, 0, 5, 0, 5, 0, 3, 0, 0, 5, 0, 0, 0, 5, 0, 5, 0, 5, 0, 0, 3, 5, 5, 3, 0, 3, 3, 0, 0, 5, 0, 5, 3, 5, 3, 3, 3, 3, 1, 3, 3, 0, 5, 5, 3], \"coloraxis\": \"coloraxis\", \"symbol\": \"circle\"}, \"mode\": \"markers\", \"name\": \"\", \"scene\": \"scene\", \"showlegend\": false, \"type\": \"scatter3d\", \"x\": [-0.20969117386529873, -0.18780482627892023, 3.5292672875394673, -0.17992673208252916, -0.1730629970628272, -0.17696376516642043, -0.21790470080640376, -0.17383998752269073, -0.1707839276749675, -0.17469619468479244, -0.11235146147400389, 0.22174427890515827, -0.21104889299047516, -0.1987736106600977, -0.17850773721422725, -0.19916764773649667, -0.18701775599943576, -0.17795940286427264, -0.20923545715577282, -0.1998541941814676, -0.1269513817480197, 3.8279631368848497, -0.17601675156507313, -0.17421144525243334, -0.17765881907686726, -0.2077860429489704, -0.16939999122699503, -0.17237773206976767, -0.17779584747648894, -0.2096852986214353, -0.17848526431047368, -0.2096646540949699, -0.17860622939831233, -0.18713387516918534, 0.8514303913470438, -0.2047994343163961, 0.24538898916017327, 0.3293349564139478, 0.1561633435582563, -0.17827332169507917, -0.17229967614685673, -0.17818042949980806, -0.19535483430858772, -0.1788814730802376, -0.17868122832611227, -0.1683457896389507, -0.150305931768535, -0.17706907687027418, -0.17741740574311607, -0.20705711735980492, -0.18008028173537657, 2.1690438146824085, -0.21777126070089808, -0.1798777785495778, -0.17370211406153002, -0.1783082803504447, -0.1787849743554162, -0.2024925425631553, -0.17778728541408867, -0.1706672403821814, 0.13216818954142676, -0.1786219590582234, -0.16107193690627447, -0.19706320372809874, -0.20102226966662184, 0.01432766968143639, -0.17997612838682878, -0.1701181660786923, -0.20181072699438743, -0.2058679445636178, -0.20186149979216872, -0.2075236498928721, 0.2441423534524123, -0.1785799428382708, -0.17583270214963265, -0.17788570379896074, -0.20528040336308936, -0.2182740404465685, -0.16243670758012568, -0.1903362577137154, -0.17925885292200305, -0.1431262136928003, -0.21814755944338063, -0.1796300792016901, -0.1795533692857682, -0.1804176640618064, -0.1873803608267207, -0.17598340489902384, -0.2078700528568482, -0.1782177692722903, -0.18554266639933545, -0.17231728912185706, -0.17419503924146287, -0.2181090747017175, -0.19107410257661467, -0.17934705028827327, -0.20153303917674953, -0.1969658208769297, 4.620178880059954, 0.057116527117820406, -0.12910619640813115, -0.1860539568335745, -0.1766635812040515, -0.20998322513862755, -0.20407280102498626, -0.15486139157198817, -0.19706167081521883, -0.1749511248564021, -0.20188884069518115, -0.17878591933015614, -0.18956166074181055, -0.17478936746201815, -0.2096684513456203, -0.20183115316184397, -0.1561125875053734, -0.15178764429145514, -0.20581508001735502, -0.17294782644886703, -0.1736987654516529, -0.17862400163753858, -0.20930283613456882, -0.0031003834215763623, -0.1431822439627899, -0.17880010305792826, -0.18001132871552333, 0.7811427474467895, -0.2182506354899725, -0.17902789880578632, -0.1865558972089535, -0.17305697644125084, -0.1796341328339138, -0.20410642739457904, -0.18693434276536902, -0.19482534672444377, -0.17611830279298343, -0.1750369906480994, -0.1948909837085049, -0.17439116979840488, -0.20116692427066643, 0.33939114334065806, -0.20019747226183726, -0.2027312154721747, -0.186986454652884, -0.17987920081968037, -0.20255309624042261, -0.17337394508129492, -0.1723494216028998, -0.21101203542593155, 0.22899086823167317, -0.1768585432056636, -0.2111094383901818, 0.38178810289378456, -0.049328878749645935, -0.20911362415992288, -0.194549355034916, -0.1858242164453122, -0.17335898824721233, -0.17704967243527459, -0.17286477154433275, -0.2141061751381389, 1.40786601117554, -0.21081326656415464, -0.1295286913330188, -0.19492445577484654, -0.17850574809007153, -0.18692681464043492, -0.21540845349761675, -0.2089559088404892, -0.20556242564850402, -0.20298277337888418, -0.21644615274768417, -0.17880018158127187, -0.1915428218206544, -0.17623507158332374, -0.20915851481949535, -0.2070996454624569, -0.1876724314360706, -0.18711686163735924, -0.18903905859031112, -0.17836285388188014, -0.21751140913754113, -0.2080838420808256, -0.153921943648, -0.21107006232968123, -0.18022513367859191, -0.21823258528771294, -0.209432082801158, -0.14595368464597158, -0.20966114358288176, -0.1749204148803037, -0.19485696146244255, -0.1801713987340582, -0.14334758371468984, -0.17833099133645564, 0.30754565965383696, -0.19352450648744499, -0.20917220693343344, -0.19852510720214198, -0.1736120753838855, -0.192723108756587, -0.1897719090693468, -0.20169768490149206, -0.19202618047729605, -0.10915102877159873, -0.1740509294255239, -0.1747235883647558, -0.15149385289549155, -0.21767707486158852, -0.07143406251627149, -0.16942556818114637, 1.23405848731352, -0.21817420900217244, -0.1941469969274615, -0.20902447256902562, -0.20921501162473716, -0.1840700388916438, -0.19492445577484654, -0.21755404834428638, -0.21089749412388864, -0.20903344515791955, -0.1926606779789611, -0.20922747359043006, -0.20273301552653994, -0.21820928559618624, -0.1539131223553873, -0.20805893508630413, 0.6652489643225444, -0.20950176362080972, -0.20960524530393668, -0.19434248221806577, -0.20338177740725777, -0.17877399488826182, -0.15374167087371257, -0.17382280422696914, -0.2041030071196223, -0.21104017399566347, -0.21808885813072124, -0.20929947667036003, 0.8643460617092291, -0.20945754460395202, -0.17200611283788195, -0.19686338063038064, -0.20684049251332856, -0.17873287046658237, -0.18946028471038615, -0.17649433233712503, -0.17474507492680205, -0.1837758800409053, -0.17622705171347244, -0.17344996487205483, -0.19656520209133213, -0.17332508936100974, -0.2170268648203243, -0.20371778904478996, -0.21541362764376268, -0.13608660341158066, -0.19257146910538678, -0.21689746597155873, -0.17367854398563953, -0.18505463903627417, -0.21117340889088915, -0.2093867245457645, -0.20937497619721296, -0.19924911339250992, 0.5850408874822018, -0.21759086654351004, -0.17813163199426765, -0.17204488661759715, -0.133937565693205, -0.19495340025055127, -0.2082649167742305, 1.3653150381703159, -0.19684187489260288, -0.17785320824837442, -0.18989824990374937, -0.17194192948638382, 0.6713835331891089, -0.17307640275817088, -0.16738929046688777, -0.17278436833738858, -0.105266430084029, -0.20504483551487387, -0.185811633501127, -0.20298723263589472, -0.20336551362715458, -0.17833429717510116, -0.20140308186600078, -0.17795358074283854, -0.18636983073522667, -0.18716123766339374, 0.45204921806541254, -0.153364693895341, -0.20150887573367104, -0.17288776316170615, 4.432299756484718, -0.08664366202958722, -0.18896028489179376, -0.1740252558257352, -0.20273810938138123, -0.1799256729571702, -0.21798028275935302, -0.1970119685244535, 1.5863736759129539, -0.0692482741474821, -0.19473808396477285, 2.035066355992487, -0.17845724257117412, -0.17766947300483665, -0.17726732171605897, -0.17725076024862726, -0.2088852062426192, -0.2095823307151065, -0.15308138763673726, -0.19102253763787788, 0.679810817289554, -0.2178799133769623, 0.12477104987793472, -0.1989559915083962, -0.12677443532866808, -0.20950934861824563, -0.17473590238563336, -0.19203038028061445, -0.1745441822834675, 0.801366677193083, -0.20882993275896716, -0.1840145059483973, -0.20369436711921385, -0.17160318495195254, -0.20943877494749086, -0.20430817522759856, -0.17622478230832483, -0.1916594860383224, -0.20928356120296196, 0.03414791492164479, -0.18103452665596326, -0.1745138826229244, -0.17161096281244995, -0.1746600210893672, -0.2161801754199982, -0.14479613358580423, 0.5474623778544658, -0.197012869410674, -0.15961153356639526, -0.2057819358459778, 1.0312712784427187, -0.15394729233940088, -0.06232293093506407, -0.19251081589214222, -0.19419064422444776, -0.18041680147099803, -0.1568463836047746, 0.38805968594046064, -0.2079956862455263, -0.06527485582744887, -0.21705301222150053, 1.2328486543992498, -0.18712698193857083, -0.1747415158846791, -0.1929870782379976, -0.16522379748528881, -0.17744423856730834, -0.1911506782870998, -0.20961066578367288, -0.20577805805257146, -0.18702781246505334, -0.17990077511505112, -0.17318306935854164, -0.1919123995206546, -0.19335447808148312, -0.2092326343457296, 11.10283008730398, -0.17313494397192772, -0.2036347635678516, -0.14856804882439464, 0.08033679211536086, -0.17105535939233582, -0.15254165032608116, -0.17792399202771128, -0.09873529754317638, -0.16191900215457453, -0.17820610642148316, 0.23758319579111695, -0.1789107974103222, -0.2041065693709165, -0.1730445794693454, -0.21797965100051647, -0.20387757940420487, -0.19579280868218324, -0.17153725165335917, -0.1030736848070498, -0.14247382690253058, -0.17853402542262917, -0.17273442289872484, -0.2044785903107319, -0.2096467806936502, -0.20962070246096223, -0.1731945575801334, -0.18812732432854076, -0.17039898030581077, -0.19169865136322517, -0.1941858705498159, -0.20922518552278194, -0.15242890977624887, -0.1858633014651551, -0.20262031490015864, -0.19443656026828965, -0.15370743757477662, -0.192137817605205, -0.13450936541855962, -0.17379344309979275, -0.17360306084240618, -0.1806785632282386, -0.17318266675518454, -0.19661200174713217, -0.17373481757657475, -0.14788548263944346, -0.16788583014571387, 2.40504707599574, 0.05464483315717774, -0.19690528324189235, -0.16952252022632028, -0.20266598264507216, -0.13504238868429097, -0.20848031317109425, -0.18959850393536465, 1.981840960932669, -0.18783746327381637, -0.19714860050639943, -0.1925377719709138, -0.17365303973379567, -0.1730296703164854, -0.18710263344108424, -0.20345127570336985, -0.1943330593271376, -0.20672509749865534, -0.021335042097901488, -0.20410680534652376, -0.19259581193990877, -0.17856357227755343, -0.19917319775436146, -0.1556050194317674, -0.17238601462132466, -0.17121561928319448, 3.296250813035489, -0.20519320890969436, -0.21727598605206253, -0.1931013001004958, -0.19310716116725493, -0.1260012636353096, -0.20049199277511887, -0.2049522390421017, -0.18706054240607295, -0.005464274226896622, -0.1549700565989058, -0.17281475126736623, -0.15463527704306398, -0.030165121766586648, -0.19167467601015975, -0.17286497049251848, -0.17992572056116451, 0.5413290361370748, 0.06036097165317151, -0.04093424380627059, -0.2057603637910545, -0.17256192606855775, -0.17317464717004702, -0.192391744437033, -0.17315736352654004, -0.17701779670060336, -0.20924328335561265, -0.1717349951861968, -0.2063890962659108, -0.17431797920400063, -0.1944923644600116, 1.0480080514691235, -0.1725537703314055, -0.2058487721177751, -0.20849661171786876, -0.1962132127143226, -0.1381758250419197, -0.21365293400330396, -0.17894602688675648, -0.17113031499149534, -0.17736052382428272, -0.21759296445005513, -0.12855792174862313, 0.39266135278364117, 0.8456509418708156, -0.2145187857251222, -0.07413498938106904, -0.20754955221226523, -0.10028138186920367, -0.20880650443426882, -0.19880262196149517, -0.20954207459861365, -0.20630172951976058, -0.15630341450344265, -0.08494810904974762, 0.06840853420823277, -0.20018842120696165, -0.1796292814193428, -0.20860580170731433, 0.8008888614498861, -0.1992582337436124, -0.1717909441007242, -0.21298641443362193, -0.20641751602780972, -0.1952896961780797, -0.1786857669216064, -0.17583832734586735, -0.19419695193674302, -0.20904673897237355, -0.1509466719305228, 0.06176641763012381, -0.2026595870850194, -0.20531198183610305, -0.17387503078863253, -0.20204193077883165, -0.14989698754234304, -0.13867419359872868, -0.1740954414050063, -0.13709764589578458, -0.17317444422622638, -0.1780105189909576, -0.1952089582745009, 25.530755352675882, -0.15805306935985816, -0.1087242473789925, -0.2068514475502605, -0.12436221309772799, -0.17469753407929775, -0.197470092251841], \"y\": [-0.8081703563629159, -0.8106167449261195, -0.3172464198649266, 0.6999688016244493, 0.693040785045272, 0.5560279621164017, -0.7562869249902886, 0.6835766957923077, 0.6933659475275503, 0.700172387489424, -0.12523317164618766, 0.6876701116418985, -0.6642364737914634, -0.08846739792550289, 0.5561050045546797, -0.7069642234757091, 0.6079623374162053, 0.556155010668443, -0.8081999471141756, -0.8101668080883043, 0.6871703649248958, 1.1832785772505887, 0.6997333874447227, 0.5560920330486182, 0.5562290417431673, -0.8085570099168358, 0.6484701487650638, 0.6670969635300327, 0.5560624233056698, -0.8081696734275944, 0.5561004435953838, -0.808171987815498, 0.5560955111211484, 0.6079784022513299, -0.23090095510450967, -0.6971469700269407, 0.6661981754928962, 0.675304287453874, 0.5387418713193592, 0.5560574290542952, 0.5558908034619064, 0.5560798371376573, -0.1313554162526175, -0.1706042960546322, 0.5561035898441089, 0.6801214579068532, 0.5556312662484848, 0.555996821645862, 0.5560759398847012, -0.8082548291697189, -0.18575002871788746, 0.41942169781456834, -0.7563140071553853, 0.6999588663230911, 0.5560465056712804, 0.5560607730524015, 0.5560875638919348, -0.7004996030082645, 0.5560375569936604, 0.670782970751635, -0.2992559597878534, 0.5560869254027586, -0.6653876073875069, -0.2323765345097327, -0.7385788302881255, 0.5731544344929905, 0.6999788267878972, 0.5555876230399577, -0.7384188099446064, -0.6840348576337091, -0.8081840017971443, -0.8082426664580346, -0.9002775567258388, 0.5561196589542986, 0.5564210731583193, 0.5560920404863688, -0.18063557042371478, -0.7562944841862662, 0.6996712452574682, -0.09932168182257238, 0.6999308237220851, -0.1263029906039134, -0.7562826478180921, 0.6999873656283697, 0.7001143347186456, 0.6999906050329521, 0.6079609095956645, -0.8090098880696955, -0.808164860708008, 0.556053656465451, -0.1692474344567215, 0.6698760958126055, 0.5561465466675961, -0.7563073378982383, -0.09954703255276169, 0.6999411768316149, -0.7384751677187111, -0.8070020233202198, 0.4639837304147082, 0.7356484096718389, -0.06170682789266335, -0.12095734595131606, 0.5560462595931122, -0.6642802094610476, -0.6973108722925913, 0.5575287847045134, -0.23243753665220354, 0.5559285184221692, -0.7383579445885499, 0.556092549444387, -0.23208419612679318, 0.5558717353304764, -0.8081749681402326, -0.7383771544694493, 0.5552320457824585, 0.6699523583176722, -0.18045203599339962, 0.6890035325188668, 0.6704519200190188, 0.556062475897494, -0.8081741512882598, 0.5579365683117055, 0.6713653180800447, 0.5560878941369629, 0.699985970825363, 0.7063527621909443, -0.7562992380601397, -0.06100551049732736, 0.6079173643402039, 0.680374294725384, 0.7000322999805958, -0.7001977208024566, 0.6079491593813594, -0.11732136645727152, 0.55632989747322, 0.5562595805532873, -0.23250298657791504, 0.6933737583762798, -0.7383619225559144, 0.5693041627375004, -0.6627703408770065, -0.7074551874095395, 0.6079409807282107, 0.6999591549780917, -0.6967457930246611, 0.5557720196434768, 0.6706807558225496, -0.6642439541711008, -0.7474797552682967, 0.5560066069286026, -0.6642673222725725, 0.6670078970858261, -0.747099062348659, -0.8081300307624616, -0.23211825407009598, 0.6079601675451167, 0.677067133198983, 0.5563617982710237, 0.6705672792605986, -0.7556999911937256, -0.18681547637302012, -0.6642167772144847, -0.1737961081986936, -0.1313677433575581, 0.5561008498636838, 0.6079626354838779, -0.7565947451387548, -0.663908335059138, -0.6634632243165071, -0.7155768444846567, -0.7561440768062443, 0.5560878987080649, -0.12285445806071148, -0.8074584150374376, -0.8081121677255926, -0.8083212177504996, -0.1622420069486352, 0.6080012062278632, -0.18146741068165792, -0.024424888519739608, -0.7562617172513606, -0.8081589812994436, 0.7410070525624693, -0.6642359283862943, 0.6999871121757879, -0.7562916484431599, -0.8081441692063088, 0.6880261601974406, -0.8081764512778262, 0.5560483715251962, -0.2328849906050903, 0.6999795909807385, -0.1661589319499879, 0.5561028922399716, -0.7392517617140442, -0.1314493147593526, -0.8082756827870642, -0.7546761210104038, 0.6803232588374454, -0.13173949547757466, -0.1625567303937608, -0.7003305567893012, -0.13090193066376085, -0.7015465007118283, 0.6933395863253707, 0.7001779471385308, -0.06972998699794984, -0.7563031145944649, 0.5718051423202078, 0.6061924131621141, -1.0266454585205462, -0.7563002953062172, -0.13141300179284168, -0.808161102837376, -0.8081094537998578, 0.6081442933782069, -0.1313677433575581, -0.7562155535573659, -0.6642747027355512, -0.8081800623064918, -0.11713631530305661, -0.8081594384696623, -0.8071419215162206, -0.7562888752203865, 0.7410465231478206, -0.8079614827600865, -0.28548352715862096, -0.8081600351519965, -0.8081753585469499, -0.1395672700595653, -0.6937534768989654, 0.5560904529926067, 0.7410267303961694, 0.6803204579113696, -0.8074290002898402, -0.6642419943347081, -0.7562969846076469, -0.8081748331040002, 0.7696082112941331, -0.8081355007152979, 0.6838984374218273, -0.23227147588452088, -0.8083363038955941, 0.5560845287057755, -0.16257487107211346, 0.6095025405353894, 0.700167303952675, -0.8096789708090075, 0.5559384592382405, 0.6802860496825253, -0.23240916362592748, 0.6705790070451376, -0.7561725077774781, -0.7001568842937669, -0.7564624103464898, 0.5624206704996222, -0.13150661366542596, -0.7561987697545075, 0.6488445415096127, -0.13194548280101068, -0.7558600920581191, -0.8081525791687991, -0.8081272516731782, -0.8065386206225325, 0.03373196515505769, -0.7562831009842577, 0.5560831384908639, -0.23001280421478545, 0.6999338358125671, -0.13132435906009945, -0.8080659666548932, -0.6882054655388451, -0.08815582425565559, 0.5561634660035463, -0.12293878914810862, 0.6835853319034568, -0.6901075889711711, 0.6705199349507088, 0.6734335303429189, 0.6705735146213044, 0.7385967071566009, -0.7154584205830672, 0.608017629643606, -0.7154634097360951, -0.7033893723008164, 0.5560633405470194, -0.7383890133118878, 0.556195089946726, 0.6079808782113959, 0.6079873314629454, -0.7549234842239545, 0.7410590002529956, -0.7384091848502118, 0.6705606559667437, 0.3704438972402067, 0.6683940737552048, -0.12173155197392725, 0.6093765313715844, -0.7035167063230882, 0.6999685866710234, -0.7563184454644664, -0.23238233457795868, -0.09077488040465802, 0.5732370238810857, -0.1312495271202471, 0.10677314886005664, 0.5560910054884423, 0.5561711881436714, 0.5561495858995126, 0.5561462246881771, -0.8081529378324188, -0.808176692480494, 0.7411323700954144, -0.12242949244369171, -0.1296163034154665, -0.7562732007368728, 0.7180864350297707, -0.6839514090735236, 0.6024124954327671, -0.8081482430414921, 0.6802592988502709, -0.11857747870557826, 0.7001415360079011, -0.9195935316377134, -0.6643942427260803, -0.7152629249661862, -0.700708702828021, 0.6771845617978975, -0.8081428110103515, -0.7151467867616726, 0.5559379986540357, -0.1216208073864473, -0.8081976123363495, -0.1020276564157928, 0.6079858457789525, 0.6802817569501737, 0.6937963667410241, 0.6802619032154466, -0.756179302938615, -0.0696826924392515, -0.7556903389649899, -0.7386048448831127, 0.6887725363059137, -0.8081760428174528, 0.8192643987058297, 0.7410215746506997, 0.7080755858587819, -0.13963976899060684, -0.1395793311900985, 0.608610674329938, 0.6838768267825575, -0.7419365709799809, -0.8079518134021128, 0.5518001541418203, -0.7563547506082586, 0.7199698807801844, 0.6079837550281179, 0.6802379321855971, -0.13944850029192843, 0.6801030005031027, 0.556050456160715, -0.8085573271960464, -0.8081716919712452, -0.18045579874781678, 0.6079756313858374, 0.6999604052351015, 0.6672605400703774, -0.12281133431594803, -0.09506427442375802, -0.8081508890934848, 2.207360762549421, 0.6705944228053978, -0.8085292976083984, 0.7411432827403477, 0.5410026835959292, 0.676862172525862, 0.6696735631725839, -0.16196989442294277, -0.05462413209042927, -0.05821741340112929, 0.5561150562911688, 0.5406234463896913, 0.6081174756685561, -0.6970025317015657, -0.058244602169320925, -0.7562604605974004, -0.7012135737106787, -0.23222993406890644, -0.12202991341297946, 0.7032176347237508, 0.7423970956941035, 0.5561103398442266, 0.6705444965693989, -0.7154233025162726, -0.8081681133069704, -0.808165903999447, 0.7000514232130839, -0.23237530002993526, 0.6807161753092745, -0.12161282954782525, -0.1312625745941194, -0.8081524008597718, -0.06714515614560722, 0.6080281158488343, -0.71548934428495, -0.13124170411140515, 0.7409950260813123, -0.1184793672616115, -0.8042163916100874, 0.6487656387087363, 0.6803369263101458, -0.06233606788875656, 0.670609420183912, -0.23243127289758994, 0.6803072840210277, 0.7419950169275489, 0.6739244217356156, 0.9117995925818013, -0.8235582242959777, -0.23230423249331592, 0.6704291915015967, -0.7103471317530479, 0.7408888577024619, -0.8081010219640765, -0.1315855499531792, -0.2639999443159192, -0.1385056086224001, -0.08846800454378283, -0.12367516327795212, 0.6699124497096678, 0.6705895619539393, 0.6079833145991381, -0.6943384465231415, -0.13954667652512462, -0.7153871402267167, -0.20478518300531948, -0.6943156445657177, -0.1396029290577371, 0.5561204823196003, -0.8065540279832952, 0.6864400752858166, 0.670711677636075, 0.6632455933549087, 0.6622476571537017, -0.18044696236465316, -0.7563094972410747, -0.2322660509766932, -0.13102388178548022, 0.6968227374854472, -0.6964074608268137, -0.1803270735057215, 0.6079897760306671, -0.7821011289630552, -0.06028667312791953, 0.6700346092884887, -0.05910063765486334, 0.6992680290817944, -0.1254316837661564, 0.6804064431523118, 0.6999685963324308, -0.011815699378243205, -0.2345484742500704, 0.7483462754055908, -0.7153997043638313, 0.6772581799506884, 0.6770828628079242, -0.08815051186791183, 0.6706155726106995, 0.5561739636879169, -0.8081824867551075, 0.7004783906411826, -0.7154032504206979, 0.7001327095482939, -0.13954296501690225, -0.7828509699293031, 0.6705946380920554, -0.1804463233537226, -0.8080977141134651, -0.7011186494226839, -0.7050557935856356, -0.7556569424947319, 0.699931056468944, 0.6258877481241977, 0.6999993757822078, -0.7563201851149269, -0.07110280242122817, -0.7991353592528067, 0.7161416287500304, -0.7570566308324608, 0.6747446565430563, -0.8078548084184205, 0.6884512068602968, -0.8081463892612851, -0.08842962655181096, -0.808200616770484, -0.7568488174831114, 0.5552707748305737, -0.7941020208772029, -0.7203232302657467, -0.7562140406842629, 0.699987203715479, -0.8083343719688132, 0.5448035989024824, -0.8087873641291325, 0.6670566435400496, -0.7565874251795175, -0.8082345990015651, -0.131334877360434, 0.5560811204913588, 0.5561671474343409, -0.11704949748815967, -0.6643314861454108, -0.06971006080814983, -0.24742460767825006, -0.8084721459195862, -0.6839361434080784, 0.6892022148582758, -0.7383714361588073, 0.6737129934670177, -0.07280065833032011, 0.693342177513808, -0.07312062454296785, -0.08995874037158584, -0.057729880268093337, -0.13135263575539488, -1.567916404168482, -0.06916615326977864, -0.037414013420540515, -0.8078089418098163, 0.7402225077458703, 0.7001726593245142, -0.23235089501363568], \"z\": [0.16890661583499694, 0.15847194304681597, 2.9106378035909244, -0.16502538553664833, -0.15295367813199892, -0.09033466728126686, 0.11731702958775392, -0.14888749785988803, -0.15088659096659135, -0.15375242178927495, -0.09445353197095077, -0.10876464835509193, 0.09438851215232992, -0.1094868802738014, -0.09011810903976734, 0.12199092340087268, -0.14188849448613966, -0.08977427878269047, 0.16880543958109204, 0.15933912230128083, -0.15719634565574514, 3.845830512783631, -0.16579301882327965, -0.08962540729544614, -0.08933227585612606, 0.16705367569439883, -0.1466927673230533, -0.14433662448848356, -0.09025634606723076, 0.16891110002360904, -0.0901399662915868, 0.16890122039528696, -0.0901826486271923, -0.14181635377646185, -0.1938111086023007, 0.11469667241461524, -0.22243369419639153, -0.23239199308454023, -0.14066709818790843, -0.0903461026755074, -0.09046910297889092, -0.09021206468787935, -0.09907026143626528, -0.006854593143976926, -0.09014854720031291, -0.14833522382436606, -0.08899714249913396, -0.09051782200739074, -0.0901332264145179, 0.16879255967696263, -0.11166255669904575, -0.5256666248865592, 0.11718724511393434, -0.16507299797289174, -0.08980622139065714, -0.09033250039328984, -0.09024930076467236, 0.11557334664921994, -0.09039045177047285, -0.1435375412489669, -0.35533001646957524, -0.09023140171079032, 0.09468038221739451, -0.03478796541306154, 0.13030368263278205, 0.027880950350080775, -0.16497734245891046, -0.09183186554271867, 0.13107053993573056, 0.11050588922087756, 0.16985887870170147, 0.1687975406647188, -0.2724940068318652, -0.09004788151043651, -0.0880485652168821, -0.09010706181993682, -0.08715279995651229, 0.11722750070971048, -0.16435061842014723, -0.09692405967654241, -0.16514435838814423, -0.08921811403111445, 0.11730845099590577, -0.16488553944647305, -0.1641849983996235, -0.16497117519494156, -0.14194379673290355, 0.16876015293577304, 0.1691752511562823, -0.09035933588241112, -0.0003418086657210392, -0.14566599382305806, -0.08932680004377214, 0.11717922653889791, -0.09824629532542731, -0.16509961868705672, 0.13080045945908775, 0.1769285471552689, -0.9690207228940155, -0.08986863349536768, -0.060924355677744034, -0.08471569398830736, -0.09019580769714781, 0.09429037742477601, 0.1139005992840753, -0.07927526191780487, -0.035119506816886685, -0.09061160585490699, 0.1313912977319516, -0.09022231217714742, -0.0322147167133086, -0.09089919776556342, 0.16888451494881154, 0.13129439322526856, -0.09192943868019578, -0.14557365392410787, -0.0862247975233255, -0.15325732795615313, -0.14527561691214574, -0.0903646309996551, 0.16893688928217446, -0.05716179481594869, -0.13674333332977304, -0.09024948819492948, -0.16494310645377103, 0.8527706150475673, 0.11720471654024527, -0.05378993939755793, -0.14207251780264496, -0.14733994235186731, -0.16464170850191912, 0.11573776690781322, -0.14194922391935172, -0.05219138416053118, -0.0885818398201299, -0.08882247796333363, -0.035190860269083836, -0.15131702306813588, 0.1314643078958978, -0.6474581604668236, 0.10378426890641673, 0.11885377575489793, -0.14200053300414522, -0.1650716146663049, 0.11796499579280173, -0.09125591071061864, -0.14431598726714798, 0.09435266431181424, 0.22380022449147788, -0.09043700665487076, 0.09421281418414401, -0.27063289065555496, -0.03543971496734679, 0.16920163157302073, -0.0330538171929078, -0.14174382176684877, -0.14663203145984646, -0.08853045910919904, -0.14500199795203153, 0.12100688431951243, 0.4233886463886303, 0.09452651684809253, -0.01186669535530261, -0.0990808762149556, -0.09014044234157674, -0.1418749511278224, 0.11597029724841139, 0.09644738902765546, 0.09931287939162022, 0.11584066549166276, 0.11828508331608714, -0.09024947363072744, -0.09049001105829296, 0.17716439325827338, 0.16929288933010067, 0.16842594930337318, -0.07034330648343075, -0.14169011052534128, -0.08954728183012901, -0.0635647419618996, 0.11750567503061178, 0.16917919685732893, -0.08839434124851615, 0.09438870288083728, -0.16496492936407725, 0.1172483568396051, 0.16908299386789968, -0.15503355278610634, 0.16887740738442358, -0.0899557936183356, -0.03726381749612998, -0.1649987865442797, 0.02204175523479711, -0.0901064248784866, 0.028354221105727707, -0.09934094527549392, 0.16840186530103501, 0.1286175804713394, -0.14768407576335654, -0.10081394534638602, -0.07233007952521467, 0.11533167238396624, -0.09616772603601471, 0.17877439205130666, -0.15145825232223437, -0.15372577856738484, -0.09442452304704167, 0.11725882888637179, 0.009299862658413913, -0.14920737729933342, -1.2481237371154548, 0.11720898652149289, -0.09922507623500654, 0.16904434291741818, 0.16930024149784775, -0.14051253457657642, -0.0990808762149556, 0.11775113282656931, 0.09420046356245981, 0.16894006106605416, -0.05222106312950492, 0.16902678067996962, 0.1754116728875437, 0.11726649279072358, -0.08817853550580637, 0.17025650039391824, -0.2105458138129737, 0.16898757639816275, 0.16889067814220013, -0.0897847435892173, 0.11432629232440539, -0.09023214982571592, -0.08826369534152732, -0.14773311812585285, 0.17367087288856609, 0.09435963334668832, 0.11723818028228337, 0.16893362185149458, 0.875009171920738, 0.16912679688912735, -0.14689737899141003, -0.03419043791584138, 0.16837788263002287, -0.09025897592453931, -0.07238787839001841, -0.1321329289030555, -0.1537864753173705, 0.1640999487018451, -0.09072481952345955, -0.1478713580411228, -0.03490012137868075, -0.14499878318054238, 0.11805433846550278, 0.11601141683051411, 0.11668928310798701, -0.050210794019022856, -0.09952760555544919, 0.11792848453698364, -0.14263630847897862, -0.10092881164938598, 0.12052070783814897, 0.16904320520185181, 0.16918248161081267, 0.17914928818801754, 0.657816744272103, 0.11737896897406734, -0.0901877138921838, -0.018653608100935606, -0.15918636123961086, -0.09884873797877711, 0.16966129100982666, 0.42910850253787663, -0.10753922731051249, -0.08971437480280763, -0.0907330178592527, -0.148591697645246, 0.28607784040932893, -0.1452877673976875, -0.14761982072442353, -0.14495743840702296, -0.09512356852578963, 0.11621434319288906, -0.1414296812726086, 0.11645696269517455, 0.11748810650636148, -0.09032194862570822, 0.13128602247700247, -0.08955555603199546, -0.1417027228312894, -0.14177138208270804, 0.5452283147328206, -0.08803878348370825, 0.1311624558794523, -0.14504110427872294, -0.49530546031182277, -0.12661211136036885, -0.08931572317882004, -0.13249449729275173, 0.11687789018795187, -0.1650264156469506, 0.11713570589035337, -0.03481279046258604, -0.00018378543347612815, 0.01737328977019054, -0.0984135583426503, -2.2434790485688474, -0.09018761903724548, -0.08964829252060462, -0.08971304802939219, -0.08972915579045967, 0.1691070037197788, 0.16888642803406917, -0.08760264155878343, -0.08952031112369442, -0.017768120921793484, 0.11739491456890211, -0.017071967076301656, 0.11186585632670565, -0.16417179818561164, 0.1690507099610243, -0.14842335925626743, -0.0903355376530775, -0.1539002697653032, -0.3044862455547666, 0.09382143728532658, 0.12003456347255388, 0.11574034295902041, -0.1457632445995741, 0.16908950268087794, 0.11542429804648728, -0.09072702675757294, -0.08906823720389086, 0.1688118301533101, -0.15269440147280974, -0.140976250267385, -0.14827212065552123, -0.14865430578315755, -0.1483992481442092, 0.11812838586854467, -0.09328925496394906, -0.003921587037962692, 0.1306878418628618, -0.15276514669580607, 0.1693881924704656, 0.4925641495330519, -0.0883186903163486, -0.05667328389505593, -0.08735752566063108, -0.0898304285839594, -0.1374973186245342, -0.14502746298306377, 0.6074648344457397, 0.17031737629592775, -0.09868396226808437, 0.11705983603548063, 0.32821452277982477, -0.14178634055840653, -0.14854029156254728, -0.08896115548885596, -0.14802630613702533, -0.09027532999933013, 0.16923284510903774, 0.16890990712087817, -0.08624040658998115, -0.14181751750949353, -0.1650676438962576, -0.14419945941565854, -0.09030394674775921, -0.0958037513256129, 0.16907259739544314, 9.361702043071938, -0.14488975625523956, 0.16774861336720154, -0.08695159799891988, -0.13831318392057368, -0.14744464479035252, -0.14417482403568718, -0.06758548228864279, -0.02740953366144451, -0.05538432394428124, -0.09002390183072068, -0.11976056521007804, -0.13998199876788192, 0.11492617406571068, -0.054868124344882946, 0.11745112250975258, 0.11946794634096203, -0.033824172973514935, -0.08864468925651417, -0.08843425521096882, -0.07933414980135968, -0.09009254100471391, -0.14510891391310288, 0.11647955725807908, 0.16892463398176583, 0.168940067510691, -0.15421338625036887, -0.03360975905062573, -0.14512607759142676, -0.08902994446745562, -0.09841211809555546, 0.16906535263523276, -0.08924172275092923, -0.1413794287679414, 0.11378267715861698, -0.09833148545950707, -0.08843162203299865, -0.08982669961715294, 0.20026542896883798, -0.14308046162367855, -0.1476147512015501, -0.050503628717601994, -0.1448143567241959, -0.03502649163811542, -0.14778704163616208, -0.08223020555132278, -0.14214848107435482, 1.1758917120193824, 0.11987860921955844, -0.03437406861229876, -0.14531367160660003, 0.11865492344721087, -0.0865620015421987, 0.16944241448140937, -0.0843623328838114, -0.23080883565103108, -0.08315839994536423, -0.10927714050214449, -0.09301595048946401, -0.14565403796651832, -0.14490235876110674, -0.14178554361713916, 0.11368533065214868, -0.08967151631538745, 0.11380034749703123, 0.13829750289706433, 0.11373401999876522, -0.0897496763355575, -0.09004125769919777, 0.17907545228153024, -0.13092524049871368, -0.14415238249540027, -0.13836336808389318, 0.24849884820820833, -0.08611567882488522, 0.11727670143112282, -0.03366772770925342, -0.09697263813391474, -0.1750647140463448, 0.11871381107925372, -0.08543210708695428, -0.141744886874406, 0.33745063797819375, -0.06041691964187768, -0.14487980916461593, -0.05923788882472462, -0.1397225003947506, -0.08434724932664492, -0.147133756731133, -0.16502636934708198, 0.6296168828354772, -0.34551684988398074, -0.03366943981707967, 0.11385849760429177, -0.14533714114128138, -0.14637087999655168, -0.0974468273501842, -0.1447775105069601, -0.08954776382613729, 0.16889936663975358, -0.15170009986003138, 0.11375678663556862, -0.15391861468896229, -0.08967221724881248, 0.4714829757877014, -0.14434937751727447, -0.08619814802918675, 0.16945826652460985, 0.12098896220846947, 0.15588497754111164, 0.12130041199243578, -0.1651020811964746, -0.12785047481390344, -0.16452268721549523, 0.11717702270477262, -0.0988832809677394, 0.2970091770531615, 0.9144615308120536, 0.11357510191824377, -0.1652243629699179, 0.17090339775353286, -0.07499115427687963, 0.16915293401501705, -0.10928527504809919, 0.16876160033066784, 0.11578248958357239, -0.09174383944493487, 0.26176696202661454, -0.17398611845555817, 0.12003599233739425, -0.16488631537333379, 0.16815695697044486, -0.023178701101032085, 0.1669189565006953, -0.14447896514880956, 0.11632763382124228, 0.1689864272274089, -0.09895002705540923, -0.09027133523448033, -0.08943020370540052, -0.051950641810337324, 0.09413429737906437, -0.09424442489625222, -0.08268998393466048, 0.1681872617172207, 0.11111560442465263, -0.15229840838032768, 0.13129785766363836, -0.1248407643701255, -0.10944281772322091, -0.1514499964158958, -0.11097617542930699, -0.11424106294312916, -0.05485644025365449, -0.09903601617743824, -4.878986440040643, -0.06937771826450459, -0.12019700996044798, 0.17124435139329153, -0.0887855814469722, -0.15375111908788358, -0.03470187553763011]}],                        {\"coloraxis\": {\"colorbar\": {\"title\": {\"text\": \"class\"}}, \"colorscale\": [[0.0, \"#0d0887\"], [0.1111111111111111, \"#46039f\"], [0.2222222222222222, \"#7201a8\"], [0.3333333333333333, \"#9c179e\"], [0.4444444444444444, \"#bd3786\"], [0.5555555555555556, \"#d8576b\"], [0.6666666666666666, \"#ed7953\"], [0.7777777777777778, \"#fb9f3a\"], [0.8888888888888888, \"#fdca26\"], [1.0, \"#f0f921\"]]}, \"legend\": {\"tracegroupgap\": 0}, \"margin\": {\"t\": 60}, \"scene\": {\"domain\": {\"x\": [0.0, 1.0], \"y\": [0.0, 1.0]}, \"xaxis\": {\"title\": {\"text\": \"PCA1\"}}, \"yaxis\": {\"title\": {\"text\": \"PCA2\"}}, \"zaxis\": {\"title\": {\"text\": \"PCA3\"}}}, \"template\": {\"data\": {\"bar\": [{\"error_x\": {\"color\": \"#2a3f5f\"}, \"error_y\": {\"color\": \"#2a3f5f\"}, \"marker\": {\"line\": {\"color\": \"#E5ECF6\", \"width\": 0.5}}, \"type\": \"bar\"}], \"barpolar\": [{\"marker\": {\"line\": {\"color\": \"#E5ECF6\", \"width\": 0.5}}, \"type\": \"barpolar\"}], \"carpet\": [{\"aaxis\": {\"endlinecolor\": \"#2a3f5f\", \"gridcolor\": \"white\", \"linecolor\": \"white\", \"minorgridcolor\": \"white\", \"startlinecolor\": \"#2a3f5f\"}, \"baxis\": {\"endlinecolor\": \"#2a3f5f\", \"gridcolor\": \"white\", \"linecolor\": \"white\", \"minorgridcolor\": \"white\", \"startlinecolor\": \"#2a3f5f\"}, \"type\": \"carpet\"}], \"choropleth\": [{\"colorbar\": {\"outlinewidth\": 0, \"ticks\": \"\"}, \"type\": \"choropleth\"}], \"contour\": [{\"colorbar\": {\"outlinewidth\": 0, \"ticks\": \"\"}, \"colorscale\": [[0.0, \"#0d0887\"], [0.1111111111111111, \"#46039f\"], [0.2222222222222222, \"#7201a8\"], [0.3333333333333333, \"#9c179e\"], [0.4444444444444444, \"#bd3786\"], [0.5555555555555556, \"#d8576b\"], [0.6666666666666666, \"#ed7953\"], [0.7777777777777778, \"#fb9f3a\"], [0.8888888888888888, \"#fdca26\"], [1.0, \"#f0f921\"]], \"type\": \"contour\"}], \"contourcarpet\": [{\"colorbar\": {\"outlinewidth\": 0, \"ticks\": \"\"}, \"type\": \"contourcarpet\"}], \"heatmap\": [{\"colorbar\": {\"outlinewidth\": 0, \"ticks\": \"\"}, \"colorscale\": [[0.0, \"#0d0887\"], [0.1111111111111111, \"#46039f\"], [0.2222222222222222, \"#7201a8\"], [0.3333333333333333, \"#9c179e\"], [0.4444444444444444, \"#bd3786\"], [0.5555555555555556, \"#d8576b\"], [0.6666666666666666, \"#ed7953\"], [0.7777777777777778, \"#fb9f3a\"], [0.8888888888888888, \"#fdca26\"], [1.0, \"#f0f921\"]], \"type\": \"heatmap\"}], \"heatmapgl\": [{\"colorbar\": {\"outlinewidth\": 0, \"ticks\": \"\"}, \"colorscale\": [[0.0, \"#0d0887\"], [0.1111111111111111, \"#46039f\"], [0.2222222222222222, \"#7201a8\"], [0.3333333333333333, \"#9c179e\"], [0.4444444444444444, \"#bd3786\"], [0.5555555555555556, \"#d8576b\"], [0.6666666666666666, \"#ed7953\"], [0.7777777777777778, \"#fb9f3a\"], [0.8888888888888888, \"#fdca26\"], [1.0, \"#f0f921\"]], \"type\": \"heatmapgl\"}], \"histogram\": [{\"marker\": {\"colorbar\": {\"outlinewidth\": 0, \"ticks\": \"\"}}, \"type\": \"histogram\"}], \"histogram2d\": [{\"colorbar\": {\"outlinewidth\": 0, \"ticks\": \"\"}, \"colorscale\": [[0.0, \"#0d0887\"], [0.1111111111111111, \"#46039f\"], [0.2222222222222222, \"#7201a8\"], [0.3333333333333333, \"#9c179e\"], [0.4444444444444444, \"#bd3786\"], [0.5555555555555556, \"#d8576b\"], [0.6666666666666666, \"#ed7953\"], [0.7777777777777778, \"#fb9f3a\"], [0.8888888888888888, \"#fdca26\"], [1.0, \"#f0f921\"]], \"type\": \"histogram2d\"}], \"histogram2dcontour\": [{\"colorbar\": {\"outlinewidth\": 0, \"ticks\": \"\"}, \"colorscale\": [[0.0, \"#0d0887\"], [0.1111111111111111, \"#46039f\"], [0.2222222222222222, \"#7201a8\"], [0.3333333333333333, \"#9c179e\"], [0.4444444444444444, \"#bd3786\"], [0.5555555555555556, \"#d8576b\"], [0.6666666666666666, \"#ed7953\"], [0.7777777777777778, \"#fb9f3a\"], [0.8888888888888888, \"#fdca26\"], [1.0, \"#f0f921\"]], \"type\": \"histogram2dcontour\"}], \"mesh3d\": [{\"colorbar\": {\"outlinewidth\": 0, \"ticks\": \"\"}, \"type\": \"mesh3d\"}], \"parcoords\": [{\"line\": {\"colorbar\": {\"outlinewidth\": 0, \"ticks\": \"\"}}, \"type\": \"parcoords\"}], \"pie\": [{\"automargin\": true, \"type\": \"pie\"}], \"scatter\": [{\"marker\": {\"colorbar\": {\"outlinewidth\": 0, \"ticks\": \"\"}}, \"type\": \"scatter\"}], \"scatter3d\": [{\"line\": {\"colorbar\": {\"outlinewidth\": 0, \"ticks\": \"\"}}, \"marker\": {\"colorbar\": {\"outlinewidth\": 0, \"ticks\": \"\"}}, \"type\": \"scatter3d\"}], \"scattercarpet\": [{\"marker\": {\"colorbar\": {\"outlinewidth\": 0, \"ticks\": \"\"}}, \"type\": \"scattercarpet\"}], \"scattergeo\": [{\"marker\": {\"colorbar\": {\"outlinewidth\": 0, \"ticks\": \"\"}}, \"type\": \"scattergeo\"}], \"scattergl\": [{\"marker\": {\"colorbar\": {\"outlinewidth\": 0, \"ticks\": \"\"}}, \"type\": \"scattergl\"}], \"scattermapbox\": [{\"marker\": {\"colorbar\": {\"outlinewidth\": 0, \"ticks\": \"\"}}, \"type\": \"scattermapbox\"}], \"scatterpolar\": [{\"marker\": {\"colorbar\": {\"outlinewidth\": 0, \"ticks\": \"\"}}, \"type\": \"scatterpolar\"}], \"scatterpolargl\": [{\"marker\": {\"colorbar\": {\"outlinewidth\": 0, \"ticks\": \"\"}}, \"type\": \"scatterpolargl\"}], \"scatterternary\": [{\"marker\": {\"colorbar\": {\"outlinewidth\": 0, \"ticks\": \"\"}}, \"type\": \"scatterternary\"}], \"surface\": [{\"colorbar\": {\"outlinewidth\": 0, \"ticks\": \"\"}, \"colorscale\": [[0.0, \"#0d0887\"], [0.1111111111111111, \"#46039f\"], [0.2222222222222222, \"#7201a8\"], [0.3333333333333333, \"#9c179e\"], [0.4444444444444444, \"#bd3786\"], [0.5555555555555556, \"#d8576b\"], [0.6666666666666666, \"#ed7953\"], [0.7777777777777778, \"#fb9f3a\"], [0.8888888888888888, \"#fdca26\"], [1.0, \"#f0f921\"]], \"type\": \"surface\"}], \"table\": [{\"cells\": {\"fill\": {\"color\": \"#EBF0F8\"}, \"line\": {\"color\": \"white\"}}, \"header\": {\"fill\": {\"color\": \"#C8D4E3\"}, \"line\": {\"color\": \"white\"}}, \"type\": \"table\"}]}, \"layout\": {\"annotationdefaults\": {\"arrowcolor\": \"#2a3f5f\", \"arrowhead\": 0, \"arrowwidth\": 1}, \"autotypenumbers\": \"strict\", \"coloraxis\": {\"colorbar\": {\"outlinewidth\": 0, \"ticks\": \"\"}}, \"colorscale\": {\"diverging\": [[0, \"#8e0152\"], [0.1, \"#c51b7d\"], [0.2, \"#de77ae\"], [0.3, \"#f1b6da\"], [0.4, \"#fde0ef\"], [0.5, \"#f7f7f7\"], [0.6, \"#e6f5d0\"], [0.7, \"#b8e186\"], [0.8, \"#7fbc41\"], [0.9, \"#4d9221\"], [1, \"#276419\"]], \"sequential\": [[0.0, \"#0d0887\"], [0.1111111111111111, \"#46039f\"], [0.2222222222222222, \"#7201a8\"], [0.3333333333333333, \"#9c179e\"], [0.4444444444444444, \"#bd3786\"], [0.5555555555555556, \"#d8576b\"], [0.6666666666666666, \"#ed7953\"], [0.7777777777777778, \"#fb9f3a\"], [0.8888888888888888, \"#fdca26\"], [1.0, \"#f0f921\"]], \"sequentialminus\": [[0.0, \"#0d0887\"], [0.1111111111111111, \"#46039f\"], [0.2222222222222222, \"#7201a8\"], [0.3333333333333333, \"#9c179e\"], [0.4444444444444444, \"#bd3786\"], [0.5555555555555556, \"#d8576b\"], [0.6666666666666666, \"#ed7953\"], [0.7777777777777778, \"#fb9f3a\"], [0.8888888888888888, \"#fdca26\"], [1.0, \"#f0f921\"]]}, \"colorway\": [\"#636efa\", \"#EF553B\", \"#00cc96\", \"#ab63fa\", \"#FFA15A\", \"#19d3f3\", \"#FF6692\", \"#B6E880\", \"#FF97FF\", \"#FECB52\"], \"font\": {\"color\": \"#2a3f5f\"}, \"geo\": {\"bgcolor\": \"white\", \"lakecolor\": \"white\", \"landcolor\": \"#E5ECF6\", \"showlakes\": true, \"showland\": true, \"subunitcolor\": \"white\"}, \"hoverlabel\": {\"align\": \"left\"}, \"hovermode\": \"closest\", \"mapbox\": {\"style\": \"light\"}, \"paper_bgcolor\": \"white\", \"plot_bgcolor\": \"#E5ECF6\", \"polar\": {\"angularaxis\": {\"gridcolor\": \"white\", \"linecolor\": \"white\", \"ticks\": \"\"}, \"bgcolor\": \"#E5ECF6\", \"radialaxis\": {\"gridcolor\": \"white\", \"linecolor\": \"white\", \"ticks\": \"\"}}, \"scene\": {\"xaxis\": {\"backgroundcolor\": \"#E5ECF6\", \"gridcolor\": \"white\", \"gridwidth\": 2, \"linecolor\": \"white\", \"showbackground\": true, \"ticks\": \"\", \"zerolinecolor\": \"white\"}, \"yaxis\": {\"backgroundcolor\": \"#E5ECF6\", \"gridcolor\": \"white\", \"gridwidth\": 2, \"linecolor\": \"white\", \"showbackground\": true, \"ticks\": \"\", \"zerolinecolor\": \"white\"}, \"zaxis\": {\"backgroundcolor\": \"#E5ECF6\", \"gridcolor\": \"white\", \"gridwidth\": 2, \"linecolor\": \"white\", \"showbackground\": true, \"ticks\": \"\", \"zerolinecolor\": \"white\"}}, \"shapedefaults\": {\"line\": {\"color\": \"#2a3f5f\"}}, \"ternary\": {\"aaxis\": {\"gridcolor\": \"white\", \"linecolor\": \"white\", \"ticks\": \"\"}, \"baxis\": {\"gridcolor\": \"white\", \"linecolor\": \"white\", \"ticks\": \"\"}, \"bgcolor\": \"#E5ECF6\", \"caxis\": {\"gridcolor\": \"white\", \"linecolor\": \"white\", \"ticks\": \"\"}}, \"title\": {\"x\": 0.05}, \"xaxis\": {\"automargin\": true, \"gridcolor\": \"white\", \"linecolor\": \"white\", \"ticks\": \"\", \"title\": {\"standoff\": 15}, \"zerolinecolor\": \"white\", \"zerolinewidth\": 2}, \"yaxis\": {\"automargin\": true, \"gridcolor\": \"white\", \"linecolor\": \"white\", \"ticks\": \"\", \"title\": {\"standoff\": 15}, \"zerolinecolor\": \"white\", \"zerolinewidth\": 2}}}},                        {\"responsive\": true}                    ).then(function(){\n",
       "                            \n",
       "var gd = document.getElementById('f3edb841-211f-443d-ac2e-020cbe001399');\n",
       "var x = new MutationObserver(function (mutations, observer) {{\n",
       "        var display = window.getComputedStyle(gd).display;\n",
       "        if (!display || display === 'none') {{\n",
       "            console.log([gd, 'removed!']);\n",
       "            Plotly.purge(gd);\n",
       "            observer.disconnect();\n",
       "        }}\n",
       "}});\n",
       "\n",
       "// Listen for the removal of the full notebook cells\n",
       "var notebookContainer = gd.closest('#notebook-container');\n",
       "if (notebookContainer) {{\n",
       "    x.observe(notebookContainer, {childList: true});\n",
       "}}\n",
       "\n",
       "// Listen for the clearing of the current output cell\n",
       "var outputEl = gd.closest('.output');\n",
       "if (outputEl) {{\n",
       "    x.observe(outputEl, {childList: true});\n",
       "}}\n",
       "\n",
       "                        })                };                });            </script>        </div>"
      ]
     },
     "metadata": {},
     "output_type": "display_data"
    }
   ],
   "source": [
    "import plotly.express as px\n",
    "\n",
    "fig = px.scatter_3d(df_pca, x='PCA1', y='PCA2', z='PCA3',\n",
    "              color='class', hover_data=[\"coin\"])\n",
    "fig.show()"
   ]
  },
  {
   "cell_type": "code",
   "execution_count": null,
   "id": "b69e6b1c",
   "metadata": {},
   "outputs": [],
   "source": []
  }
 ],
 "metadata": {
  "kernelspec": {
   "display_name": "Python 3",
   "language": "python",
   "name": "python3"
  },
  "language_info": {
   "codemirror_mode": {
    "name": "ipython",
    "version": 3
   },
   "file_extension": ".py",
   "mimetype": "text/x-python",
   "name": "python",
   "nbconvert_exporter": "python",
   "pygments_lexer": "ipython3",
   "version": "3.8.8"
  }
 },
 "nbformat": 4,
 "nbformat_minor": 5
}
